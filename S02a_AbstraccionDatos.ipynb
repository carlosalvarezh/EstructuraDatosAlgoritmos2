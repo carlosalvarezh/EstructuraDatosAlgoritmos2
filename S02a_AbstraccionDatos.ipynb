{
 "cells": [
  {
   "cell_type": "markdown",
   "id": "d7265c6c",
   "metadata": {},
   "source": [
    "<h1 align=\"center\">Estructura de Datos y Algoritmos II</h1>\n",
    "<h1 align=\"center\">Semana02a: Comunicación, Pensamiento Crítico y Resolución de Problemas. Abstracción de datos</h1>\n",
    "<h1 align=\"center\">2024</h1>\n",
    "<h1 align=\"center\">MEDELLÍN - COLOMBIA </h1>"
   ]
  },
  {
   "cell_type": "markdown",
   "id": "c70ab117",
   "metadata": {},
   "source": [
    "*** \n",
    "|[![Outlook](https://img.shields.io/badge/Microsoft_Outlook-0078D4?style=plastic&logo=microsoft-outlook&logoColor=white)](mailto:calvar52@eafit.edu.co)||[![Open In Colab](https://colab.research.google.com/assets/colab-badge.svg)](https://colab.research.google.com/github/carlosalvarezh/EstructuraDatosAlgoritmos2/blob/main/S02a_AbstraccionDatos.ipynb)\n",
    "|-:|:-|--:|\n",
    "|[![LinkedIn](https://img.shields.io/badge/linkedin-%230077B5.svg?style=plastic&logo=linkedin&logoColor=white)](https://www.linkedin.com/in/carlosalvarez5/)|[![@alvarezhenao](https://img.shields.io/twitter/url/https/twitter.com/alvarezhenao.svg?style=social&label=Follow%20%40alvarezhenao)](https://twitter.com/alvarezhenao)|[![@carlosalvarezh](https://img.shields.io/badge/github-%23121011.svg?style=plastic&logo=github&logoColor=white)](https://github.com/carlosalvarezh)|\n",
    "\n",
    "<table>\n",
    " <tr align=left><td><img align=left src=\"https://github.com/carlosalvarezh/Curso_CEC_EAFIT/blob/main/images/CCLogoColorPop1.gif?raw=true\" width=\"25\">\n",
    " <td>Text provided under a Creative Commons Attribution license, CC-BY. All code is made available under the FSF-approved MIT license.(c) Carlos Alberto Alvarez Henao</td>\n",
    "</table>\n",
    "\n",
    "***"
   ]
  },
  {
   "cell_type": "markdown",
   "id": "865159e9",
   "metadata": {},
   "source": [
    "<p float=\"center\">\n",
    "  <img src=\"https://github.com/carlosalvarezh/EstructuraDatosAlgoritmos2/blob/main/images/PensamientoCritico.jpg?raw=true\" width=\"250\" />\n",
    "</p>"
   ]
  },
  {
   "cell_type": "markdown",
   "id": "a5e9cc84",
   "metadata": {},
   "source": [
    "## Comunicación, Pensamiento Crítico y Resolución de Problemas"
   ]
  },
  {
   "cell_type": "markdown",
   "id": "73d08fe8",
   "metadata": {},
   "source": [
    "### Comunicación"
   ]
  },
  {
   "cell_type": "markdown",
   "id": "db0b8ae9",
   "metadata": {},
   "source": [
    "#### Definición e Importancia"
   ]
  },
  {
   "cell_type": "markdown",
   "id": "7d1c14e5",
   "metadata": {},
   "source": [
    "La comunicación es el proceso de transmitir información y comprender los mensajes de los demás. Una comunicación efectiva es crucial para el éxito de cualquier proyecto. No solo se trata de intercambiar información, sino de asegurarse de que todos los miembros del equipo, incluidos los no técnicos, comprendan los objetivos, desafíos y soluciones propuestas."
   ]
  },
  {
   "cell_type": "markdown",
   "id": "b36bc05c",
   "metadata": {},
   "source": [
    "#### Tipos de Comunicación"
   ]
  },
  {
   "cell_type": "markdown",
   "id": "958eec12",
   "metadata": {},
   "source": [
    "<p float=\"center\">\n",
    "  <img src=\"https://github.com/carlosalvarezh/EstructuraDatosAlgoritmos2/blob/main/images/comunicacion.png?raw=true\" width=\"350\" />\n",
    "</p>"
   ]
  },
  {
   "cell_type": "markdown",
   "id": "1ba150bd",
   "metadata": {},
   "source": [
    "Dependiendo del contexto, y las referencias empleadas, se puede generalizar los tipos de comuniación a dos tipos principales: ***Verbal*** y ***No Verbal***.\n",
    "\n",
    "***Comunicación Verbal:*** \n",
    "- ***Oral:*** Incluye presentaciones, reuniones, y conversaciones telefónicas. La habilidad para hablar claramente, argumentar lógicamente y escuchar activamente es crucial.\n",
    "<p>&nbsp;</p>\n",
    "\n",
    "- ***Escrita:*** Comprende la documentación de proyectos, correos electrónicos e informes técnicos. Debe ser precisa, clara y concisa para evitar malentendidos.\n",
    "\n",
    "***Comunicación No Verbal:***\n",
    "- ***Imágenes y Gráficos:*** Diagramas de flujo, esquemas de bases de datos y wireframes son herramientas esenciales para explicar estructuras y procesos complejos de manera visual.\n",
    "<p>&nbsp;</p>\n",
    "\n",
    "- ***Gestos y Lenguaje Corporal:*** En presentaciones y reuniones, el lenguaje corporal y los gestos pueden reforzar el mensaje y ayudar a mantener la atención de la audiencia.\n",
    "<p>&nbsp;</p>\n",
    "\n",
    "- ***Sonidos y Tonos de Voz:*** En la comunicación oral, el tono de voz puede transmitir confianza, duda o urgencia, afectando cómo se recibe el mensaje."
   ]
  },
  {
   "cell_type": "markdown",
   "id": "d385360d",
   "metadata": {},
   "source": [
    "#### Comunicación Técnica y No Técnica"
   ]
  },
  {
   "cell_type": "markdown",
   "id": "642a58cb",
   "metadata": {},
   "source": [
    "Un Profesional debe ser capaz de comunicar conceptos técnicos de manera que sean entendibles para audiencias no técnicas. Esto implica simplificar la jerga técnica y enfocarse en cómo la tecnología impacta y mejora el proyecto o la empresa. Por ejemplo, al explicar un nuevo sistema de gestión de bases de datos, enfocarse en cómo mejorará la eficiencia y reducirá costos, en lugar de detallar aspectos técnicos complejos."
   ]
  },
  {
   "cell_type": "markdown",
   "id": "bce9712d",
   "metadata": {},
   "source": [
    "### Pensamiento Crítico"
   ]
  },
  {
   "cell_type": "markdown",
   "id": "75d81cba",
   "metadata": {},
   "source": [
    "<p float=\"center\">\n",
    "  <img src=\"https://github.com/carlosalvarezh/EstructuraDatosAlgoritmos2/blob/main/images/pensamiento-critico.jpeg?raw=true\" width=\"350\" />\n",
    "</p>"
   ]
  },
  {
   "cell_type": "markdown",
   "id": "49db80e2",
   "metadata": {},
   "source": [
    "#### (Posible) Definición y Características"
   ]
  },
  {
   "cell_type": "markdown",
   "id": "069798c7",
   "metadata": {},
   "source": [
    "- El pensamiento crítico es la capacidad de pensar de manera clara y racional, comprendiendo la conexión lógica entre las ideas. Esto implica cuestionar supuestos, evaluar argumentos y evidencia de manera sistemática, y tomar decisiones basadas en un análisis lógico y factual.\n",
    "<p>&nbsp;</p>\n",
    "\n",
    "- El pensamiento crítico es un proceso intelectual que implica analizar y evaluar la información y los argumentos de manera reflexiva y sistemática. Este tipo de pensamiento se caracteriza por buscar la imparcialidad, esforzándose por ver los problemas y situaciones desde múltiples perspectivas para llegar a conclusiones bien fundamentadas."
   ]
  },
  {
   "cell_type": "markdown",
   "id": "59331354",
   "metadata": {},
   "source": [
    "#### Características del Pensamiento Crítico"
   ]
  },
  {
   "cell_type": "markdown",
   "id": "10e512aa",
   "metadata": {},
   "source": [
    "- ***Análisis Imparcial:*** Implica salirse del problema y verlo desde una perspectiva externa, buscando evitar sesgos personales o preconcepciones.\n",
    "<p>&nbsp;</p>\n",
    "\n",
    "- ***Independencia Intelectual:*** El pensamiento crítico se distingue por llegar a conclusiones propias, no simplemente aceptando la \"verdad\" preestablecida.\n",
    "<p>&nbsp;</p>\n",
    "\n",
    "- ***Escepticismo Constructivo:*** Incluye cuestionar activamente las normas y verdades aceptadas, no para descartarlas sin más, sino para comprender mejor su validez.\n",
    "<p>&nbsp;</p>\n",
    "\n",
    "- ***Razonamiento Lógico:*** Se basa en la lógica y la evidencia para formar juicios y conclusiones.\n",
    "<p>&nbsp;</p>\n",
    "\n",
    "- ***Creatividad:*** Incluye pensar en soluciones nuevas y no convencionales a los problemas existentes.\n"
   ]
  },
  {
   "cell_type": "markdown",
   "id": "a871da85",
   "metadata": {},
   "source": [
    "#### Aplicaciones en cualquier contexto"
   ]
  },
  {
   "cell_type": "markdown",
   "id": "f4e9c994",
   "metadata": {},
   "source": [
    "El pensamiento crítico es vital para:\n",
    "\n",
    "- ***Desarrollo de Soluciones Innovadoras:*** Al enfrentar problemas complejos, especialmente aquellos sin soluciones preexistentes, el pensamiento crítico permite idear nuevas estrategias y soluciones.\n",
    "<p>&nbsp;</p>\n",
    "\n",
    "- ***Evaluación de Tecnologías y Metodologías:*** Permite analizar críticamente las herramientas y métodos disponibles, eligiendo los más adecuados para cada proyecto.\n",
    "<p>&nbsp;</p>\n",
    "\n",
    "- ***Gestión de Proyectos:*** Ayuda a identificar posibles fallos y riesgos en las etapas tempranas del desarrollo de un proyecto, ahorrando tiempo y recursos.\n",
    "<p>&nbsp;</p>\n",
    "\n",
    "- ***Interacción con Diversas Disciplinas:*** Facilita la colaboración y comunicación con profesionales de diferentes áreas, alentando la comprensión y el cuestionamiento de distintos puntos de vista.\n"
   ]
  },
  {
   "cell_type": "markdown",
   "id": "64ed45f9",
   "metadata": {},
   "source": [
    "#### El Pensamiento Crítico como Actitud Subversiva"
   ]
  },
  {
   "cell_type": "markdown",
   "id": "8e577936",
   "metadata": {},
   "source": [
    "El pensamiento crítico puede ser visto como una actitud subversiva en el sentido de que desafía las normas y los enfoques tradicionales. En el contexto educativo y profesional, promueve la autonomía intelectual y la innovación. En la historia, ha sido el motor de avances significativos, desde la filosofía griega hasta los descubrimientos científicos del Renacimiento."
   ]
  },
  {
   "cell_type": "markdown",
   "id": "6412129d",
   "metadata": {},
   "source": [
    "#### Fomentando el Pensamiento Crítico"
   ]
  },
  {
   "cell_type": "markdown",
   "id": "c4cb5987",
   "metadata": {},
   "source": [
    "Para desarrollar habilidades de pensamiento crítico en estudiantes de ingeniería de sistemas:\n",
    "\n",
    "- ***Debates y Discusiones:*** Crear espacios para la discusión de ideas, permitiendo a los estudiantes expresar y defender sus puntos de vista.\n",
    "<p>&nbsp;</p>\n",
    "\n",
    "- ***Análisis de Casos de Estudio:*** Estudiar situaciones reales o hipotéticas para evaluar diferentes enfoques y soluciones.\n",
    "<p>&nbsp;</p>\n",
    "\n",
    "- ***Ejercicios de Resolución de Problemas:*** Plantear problemas complejos que requieran un enfoque innovador y no lineal.\n",
    "<p>&nbsp;</p>\n",
    "\n",
    "- ***Evaluación Crítica de Tecnologías Actuales:*** Analizar críticamente las tecnologías y tendencias actuales, fomentando una comprensión profunda de sus ventajas y limitaciones.\n",
    "\n",
    "---\n",
    "\n",
    "En resumen, el pensamiento crítico no solo es una habilidad intelectual, sino también una herramienta poderosa para la innovación y el progreso. Al fomentar esta habilidad, preparamos a los estudiantes para enfrentar los desafíos y cambios constantes en el campo tecnológico."
   ]
  },
  {
   "cell_type": "markdown",
   "id": "4bf54764",
   "metadata": {},
   "source": [
    "### Resolución de Problemas"
   ]
  },
  {
   "cell_type": "markdown",
   "id": "1e5ab2fa",
   "metadata": {},
   "source": [
    "<p float=\"center\">\n",
    "  <img src=\"https://github.com/carlosalvarezh/EstructuraDatosAlgoritmos2/blob/main/images/resolucion-de-problemas.jpg?raw=true\" width=\"500\" />\n",
    "</p>"
   ]
  },
  {
   "cell_type": "markdown",
   "id": "af8672f2",
   "metadata": {},
   "source": [
    "#### Ideas"
   ]
  },
  {
   "cell_type": "markdown",
   "id": "a6510c74",
   "metadata": {},
   "source": [
    "- ***Identificación del Problema:*** La identificación clara del problema es el primer paso crucial. Utilizar preguntas periodísticas (*Quién, Qué, Dónde, Cuándo, Por qué, Cómo*) es una técnica eficaz para definir el problema de manera objetiva. Por ejemplo, identificar quiénes están involucrados, qué está fallando, dónde se manifiesta el problema y por qué es importante resolverlo.\n",
    "<p>&nbsp;</p>\n",
    "\n",
    "- ***Generación de Soluciones - Lluvia de Ideas:*** Una vez identificado el problema, el siguiente paso es generar soluciones. Aquí es donde técnicas como la lluvia de ideas toman un papel importante. Un enfoque útil es el principio de *\"Sí, y...\"*, que fomenta la construcción sobre las ideas propuestas en lugar de rechazarlas inmediatamente. Esta técnica, derivada de la improvisación, ayuda a mantener el flujo de ideas y evolucionarlas. Incluir a un facilitador externo puede ser beneficioso para mantener la objetividad y fomentar la resolución de problemas.\n",
    "<p>&nbsp;</p>\n",
    "\n",
    "- ***Evaluación y Selección de Soluciones:*** Una vez generadas las ideas, es importante evaluarlas y seleccionar la más adecuada. Esta fase puede beneficiarse del conocimiento y la experiencia previa, pero también es crucial estar abierto a enfoques novedosos y originales. Los psicólogos de la Gestalt destacan la importancia de evitar el estancamiento mental y la fijación funcional, que pueden limitar nuestra capacidad de encontrar soluciones innovadoras.\n",
    "<p>&nbsp;</p>\n",
    "\n",
    "- ***Implementación de la Solución:*** La implementación eficaz de la solución seleccionada involucra a aquellos que están más cercanos al problema. Es importante considerar el impacto de la solución en todas las partes involucradas y asegurarse de que se aborden las causas raíces del problema.\n"
   ]
  },
  {
   "cell_type": "markdown",
   "id": "6690324c",
   "metadata": {},
   "source": [
    "#### Herramientas Adicionales"
   ]
  },
  {
   "cell_type": "markdown",
   "id": "a8bad154",
   "metadata": {},
   "source": [
    "Existen, entre muchas otras, algunas herramientas adicionales que podran apoyar el proceso:\n",
    "\n",
    "- **Modelo de Pensamiento Productivo de Hurson**: Un enfoque de seis pasos que incluye definir el problema, establecer qué es el éxito, generar preguntas, responderlas, concebir la solución y disponer los recursos.\n",
    "<p>&nbsp;</p>\n",
    "\n",
    "- **Diagrama de Espina de Pescado**: Útil para análisis de causa y efecto, este diagrama ayuda a visualizar todas las posibles causas de un problema.\n",
    "<p>&nbsp;</p>\n",
    "\n",
    "- ***Analogías y Preguntas Repetitivas:*** Utilizar analogías de diferentes dominios puede proporcionar soluciones innovadoras, y la técnica de \"preguntar 12 veces qué más\" puede ayudar a profundizar en la comprensión y solución del problema."
   ]
  },
  {
   "cell_type": "markdown",
   "id": "f787058e",
   "metadata": {},
   "source": [
    "#### Consejos Generales"
   ]
  },
  {
   "cell_type": "markdown",
   "id": "8025eaa8",
   "metadata": {},
   "source": [
    "- No apresurarse a solucionar el problema sin comprenderlo completamente.\n",
    "<p>&nbsp;</p>\n",
    "\n",
    "- Utilizar la experiencia pasada, pero estar abierto a nuevas ideas.\n",
    "<p>&nbsp;</p>\n",
    "\n",
    "- Descartar preconcepciones y estar dispuesto a abordar el problema desde diferentes ángulos."
   ]
  },
  {
   "cell_type": "markdown",
   "id": "35d8110b",
   "metadata": {},
   "source": [
    "## Abstracción de datos"
   ]
  },
  {
   "cell_type": "markdown",
   "id": "463e6850",
   "metadata": {},
   "source": [
    "<p float=\"center\">\n",
    "  <img src=\"https://raw.githubusercontent.com/carlosalvarezh/EstructuraDatosAlgoritmos2/main/images/Abstraccion_Quijote.webp?raw=true\" width=\"500\" />\n",
    "</p>"
   ]
  },
  {
   "cell_type": "markdown",
   "id": "c1b92f01",
   "metadata": {},
   "source": [
    "La abstracción de datos es un proceso cognitivo que ***facilita el estudio, manejo y creación de sistemas complejos, enfatizando en los detalles pertinentes y dejando a un lado aquellos que no son esenciales o necesarios***. En la ciencia de la computación es un concepto fundamental, especialmente en el estudio de estructuras de datos y algoritmos. Se refiere al ***proceso de manejar la complejidad de un sistema ignorando los detalles de bajo nivel que no son relevantes para el problema en cuestión, permitiendo al programador enfocarse en los aspectos de alto nivel de su diseño***. Esta sección explora la abstracción de datos, destacando su importancia, conceptos clave y ejemplos prácticos."
   ]
  },
  {
   "cell_type": "markdown",
   "id": "3eadc836",
   "metadata": {},
   "source": [
    "### Importancia de la Abstracción de Datos"
   ]
  },
  {
   "cell_type": "markdown",
   "id": "b6785263",
   "metadata": {},
   "source": [
    "- **Simplificación de Problemas Complejos**: Permite descomponer sistemas complejos en componentes más simples y manejables.\n",
    "<p>&nbsp;</p>\n",
    "\n",
    "- **Reutilización de Código**: Facilita la reutilización de código, ya que las abstracciones pueden aplicarse a diferentes problemas con mínimas modificaciones.\n",
    "<p>&nbsp;</p>\n",
    "\n",
    "- **Facilita el Mantenimiento**: Un sistema bien abstraído es más fácil de entender, actualizar y mantener.\n"
   ]
  },
  {
   "cell_type": "markdown",
   "id": "1db1848b",
   "metadata": {},
   "source": [
    "### Conceptos Clave en la Abstracción de Datos"
   ]
  },
  {
   "cell_type": "markdown",
   "id": "5dca4be4",
   "metadata": {},
   "source": [
    "- **Ocultamiento de Información**: Se refiere a esconder los detalles internos del funcionamiento de una estructura de datos, exponiendo solo las operaciones necesarias para su uso.\n",
    "<p>&nbsp;</p>\n",
    "\n",
    "- **Interfaces y Contratos**: Una abstracción se define a través de una interfaz, que es un conjunto de operaciones disponibles para interactuar con los datos. El \"contrato\" de la interfaz especifica lo que cada operación hace, pero no cómo se hace.\n",
    "<p>&nbsp;</p>\n",
    "\n",
    "- **Tipos Abstractos de Datos (TAD)**: Un TAD es una especificación matemática de una estructura de datos que define operaciones sin implementarlas.\n"
   ]
  },
  {
   "cell_type": "markdown",
   "id": "880b99cd",
   "metadata": {},
   "source": [
    "### Abstracción de datos en programación"
   ]
  },
  {
   "cell_type": "markdown",
   "id": "750f06d8",
   "metadata": {},
   "source": [
    "En el ámbito de la programación, una modularidad efectiva se sustenta en tres principios fundamentales: \n",
    "- ***Abstracción:*** los usuarios de un módulo necesitan saber qué hace pero no cómo lo hace.\n",
    "<p>&nbsp;</p>\n",
    "\n",
    "- ***Ocultación de información:*** los módulos deben ocultar sus decisiones de diseño a sus usuarios.\n",
    "<p>&nbsp;</p>\n",
    "\n",
    "- ***independencia funcional:*** los módulos deben dedicarse a alcanzar un único objetivo, con una alta cohesión entre sus elementos y un bajo acoplamiento con el resto de los módulos.\n",
    "\n",
    "Estos conceptos desempeñan roles cruciales en la creación de programas estructurados y eficientes.\n",
    "\n",
    "La abstracción se centra en que los usuarios de un módulo comprendan su funcionalidad sin necesidad de conocer los detalles de su implementación. Este enfoque permite manejar sistemas complejos resaltando los detalles pertinentes para un nivel dado, mientras se ignoran temporalmente aquellos menos relevantes. Esta segregación por niveles ayuda en la simplificación y el análisis del sistema.\n",
    "\n",
    "Dentro de la programación, las funciones ejemplifican la abstracción funcional. Al diseñar una función, se crea una separación entre su uso y su implementación. Los usuarios de la función solo requieren conocer su propósito (***qué hace***), no los detalles específicos de su funcionamiento interno (***cómo lo hace***). Esto establece diferentes niveles de abstracción, donde la función en sí misma se convierte en una entidad independiente de su implementación.\n",
    "\n",
    "En otras palabras: al diseñar una función estamos creando una abstracción que separa la forma en la que se utiliza la función de la forma en como está implementada esa función."
   ]
  },
  {
   "cell_type": "markdown",
   "id": "947f4af3",
   "metadata": {},
   "source": [
    "### Abstracciones Funcionales en Programación"
   ]
  },
  {
   "cell_type": "markdown",
   "id": "f4719d6a",
   "metadata": {},
   "source": [
    "En el mundo de la programación, las abstracciones funcionales juegan un papel crucial en la simplificación y eficiencia del código. Este concepto se puede entender mejor a través de un proceso de tres pasos:\n",
    "\n",
    "- ***Creación de Instrucciones Complejas:*** Inicialmente, se construye una instrucción compleja combinando varias instrucciones más simples. Este proceso es similar a construir un edificio utilizando ladrillos individuales.\n",
    "<p>&nbsp;</p>\n",
    "\n",
    "- ***Asignación de un Nombre:*** Una vez compuesta la instrucción compleja, se le asigna un nombre específico. Este paso es como darle un título a un capítulo de un libro, donde el título representa el contenido del capítulo.\n",
    "<p>&nbsp;</p>\n",
    "\n",
    "- ***Uso y Ocultación de Detalles Internos:*** Tras nombrar la instrucción compleja, se puede usar en el código sin necesidad de conocer los detalles de su implementación interna. Esto significa que el usuario del código no necesita saber qué instrucciones más simples componen esta instrucción compleja. Es comparable a usar un electrodoméstico sin necesidad de entender cómo funciona por dentro.\n",
    "\n",
    "Para los programadores, estas abstracciones funcionales se vuelven indistinguibles de las instrucciones predefinidas del lenguaje de programación. Además, una vez que la función está en uso, puede ser reemplazada por cualquier otra que exhiba el mismo comportamiento observable, ofreciendo así flexibilidad en el desarrollo y mantenimiento del software."
   ]
  },
  {
   "cell_type": "markdown",
   "id": "3ea657ff",
   "metadata": {},
   "source": [
    "### Datos Compuestos en Programación"
   ]
  },
  {
   "cell_type": "markdown",
   "id": "986e0529",
   "metadata": {},
   "source": [
    "Los datos compuestos o estructurados representan otro aspecto fundamental en la programación. A diferencia de las abstracciones funcionales, los datos compuestos se centran en la combinación de varios datos más simples para formar una unidad conceptual más compleja. Este proceso es similar a la creación de una nueva receta culinaria combinando diferentes ingredientes individuales.\n",
    "\n",
    "Sin embargo, a diferencia de las abstracciones funcionales, los datos compuestos no ocultan sus detalles de implementación al usuario. Esto implica que los usuarios deben entender cómo están estructurados estos datos compuestos para poder trabajar con ellos efectivamente. Por lo tanto, en su forma básica, los datos compuestos no funcionan como abstracciones, ya que requieren un conocimiento detallado de su estructura interna para su uso y manipulación."
   ]
  },
  {
   "cell_type": "markdown",
   "id": "f95b6ca1",
   "metadata": {},
   "source": [
    "#### Ejemplo: Representación de Números Racionales"
   ]
  },
  {
   "cell_type": "markdown",
   "id": "975f73f8",
   "metadata": {},
   "source": [
    "En el contexto de un curso de Estructuras de Datos y Algoritmos, es crucial comprender cómo la abstracción de datos se aplica en la representación y manipulación de números racionales en programación. Este concepto se ilustra claramente al enfrentar el desafío de representar números racionales, como $\\frac{a}{b}$, donde $a$ y $b$ son enteros que representan el numerador y el denominador respectivamente.\n",
    "\n",
    "```python\n",
    "def mult_racional(n1,d1,n2,d2):\n",
    "    return ???\n",
    "```"
   ]
  },
  {
   "cell_type": "markdown",
   "id": "b0bf7dca",
   "metadata": {},
   "source": [
    "#### Conceptualizando Números Racionales"
   ]
  },
  {
   "cell_type": "markdown",
   "id": "174f8e49",
   "metadata": {},
   "source": [
    "Una representación simple podría ser almacenar $a$ y $b$ como enteros separados. Sin embargo, este enfoque no crea una unidad conceptual única; es decir, no representa adecuadamente el número racional como una sola entidad. En la práctica, esto resulta ineficiente, especialmente cuando se necesitan realizar operaciones con estos números."
   ]
  },
  {
   "cell_type": "code",
   "execution_count": null,
   "id": "644ea22a",
   "metadata": {},
   "outputs": [],
   "source": [
    "a = 3\n",
    "b = 4\n",
    "c = a / b\n",
    "print(c)"
   ]
  },
  {
   "cell_type": "markdown",
   "id": "28d9834c",
   "metadata": {},
   "source": [
    "#### La Necesidad de una Entidad Única"
   ]
  },
  {
   "cell_type": "markdown",
   "id": "d004560c",
   "metadata": {},
   "source": [
    "Para los programadores, es más conveniente que $a$ y $b$ estén unidos formando una sola entidad: un número racional. Este enfoque facilita la realización de operaciones como la multiplicación de números racionales. Por ejemplo, una función que multiplica dos números racionales $\\frac{n1}{d1}$ y $\\frac{n2}{d2}$ sería problemática si estos números estuvieran representados como enteros separados, ya que la función tendría que devolver dos valores separados, lo cual no es ideal en muchos lenguajes de programación."
   ]
  },
  {
   "cell_type": "code",
   "execution_count": null,
   "id": "0fc933d1",
   "metadata": {},
   "outputs": [],
   "source": [
    "# como unidades separadas\n",
    "racional1 = 2/3\n",
    "racional2 = 3/4\n",
    "\n",
    "racional = racional1 * racional2\n",
    "\n",
    "print(\"la multiplicación entre {0} y {1} es {2}\".format(racional1, racional2, racional))\n",
    "\n",
    "# o\n",
    "\n",
    "f\"{racional1} x {racional2}={racional}\""
   ]
  },
  {
   "cell_type": "markdown",
   "id": "421ac499",
   "metadata": {},
   "source": [
    "#### Representaciones Integradas"
   ]
  },
  {
   "cell_type": "markdown",
   "id": "9d163ee6",
   "metadata": {},
   "source": [
    "Una solución es representar el par $a$, $b$ como un único valor utilizando estructuras como listas `[a, b]`, tuplas `(a, b)`, o diccionarios `{'numer':a, 'denom':b}`. Esto mejora la situación, pero introduce un nuevo problema: obliga al usuario del número racional a conocer su representación interna. Si se representa un número racional con una tupla $(n, d)$, por ejemplo, las funciones que operan con estos números deben saber que se está utilizando una tupla y cuál elemento es el numerador (los elementos con índice $0$ en cada tupla) y cuál el denominador (los elementos con índice $1$ en cada tupla)."
   ]
  },
  {
   "cell_type": "code",
   "execution_count": null,
   "id": "3afc3b04",
   "metadata": {},
   "outputs": [],
   "source": [
    "def mult_rac(r1,r2):\n",
    "    return(r1[0] * r2[0], r1[1] * r2[1])"
   ]
  },
  {
   "cell_type": "code",
   "execution_count": null,
   "id": "26321f49",
   "metadata": {},
   "outputs": [],
   "source": [
    "racional1 = (2, 3)\n",
    "racional2 = (3, 4)\n",
    "\n",
    "num, div = mult_rac(racional1, racional2)\n",
    "\n",
    "f\"{racional1[0]}/{racional1[1]} x {racional2[0]}/{racional2[1]} = {num}/{div}\"\n"
   ]
  },
  {
   "cell_type": "markdown",
   "id": "ce4655dd",
   "metadata": {},
   "source": [
    "#### Abstracción de Datos: La Solución"
   ]
  },
  {
   "cell_type": "markdown",
   "id": "17f9e7ca",
   "metadata": {},
   "source": [
    "La abstracción de datos ofrece una solución elegante a este problema. En lugar de preocuparse por cómo se representan internamente los números racionales, los programadores pueden trabajar con ellos como si fueran entidades con existencia propia y definida. Esto significa que los detalles internos de su representación (ya sea como listas, tuplas, diccionarios o cualquier otra estructura) quedan ocultos a los usuarios. Los números racionales se manejan y se operan en términos de su comportamiento y propiedades, no de su representación subyacente."
   ]
  },
  {
   "cell_type": "markdown",
   "id": "977a1268",
   "metadata": {},
   "source": [
    "#### Propuesta de solución implementada en python de dicha solución"
   ]
  },
  {
   "cell_type": "markdown",
   "id": "1706d540",
   "metadata": {},
   "source": [
    "Para aplicar la abstracción de datos en la representación y manipulación de números racionales en Python, podemos definir una clase que encapsule el numerador y el denominador. Esta clase proporcionará métodos para realizar operaciones comunes con números racionales, como la multiplicación, manteniendo ocultos los detalles de implementación."
   ]
  },
  {
   "cell_type": "code",
   "execution_count": null,
   "id": "fa4023f9",
   "metadata": {},
   "outputs": [],
   "source": [
    "class Rational:\n",
    "    def __init__(self, numer, denom):\n",
    "        self.numer = numer\n",
    "        self.denom = denom\n",
    "\n",
    "    def __repr__(self):\n",
    "        return f\"{self.numer}/{self.denom}\"\n",
    "\n",
    "    def multiply(self, other):\n",
    "        return Rational(self.numer * other.numer, self.denom * other.denom)\n",
    "\n",
    "# Ejemplo de uso\n",
    "r1 = Rational(2, 3)  # Representa 2/3\n",
    "r2 = Rational(3, 4)  # Representa 3/4\n",
    "\n",
    "result = r1.multiply(r2)\n",
    "print(f\"El resultado de multiplicar {r1} y {r2} es {result}\")\n"
   ]
  },
  {
   "cell_type": "markdown",
   "id": "c5b79335",
   "metadata": {},
   "source": [
    "En este código:\n",
    "\n",
    "- Definimos una clase `Rational` con dos atributos: `numer` (numerador) y `denom` (denominador).\n",
    "\n",
    "- El método `__init__` es el constructor de la clase y se utiliza para inicializar los atributos de cada instancia de `Rational`.\n",
    "\n",
    "- El método `__repr__` proporciona una representación legible del objeto, lo cual es útil para la depuración y el registro.\n",
    "\n",
    "- El método `multiply` toma otro objeto `Rational` como parámetro y devuelve un nuevo objeto `Rational` que es el producto de los dos.\n",
    "\n",
    "- Creamos dos instancias de `Rational` y las multiplicamos, demostrando cómo se pueden manipular estos objetos de manera abstracta, sin preocuparse por los detalles de su representación interna.\n",
    "\n",
    "Este enfoque de abstracción de datos permite a los programadores trabajar con números racionales de una manera más *intuitiva* y *flexible*, y facilita el mantenimiento y la extensión del código a lo largo del tiempo."
   ]
  },
  {
   "cell_type": "markdown",
   "id": "ae24cebe",
   "metadata": {},
   "source": [
    "La abstracción de datos, por lo tanto, no es solo una técnica de diseño, sino una metodología poderosa que permite a los programadores enfocarse en la lógica y el uso de los datos, en lugar de los detalles de su implementación. En el caso de los números racionales, permite la manipulación eficiente y el manejo de estos números como entidades completas y coherentes, independientemente de cómo se representen internamente. Este enfoque es fundamental para el desarrollo de programas robustos, eficientes y fáciles de mantener."
   ]
  },
  {
   "cell_type": "markdown",
   "id": "725032ce",
   "metadata": {},
   "source": [
    "### Algunos ejemplos de Abstracción de Datos"
   ]
  },
  {
   "cell_type": "markdown",
   "id": "77f38ec7",
   "metadata": {},
   "source": [
    "- ***Pilas (Stacks):*** Una pila es una estructura de datos abstracta que sigue el principio de último en entrar, primero en salir ([LIFO](https://en.wikipedia.org/wiki/Stack_(abstract_data_type))). La abstracción de una pila incluye operaciones como `push` (agregar un elemento), `pop` (eliminar el último elemento agregado) y `peek` (ver el último elemento), sin especificar cómo se implementan estas operaciones. ***Ej.*** En una aplicación de navegación web, una pila puede usarse para almacenar el historial de páginas visitadas, donde `push` agrega una nueva página al historial y `pop` regresa a la página anterior.\n",
    "<p>&nbsp;</p>\n",
    "\n",
    "- ***Colas (Queues):*** Una cola es una estructura de datos que opera bajo el principio de primero en entrar, primero en salir ([FIFO](https://en.wikipedia.org/wiki/FIFO_(computing_and_electronics))). Las operaciones típicas en una cola son `enqueue` (agregar un elemento al final de la cola) y `dequeue` (eliminar el elemento al frente de la cola). ***Ej.*** En un sistema de gestión de tickets de soporte técnico, una cola puede ser utilizada para manejar los tickets en el orden en que llegan.\n",
    "<p>&nbsp;</p>\n",
    "\n",
    "- ***Mapas o Diccionarios (Maps/Dictionaries):*** Un mapa es una estructura de datos que asocia claves con valores. Las operaciones básicas incluyen `insertar` (añadir un par clave-valor), `buscar` (encontrar un valor por su clave) y `eliminar` (remover un par clave-valor). ***Ej.*** Un diccionario en un procesador de texto que asocia palabras (claves) con sus definiciones (valores).\n"
   ]
  },
  {
   "cell_type": "markdown",
   "id": "b8e2e894",
   "metadata": {},
   "source": [
    "### Conclusión"
   ]
  },
  {
   "cell_type": "markdown",
   "id": "4ee3851f",
   "metadata": {},
   "source": [
    "La abstracción de datos es un poderoso paradigma en el diseño y análisis de algoritmos y estructuras de datos. Permite a los programadores enfocarse en qué necesita hacer un programa, en lugar de cómo se hace específicamente, facilitando así el manejo de problemas complejos y la creación de software más robusto, mantenible y escalable. A través de ejemplos como pilas, colas y mapas, podemos apreciar cómo la abstracción de datos se aplica en escenarios reales, simplificando el proceso de diseño y desarrollo de software."
   ]
  }
 ],
 "metadata": {
  "kernelspec": {
   "display_name": "Python 3 (ipykernel)",
   "language": "python",
   "name": "python3"
  },
  "language_info": {
   "codemirror_mode": {
    "name": "ipython",
    "version": 3
   },
   "file_extension": ".py",
   "mimetype": "text/x-python",
   "name": "python",
   "nbconvert_exporter": "python",
   "pygments_lexer": "ipython3",
   "version": "3.11.3"
  },
  "toc": {
   "base_numbering": 1,
   "nav_menu": {},
   "number_sections": true,
   "sideBar": true,
   "skip_h1_title": true,
   "title_cell": "Table of Contents",
   "title_sidebar": "Contents",
   "toc_cell": false,
   "toc_position": {
    "height": "calc(100% - 180px)",
    "left": "10px",
    "top": "150px",
    "width": "256px"
   },
   "toc_section_display": true,
   "toc_window_display": false
  }
 },
 "nbformat": 4,
 "nbformat_minor": 5
}
