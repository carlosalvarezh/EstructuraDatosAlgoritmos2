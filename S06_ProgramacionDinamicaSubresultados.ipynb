{
 "cells": [
  {
   "cell_type": "markdown",
   "id": "d77c064c",
   "metadata": {},
   "source": [
    "<h1 align=\"center\">Estructura de Datos y Algoritmos II</h1>\n",
    "<h1 align=\"center\">Programación Dinámica 3</h1>\n",
    "<h1 align=\"center\">Estructuras de datos para almacenamiento de subresultados</h1>\n",
    "<h1 align=\"center\">2024</h1>\n",
    "<h1 align=\"center\">MEDELLÍN - COLOMBIA </h1>"
   ]
  },
  {
   "cell_type": "markdown",
   "id": "3495bed3",
   "metadata": {},
   "source": [
    "*** \n",
    "|[![Outlook](https://img.shields.io/badge/Microsoft_Outlook-0078D4?style=plastic&logo=microsoft-outlook&logoColor=white)](mailto:calvar52@eafit.edu.co)||[![Open In Colab](https://colab.research.google.com/assets/colab-badge.svg)](https://colab.research.google.com/github/carlosalvarezh/EstructuraDatosAlgoritmos2/blob/main/S06_ProgramacionDinamicaSubresultados.ipynb)\n",
    "|-:|:-|--:|\n",
    "|[![LinkedIn](https://img.shields.io/badge/linkedin-%230077B5.svg?style=plastic&logo=linkedin&logoColor=white)](https://www.linkedin.com/in/carlosalvarez5/)|[![@alvarezhenao](https://img.shields.io/twitter/url/https/twitter.com/alvarezhenao.svg?style=social&label=Follow%20%40alvarezhenao)](https://twitter.com/alvarezhenao)|[![@carlosalvarezh](https://img.shields.io/badge/github-%23121011.svg?style=plastic&logo=github&logoColor=white)](https://github.com/carlosalvarezh)|\n",
    "\n",
    "<table>\n",
    " <tr align=left><td><img align=left src=\"https://github.com/carlosalvarezh/Curso_CEC_EAFIT/blob/main/images/CCLogoColorPop1.gif?raw=true\" width=\"25\">\n",
    " <td>Text provided under a Creative Commons Attribution license, CC-BY. All code is made available under the FSF-approved MIT license.(c) Carlos Alberto Alvarez Henao</td>\n",
    "</table>\n",
    "\n",
    "***"
   ]
  },
  {
   "cell_type": "markdown",
   "id": "2ae075a1",
   "metadata": {},
   "source": [
    "## Introducción a las Estructuras de Datos en Programación Dinámica"
   ]
  },
  {
   "cell_type": "markdown",
   "id": "7bbebf22",
   "metadata": {},
   "source": [
    "### Importancia del Almacenamiento de Subresultados"
   ]
  },
  {
   "cell_type": "markdown",
   "id": "b9226a08",
   "metadata": {},
   "source": [
    "En el ámbito de la programación dinámica, uno de los principios fundamentales es la descomposición de problemas complejos en subproblemas más pequeños y manejables. Esta estrategia no solo simplifica la resolución del problema sino que, al abordar cada subproblema una sola vez y almacenar sus resultados, se evita la necesidad de realizar cálculos redundantes. Aquí es donde entra en juego la importancia del almacenamiento de subresultados.\n",
    "\n",
    "El almacenamiento eficiente de los resultados de estos subproblemas es crucial por dos razones principales:\n",
    "\n",
    "- ***Reducción de la Complejidad Temporal:*** Al almacenar los resultados de los subproblemas, se evita la recomputación innecesaria, lo cual es esencial para reducir el tiempo de ejecución del algoritmo.\n",
    "<p>&nbsp;</p>\n",
    "\n",
    "- ***Acceso Rápido a las Soluciones de Subproblemas:*** Permite recuperar rápidamente la solución de un subproblema ya resuelto, lo cual es esencial en la resolución de problemas más grandes que dependen de estas soluciones."
   ]
  },
  {
   "cell_type": "markdown",
   "id": "571b4957",
   "metadata": {},
   "source": [
    "### Estructuras de Datos en Programación Dinámica"
   ]
  },
  {
   "cell_type": "markdown",
   "id": "948a7a4e",
   "metadata": {},
   "source": [
    "Las estructuras de datos utilizadas en programación dinámica varían desde arreglos simples hasta tablas de hash y matrices, dependiendo de la naturaleza y requisitos del problema. Por ejemplo, para calcular el $n$-ésimo número en la serie de Fibonacci, un arreglo simple puede ser suficiente para almacenar los números de Fibonacci previamente calculados. En contraste, problemas más complejos como el cálculo de la *subsecuencia común más larga* (*LCS*) entre dos cadenas pueden requerir una matriz bidimensional para almacenar los resultados de los subproblemas."
   ]
  },
  {
   "cell_type": "markdown",
   "id": "f61acf84",
   "metadata": {},
   "source": [
    "### Comparación entre Enfoque Recursivo Puro y Programación Dinámica"
   ]
  },
  {
   "cell_type": "markdown",
   "id": "988183ce",
   "metadata": {},
   "source": [
    "La principal diferencia entre un enfoque recursivo puro y la programación dinámica radica en cómo se manejan los subproblemas:\n",
    "\n",
    "- ***Enfoque Recursivo Puro:*** En la recursión, el problema se divide en subproblemas más pequeños. Sin embargo, este enfoque puede llevar a resolver el mismo subproblema múltiples veces, lo que resulta en una mayor complejidad temporal, especialmente en problemas que presentan una gran cantidad de subproblemas superpuestos. Por ejemplo, en el cálculo del $n$-ésimo número de Fibonacci utilizando un enfoque recursivo puro, se recalculan numerosos valores de Fibonacci.\n",
    "<p>&nbsp;</p>\n",
    "\n",
    "- ***Programación Dinámica:*** Combina la eficiencia de la recursión con el almacenamiento eficiente de resultados. Al almacenar los resultados de los subproblemas, la programación dinámica elimina la necesidad de recalculaciones, lo que resulta en un algoritmo mucho más eficiente. Por ejemplo, al calcular el $n$-ésimo número de Fibonacci utilizando programación dinámica, cada número de Fibonacci se calcula una sola vez y se almacena para su uso futuro.\n"
   ]
  },
  {
   "cell_type": "markdown",
   "id": "3214d4b3",
   "metadata": {},
   "source": [
    "### Ejemplos de Uso"
   ]
  },
  {
   "cell_type": "markdown",
   "id": "b9964928",
   "metadata": {},
   "source": [
    "- ***Serie de Fibonacci***\n",
    "   - **Recursivo**: Cálculo directo de cada número con llamadas recursivas, llevando a una complejidad de $\\mathcal{O}(2^n)$.\n",
    "   - **Dinámico**: Almacenamiento de cada número de Fibonacci calculado en un arreglo, reduciendo la complejidad a $\\mathcal{O}(n)$.\n",
    "<p>&nbsp;</p>\n",
    "\n",
    "- ***Subsecuencia Común Más Larga (LCS)***\n",
    "   - **Recursivo**: Calcula repetidamente la *LCS* para pares de prefijos de las dos secuencias, sin almacenar los resultados.\n",
    "   - **Dinámico**: Utiliza una matriz para almacenar la *LCS* de todos los pares de prefijos, eliminando la necesidad de recalculaciones.\n",
    "\n",
    "La elección adecuada y el uso eficiente de las estructuras de datos son fundamentales en la programación dinámica. Permiten una implementación más eficiente y optimizada de algoritmos que, de otro modo, serían prohibitivamente lentos y complejos. Este enfoque convierte a la programación dinámica en una herramienta poderosa para resolver una amplia gama de problemas computacionales, desde los más simples hasta los más complejos."
   ]
  },
  {
   "cell_type": "markdown",
   "id": "d62584dc",
   "metadata": {},
   "source": [
    "## Arreglos y Matrices en Programación Dinámica"
   ]
  },
  {
   "cell_type": "markdown",
   "id": "b66e860f",
   "metadata": {},
   "source": [
    "### Introducción"
   ]
  },
  {
   "cell_type": "markdown",
   "id": "3994bc41",
   "metadata": {},
   "source": [
    "En el ámbito de la programación dinámica, las estructuras de datos como los arreglos y matrices juegan un papel crucial en la organización y el almacenamiento eficiente de los resultados de los subproblemas. Estas estructuras permiten a los algoritmos acceder rápidamente a los resultados previamente calculados, lo que es esencial para la eficiencia de la programación dinámica."
   ]
  },
  {
   "cell_type": "markdown",
   "id": "ea4f83fd",
   "metadata": {},
   "source": [
    "### Uso de Arreglos Unidimensionales y Bidimensionales"
   ]
  },
  {
   "cell_type": "markdown",
   "id": "0af90b89",
   "metadata": {},
   "source": [
    "- ***Arreglos Unidimensionales:*** Son utilizados cuando el problema puede descomponerse en subproblemas que dependen de una sola variable. Un arreglo unidimensional es suficiente para almacenar los resultados de estos subproblemas.\n",
    "<p>&nbsp;</p>\n",
    "  \n",
    "- ***Matrices (Arreglos Bidimensionales):*** Cuando los subproblemas dependen de dos variables, se utilizan matrices. Esto es común en problemas donde se deben tomar decisiones en dos dimensiones, como en problemas de alineación de texto, edición de cadenas, o en ciertos problemas de caminos en grafos.\n"
   ]
  },
  {
   "cell_type": "markdown",
   "id": "a37e563b",
   "metadata": {},
   "source": [
    "### Cómo Elegir entre un Arreglo Unidimensional y Multidimensional"
   ]
  },
  {
   "cell_type": "markdown",
   "id": "56a69f18",
   "metadata": {},
   "source": [
    "La elección entre un arreglo unidimensional y una matriz depende de la naturaleza del problema:\n",
    "\n",
    "- Si el problema puede ser dividido en subproblemas que dependen de un solo parámetro, un arreglo unidimensional es suficiente.\n",
    "<p>&nbsp;</p>\n",
    "\n",
    "- Si el problema involucra dos parámetros interdependientes, una matriz es más adecuada."
   ]
  },
  {
   "cell_type": "markdown",
   "id": "9b50255f",
   "metadata": {},
   "source": [
    "### Ejemplos de Problemas Resueltos Utilizando Arreglos/Matrices"
   ]
  },
  {
   "cell_type": "markdown",
   "id": "3e55183a",
   "metadata": {},
   "source": [
    "- ***Serie de Fibonacci:*** El clásico problema de la serie de Fibonacci puede resolverse mediante programación dinámica utilizando un arreglo unidimensional. Cada elemento del arreglo almacena el n-ésimo número de Fibonacci, y cada número se calcula sumando los dos números anteriores en el arreglo.\n",
    "<p>&nbsp;</p>\n",
    "\n",
    "- ***Problema de la Mochila:*** Un ejemplo de un problema que utiliza una matriz es el problema de la mochila 0/1. En este problema, se utiliza una matriz para almacenar los valores máximos que se pueden alcanzar con diferentes pesos y para un subconjunto dado de elementos. Cada celda de la matriz representa el valor máximo que se puede obtener con un peso dado y considerando los elementos hasta cierto punto.\n",
    "<p>&nbsp;</p>\n",
    "\n",
    "- ***Camino Mínimo en una Matriz:*** Otro ejemplo es el problema de encontrar el camino mínimo en una matriz, donde cada celda representa un costo y se busca el costo mínimo para llegar de un punto de la matriz a otro. Se utiliza una matriz para almacenar los costos mínimos acumulados para llegar a cada celda.\n",
    "\n",
    "Estos ejemplos ilustran cómo los arreglos y matrices son herramientas esenciales en la caja de herramientas de la programación dinámica. Facilitan el almacenamiento y la recuperación eficiente de soluciones a subproblemas, lo que permite a los algoritmos de programación dinámica funcionar de manera eficiente y efectiva."
   ]
  },
  {
   "cell_type": "markdown",
   "id": "8aca518f",
   "metadata": {},
   "source": [
    "### Problema de la mochila (Knapsack problem)"
   ]
  },
  {
   "cell_type": "markdown",
   "id": "ed681427",
   "metadata": {},
   "source": [
    "<p float=\"center\">\n",
    "  <img src=\"https://github.com/carlosalvarezh/EstructuraDatosAlgoritmos2/blob/main/images/Knapsack01.webp?raw=true\" width=\"250\" />\n",
    "</p>\n",
    "\n",
    "<p style=\"text-align: center;\">\n",
    "    <strong>Tomado de:</strong> <a href=\"https://blog.stackademic.com/knapsack-problem-dynamic-programming-solution-bdf48365b759\">Medium</a>\n",
    "</p>\n",
    "\n",
    "El problema de optimización de mochila es un problema clásico en optimización combinatoria. Su nombre deriva del escenario de llenar una mochila con artículos de diferentes pesos y valores, con el objetivo de maximizar el valor total sin exceder la capacidad de peso de la mochila.\n",
    "\n",
    "Existen varias variaciones de este problema, pero la más común es el *problema de la mochila 0/1*. En esta variación, cada elemento puede *incluirse* o *excluirse*, lo que significa que no podemos tomar una fracción de un elemento ni tomar ningún elemento más de una vez.\n",
    "\n",
    "Existen varios métodos para resolver este problema. Aquí, utilizaremos el enfoque de programación dinámica: La programación dinámica (DP) es un método para resolver problemas complejos dividiéndolos en subproblemas más simples. Combina la exactitud de la búsqueda completa con la eficiencia de los algoritmos codiciosos al almacenar y reutilizar sistemáticamente las soluciones de subproblemas superpuestos. DP divide el problema de la mochila en partes más pequeñas y almacena sus soluciones en una tabla 2D. La solución al problema completo se construye a partir de estos subproblemas más pequeños.\n",
    "\n",
    "El primer paso para resolver el problema es el planteamiento del problema:\n",
    "\n",
    "> *Dados `n` artículos, cada uno con un peso `weight[i]` y un valor `value[i]`, y una mochila de capacidad `W`, encuentre el valor máximo que se puede poner en la mochila sin exceder la capacidad.*\n",
    "\n",
    "\n",
    "\n",
    "\n",
    "\n"
   ]
  },
  {
   "cell_type": "markdown",
   "id": "5d8f0b0a",
   "metadata": {},
   "source": [
    "#### Ejemplo 1: Problema simple de la mochila"
   ]
  },
  {
   "cell_type": "markdown",
   "id": "39e613e2",
   "metadata": {},
   "source": [
    "Imagina que estás preparando una mochila para un viaje de campamento y tienes que elegir entre varios artículos, cada uno con un valor de utilidad y un peso. La capacidad de tu mochila es limitada.\n",
    "\n",
    "**Artículos Disponibles**:\n",
    "- A: Una tienda de campaña con un peso de 4 kg y un valor de utilidad de 30.\n",
    "- B: Una estufa de campamento con un peso de 3 kg y un valor de utilidad de 50.\n",
    "- C: Una bolsa de dormir con un peso de 1 kg y un valor de utilidad de 15.\n",
    "\n",
    "**Capacidad de la Mochila**: 5 kg.\n",
    "\n",
    "***Solución al Ejemplo***\n",
    "\n",
    "Debes decidir qué artículos llevar para maximizar la utilidad total sin exceder el límite de peso de 5 kg.\n",
    "\n",
    "- Si eliges la tienda (A) y la bolsa de dormir (C), el peso total es 5 kg y el valor total es 45.\n",
    "- Si eliges la estufa (B) y la bolsa de dormir (C), el peso total es 4 kg y el valor total es 65.\n",
    "- No puedes llevar la tienda (A) y la estufa (B) juntas porque excederían el límite de peso.\n",
    "\n",
    "La mejor opción es llevar la estufa de campamento (B) y la bolsa de dormir (C), lo que te da el máximo valor total de 65 sin sobrepasar el límite de peso"
   ]
  },
  {
   "cell_type": "markdown",
   "id": "d701e465",
   "metadata": {},
   "source": [
    "#### Ejemplo 2: Problema de la mochila - Solución con PD"
   ]
  },
  {
   "cell_type": "markdown",
   "id": "c3768d08",
   "metadata": {},
   "source": [
    "En este ejemplo se tiene una mochila con capacidad de $7 kg$ y $5$ artículos, cada uno con diferentes pesos y valores:\n",
    "\n",
    "|||||||\n",
    "|:----|:---:|:---:|:---:|:---:|:---:|\n",
    "|Index |1|2|3|4|5|\n",
    "|Weight|4|3|2|1|3|\n",
    "|Value |5|2|3|2|4|\n",
    "\n",
    "\n",
    "- Crear una matriz 2D `dp` de tamaño `(n+1) x (W+1)` donde `dp[i][w]`representará el valor máximo que se puede alcanzar con los primeros $i$-artículos y una capacidad de mochila de `w`.\n",
    "\n",
    "<p float=\"center\">\n",
    "  <img src=\"https://github.com/carlosalvarezh/EstructuraDatosAlgoritmos2/blob/main/images/Knapsack02.PNG?raw=true\" width=\"500\" />\n",
    "</p>\n",
    "\n",
    "\n",
    "- Inicialice la primera fila y la primera columna en $0$, lo que representa el caso con cero elementos o capacidad cero.\n",
    "\n",
    "<p float=\"center\">\n",
    "  <img src=\"https://github.com/carlosalvarezh/EstructuraDatosAlgoritmos2/blob/main/images/Knapsack04.webp?raw=true\" width=\"500\" />\n",
    "</p>\n",
    "\n",
    "- Repita los elementos `i` del $1$ al $n$ y a través de cada capacidad `w` del `1` al `W`.\n",
    "\n",
    "Para cada artículo `i` y cada capacidad `w` decide si incluir `i` en la mochila:\n",
    "\n",
    "- Si el peso del artículo `weight[i]`es mayor que la capacidad actual `w`, no se puede incluir, por lo tanto `dp[i][w] = dp[i-1][w]`. De lo contrario, comprueba qué es más valioso:\n",
    "\n",
    "  — Sin incluir el artículo: `dp[i][w]`\n",
    "\n",
    "  — incluido el artículo: `value[i] + dp[i-1][w-weight[i]]`\n",
    "\n",
    "Tome el máximo de estos dos valores para completar `dp[i][w]`\n",
    "\n",
    "Para el primer artículo tenemos solo una pieza con un peso de $4 kg$ y un valor de $5$. Rellenaremos la celda correspondiente a $4 kg$ con su valor. El resto permanecerá sin cambios, ya que sólo tenemos este elemento para colocar.\n",
    "\n",
    "<p float=\"center\">\n",
    "  <img src=\"https://github.com/carlosalvarezh/EstructuraDatosAlgoritmos2/blob/main/images/Knapsack05.webp?raw=true\" width=\"550\" />\n",
    "</p>\n",
    "\n",
    "En el segundo punto, consideramos los dos primeros puntos. Con una capacidad de $3 kg$ podemos colocar el segundo artículo ya que pesa $3 kg$ y le asignamos su valor de $2$ a la celda.\n",
    "\n",
    "Para la siguiente capacidad ($4 kg$), comparamos el estado anterior del artículo anterior y el estado anterior del artículo actual, y procedemos con el valor de $5$ (máx.).\n",
    "\n",
    "Además, para utilizar ambos elementos necesitamos una capacidad de $7 kg$, que no supera nuestra capacidad total $W$. Por tanto, asignamos el valor combinado de ambos elementos, que es $7$, a la celda correspondiente a la capacidad de $7 kg$.\n",
    "\n",
    "<p float=\"center\">\n",
    "  <img src=\"https://github.com/carlosalvarezh/EstructuraDatosAlgoritmos2/blob/main/images/Knapsack06.webp?raw=true\" width=\"550\" />\n",
    "</p>\n",
    "\n",
    "Para el tercer artículo podemos colocarlo en la capacidad de $2 kg$. Luego comparamos el estado anterior y el estado anterior del elemento actual.\n",
    "\n",
    "Para una capacidad de $5 kg$ colocamos el valor del primer artículo que es el valor mayor.\n",
    "\n",
    "Con una capacidad de $6 kg$, podemos colocar tanto el primer como el tercer artículo con un valor total de $8$. Tenga en cuenta que no podemos colocar los tres artículos porque su peso combinado de $9 kg$ excede la capacidad máxima de $7 kg$.\n",
    "\n",
    "<p float=\"center\">\n",
    "  <img src=\"https://github.com/carlosalvarezh/EstructuraDatosAlgoritmos2/blob/main/images/Knapsack07.webp?raw=true\" width=\"550\" />\n",
    "</p>\n",
    "\n",
    "Del mismo modo, podemos completar el resto.\n",
    "\n",
    "<p float=\"center\">\n",
    "  <img src=\"https://github.com/carlosalvarezh/EstructuraDatosAlgoritmos2/blob/main/images/Knapsack08.webp?raw=true\" width=\"550\" />\n",
    "</p>\n",
    "\n",
    "Podemos decir que el valor máximo que podemos obtener es $10$. Para saber qué artículos incluye la mochila:\n",
    "\n",
    "- Comience desde `dp[n][W]` y avance hacia atrás: si `dp[i][w]` no es igual a `dp[i-1][w]`, significa que ise incluyó el elemento. Reduzca el peso en consecuencia y continúe hasta llegar al inicio de la mesa.\n",
    "\n",
    "$10$ está en la fila de arriba, nos movemos una fila arriba para continuar con el proceso. Significa que no incluimos el quinto elemento.\n",
    "\n",
    "<p float=\"center\">\n",
    "  <img src=\"https://github.com/carlosalvarezh/EstructuraDatosAlgoritmos2/blob/main/images/Knapsack09.webp?raw=true\" width=\"550\" />\n",
    "</p>\n",
    "\n",
    "$10$ y $8$ son diferentes. Incluimos el $4to$ ítem. Restamos $1 kg$ y pasamos a la celda de $6 kg$.\n",
    "\n",
    "<p float=\"center\">\n",
    "  <img src=\"https://github.com/carlosalvarezh/EstructuraDatosAlgoritmos2/blob/main/images/Knapsack10.webp?raw=true\" width=\"550\" />\n",
    "</p>\n",
    "\n",
    "$8$ y $5$ son diferentes. Incluimos el $3er$ artículo. Restamos $2 kg$ y movemos la celda de $4 kg$.\n",
    "\n",
    "<p float=\"center\">\n",
    "  <img src=\"https://github.com/carlosalvarezh/EstructuraDatosAlgoritmos2/blob/main/images/Knapsack11.webp?raw=true\" width=\"550\" />\n",
    "</p>\n",
    "\n",
    "La celda de arriba tiene el mismo valor. Avanzamos hacia arriba. $5 \\ne 0$, lo que significa que también incluimos el primer elemento.\n",
    "\n",
    "<p float=\"center\">\n",
    "  <img src=\"https://github.com/carlosalvarezh/EstructuraDatosAlgoritmos2/blob/main/images/Knapsack12.webp?raw=true\" width=\"550\" />\n",
    "</p>"
   ]
  },
  {
   "cell_type": "code",
   "execution_count": 1,
   "id": "c0568988",
   "metadata": {},
   "outputs": [
    {
     "data": {
      "text/plain": [
       "(10, [1, 3, 4])"
      ]
     },
     "execution_count": 1,
     "metadata": {},
     "output_type": "execute_result"
    }
   ],
   "source": [
    "def knapsack_max_value(weights, values, W):\n",
    "    \"\"\"\n",
    "    Calculate the maximum value for the knapsack problem and return the DP table.\n",
    "\n",
    "    :param weights: List of weights of the items\n",
    "    :param values: List of values of the items\n",
    "    :param W: Capacity of the knapsack\n",
    "    :return: Maximum value and the DP table\n",
    "    \"\"\"\n",
    "    n = len(weights)\n",
    "    dp = [[0 for _ in range(W + 1)] for _ in range(n + 1)]\n",
    "\n",
    "    # Fill the DP table\n",
    "    for i in range(1, n + 1):\n",
    "        for w in range(1, W + 1):\n",
    "            if weights[i - 1] <= w:\n",
    "                dp[i][w] = max(dp[i - 1][w], values[i - 1] + dp[i - 1][w - weights[i - 1]])\n",
    "            else:\n",
    "                dp[i][w] = dp[i - 1][w]\n",
    "\n",
    "    max_value = dp[n][W]\n",
    "    return max_value, dp\n",
    "\n",
    "\n",
    "def find_included_items(weights, dp):\n",
    "    \"\"\"\n",
    "    Find the items included in the optimal solution based on the DP table.\n",
    "\n",
    "    :param weights: List of weights of the items\n",
    "    :param dp: DP table computed by knapsack_max_value\n",
    "    :return: List of included items (1-based index)\n",
    "    \"\"\"\n",
    "    n = len(weights)\n",
    "    W = len(dp[0]) - 1\n",
    "    included_items = []\n",
    "    i, w = n, W\n",
    "\n",
    "    while i > 0 and w > 0:\n",
    "        if dp[i][w] != dp[i - 1][w]:\n",
    "            included_items.append(i)\n",
    "            w -= weights[i - 1]\n",
    "        i -= 1\n",
    "\n",
    "    included_items.reverse()\n",
    "    return included_items\n",
    "\n",
    "# Test the functions with the given weights, values, and capacity\n",
    "weights = [4, 3, 2, 1, 3]\n",
    "values = [5, 2, 3, 2, 4]\n",
    "W = 7\n",
    "\n",
    "max_value, dp = knapsack_max_value(weights, values, W)\n",
    "included_items = find_included_items(weights, dp)\n",
    "\n",
    "max_value, included_items"
   ]
  },
  {
   "cell_type": "markdown",
   "id": "37ea5dda",
   "metadata": {},
   "source": [
    "## Tablas Hash (diccionarios)"
   ]
  },
  {
   "cell_type": "markdown",
   "id": "5547e9a7",
   "metadata": {},
   "source": [
    "<p float=\"center\">\n",
    "  <img src=\"https://github.com/carlosalvarezh/EstructuraDatosAlgoritmos2/blob/main/images/PhoneBook.jpg?raw=true\" width=\"250\" />\n",
    "</p>"
   ]
  },
  {
   "cell_type": "markdown",
   "id": "74806436",
   "metadata": {},
   "source": [
    "### Introducción"
   ]
  },
  {
   "cell_type": "markdown",
   "id": "c303f636",
   "metadata": {},
   "source": [
    "En el ámbito de la programación dinámica, las [*tablas hash*](https://en.wikipedia.org/wiki/Hash_table) (o [*matriz asociativa*](https://en.wikipedia.org/wiki/Associative_array)), comúnmente implementadas como *diccionarios* en muchos lenguajes de programación, ofrecen una forma alternativa y eficiente de almacenar los resultados de los subproblemas. A diferencia de los *arreglos* o *matrices*, las *tablas hash* no requieren que los subproblemas estén secuencialmente indexados, lo que las hace ideales para ciertos tipos de problemas.\n",
    "\n",
    "<p float=\"center\">\n",
    "  <img src=\"https://github.com/carlosalvarezh/EstructuraDatosAlgoritmos2/blob/main/images/FichaCatalografica.jpg?raw=true\" width=\"250\" />\n",
    "</p>\n",
    "\n",
    "Suponga que está en una gran biblioteca buscando un libro específico. En lugar de revisar cada estante y libro secuencialmente, utiliza el sistema de clasificación de la biblioteca, que asigna un número único a cada libro y lo coloca en un estante específico. Este número es como una *'clave'* que le permite encontrar rápidamente el libro deseado. Este proceso se asemeja mucho al concepto de *hashing* en las ciencias de la computación, donde una cantidad de datos se transforma en un valor más pequeño y fijo, llamado *'hash'*, facilitando la búsqueda y recuperación eficientes de la información.\n",
    "\n",
    "<p float=\"center\">\n",
    "  <img src=\"https://github.com/carlosalvarezh/EstructuraDatosAlgoritmos2/blob/main/images/HashingAlgorithm.png?raw=true\" width=\"350\" />\n",
    "</p>\n",
    "\n",
    "El *hashing* se lleva a cabo mediante una [*función hash*](https://en.wikipedia.org/wiki/Hash_function), que convierte una entrada o *'clave'* (`key`) (como el título de un libro) en un *valor* (`value`) *hash* (equivalente al número único del libro en la biblioteca). Esta función está diseñada para ser rápida y eficiente, permitiendo el acceso casi instantáneo a los datos. En las *tablas hash*, utilizadas ampliamente en programación, los datos se almacenan en pares de *clave-valor*, `{key:value}`, donde la *clave* es una representación única del subproblema y el *valor* es la solución a ese subproblema. Esta metodología de almacenamiento y recuperación se emplea en diversas aplicaciones, desde sistemas de bases de datos hasta la optimización en programación dinámica, proporcionando una manera eficiente y rápida de manejar grandes conjuntos de datos.\n",
    "\n",
    "<p float=\"center\">\n",
    "  <img src=\"https://github.com/carlosalvarezh/EstructuraDatosAlgoritmos2/blob/main/images/HashTable.png?raw=true\" width=\"350\" />\n",
    "</p>\n"
   ]
  },
  {
   "cell_type": "markdown",
   "id": "79786b51",
   "metadata": {},
   "source": [
    "### Ventajas de Usar Tablas Hash sobre Arreglos"
   ]
  },
  {
   "cell_type": "markdown",
   "id": "398e6931",
   "metadata": {},
   "source": [
    "Un uso principal del *hash* es comparar la igualdad de dos archivos. Sin abrir dos archivos de documentos para compararlos palabra por palabra, los valores *hash* calculados de estos archivos permitirán al propietario saber inmediatamente si son diferentes. Los tipos de hash más comunes utilizados para las comprobaciones de integridad de archivos son [MD5](https://en.wikipedia.org/wiki/MD5), [SHA-2](https://en.wikipedia.org/wiki/SHA-2) y [CRC32](https://en.wikipedia.org/wiki/Cyclic_redundancy_check).\n",
    "\n",
    "El *hash* también se utiliza para verificar la integridad de un archivo después de haber sido transferido de un lugar a otro. Para asegurarse de que el archivo transferido no esté alterado (dañado o modificado), un usuario puede comparar el valor *hash* de ambos archivos. Si son iguales, entonces el archivo transferido es una copia idéntica. \n",
    "\n",
    "En algunas situaciones, un archivo cifrado puede estar diseñado para no cambiar nunca el tamaño del archivo ni la fecha y hora de la última modificación (por ejemplo, archivos contenedores de unidades virtuales). En tales casos, sería imposible saber de un vistazo si dos archivos similares son diferentes o no, pero los valores hash distinguirían fácilmente estos archivos si son diferentes. \n",
    "\n",
    "Otras ventajas del uso del *hash* podrían ser:\n",
    "\n",
    "- **Acceso Eficiente**: Las *tablas hash* proporcionan acceso de tiempo constante a los valores almacenados, lo que es especialmente útil cuando el número de subproblemas es grande.\n",
    "<p>&nbsp;</p>\n",
    "\n",
    "- **Flexibilidad en las Claves**: A diferencia de los arreglos, que se indexan numéricamente, las *tablas hash* permiten el uso de claves no numéricas o compuestas, lo que ofrece mayor flexibilidad en cómo se representan los subproblemas.\n",
    "<p>&nbsp;</p>\n",
    "\n",
    "- **Manejo de Subproblemas No Secuenciales**: Son ideales en situaciones donde los subproblemas no pueden ser secuencialmente indexados o cuando el rango de posibles subproblemas es muy amplio y disperso.\n"
   ]
  },
  {
   "cell_type": "markdown",
   "id": "ff89914d",
   "metadata": {},
   "source": [
    "### Ejemplos de Programación Dinámica con Tablas Hash"
   ]
  },
  {
   "cell_type": "markdown",
   "id": "8c33a0ff",
   "metadata": {},
   "source": [
    "- **Problema de la Subsecuencia Común Más Larga (LCS)**: En este problema, se puede utilizar una *tabla hash* para almacenar los resultados de los subproblemas definidos por diferentes pares de índices en dos secuencias. Las claves podrían ser tuplas que representan estos índices, y los valores serían las longitudes de la LCS para esos índices.\n",
    "<p>&nbsp;</p>\n",
    "\n",
    "- **Problema de la Suma de Subconjunto**: En el problema de la suma de subconjunto, se pueden almacenar en una *tabla hash* los resultados de los subproblemas que indican si es posible alcanzar una suma específica con un subconjunto de los números dados. Aquí, las claves serían las sumas objetivo y los índices que representan hasta qué punto se han considerado los números.\n",
    "<p>&nbsp;</p>\n",
    "\n",
    "- **Problemas de Optimización de Rutas**: En problemas de optimización de rutas, como el problema del vendedor viajero (TSP), se pueden usar tablas de hash para almacenar los costos mínimos de las rutas, donde las claves representan conjuntos de ciudades visitadas y la ciudad actual."
   ]
  },
  {
   "cell_type": "markdown",
   "id": "174520ac",
   "metadata": {},
   "source": [
    "Las *tablas hash* aportan flexibilidad y eficiencia en el almacenamiento de subresultados en la programación dinámica. Permiten abordar problemas complejos donde las soluciones de los subproblemas no se ajustan naturalmente a una estructura secuencial, facilitando una implementación más intuitiva y eficiente. Su capacidad para manejar claves complejas y proporcionar acceso rápido las convierte en una herramienta valiosa en el arsenal de la programación dinámica."
   ]
  },
  {
   "cell_type": "markdown",
   "id": "d2a4b645",
   "metadata": {},
   "source": [
    "### Componentes del hash"
   ]
  },
  {
   "cell_type": "markdown",
   "id": "81929d15",
   "metadata": {},
   "source": [
    "Hay tres componentes principales del hashing:\n",
    "\n",
    "<p float=\"center\">\n",
    "  <img src=\"https://github.com/carlosalvarezh/EstructuraDatosAlgoritmos2/blob/main/images/HashFunction.PNG?raw=true\" width=\"500\" />\n",
    "</p>\n",
    "\n",
    "- ***Clave:*** una *clave* puede ser cualquier cadena o número entero que se introduzca como entrada en la *función hash*, la técnica que determina un *índice* o ubicación para el almacenamiento de un elemento en una estructura de datos. \n",
    "<p>&nbsp;</p>\n",
    "\n",
    "- ***Función hash:*** la *función hash* recibe la *clave* de entrada y devuelve el *índice* de un elemento en una matriz llamada *tabla hash*. El *índice* se conoce como *índice hash*.\n",
    "<p>&nbsp;</p>\n",
    "\n",
    "- ***Tabla hash:*** la *tabla hash* es una estructura de datos que asigna *claves* a *valores* mediante una función especial llamada *función hash*. *Hash* almacena los datos de forma asociativa en una matriz donde cada valor de datos tiene su propio índice único.\n"
   ]
  },
  {
   "cell_type": "markdown",
   "id": "fe12e804",
   "metadata": {},
   "source": [
    "<a id='Seccion_35'></a>\n",
    "### Funcionamiento del Hash"
   ]
  },
  {
   "cell_type": "markdown",
   "id": "022e5a98",
   "metadata": {},
   "source": [
    "Supongamos que tenemos un conjunto de cadenas `{\"ab\", \"cd\", \"efg\"}` y nos gustaría almacenarlo en una tabla. \n",
    "\n",
    "Nuestro principal objetivo aquí es buscar o actualizar los valores almacenados en la tabla rápidamente en $\\mathcal{O}(1)$ tiempo y no nos preocupa el orden de las cadenas en la tabla. Entonces, el conjunto de cadenas dado puede actuar como una clave y la cadena misma actuará como el valor de la cadena, pero ¿cómo almacenar el valor correspondiente a la clave? \n",
    "\n",
    "- ***Paso 1:*** Sabemos que las *funciones hash* (que es una fórmula matemática) se utilizan para *calcular el valor hash* que actúa como índice de la estructura de datos donde se almacenará el valor. \n",
    "<p>&nbsp;</p>\n",
    "\n",
    "- ***Paso 2:*** Entonces, asignemos:  \n",
    "\"a\" = 1,  \n",
    "\"b\"=2,  \n",
    "\"c\"=3,  \n",
    "... etc., a todos los caracteres alfabéticos. \n",
    "<p>&nbsp;</p>\n",
    "\n",
    "- ***Paso 3:*** Por lo tanto, el valor numérico por suma de todos los caracteres de la cadena:  \n",
    "\"ab\" = 1 + 2 = 3,   \n",
    "\"cd\" = 3 + 4 = 7,  \n",
    "\"efg\" = 5 + 6 + 7 = 18  \n",
    "<p>&nbsp;</p>\n",
    "\n",
    "- ***Paso 4:*** Ahora supongamos que tenemos una tabla de tamaño $7$ para almacenar estas cadenas. La *función hash* que se utiliza aquí es la suma de los caracteres dados por `clave mod Tamaño_tabla`. Podemos calcular la ubicación de la cadena en la matriz haciendo `sum(cadena) mod 7`.\n",
    "<p>&nbsp;</p>\n",
    "\n",
    "- ***Paso 5:*** Entonces almacenaremos   \n",
    "“ab” en 3 mod 7 = 3,   \n",
    "“cd” en 7 mod 7 = 0, y   \n",
    "“efg” en 18 mod 7 = 4.\n",
    "\n",
    "<p float=\"center\">\n",
    "  <img src=\"https://github.com/carlosalvarezh/EstructuraDatosAlgoritmos2/blob/main/images/HashTable01.png?raw=true\" width=\"500\" />\n",
    "</p>\n",
    "\n",
    "Esta técnica nos permite calcular la ubicación de una cadena determinada mediante el uso de una función hash simple y encontrar rápidamente el valor almacenado en esa ubicación. Por lo tanto, la idea del hash parece una excelente manera de almacenar pares (clave, valor) de datos en una tabla."
   ]
  },
  {
   "cell_type": "markdown",
   "id": "53ac8da0",
   "metadata": {},
   "source": [
    "### ¿Qué es una función Hash?"
   ]
  },
  {
   "cell_type": "markdown",
   "id": "d0f9c8a0",
   "metadata": {},
   "source": [
    "La *función hash* crea un [mapeo](https://en.wikipedia.org/wiki/Map_(mathematics)) entre la *clave* y el *valor*, esto se realiza mediante el uso de fórmulas matemáticas conocidas como *funciones hash*. El resultado de la *función hash* se denomina *valor hash* o *hash*. El *valor hash* es una <ins>representación de la cadena de caracteres original, pero normalmente es más pequeña que la original</ins>.\n",
    "\n",
    "Por ejemplo: considere una matriz como un mapa donde la clave es el índice y el valor es el valor en ese índice. Entonces, para una matriz `A`, si tenemos el índice `i` que será tratado como la *clave*, entonces podemos encontrar el *valor* simplemente mirando el valor en `A[i]`. "
   ]
  },
  {
   "cell_type": "markdown",
   "id": "d32bd3c3",
   "metadata": {},
   "source": [
    "### Tipos de funciones Hash"
   ]
  },
  {
   "cell_type": "markdown",
   "id": "0e5072bf",
   "metadata": {},
   "source": [
    "Hay muchas *funciones hash* que utilizan claves numéricas o alfanuméricas. Veamos algunas de ellas:"
   ]
  },
  {
   "cell_type": "markdown",
   "id": "3c882e5b",
   "metadata": {},
   "source": [
    "#### Método de División\n"
   ]
  },
  {
   "cell_type": "markdown",
   "id": "cb8de855",
   "metadata": {},
   "source": [
    "- **Descripción**: Este método consiste en dividir la clave (k) por un número (generalmente un número primo) y usar el residuo como valor hash. La fórmula es: \n",
    "\n",
    "$$hash(k) = k \\text{ mod} \\text{ tamañoTabla}$$\n",
    "\n",
    "`mod%` hace referencia a la operación [módulo](https://en.wikipedia.org/wiki/Modulo).\n",
    "<p>&nbsp;</p>\n",
    "\n",
    "- **Ventajas**:\n",
    "  - Simple y rápido de calcular.\n",
    "  - Si el tamaño de la tabla es un número primo, se puede reducir la probabilidad de colisiones.\n",
    "<p>&nbsp;</p>\n",
    "\n",
    "- **Desventajas**:\n",
    "  - La elección del número divisor es crítica; un mal número puede aumentar las colisiones.\n",
    "  - No es ideal si las claves tienen un patrón común (por ejemplo, si son múltiplos de un cierto número).\n",
    "<p>&nbsp;</p>\n",
    "\n",
    "- **Ejemplo**: Si la clave es `12345` y el tamaño de la tabla es `97` (un número primo), el hash sería `12345 % 97 = 53`.\n"
   ]
  },
  {
   "cell_type": "markdown",
   "id": "8291d09c",
   "metadata": {},
   "source": [
    "#### Método del Cuadrado Medio"
   ]
  },
  {
   "cell_type": "markdown",
   "id": "9c13b072",
   "metadata": {},
   "source": [
    "- **Descripción**: Este método toma la clave ($k$), la eleva al cuadrado y luego extrae una porción del resultado (generalmente del medio) como valor hash. La fórmula sería:\n",
    "\n",
    "$$hash(k) = hash(k \\times k)$$\n",
    "\n",
    "<p>&nbsp;</p>\n",
    "\n",
    "- **Ventajas**:\n",
    "  - Reduce las colisiones si las claves están agrupadas o son similares.\n",
    "  - Útil cuando no hay mucha información sobre la distribución de las claves.\n",
    "<p>&nbsp;</p>\n",
    "\n",
    "- **Desventajas**:\n",
    "  - Más computacionalmente intensivo que otros métodos.\n",
    "  - La extracción de la porción media debe ser cuidadosamente elegida para evitar patrones.\n",
    "<p>&nbsp;</p>\n",
    "\n",
    "- **Ejemplo**: Si la clave es `123`, el cuadrado es `15129`. Tomando los tres dígitos medios, el hash sería `512`."
   ]
  },
  {
   "cell_type": "markdown",
   "id": "523aa9f7",
   "metadata": {},
   "source": [
    "#### Método de Plegado"
   ]
  },
  {
   "cell_type": "markdown",
   "id": "ea6cc9b4",
   "metadata": {},
   "source": [
    "- **Descripción**: Este método divide la clave, $k$, en partes iguales ($k1, k2, k3, \\ldots, kn$), suma estas partes y luego utiliza el residuo de esta suma como valor hash. A veces se invierte cada otra parte antes de sumarlas.\n",
    "<p>&nbsp;</p>\n",
    "\n",
    "- **Ventajas**:\n",
    "  - Bueno para claves que son largas o tienen muchas cifras.\n",
    "  - Distribuye de manera más uniforme las claves que tienen patrones.\n",
    "<p>&nbsp;</p>\n",
    "\n",
    "- **Desventajas**:\n",
    "  - Requiere más cálculos que el método de división.\n",
    "  - Puede ser menos eficiente si las claves no son lo suficientemente grandes.\n",
    "<p>&nbsp;</p>\n",
    "\n",
    "- **Ejemplo**: Si la clave es `123456789`, se puede dividir en `[123, 456, 789]`, sumar estos números (`1368`) y luego hacer `1368 % tamañoTabla`."
   ]
  },
  {
   "cell_type": "markdown",
   "id": "fe9b2bb5",
   "metadata": {},
   "source": [
    "#### Método de Multiplicación"
   ]
  },
  {
   "cell_type": "markdown",
   "id": "dcd52e7d",
   "metadata": {},
   "source": [
    "- **Descripción**: Este método multiplica la clave por una constante fraccional $A$ (generalmente un número irracional, $0 \\lt A \\lt 1$), extrae la fracción decimal resultante y la multiplica por el tamaño de la tabla para obtener el hash. La fórmula es:\n",
    "\n",
    "$$hash(k) = floor(M(kA mod 1))$$\n",
    "\n",
    "\n",
    "<p>&nbsp;</p>\n",
    "\n",
    "- **Ventajas**:\n",
    "  - Menos sensible a patrones específicos en las claves que el método de división.\n",
    "  - Funciona bien en una variedad de situaciones sin necesidad de mucha información previa sobre las claves.\n",
    "<p>&nbsp;</p>\n",
    "\n",
    "- **Desventajas**:\n",
    "  - La elección de la constante fraccional es crucial para la eficiencia del método.\n",
    "  - Ligeramente más complejo en cálculo que el método de división.\n",
    "<p>&nbsp;</p>\n",
    "\n",
    "- **Ejemplo**: Si la clave es `12345` y la constante es `0.618033` ([proporción áurea](https://en.wikipedia.org/wiki/Golden_ratio)), se calcula `12345 * 0.618033`, se toma la fracción decimal del resultado y se multiplica por el tamaño de la tabla.\n",
    "\n",
    "Cada uno de estos métodos tiene sus propios casos de uso ideales y limitaciones. La elección del método depende de las características de las claves a ser \"hasheadas\" y de los requisitos específicos del sistema en el que se implementará la función hash."
   ]
  },
  {
   "cell_type": "markdown",
   "id": "4012169d",
   "metadata": {},
   "source": [
    "### Propiedades de una buena función hash"
   ]
  },
  {
   "cell_type": "markdown",
   "id": "b418283e",
   "metadata": {},
   "source": [
    "Una buena *función hash* debe cumplir con varias propiedades clave para ser eficiente y efectiva en su uso, especialmente en estructuras de datos como las *tablas hash*. Estas propiedades aseguran que la *función hash* distribuya los datos de manera uniforme y reduzca la probabilidad de colisiones, entre otros aspectos importantes. Las principales propiedades son:\n",
    "\n",
    "1. **Uniformidad**: La función debe distribuir las claves hash de manera uniforme por todo el espacio de hash. Esto significa que cada valor hash debe tener aproximadamente la misma probabilidad de ser generado, minimizando así las colisiones.\n",
    "<p>&nbsp;</p>\n",
    "\n",
    "2. **Determinismo**: La misma entrada siempre debe producir el mismo valor hash. Esto es crucial para la recuperación confiable de datos, ya que las búsquedas, inserciones y eliminaciones dependen de que una clave dada siempre genere el mismo hash.\n",
    "<p>&nbsp;</p>\n",
    "\n",
    "3. **Eficiencia**: La función debe ser capaz de calcular el hash de una clave rápidamente. La eficiencia en el cálculo del hash es esencial para mantener un alto rendimiento en operaciones de inserción, búsqueda y eliminación.\n",
    "<p>&nbsp;</p>\n",
    "\n",
    "4. **Minimización de Colisiones**: Aunque las colisiones son inevitables en cualquier función hash (debido al principio de los casilleros), una buena función hash debe minimizar la probabilidad de que dos claves diferentes produzcan el mismo hash.\n",
    "<p>&nbsp;</p>\n",
    "\n",
    "5. **Dispersión**: Pequeños cambios en la clave deben producir cambios significativos en el valor hash. Esto ayuda a asegurar que claves similares no resulten en valores hash cercanos o idénticos, reduciendo la formación de \"clusters\" en la tabla hash.\n",
    "<p>&nbsp;</p>\n",
    "\n",
    "6. **Seguridad (en contextos específicos)**: Para funciones hash utilizadas en criptografía, la seguridad es una preocupación clave. Esto incluye propiedades como resistencia a colisiones (difícil encontrar dos entradas diferentes con el mismo hash), resistencia a pre-imágenes (difícil encontrar una entrada que tenga un hash dado) y resistencia a la segunda pre-imagen (difícil encontrar otra entrada que tenga el mismo hash que una entrada dada).\n",
    "\n",
    "Una función hash que posee estas propiedades será efectiva para una amplia gama de aplicaciones, desde estructuras de datos básicas hasta sistemas de seguridad avanzados."
   ]
  },
  {
   "cell_type": "markdown",
   "id": "d2cd7bbe",
   "metadata": {},
   "source": [
    "### Complejidad cálculo valor hash"
   ]
  },
  {
   "cell_type": "markdown",
   "id": "14730e1a",
   "metadata": {},
   "source": [
    "El orden de complejidad algorítmica de calcular el valor hash usando una función hash generalmente se espera que sea $\\mathcal{O}(1)$, es decir, un tiempo constante. Esto significa que el tiempo que toma calcular el valor hash de una entrada no debería depender significativamente del tamaño de la entrada, sino que debería ser más o menos el mismo para cualquier entrada.\n",
    "\n",
    "Hay que tener en cuenta lo siguiente:\n",
    "\n",
    "1. **Longitud de la Entrada**: Aunque en teoría la complejidad es $\\mathcal{O}(1)$, en la práctica, si la entrada es muy larga, el proceso de hashing puede tomar más tiempo. Sin embargo, este tiempo adicional suele ser insignificante en comparación con la longitud de la entrada.\n",
    "<p>&nbsp;</p>\n",
    "\n",
    "2. **Diseño de la Función Hash**: La complejidad puede variar dependiendo de la complejidad de la función hash en sí. Algunas funciones hash son más complejas que otras. Por ejemplo, las funciones hash criptográficas son más complejas y pueden no ser estrictamente $\\mathcal{O}(1)$ debido a su diseño avanzado para garantizar la seguridad.\n",
    "<p>&nbsp;</p>\n",
    "\n",
    "3. **Colisiones**: El manejo de colisiones en la tabla hash no forma parte del cálculo del hash en sí, pero puede afectar la eficiencia general de las operaciones en la tabla hash. La resolución de colisiones (como el encadenamiento o el direccionamiento abierto) puede agregar complejidad adicional.\n",
    "\n",
    "En resumen, mientras que el cálculo del valor hash en sí mismo es generalmente $\\mathcal{O}(1)$, la eficiencia global de una operación que involucra hashing (como la inserción o búsqueda en una tabla hash) puede ser afectada por otros factores, como el manejo de colisiones y la longitud de la entrada."
   ]
  },
  {
   "cell_type": "markdown",
   "id": "b93d03c9",
   "metadata": {},
   "source": [
    "### Problemas con el Hashing: Colisiones y Estrategias de Manejo"
   ]
  },
  {
   "cell_type": "markdown",
   "id": "2b03816c",
   "metadata": {},
   "source": [
    "El hashing es una técnica poderosa en computación, pero no está exenta de desafíos. Uno de los problemas más significativos en el hashing es la [\"colisión\"](https://en.wikipedia.org/wiki/Hash_collision), que ocurre cuando dos claves diferentes producen el mismo valor hash. Dado que el espacio de hash es limitado y las claves pueden ser virtualmente ilimitadas, las colisiones son, en cierta medida, inevitables. Sin embargo, existen varias estrategias para manejarlas eficientemente.\n",
    "\n",
    "Retomando el ejemplo de la [sección 3.5](#Seccion_35): Funcionamiento del Hash, la función hash que usamos es la suma de las letras, pero si examinamos la función hash de cerca, entonces se puede visualizar fácilmente el problema de que para diferentes cadenas la función hash comienza a generar el mismo valor hash. \n",
    "\n",
    "Por ejemplo: {`ab`, `ba`} ambos tienen el mismo valor hash y la cadena {`cd`,`be`} también genera el mismo valor hash, etc. Esto se conoce como colisión y crea problemas en la búsqueda. "
   ]
  },
  {
   "cell_type": "markdown",
   "id": "adbe0a48",
   "metadata": {},
   "source": [
    "#### Colisión en Hashing"
   ]
  },
  {
   "cell_type": "markdown",
   "id": "37f1c570",
   "metadata": {},
   "source": [
    "- **Descripción**: Una colisión ocurre cuando dos o más claves distintas son asignadas al mismo valor hash por la función hash. El proceso de hash genera un número pequeño para una clave grande, por lo que existe la posibilidad de que dos claves produzcan el mismo valor. La situación en la que la clave recién insertada se asigna a una ya ocupada y debe manejarse utilizando alguna tecnología de manejo de colisiones.\n",
    "\n",
    "<p float=\"center\">\n",
    "  <img src=\"https://github.com/carlosalvarezh/EstructuraDatosAlgoritmos2/blob/main/images/Collision-in-Hashing.png?raw=true\" width=\"500\" />\n",
    "</p>\n",
    "\n",
    "- **Problema**: Las colisiones reducen la eficiencia de la tabla hash, ya que más de una clave necesita ser manejada en la misma posición de la tabla."
   ]
  },
  {
   "cell_type": "markdown",
   "id": "0a7254ed",
   "metadata": {},
   "source": [
    "#### Estrategias para Manejar Colisiones"
   ]
  },
  {
   "cell_type": "markdown",
   "id": "7d7329a1",
   "metadata": {},
   "source": [
    "##### Encadenamiento"
   ]
  },
  {
   "cell_type": "markdown",
   "id": "628a94fb",
   "metadata": {},
   "source": [
    "- **Descripción**: En esta técnica, cada posición de la tabla hash apunta a una lista de entradas que se han asignado a esa posición. Si se produce una colisión, simplemente se añade la nueva clave a la lista existente.\n",
    "<p>&nbsp;</p>\n",
    "\n",
    "- **Ventajas**: Simple de implementar; la tabla hash nunca se \"llena\", puede manejar más elementos que posiciones hash.\n",
    "<p>&nbsp;</p>\n",
    "\n",
    "- **Desventajas**: Las operaciones de búsqueda, inserción y eliminación pueden volverse menos eficientes a medida que las listas crecen."
   ]
  },
  {
   "cell_type": "markdown",
   "id": "4a639753",
   "metadata": {},
   "source": [
    "***Ejemplo:*** Dada una función hash, insertar algunos elementos en la tabla hash utilizando un método de encadenamiento separado para la técnica de resolución de colisiones.\n",
    "\n",
    "$$\\text{Función hash} = clave \\% 5$$\n",
    "\n",
    "para los siguientes elementos: $12$, $15$, $22$, $25$ y $37$.\n",
    "\n",
    "Para desarrollar el ejercicio de insertar estos elementos en una tabla hash usando la función hash `hash = clave % 5`, procederemos paso a paso. Consideraremos la resolución de colisiones para este ejemplo.\n",
    "\n",
    "- ***Paso 1:*** Inicializamos una tabla hash con `5` posiciones (índices del `0` al `4`) ya que estamos utilizando `clave % 5` como nuestra función hash.\n",
    "\n",
    "| Índice | Elemento |\n",
    "|:------:|:--------:|\n",
    "| 0      |          |\n",
    "| 1      |          |\n",
    "| 2      |          |\n",
    "| 3      |          |\n",
    "| 4      |          |\n",
    "\n",
    "- ***Paso 2:*** Calculamos el hash para $12$: `12 % 5 = 2`. Insertamos $12$ en la posición `2`.\n",
    "\n",
    "| Índice | Elemento |\n",
    "|:------:|:--------:|\n",
    "| 0      |          |\n",
    "| 1      |          |\n",
    "| 2      | $$12$$   |\n",
    "| 3      |          |\n",
    "| 4      |          |\n",
    "\n",
    "- ***Paso 3:*** Calculamos el hash para $15$: `15 % 5 = 0`. Insertamos $15$ en la posición `0`.\n",
    "\n",
    "| Índice | Elemento |\n",
    "|:------:|:--------:|\n",
    "| 0      | $$15$$   |\n",
    "| 1      |          |\n",
    "| 2      | $$12$$   |\n",
    "| 3      |          |\n",
    "| 4      |          |\n",
    "\n",
    "- ***Paso 4:*** Calculamos el hash para $22$: `22 % 5 = 2`. Pero la posición `2` ya está ocupada por $12$, lo que resulta en una colisión. Para resolver esta colisión, podemos utilizar el método de encadenamiento, añadiendo $22$ en la misma posición que `12`.\n",
    "\n",
    "| Índice | Elementos |\n",
    "|:------:|:---------:|\n",
    "| 0      | 15        |\n",
    "| 1      |           |\n",
    "| 2      | $$12 \\rightarrow 22$$ |\n",
    "| 3      |           |\n",
    "| 4      |           |\n",
    "\n",
    "- ***Paso 5:*** Calculamos el hash para $25$: `25 % 5 = 0`. Pero la posición `0` ya está ocupada por $15$, otra colisión. Usamos nuevamente el encadenamiento, añadiendo $25$ junto a $15$.\n",
    "\n",
    "| Índice | Elementos   |\n",
    "|:------:|:-----------:|\n",
    "| 0      | $$15 \\rightarrow 25$$ |\n",
    "| 1      |                       |\n",
    "| 2      | $$12 \\rightarrow 22$$ |\n",
    "| 3      |                       |\n",
    "| 4      |                       |\n",
    "\n",
    "- ***Paso 6:*** Calculamos el hash para $37$: `37 % 5 = 2`. La posición `2` ya tiene $12$ y $22$. Se agrega $37$ a la lista en la posición `2`.\n",
    "\n",
    "| Índice | Elementos       |\n",
    "|:------:|:--------:|\n",
    "| 0      | $$15 \\rightarrow 25$$        |\n",
    "| 1      |                 |\n",
    "| 2      | $$12 \\rightarrow 22 \\rightarrow 37$$  |\n",
    "| 3      |                 |\n",
    "| 4      |                 |\n",
    "\n",
    "Así queda entonces la tabla hash final después de insertar todos los elementos y resolver las colisiones mediante el encadenamiento.\n",
    "\n",
    "Este ejemplo demuestra cómo la función hash asigna elementos a posiciones específicas en una tabla hash y cómo el encadenamiento puede ser utilizado eficazmente para resolver colisiones en la inserción de elementos.\n",
    "\n",
    "***Algoritmo:***\n",
    "\n",
    "A seguir se plantea un algoritmo para resolver el ejemplo anterior. Este pseudocódigo realiza los siguientes pasos:\n",
    "\n",
    "- `crearTablaHash`: Inicializa una tabla hash con un tamaño dado, creando una lista vacía en cada posición.\n",
    "<p>&nbsp;</p>\n",
    "\n",
    "- `hash`: Define una función hash que calcula el índice para una clave dada en la tabla hash.\n",
    "<p>&nbsp;</p>\n",
    "\n",
    "- `insertar`: Para cada elemento, calcula su índice utilizando la función hash y lo inserta en la lista correspondiente en la tabla hash.\n",
    "<p>&nbsp;</p>\n",
    "\n",
    "- `mostrarTablaHash`: Recorre la tabla hash y muestra los elementos en cada índice.\n",
    "\n",
    "***Pseudocódigo:***\n",
    "\n",
    "```pseudocode\n",
    "función crearTablaHash(tamaño):\n",
    "    tablaHash = arreglo de listas de tamaño 'tamaño'\n",
    "    para cada índice en tablaHash:\n",
    "        tablaHash[índice] = lista vacía\n",
    "    retornar tablaHash\n",
    "\n",
    "función hash(clave, tamañoTabla):\n",
    "    retornar clave % tamañoTabla\n",
    "\n",
    "función insertar(tablaHash, clave, tamañoTabla):\n",
    "    índice = hash(clave, tamañoTabla)\n",
    "    tablaHash[índice].añadir(clave)\n",
    "\n",
    "función mostrarTablaHash(tablaHash):\n",
    "    para cada índice en tablaHash:\n",
    "        imprimir \"Índice\", índice, \":\", tablaHash[índice]\n",
    "\n",
    "# Algoritmo principal\n",
    "tamañoTabla = 5\n",
    "elementos = [12, 15, 22, 25, 37]\n",
    "tablaHash = crearTablaHash(tamañoTabla)\n",
    "\n",
    "para cada elemento en elementos:\n",
    "    insertar(tablaHash, elemento, tamañoTabla)\n",
    "\n",
    "mostrarTablaHash(tablaHash)\n",
    "```\n",
    "Una implementación en Python para el algoritmo puede ser:"
   ]
  },
  {
   "cell_type": "code",
   "execution_count": null,
   "id": "19cd033a",
   "metadata": {},
   "outputs": [],
   "source": [
    "class HashTable:\n",
    "    def __init__(self, size):\n",
    "        self.size = size\n",
    "        self.table = [[] for _ in range(self.size)]\n",
    "\n",
    "    def hash_function(self, key):\n",
    "        return key % self.size\n",
    "\n",
    "    def insert(self, key):\n",
    "        hash_index = self.hash_function(key)\n",
    "        self.table[hash_index].append(key)\n",
    "\n",
    "    def display(self):\n",
    "        for index, values in enumerate(self.table):\n",
    "            print(f\"Índice {index}: {values}\")\n",
    "\n",
    "# Algoritmo principal\n",
    "tamaño_tabla = 5\n",
    "elementos = [12, 15, 22, 25, 37]\n",
    "tabla_hash = HashTable(tamaño_tabla)\n",
    "\n",
    "for elemento in elementos:\n",
    "    tabla_hash.insert(elemento)\n",
    "\n",
    "tabla_hash.display()\n"
   ]
  },
  {
   "cell_type": "markdown",
   "id": "03e1546b",
   "metadata": {},
   "source": [
    "##### Direccionamiento Abierto (Probing)"
   ]
  },
  {
   "cell_type": "markdown",
   "id": "4f7a1f43",
   "metadata": {},
   "source": [
    "- **Descripción**: En lugar de almacenar todas las colisiones en una lista, el direccionamiento abierto busca otra posición en la propia tabla hash. Las técnicas incluyen el *sondeo lineal*, el *sondeo cuadrático* y el *doble hashing*.\n",
    "<p>&nbsp;</p>\n",
    "\n",
    "- **Ventajas**: No requiere estructuras de datos adicionales; puede ser más eficiente en memoria.\n",
    "<p>&nbsp;</p>\n",
    "\n",
    "- **Desventajas**: El clustering (acumulación de muchas claves en áreas específicas de la tabla) puede ser un problema, especialmente en el sondeo lineal."
   ]
  },
  {
   "cell_type": "markdown",
   "id": "0f744ac7",
   "metadata": {},
   "source": [
    "1. ***Sondeo Lineal***\n",
    "\n",
    "En el sondeo lineal, la *tabla hash* se busca secuencialmente comenzando desde la ubicación original del *hash*. Si la ubicación que obtenemos ya está ocupada, buscamos la siguiente ubicación.\n",
    "\n",
    "- ***Algoritmo:***\n",
    "\n",
    "```pseudocode\n",
    "Calcule la clave hash: clave = dato % tamaño\n",
    "Compruebe si hashTable[clave] está vacía. \n",
    "    Almacenar el valor directamente mediante hashTable[clave] = dato\n",
    "Si el índice hash ya tiene algún valor, entonces\n",
    "    verifique el siguiente índice usando clave = (clave+1) % tamaño\n",
    "Verifique si el siguiente índice está disponible en hashTable[key] y luego almacene el valor. De lo contrario, intente con el siguiente índice.\n",
    "Haga el proceso anterior hasta que encontremos el espacio.\n",
    "```\n",
    "\n",
    "***Ejemplo:*** Resolviendo el ejemplo anterior, con la función Hash: `hash = clave % 5`, y los elementos: $12$, $15$, $22$, $25$ y $37$, genere la tabla hash mediante el método de Direccionamiento Abierto con Sondeo Lineal para resolver las colisiones presentadas.\n",
    "\n",
    "- ***Paso 1:*** Inicializamos una tabla hash con $5$ posiciones (índices del `0` al `4`) debido a la función hash `clave % 5`.\n",
    "\n",
    "| Índice | Elemento |\n",
    "|:------:|:--------:|\n",
    "| 0      |          |\n",
    "| 1      |          |\n",
    "| 2      |          |\n",
    "| 3      |          |\n",
    "| 4      |          |\n",
    "\n",
    "- ***Paso 2:*** Calculamos el hash para $12$: `12 % 5 = 2`. Insertamos $12$ en la posición `2`.\n",
    "\n",
    "| Índice | Elemento |\n",
    "|:------:|:--------:|\n",
    "| 0      |          |\n",
    "| 1      |          |\n",
    "| 2      | 12       |\n",
    "| 3      |          |\n",
    "| 4      |          |\n",
    "\n",
    "- ***Paso 3:*** Calculamos el hash para $15$: `15 % 5 = 0`. Insertamos $15$ en la posición $0$.\n",
    "\n",
    "| Índice | Elemento |\n",
    "|:------:|:--------:|\n",
    "| 0      | 15       |\n",
    "| 1      |          |\n",
    "| 2      | 12       |\n",
    "| 3      |          |\n",
    "| 4      |          |\n",
    "\n",
    "- ***Paso 4:*** Calculamos el hash para $22$: `22 % 5 = 2`. Pero la posición `2` ya está ocupada por `12`. Con sondeo lineal, probamos la posición `3`, que está libre.\n",
    "\n",
    "| Índice | Elemento |\n",
    "|:------:|:--------:|\n",
    "| 0      | 15       |\n",
    "| 1      |          |\n",
    "| 2      | 12       |\n",
    "| 3      | 22       |\n",
    "| 4      |          |\n",
    "\n",
    "- ***Paso 5:*** Calculamos el hash para $25$: `25 % 5 = 0`. La posición `0` está ocupada, así como la `1` y `2`. Sondeo lineal nos lleva a la posición `3`, pero está ocupada. Finalmente, la posición `4` está libre.\n",
    "\n",
    "| Índice | Elemento |\n",
    "|:------:|:--------:|\n",
    "| 0      | 15       |\n",
    "| 1      |          |\n",
    "| 2      | 12       |\n",
    "| 3      | 22       |\n",
    "| 4      | 25       |\n",
    "\n",
    "- ***Paso 6:*** Calculamos el hash para $37$: `37 % 5 = 2`. Las posiciones `2`, `3` y `4` están ocupadas, al igual que la `0`. Sondeo lineal nos lleva a la posición `1`, que está libre.\n",
    "\n",
    "| Índice | Elemento |\n",
    "|:------:|:--------:|\n",
    "| 0      | 15       |\n",
    "| 1      | 37       |\n",
    "| 2      | 12       |\n",
    "| 3      | 22       |\n",
    "| 4      | 25       |\n",
    "\n",
    "Este proceso muestra cómo se inserta cada elemento en la tabla hash, teniendo en cuenta las colisiones y resolviéndolas a través del sondeo lineal."
   ]
  },
  {
   "cell_type": "markdown",
   "id": "b06aab9d",
   "metadata": {},
   "source": [
    "2. ***Sondeo cuadrático***\n",
    "\n",
    "El sondeo cuadrático es un esquema de direccionamiento abierto para resolver colisiones *hash* en *tablas hash*. El sondeo cuadrático opera tomando el índice hash original y agregando valores sucesivos de un polinomio cuadrático arbitrario hasta que se encuentra una ubicación abierta.\n",
    "\n",
    "Una secuencia de ejemplo que utiliza sondeo cuadrático es:\n",
    "\n",
    "$$H + 1^2 , H + 2^2 , H + 3^2 , H + 4^2, \\ldots, H + k^2$$\n",
    "\n",
    "Este método también es conocido como el *método del cuadrado medio*, ya que en este método buscamos la $i^2$-ésima posición (o espacio) en la $i$-ésima iteración, donde $i = 0, 1, ..., n - 1$. Siempre comenzamos desde la ubicación hash original. Si dicha ubicación está ocupada, entonces revisamos las otras posiciones (o espacios).\n",
    "\n",
    "- ***Algoritmo***  \n",
    "\n",
    "Sea `hash(x)` el índice del espacio calculado utilizando la función hash y $n$ sea el tamaño de la tabla hash.\n",
    "\n",
    "```pseudocode\n",
    "Si el espacio hash(x) % n está lleno, entonces intentamos (hash(x) + 1^2 ) % n.  \n",
    "Si (hash(x) + 1^2 ) % n también está lleno, entonces intentamos (hash(x) + 2^2 ) % n.\n",
    "Si (hash(x) + 2^2 ) % n también está lleno, entonces intentamos (hash(x) + 3^2 ) % n.\n",
    "Este proceso se repetirá para todos los valores de i hasta que se encuentre un espacio vacío.\n",
    "```\n",
    "\n",
    "***Ejemplo:*** Resolviendo el ejemplo anterior, con la función Hash: `hash = clave % 5`, y los elementos: $12$, $15$, $22$, $25$ y $37$, genere la tabla hash mediante el método de Direccionamiento Abierto con Sondeo Cuadrático para resolver las colisiones presentadas.\n",
    "\n",
    "Para resolver el ejemplo con la función hash `hash = clave % 5` y los elementos 12, 15, 22, 25 y 37, utilizando el método de Direccionamiento Abierto con Sondeo Cuadrático, procederemos paso a paso. En el sondeo cuadrático, si hay una colisión, intentamos insertar en la posición `(hash + i^2) % tamaño_tabla`, donde `i` es el número de intento.\n",
    "\n",
    "- ***Paso 1:*** Inicializamos una tabla hash con $5$ posiciones (índices del `0` al `4`) ya que estamos utilizando `clave % 5` como nuestra función hash.\n",
    "\n",
    "| Índice | Elemento |\n",
    "|:------:|:--------:|\n",
    "| 0      |          |\n",
    "| 1      |          |\n",
    "| 2      |          |\n",
    "| 3      |          |\n",
    "| 4      |          |\n",
    "\n",
    "- ***Paso 2:*** Calculamos el hash para $12$: `12 % 5 = 2`. Insertamos $12$ en la posición `2`.\n",
    "\n",
    "| Índice | Elemento |\n",
    "|:------:|:--------:|\n",
    "| 0      |          |\n",
    "| 1      |          |\n",
    "| 2      | 12       |\n",
    "| 3      |          |\n",
    "| 4      |          |\n",
    "\n",
    "- ***Paso 3:*** Calculamos el hash para $15$: `15 % 5 = 0`. Insertamos $15$ en la posición `0`.\n",
    "\n",
    "| Índice | Elemento |\n",
    "|:------:|:--------:|\n",
    "| 0      | 15       |\n",
    "| 1      |          |\n",
    "| 2      | 12       |\n",
    "| 3      |          |\n",
    "| 4      |          |\n",
    "\n",
    "- ***Paso 4:*** Calculamos el hash para $22$: `22 % 5 = 2`. La posición `2` ya está ocupada, lo que resulta en una colisión. Intentamos con `(2 + 1^2) % 5 = 3`. La posición `3` está libre, por lo que insertamos $22$ ahí.\n",
    "\n",
    "| Índice | Elemento |\n",
    "|:------:|:--------:|\n",
    "| 0      | 15       |\n",
    "| 1      |          |\n",
    "| 2      | 12       |\n",
    "| 3      | 22       |\n",
    "| 4      |          |\n",
    "\n",
    "- ***Paso 5:*** Calculamos el hash para $25$: `25 % 5 = 0`. La posición `0` ya está ocupada. Intentamos con `(0 + 1^2) % 5 = 1`. La posición `1` está libre, por lo que insertamos $25$ ahí.\n",
    "\n",
    "| Índice | Elemento |\n",
    "|:------:|:--------:|\n",
    "| 0      | 15       |\n",
    "| 1      | 25       |\n",
    "| 2      | 12       |\n",
    "| 3      | 22       |\n",
    "| 4      |          |\n",
    "\n",
    "- ***Paso 6:*** Calculamos el hash para $37$: `37 % 5 = 2`. La posición `2` está ocupada, así como las posiciones `(2 + 1^2) % 5 = 3` y `(2 + 2^2) % 5 = 0`. Probamos con `(2 + 3^2) % 5 = 4`. La posición `4` está libre, por lo que insertamos $37$ ahí.\n",
    "\n",
    "| Índice | Elemento |\n",
    "|:------:|:--------:|\n",
    "| 0      | 15       |\n",
    "| 1      | 25       |\n",
    "| 2      | 12       |\n",
    "| 3      | 22       |\n",
    "| 4      | 37       |\n"
   ]
  },
  {
   "cell_type": "markdown",
   "id": "d5f1decd",
   "metadata": {},
   "source": [
    "3. ***Doble Hash***\n",
    "\n",
    "Se deja al estudiante la revisión de este tema. Plantee el ejemplo que se ha vanido trabajando y resuélvalo."
   ]
  },
  {
   "cell_type": "markdown",
   "id": "a083930e",
   "metadata": {},
   "source": [
    "##### Rehashing"
   ]
  },
  {
   "cell_type": "markdown",
   "id": "560ace33",
   "metadata": {},
   "source": [
    "- **Descripción**: Cuando la tabla hash se vuelve demasiado llena, se crea una nueva tabla hash, generalmente más grande, y todos los elementos existentes se reinsertan usando la función hash.\n",
    "<p>&nbsp;</p>\n",
    "\n",
    "- **Ventajas**: Reduce la probabilidad de colisiones y el clustering.\n",
    "<p>&nbsp;</p>\n",
    "\n",
    "- **Desventajas**: El proceso de rehashing puede ser costoso en términos de tiempo y recursos."
   ]
  },
  {
   "cell_type": "markdown",
   "id": "201090e3",
   "metadata": {},
   "source": [
    "En resumen, aunque las colisiones son un desafío inherente al hashing, existen múltiples estrategias efectivas para manejarlas. La elección de la estrategia adecuada depende de varios factores, como el tamaño de los datos, la frecuencia de las operaciones y las limitaciones de memoria. Manejar correctamente las colisiones es crucial para mantener la eficiencia y la eficacia de las tablas hash en aplicaciones de computación."
   ]
  },
  {
   "cell_type": "markdown",
   "id": "8f43735a",
   "metadata": {},
   "source": [
    "### Ejercicios"
   ]
  },
  {
   "cell_type": "markdown",
   "id": "4a069172",
   "metadata": {},
   "source": [
    "- Implemente una tabla hash para almacenar nombres de estudiantes y sus ID. Utilice el encadenamiento para manejar colisiones. Pruebe la inserción de dos estudiantes cuyos nombres produzcan el mismo valor hash."
   ]
  },
  {
   "cell_type": "markdown",
   "id": "1264f2e4",
   "metadata": {},
   "source": [
    "- Cree una tabla hash para almacenar y recuperar contraseñas basadas en nombres de usuario. Implemente el sondeo cuadrático para resolver colisiones y pruebe con varios nombres de usuario que generen colisiones."
   ]
  },
  {
   "cell_type": "markdown",
   "id": "fb6d4b2d",
   "metadata": {},
   "source": [
    "- Desarrolle una tabla hash para almacenar códigos de productos y sus precios. Implemente el rehashing para ajustar el tamaño de la tabla cuando el factor de carga (número de elementos/ tamaño de la tabla) supere un umbral predefinido."
   ]
  },
  {
   "cell_type": "code",
   "execution_count": null,
   "id": "74d907d5",
   "metadata": {},
   "outputs": [],
   "source": []
  }
 ],
 "metadata": {
  "kernelspec": {
   "display_name": "Python 3 (ipykernel)",
   "language": "python",
   "name": "python3"
  },
  "language_info": {
   "codemirror_mode": {
    "name": "ipython",
    "version": 3
   },
   "file_extension": ".py",
   "mimetype": "text/x-python",
   "name": "python",
   "nbconvert_exporter": "python",
   "pygments_lexer": "ipython3",
   "version": "3.11.3"
  },
  "toc": {
   "base_numbering": 1,
   "nav_menu": {},
   "number_sections": true,
   "sideBar": true,
   "skip_h1_title": true,
   "title_cell": "Table of Contents",
   "title_sidebar": "Contents",
   "toc_cell": false,
   "toc_position": {
    "height": "calc(100% - 180px)",
    "left": "10px",
    "top": "150px",
    "width": "256px"
   },
   "toc_section_display": true,
   "toc_window_display": false
  }
 },
 "nbformat": 4,
 "nbformat_minor": 5
}
