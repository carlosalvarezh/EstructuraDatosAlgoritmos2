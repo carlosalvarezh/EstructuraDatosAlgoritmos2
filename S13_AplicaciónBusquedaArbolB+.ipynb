{
 "cells": [
  {
   "cell_type": "markdown",
   "id": "4254bf80-0d9f-422d-9ad2-77c3bad022a5",
   "metadata": {},
   "source": [
    "<h1 align=\"center\">Estructura de Datos y Algoritmos II</h1>\n",
    "<h1 align=\"center\">Aplicaciones Árboles B+</h1>\n",
    "<h1 align=\"center\">2024</h1>\n",
    "<h1 align=\"center\">MEDELLÍN - COLOMBIA </h1>"
   ]
  },
  {
   "cell_type": "markdown",
   "id": "86769e4b",
   "metadata": {},
   "source": [
    "*** \n",
    "|[![Outlook](https://img.shields.io/badge/Microsoft_Outlook-0078D4?style=plastic&logo=microsoft-outlook&logoColor=white)](mailto:calvar52@eafit.edu.co)||[![Open In Colab](https://colab.research.google.com/assets/colab-badge.svg)](https://colab.research.google.com/github/carlosalvarezh/EstructuraDatosAlgoritmos2/blob/main/S13_AplicaciónBusquedaArbolB+.ipynb)\n",
    "|-:|:-|--:|\n",
    "|[![LinkedIn](https://img.shields.io/badge/linkedin-%230077B5.svg?style=plastic&logo=linkedin&logoColor=white)](https://www.linkedin.com/in/carlosalvarez5/)|[![@alvarezhenao](https://img.shields.io/twitter/url/https/twitter.com/alvarezhenao.svg?style=social&label=Follow%20%40alvarezhenao)](https://twitter.com/alvarezhenao)|[![@carlosalvarezh](https://img.shields.io/badge/github-%23121011.svg?style=plastic&logo=github&logoColor=white)](https://github.com/carlosalvarezh)|\n",
    "\n",
    "<table>\n",
    " <tr align=left><td><img align=left src=\"https://github.com/carlosalvarezh/Curso_CEC_EAFIT/blob/main/images/CCLogoColorPop1.gif?raw=true\" width=\"25\">\n",
    " <td>Text provided under a Creative Commons Attribution license, CC-BY. All code is made available under the FSF-approved MIT license.(c) Carlos Alberto Alvarez Henao</td>\n",
    "</table>\n",
    "\n",
    "***"
   ]
  },
  {
   "cell_type": "markdown",
   "id": "086bde57",
   "metadata": {},
   "source": [
    "## Árbol B"
   ]
  },
  {
   "cell_type": "markdown",
   "id": "389d2823",
   "metadata": {},
   "source": [
    "<p float=\"center\">\n",
    "  <img src=\"https://github.com/carlosalvarezh/EstructuraDatosAlgoritmos2/blob/main/images/B_tree01.PNG?raw=true\" width=\"350\" />\n",
    "</p>"
   ]
  },
  {
   "cell_type": "markdown",
   "id": "de1af5d7",
   "metadata": {},
   "source": [
    "### Introducción"
   ]
  },
  {
   "cell_type": "markdown",
   "id": "3d38ebbf",
   "metadata": {},
   "source": [
    "Las limitaciones de los árboles de búsqueda binarios tradicionales pueden ser un reto para almacenar grandes volúmenes de datos. Aquí es donde los *árboles B* demuestran su utilidad: son estructuras de datos versátiles que pueden manejar cantidades masivas de información con facilidad. Cuando se trata de almacenar y buscar grandes cantidades de datos, los árboles de búsqueda binarios convencionales resultan ineficaces debido a su bajo rendimiento y alto consumo de memoria. Los *árboles B*, conocidos como árboles balanceados, son una estructura autobalanceada diseñada específicamente para superar estas limitaciones.\n",
    "\n",
    "A diferencia de los árboles binarios tradicionales, los *árboles B* se caracterizan por la gran cantidad de claves que pueden almacenar en un solo nodo, razón por la cual a veces se les denomina \"árboles de gran clave\". Cada nodo en un *árbol B* puede contener múltiples claves, lo que permite que el árbol tenga un mayor factor de ramificación y, por lo tanto, una altura más reducida. Esta menor altura implica menos operaciones de entrada/salida en disco, lo que resulta en búsquedas e inserciones más rápidas. Los *árboles B* están especialmente bien adaptados para sistemas de almacenamiento con acceso a datos lento o voluminoso, como discos duros, memorias flash y CD-ROMs.\n",
    "\n",
    "Los *árboles B* mantienen el equilibrio asegurando que cada nodo contenga un mínimo de claves, lo que garantiza que el tiempo de ejecución de operaciones como inserción, eliminación y búsqueda sea siempre $O(log n)$, independientemente de la estructura inicial del árbol."
   ]
  },
  {
   "cell_type": "markdown",
   "id": "ff4a659f",
   "metadata": {},
   "source": [
    "### Propiedades y reglas del árbol B"
   ]
  },
  {
   "cell_type": "markdown",
   "id": "618b221c",
   "metadata": {},
   "source": [
    "1. **Número de Claves por Nodo**: Un nodo puede contener hasta un máximo de `(2t - 1)` claves y un mínimo de $\\lceil t/2\\rceil - 1$ claves (excepto la raíz, que puede tener al menos una clave). El valor de `t` es el grado mínimo del árbol.\n",
    "<p>&nbsp;</p>\n",
    "\n",
    "2. **Número de Hijos**: El número de hijos de un nodo es igual al número de claves almacenadas más uno.\n",
    "<p>&nbsp;</p>\n",
    "\n",
    "3. **Nodos Hoja al Mismo Nivel**: Todas las hojas están al mismo nivel, garantizando que el árbol esté perfectamente balanceado para un acceso rápido y consistente.\n",
    "<p>&nbsp;</p>\n",
    "\n",
    "4. **Claves Ordenadas**: Las claves dentro de cada nodo están ordenadas. Los hijos a la izquierda de una clave contienen valores menores que ella, mientras que los hijos a la derecha contienen valores mayores.\n",
    "<p>&nbsp;</p>\n",
    "\n",
    "5. **Almacén de Claves y Valores**: Los nodos internos contienen solo claves como índices para navegación, mientras que las hojas almacenan tanto las claves como los valores asociados.\n",
    "<p>&nbsp;</p>\n",
    "\n",
    "6. **Crecimiento desde la Raíz**: El árbol crece y se reduce desde la raíz, manteniéndose siempre balanceado para garantizar que las operaciones tengan una complejidad de `O(log n)`.\n"
   ]
  },
  {
   "cell_type": "markdown",
   "id": "044d64fc",
   "metadata": {},
   "source": [
    "### Grado mínimo o factor de ramificación - `t`"
   ]
  },
  {
   "cell_type": "markdown",
   "id": "68bafead",
   "metadata": {},
   "source": [
    "El valor de `t`, conocido como el grado mínimo o el factor de ramificación, es un parámetro importante en el diseño de un árbol B. Este determina el número mínimo y máximo de claves que pueden almacenarse en cada nodo. Para determinar el valor correcto de `t`, debes considerar los siguientes factores:\n",
    "\n",
    "1. **Tamaño del Bloque de Almacenamiento**:\n",
    "   - Los árboles B están diseñados para ser eficientes en sistemas de almacenamiento secundario como discos duros o SSD.\n",
    "   - Los nodos se optimizan para que su tamaño sea aproximadamente igual al de un bloque de almacenamiento.\n",
    "   - El objetivo es que cada nodo ocupe exactamente un bloque, minimizando las operaciones de lectura/escritura.\n",
    "<p>&nbsp;</p>\n",
    "\n",
    "2. **Tamaño de las Claves y los Punteros**:\n",
    "   - El valor de `t` se calcula considerando el espacio que ocupan las claves y los punteros dentro de un nodo.\n",
    "   - El nodo debe incluir suficientes punteros para las ramas hijas, además de las claves que actúan como índices.\n",
    "<p>&nbsp;</p>\n",
    "\n",
    "3. **Estructura del Nodo**:\n",
    "   - Cada nodo interno contiene `k` claves y `k + 1` punteros (donde `k` es el número de claves).\n",
    "   - La ecuación para calcular el tamaño del nodo sería algo como:\n",
    "   ``` \n",
    "   tamaño_nodo = tamaño_clave * (2t - 1) + tamaño_puntero * (2t)\n",
    "   ```\n",
    "   - Se necesita que este cálculo sea aproximadamente igual al tamaño de un bloque de almacenamiento.\n",
    "<p>&nbsp;</p>\n",
    "\n",
    "4. **Consideraciones de Rendimiento**:\n",
    "   - Un valor más alto de `t` reduce la altura del árbol, lo que reduce el número de accesos necesarios para encontrar datos.\n",
    "   - Sin embargo, un `t` demasiado alto puede hacer que las operaciones dentro de un nodo sean menos eficientes.\n",
    "\n",
    "En general, para determinar `t`:\n",
    "1. Estima el tamaño del bloque de almacenamiento.\n",
    "2. Determina el tamaño de las claves y los punteros.\n",
    "3. Usa el cálculo del tamaño del nodo para encontrar el valor adecuado de `t` que optimice el uso de cada bloque."
   ]
  },
  {
   "cell_type": "markdown",
   "id": "63b60322",
   "metadata": {},
   "source": [
    "## Árbol B+"
   ]
  },
  {
   "cell_type": "markdown",
   "id": "35c8f462",
   "metadata": {},
   "source": [
    "<p float=\"center\">\n",
    "  <img src=\"https://github.com/carlosalvarezh/EstructuraDatosAlgoritmos2/blob/main/images/B%2B_tree00.png?raw=true\" width=\"350\" />\n",
    "</p>"
   ]
  },
  {
   "cell_type": "markdown",
   "id": "a24792b8",
   "metadata": {},
   "source": [
    "### Introducción"
   ]
  },
  {
   "cell_type": "markdown",
   "id": "ce35adc2",
   "metadata": {},
   "source": [
    "El *árbol B+* es una variación de la estructura de datos del *árbol B*. En un *árbol B+*, los punteros de datos se almacenan solo en los nodos hoja. La estructura de un nodo hoja difiere de la de los nodos internos: mientras que los nodos hoja contienen una entrada por cada valor del campo de búsqueda junto con un puntero de datos al registro (o al bloque que contiene el registro), los nodos internos actúan como guías para las búsquedas. Los nodos hoja están enlazados para proporcionar acceso ordenado a los registros según el campo de búsqueda. Algunos valores de búsqueda de los nodos hoja se repiten en los nodos internos del árbol B+ para dirigir la navegación."
   ]
  },
  {
   "cell_type": "markdown",
   "id": "07497594",
   "metadata": {},
   "source": [
    "### Características de los Árboles B+"
   ]
  },
  {
   "cell_type": "markdown",
   "id": "a8dd0046",
   "metadata": {},
   "source": [
    "1. **Balanceado**: se equilibran automáticamente, ajustando su estructura para mantener el equilibrio al añadir o eliminar datos. Esto asegura que el tiempo de búsqueda permanezca relativamente constante, independientemente del tamaño del árbol.\n",
    "<p>&nbsp;</p>\n",
    "\n",
    "2. **Multinivel**: son estructuras de datos multinivel, con un nodo raíz en la parte superior y varios niveles de nodos internos debajo. Los nodos hoja en el nivel más bajo contienen los datos reales.\n",
    "<p>&nbsp;</p>\n",
    "\n",
    "3. **Ordenado**: mantienen un orden estricto de las claves en el árbol, lo que facilita las consultas por rangos y otras operaciones que requieren datos ordenados.\n",
    "<p>&nbsp;</p>\n",
    "\n",
    "4. **Alto \"Fan-out\"**: tienen un alto factor de ramificación, lo que significa que cada nodo puede tener muchos nodos hijos. Esto reduce la altura del árbol, aumentando la eficiencia de las operaciones de búsqueda e indexación.\n",
    "<p>&nbsp;</p>\n",
    "\n",
    "5. **Eficiente en Caché**: Están diseñados para aprovechar los mecanismos de caché en arquitecturas modernas, mejorando el rendimiento.\n",
    "<p>&nbsp;</p>\n",
    "\n",
    "6. **Orientado a Disco**: Son ideales para sistemas de almacenamiento en disco, ya que son eficientes al guardar y recuperar datos desde el disco."
   ]
  },
  {
   "cell_type": "markdown",
   "id": "dae3dae4",
   "metadata": {},
   "source": [
    "### ¿Por Qué Usar un Árbol B+?"
   ]
  },
  {
   "cell_type": "markdown",
   "id": "f11bcb60",
   "metadata": {},
   "source": [
    "1. **Acceso Eficiente a Disco**: minimizan las operaciones de entrada/salida mientras permiten un acceso eficiente al disco, lo que los hace ideales para sistemas de almacenamiento con un acceso a datos lento.\n",
    "<p>&nbsp;</p>\n",
    "\n",
    "2. **Estructura Balanceada**: Su estructura balanceada garantiza un rendimiento constante para diversas actividades y permite realizar consultas por rangos de forma eficiente.\n",
    "<p>&nbsp;</p>\n",
    "\n",
    "3. **Aplicaciones de Bases de Datos**: Debido a su predictibilidad y facilidad para realizar consultas por rangos, son ideales para sistemas de bases de datos y aplicaciones que requieren un acceso rápido a la información."
   ]
  },
  {
   "cell_type": "markdown",
   "id": "3934e026",
   "metadata": {},
   "source": [
    "### Inserción de Datos en un Árbol B+"
   ]
  },
  {
   "cell_type": "markdown",
   "id": "a3a6698a",
   "metadata": {},
   "source": [
    "Para insertar datos en un *Árbol B+*, se siguen los siguientes pasos:\n",
    "\n",
    "1. **Comenzar desde la raíz:** Inicia desde el nodo raíz y encuentra las claves adyacentes entre las que se encuentra el valor a insertar.\n",
    "<p>&nbsp;</p>\n",
    "\n",
    "2. **Sigue el puntero adecuado:** Sigue el puntero correspondiente hacia el siguiente nodo en el árbol.\n",
    "<p>&nbsp;</p>\n",
    "\n",
    "3. **Verificar el tipo de nodo:** Si el nodo es una hoja, inserta el valor directamente en el nodo.\n",
    "<p>&nbsp;</p>\n",
    "\n",
    "4. **Repetir si no es hoja:** Si el nodo no es una hoja, repite el proceso hasta llegar a un nodo hoja.\n",
    "<p>&nbsp;</p>\n",
    "\n",
    "5. **División si la hoja está llena:**\n",
    "   - Si el nodo hoja está lleno (es decir, ya contiene el máximo número de claves permitidas), divídelo en dos nodos.\n",
    "   - Inserta el valor en el nodo apropiado, asegurándote de mantener las claves ordenadas.\n",
    "   - Lleva la clave del medio hacia el nodo padre para mantener la estructura.\n",
    "<p>&nbsp;</p>\n",
    "\n",
    "6. **División de la raíz:**\n",
    "   - Si la división de un nodo hoja también provoca que el nodo padre se llene, entonces se puede producir una división en cascada hacia arriba.\n",
    "   - Si el nodo raíz se divide, se crea un nuevo nodo raíz que tiene a los dos nodos hijos como sus hijos.\n"
   ]
  },
  {
   "cell_type": "markdown",
   "id": "986b8077",
   "metadata": {},
   "source": [
    "### Ejemplo de inserción de datos"
   ]
  },
  {
   "cell_type": "markdown",
   "id": "b40f0213",
   "metadata": {},
   "source": [
    "***Fuente del ejemplo: [CSci 340: Árboles B+ (cburch.com)](http://www.cburch.com/cs/340/reading/btree/index.html)***\n",
    "\n",
    "Consideremos el siguiente *Árbol B+*, en el que ya se han insertado los números `1, 4, 9, 16` y `25`. Ahora, insertaremos los valores `20, 13, 15, 10, 11` y `12` respectivamente.\n",
    "\n",
    "La capacidad máxima de un nodo, o el número máximo de claves que puede contener un nodo, es $3$, por lo tanto, el orden es $4$. Así, la capacidad mínima es $1$, lo que significa que un nodo debe tener al menos $1$ clave.\n",
    "\n",
    "\n",
    "- ***Árbol inicial:***\n",
    "\n",
    "<p float=\"center\">\n",
    "  <img src=\"https://github.com/carlosalvarezh/EstructuraDatosAlgoritmos2/blob/main/images/B%2B_tree01.png?raw=true\" width=\"150\" />\n",
    "</p>\n",
    "\n",
    "- ***Insertar `20`***\n",
    "\n",
    "  - **Paso 1:** Desde la raíz `[16]`, `20` es mayor que `16`, así que seguimos el puntero a la derecha hacia la hoja `[16, 25]`.\n",
    "  - **Paso 2:** Insertamos `20` en esa hoja, que se reorganiza a `[16, 20, 25]`.\n",
    "\n",
    "<p float=\"center\">\n",
    "  <img src=\"https://github.com/carlosalvarezh/EstructuraDatosAlgoritmos2/blob/main/images/B%2B_tree02.png?raw=true\" width=\"150\" />\n",
    "</p>\n",
    "\n",
    "- ***Insertar `13`***\n",
    "  - **Paso 1:** Desde la raíz `[16]`, `13` es menor que `16`, así que seguimos el puntero a la izquierda hacia la hoja `[1, 4, 9]`.\n",
    "  - **Paso 2:** Insertamos `13` en esa hoja, lo que provoca un desbordamiento (más de 3 claves).\n",
    "  - **Paso 3:** Dividimos la hoja en dos:\n",
    "    - La nueva hoja izquierda tendrá `[1, 4]`.\n",
    "    - La nueva hoja derecha tendrá `[9, 13]`.\n",
    "  - **Paso 4:** La clave `9` se promueve a la raíz, que ahora contiene `[9, 16]`.\n",
    "\n",
    "<p float=\"center\">\n",
    "  <img src=\"https://github.com/carlosalvarezh/EstructuraDatosAlgoritmos2/blob/main/images/B%2B_tree03.png?raw=true\" width=\"200\" />\n",
    "</p>\n",
    "\n",
    "- ***Insertar `15`***\n",
    "  - **Paso 1:** Desde la nueva raíz `[9, 16]`, `15` cae entre `9` y `16`, así que seguimos el puntero hacia la hoja `[9, 13]`.\n",
    "  - **Paso 2:** Insertamos `15` en esa hoja, que se reorganiza a `[9, 13, 15]`.\n",
    "\n",
    "<p float=\"center\">\n",
    "  <img src=\"https://github.com/carlosalvarezh/EstructuraDatosAlgoritmos2/blob/main/images/B%2B_tree04.png?raw=true\" width=\"200\" />\n",
    "</p>\n",
    "\n",
    "- ***Insertar `10`***\n",
    "  - **Paso 1:** Desde la raíz `[9, 16]`, `10` está entre `9` y `16`, así que seguimos el puntero hacia la hoja `[9, 13, 15]`.\n",
    "  - **Paso 2:** Insertamos `10`, lo que provoca un desbordamiento (más de 3 claves).\n",
    "  - **Paso 3:** Dividimos la hoja en dos:\n",
    "    - La nueva hoja izquierda tendrá `[9, 10]`.\n",
    "    - La nueva hoja derecha tendrá `[13, 15]`.\n",
    "  - **Paso 4:** `13` se promueve a la raíz, que ahora contiene `[9, 13, 16]`.\n",
    "\n",
    "<p float=\"center\">\n",
    "  <img src=\"https://github.com/carlosalvarezh/EstructuraDatosAlgoritmos2/blob/main/images/B%2B_tree05.png?raw=true\" width=\"250\" />\n",
    "</p>\n",
    "\n",
    "- ***Insertar `11`***\n",
    "  - **Paso 1:** Desde la nueva raíz `[9, 13, 16]`, `11` cae entre `9` y `13`, así que seguimos el puntero hacia la hoja `[9, 10]`.\n",
    "  - **Paso 2:** Insertamos `11` en esa hoja, reorganizándola a `[9, 10, 11]`.\n",
    "\n",
    "<p float=\"center\">\n",
    "  <img src=\"https://github.com/carlosalvarezh/EstructuraDatosAlgoritmos2/blob/main/images/B%2B_tree06.png?raw=true\" width=\"250\" />\n",
    "</p>\n",
    "\n",
    "- ***Insertar `12`***\n",
    "  - **Paso 1:** Desde la raíz `[9, 16]`, `12` está entre `9` y `16`, así que seguimos el puntero hacia la hoja `[9, 10, 11]`.\n",
    "  - **Paso 2:** Insertamos `12`, lo que causa un desbordamiento ya que el nodo tiene más de 3 claves.\n",
    "  - **Paso 3:** Dividimos la hoja en dos:\n",
    "    - La nueva hoja izquierda tiene `[9, 10]`.\n",
    "    - La nueva hoja derecha tiene `[11, 12]`.\n",
    "  - **Paso 4:** `11` se promueve al nodo interno como índice.\n",
    "  - **Paso 5:** El nodo raíz original se divide en un nodo interno con las claves `[9, 11]` y otro con `[16]`.\n",
    "  - **Paso 6:** `13` se promueve a la nueva raíz.\n",
    "\n",
    "<p float=\"center\">\n",
    "  <img src=\"https://github.com/carlosalvarezh/EstructuraDatosAlgoritmos2/blob/main/images/B%2B_tree07.png?raw=true\" width=\"300\" />\n",
    "</p>\n",
    "\n",
    "**Resultado Final:**\n",
    "- La raíz ahora tiene la clave `[13]`.\n",
    "- El primer nodo hijo contiene las claves `[9, 11]`.\n",
    "- El segundo nodo hijo contiene la clave `[16]`.\n",
    "- Las hojas contienen las claves `[1, 4]`, `[9, 10]`, `[11, 12]`, `[13, 15]` y `[16, 20, 25]`."
   ]
  },
  {
   "cell_type": "markdown",
   "id": "52febdf8",
   "metadata": {},
   "source": [
    "### Eliminación de datos en un Árbol B+"
   ]
  },
  {
   "cell_type": "markdown",
   "id": "d0003b68",
   "metadata": {},
   "source": [
    "Para eliminar datos de un *Árbol B+*, se siguen los siguientes pasos:\n",
    "\n",
    "1. **Comienza desde la raíz:** Empieza desde el nodo raíz y encuentra las claves adyacentes entre las que se encuentra el valor a eliminar.\n",
    "<p>&nbsp;</p>\n",
    "\n",
    "2. **Sigue el puntero adecuado:** Sigue el puntero correspondiente hacia el siguiente nodo en el árbol.\n",
    "<p>&nbsp;</p>\n",
    "\n",
    "3. **Verifica el tipo de nodo:** Si el nodo es una hoja, elimina el valor de ese nodo.\n",
    "<p>&nbsp;</p>\n",
    "\n",
    "4. **Repite si no es una hoja:** Si el nodo no es una hoja, repite el proceso hasta llegar a un nodo hoja.\n",
    "<p>&nbsp;</p>\n",
    "\n",
    "5. **Verifica la capacidad mínima de las hojas:**\n",
    "   - Si el nodo hoja tiene menos claves de las necesarias, únelo con uno de sus nodos hermanos o toma prestada una clave de un hermano.\n",
    "<p>&nbsp;</p>\n",
    "\n",
    "6. **Elimina la raíz si es necesario:**\n",
    "   - Si el nodo raíz solo tiene un hijo, elimina el nodo raíz y convierte al hijo en la nueva raíz."
   ]
  },
  {
   "cell_type": "markdown",
   "id": "d0e1252e",
   "metadata": {},
   "source": [
    "### Ejemplo de eliminación de datos"
   ]
  },
  {
   "cell_type": "markdown",
   "id": "722483d0",
   "metadata": {},
   "source": [
    "***Fuente del ejemplo: [CSci 340: Árboles B+ (cburch.com)](http://www.cburch.com/cs/340/reading/btree/index.html)***\n",
    "\n",
    "Vamos a eliminar 13, 15 y 11 del Árbol B+ previamente construido.\n",
    "\n",
    "<p float=\"center\">\n",
    "  <img src=\"https://github.com/carlosalvarezh/EstructuraDatosAlgoritmos2/blob/main/images/B%2B_tree07.png?raw=true\" width=\"300\" />\n",
    "</p>\n",
    "\n",
    "- ***Eliminar `13`***\n",
    "  - **Paso 1. Identificación del Nodo Hoja:**\n",
    "    - Empezamos en la raíz, que tiene la clave `13`.\n",
    "    - Seguimos el puntero desde la raíz al nodo hoja que contiene `[13, 15]`.\n",
    "\n",
    "  - **Paso 2. Eliminación de `13` en la Hoja:**\n",
    "    - Eliminamos la clave `13` de la hoja, dejando únicamente la clave `15`.\n",
    "    - Ahora, el nodo contiene solo una clave, por lo que requiere reequilibrarse.\n",
    "\n",
    "  - **Paso 3. Redistribución/Fusión:**\n",
    "    - Observamos los nodos vecinos para redistribuir o fusionar claves.\n",
    "    - La redistribución/fusión resulta en una reorganización de las claves entre las hojas, dejando el siguiente orden final:\n",
    "      - `[1, 4]`, `[9, 10]`, `[11, 12]`, `[15, 16]`, y `[20, 25]`.\n",
    "    - La clave `20` se promueve para mantener el balance entre las hojas y asegurar un índice coherente.\n",
    "\n",
    "  - **Paso 4. Actualización de la Raíz:**\n",
    "    - La clave `20` se promueve al nodo padre (la raíz), asegurando una estructura balanceada.\n",
    "\n",
    "<p float=\"center\">\n",
    "  <img src=\"https://github.com/carlosalvarezh/EstructuraDatosAlgoritmos2/blob/main/images/B%2B_tree09.png?raw=true\" width=\"300\" />\n",
    "</p>\n",
    "\n",
    "- ***Eliminar `15`***\n",
    "\n",
    "  - **Paso 1. Identificación del Nodo Hoja:**\n",
    "     - Desde la raíz con la clave `13`, identificamos que `15` está en el rango entre `13` y `20`.\n",
    "     - Seguimos el puntero hacia el nodo hoja que contiene `[15, 16]`.\n",
    "\n",
    "  - **Paso 2. Eliminación de `15`:**\n",
    "     - Eliminamos la clave `15` del nodo hoja.\n",
    "\n",
    "  - **Paso 3. Redistribución/Fusión:**\n",
    "     - La hoja se fusiona con su nodo vecino `[20, 25]`, dando lugar a un nodo combinado con las claves `[16, 20, 25]`.\n",
    "   - `11` se promueve para reemplazar a `13`, creando una nueva raíz.\n",
    "\n",
    "  - **Paso 4. Estructura Final:**\n",
    "     - La nueva raíz contiene la clave `11`, con nodos hijos `[9]` a la izquierda y `[13]` a la derecha.\n",
    "     - Los nodos hoja son `[1, 4]`, `[9, 10]`, `[11, 12]`, y `[16, 20, 25]`.\n",
    "\n",
    "<p float=\"center\">\n",
    "  <img src=\"https://github.com/carlosalvarezh/EstructuraDatosAlgoritmos2/blob/main/images/B%2B_tree10.png?raw=true\" width=\"300\" />\n",
    "</p>\n",
    "\n",
    "- ***Eliminar `1`***\n",
    "\n",
    "  - **Paso 1. Estado Inicial:**\n",
    "    - Después de eliminar `15`, la raíz tiene la clave `11`, con nodos hijos `[9]` y `[13]`.\n",
    "    - Los nodos hoja son `[1, 4]`, `[9, 10]`, `[11, 12]`, y `[16, 20, 25]`.\n",
    "\n",
    "  - **Paso 2. Eliminación de `1`:**\n",
    "    - Desde la raíz `[11]`, seguimos el puntero hacia el nodo hoja izquierdo, `[1, 4]`.\n",
    "    - Eliminamos la clave `1`, dejando solo `4` en ese nodo hoja.\n",
    "\n",
    "  - **Paso 3. Redistribución/Fusión:**\n",
    "    - Para mantener el balance, el nodo hoja `[4]` se redistribuye con el siguiente nodo hoja, `[9, 10]`, para formar un único nodo hoja con las claves `[4, 9, 10]`.\n",
    "    - La estructura final tiene la raíz `[11, 13]`, apuntando a:\n",
    "      - Nodo izquierdo `[9]`, que contiene las hojas `[4, 9, 10]`.\n",
    "      - Nodo derecho `[13]`, que contiene las hojas `[11, 12]` y `[16, 20, 25]`.\n",
    "\n",
    "<p float=\"center\">\n",
    "  <img src=\"https://github.com/carlosalvarezh/EstructuraDatosAlgoritmos2/blob/main/images/B%2B_tree11.png?raw=true\" width=\"250\" />\n",
    "</p>\n"
   ]
  },
  {
   "cell_type": "markdown",
   "id": "5eca23cf",
   "metadata": {},
   "source": []
  }
 ],
 "metadata": {
  "kernelspec": {
   "display_name": "Python 3 (ipykernel)",
   "language": "python",
   "name": "python3"
  },
  "language_info": {
   "codemirror_mode": {
    "name": "ipython",
    "version": 3
   },
   "file_extension": ".py",
   "mimetype": "text/x-python",
   "name": "python",
   "nbconvert_exporter": "python",
   "pygments_lexer": "ipython3",
   "version": "3.11.8"
  },
  "toc": {
   "base_numbering": 1,
   "nav_menu": {},
   "number_sections": true,
   "sideBar": true,
   "skip_h1_title": true,
   "title_cell": "Table of Contents",
   "title_sidebar": "Contents",
   "toc_cell": false,
   "toc_position": {
    "height": "calc(100% - 180px)",
    "left": "10px",
    "top": "150px",
    "width": "219.429px"
   },
   "toc_section_display": true,
   "toc_window_display": false
  }
 },
 "nbformat": 4,
 "nbformat_minor": 5
}
