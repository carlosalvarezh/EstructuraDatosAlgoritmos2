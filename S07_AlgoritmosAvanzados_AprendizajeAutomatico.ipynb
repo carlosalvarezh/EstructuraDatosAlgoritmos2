{
 "cells": [
  {
   "cell_type": "markdown",
   "id": "d9d8cb7b",
   "metadata": {},
   "source": [
    "<h1 align=\"center\">Estructura de Datos y Algoritmos II</h1>\n",
    "<h1 align=\"center\">Algoritmos Avanzados</h1>\n",
    "<h1 align=\"center\">Aprendizaje Automático</h1>\n",
    "<h1 align=\"center\">2024</h1>\n",
    "<h1 align=\"center\">MEDELLÍN - COLOMBIA </h1>"
   ]
  },
  {
   "cell_type": "markdown",
   "id": "bdcff06a",
   "metadata": {},
   "source": [
    "*** \n",
    "|[![Outlook](https://img.shields.io/badge/Microsoft_Outlook-0078D4?style=plastic&logo=microsoft-outlook&logoColor=white)](mailto:calvar52@eafit.edu.co)||[![Open In Colab](https://colab.research.google.com/assets/colab-badge.svg)](https://colab.research.google.com/github/carlosalvarezh/EstructuraDatosAlgoritmos2/blob/main/S07_AlgoritmosAvanzados_AprendizajeAutomatico.ipynb)\n",
    "|-:|:-|--:|\n",
    "|[![LinkedIn](https://img.shields.io/badge/linkedin-%230077B5.svg?style=plastic&logo=linkedin&logoColor=white)](https://www.linkedin.com/in/carlosalvarez5/)|[![@alvarezhenao](https://img.shields.io/twitter/url/https/twitter.com/alvarezhenao.svg?style=social&label=Follow%20%40alvarezhenao)](https://twitter.com/alvarezhenao)|[![@carlosalvarezh](https://img.shields.io/badge/github-%23121011.svg?style=plastic&logo=github&logoColor=white)](https://github.com/carlosalvarezh)|\n",
    "\n",
    "<table>\n",
    " <tr align=left><td><img align=left src=\"https://github.com/carlosalvarezh/Curso_CEC_EAFIT/blob/main/images/CCLogoColorPop1.gif?raw=true\" width=\"25\">\n",
    " <td>Text provided under a Creative Commons Attribution license, CC-BY. All code is made available under the FSF-approved MIT license.(c) Carlos Alberto Alvarez Henao</td>\n",
    "</table>\n",
    "\n",
    "***"
   ]
  },
  {
   "cell_type": "markdown",
   "id": "e753a690",
   "metadata": {},
   "source": [
    "## Introducción al Aprendizaje Automático"
   ]
  },
  {
   "cell_type": "markdown",
   "id": "9f625a0f",
   "metadata": {},
   "source": [
    "<p float=\"center\">\n",
    "  <img src=\"https://github.com/carlosalvarezh/EstructuraDatosAlgoritmos2/blob/main/images/ML01.png?raw=true\" width=\"350\" />\n",
    "</p>"
   ]
  },
  {
   "cell_type": "markdown",
   "id": "f3079cad",
   "metadata": {},
   "source": [
    "### Inteligencia Artificial"
   ]
  },
  {
   "cell_type": "markdown",
   "id": "583267d6",
   "metadata": {},
   "source": [
    "> *\"Uso de máquinas y algoritmos para imitar las capacidades de resolución de problemas y  toma de decisiones de la inteligencia humana\"*\n",
    "\n",
    "<p float=\"center\">\n",
    "  <img src=\"https://github.com/carlosalvarezh/EstructuraDatosAlgoritmos2/blob/main/images/ML03.png?raw=true\" width=\"500\" />\n",
    "</p>\n",
    "\n",
    "La [inteligencia artificial](https://en.wikipedia.org/wiki/Artificial_intelligence) (IA) es una *tecnología que permite a las computadoras y máquinas simular la inteligencia y la capacidad de resolución de problemas humanos*. Esta puede operar sola o en combinación con otras tecnologías (como sensores, geolocalización, robótica) para realizar tareas que normalmente requerirían de la inteligencia o intervención humana. Ejemplos de su aplicación en la vida cotidiana incluyen asistentes digitales, sistemas de navegación GPS, vehículos autónomos y herramientas de IA generativa, como ChatGPT de OpenAI.\n",
    "\n",
    "Como campo de la informática, la inteligencia artificial abarca, y a menudo se menciona junto con, el [aprendizaje automático](https://en.wikipedia.org/wiki/Machine_learning) y el [aprendizaje profundo](https://en.wikipedia.org/wiki/Deep_learning). Estas disciplinas implican el desarrollo de algoritmos de IA que, modelados a partir de los procesos de toma de decisiones del cerebro humano, pueden \"aprender\" de los datos disponibles y realizar clasificaciones o predicciones cada vez más precisas con el tiempo.\n",
    "\n",
    "La IA ha experimentado muchos ciclos de exageración, pero el lanzamiento de herramientas como ChatGPT marca un punto de inflexión, especialmente en el procesamiento del lenguaje natural (NLP). La IA generativa de hoy puede aprender y sintetizar no solo el lenguaje humano, sino también otros tipos de datos, como imágenes, videos, código de software e incluso estructuras moleculares. Sin embargo, a medida que aumenta la popularidad de las herramientas de IA en los negocios, también se vuelve crítico abordar cuestiones de ética y responsabilidad en la IA."
   ]
  },
  {
   "cell_type": "markdown",
   "id": "04902698",
   "metadata": {},
   "source": [
    "### IA a través del tiempo"
   ]
  },
  {
   "cell_type": "markdown",
   "id": "1e5465a6",
   "metadata": {},
   "source": [
    "<p float=\"center\">\n",
    "  <img src=\"https://github.com/carlosalvarezh/EstructuraDatosAlgoritmos2/blob/main/images/ML02.png?raw=true\" width=\"500\" />\n",
    "</p>"
   ]
  },
  {
   "cell_type": "markdown",
   "id": "a6a6295b",
   "metadata": {},
   "source": [
    "### ¿Pueden pensar las máquinas?"
   ]
  },
  {
   "cell_type": "code",
   "execution_count": 4,
   "id": "3a3324ba",
   "metadata": {
    "scrolled": true
   },
   "outputs": [
    {
     "data": {
      "text/html": [
       "<iframe width=\"560\" height=\"315\" src=\"https://www.youtube.com/embed/Vs7Lo5MKIws?si=nAs8LebzJl3ETa05\" \n",
       "</iframe>\n"
      ],
      "text/plain": [
       "<IPython.core.display.HTML object>"
      ]
     },
     "metadata": {},
     "output_type": "display_data"
    }
   ],
   "source": [
    "%%HTML\n",
    "<iframe width=\"560\" height=\"315\" src=\"https://www.youtube.com/embed/Vs7Lo5MKIws?si=nAs8LebzJl3ETa05\" \n",
    "</iframe>"
   ]
  },
  {
   "cell_type": "markdown",
   "id": "7b0bb1fc",
   "metadata": {},
   "source": [
    "### Tipos de IA's"
   ]
  },
  {
   "cell_type": "markdown",
   "id": "3c04698c",
   "metadata": {},
   "source": [
    "#### IA Débil "
   ]
  },
  {
   "cell_type": "markdown",
   "id": "f28e2fcf",
   "metadata": {},
   "source": [
    "La [IA débil](https://en.wikipedia.org/wiki/Weak_artificial_intelligence), también conocida como *IA estrecha* (*Narrow AI*) o inteligencia artificial estrecha (*ANI*), es una *IA* entrenada y enfocada para realizar tareas específicas y limitadas, o tienen conciencia de sí mismos y no pueden tomar decisiones autónomas fuera de su área de especialización. La *IA débil* impulsa la mayor parte de la *IA* que nos rodea hoy. Actualmente permite algunas aplicaciones muy sólidas, como Chatbots, Sistemas de recomendaciónm, Visión por computadora, Programa de ajedrez, Reconocimiento de voz, entre muchos otros aplicativos del día a día."
   ]
  },
  {
   "cell_type": "markdown",
   "id": "bcfdabd6",
   "metadata": {},
   "source": [
    "#### IA Fuerte"
   ]
  },
  {
   "cell_type": "markdown",
   "id": "5e70841d",
   "metadata": {},
   "source": [
    "La [IA fuerte](https://en.wikipedia.org/wiki/Strong_AI) se compone de [inteligencia artificial general (AGI)](https://en.wikipedia.org/wiki/Artificial_general_intelligence) y [superinteligencia artificial (ASI)](https://en.wikipedia.org/wiki/Superintelligence). *AGI*, o *IA general,* es una forma teórica de *IA* en la que una máquina tendría una inteligencia igual a la de los humanos; sería consciente de sí mismo y tendría una conciencia que tendría la capacidad de resolver problemas, aprender y planificar el futuro. La *ASI*, también conocida como *superinteligencia*, superaría la inteligencia y la capacidad del cerebro humano. Si bien la *IA fuerte* sigue siendo completamente teórica y no hay ejemplos prácticos en uso hoy en día, eso no significa que los investigadores de *IA* no estén explorando también su desarrollo. Mientras tanto, los mejores ejemplos de *ASI* podrían ser de ciencia ficción, como *HAL*, el asistente informático sobrehumano y rebelde en  [*2001: Una odisea en el espacio*](https://es.wikipedia.org/wiki/2001:_A_Space_Odyssey_(pel%C3%ADcula)).\n",
    "\n",
    "<p float=\"center\">\n",
    "  <img src=\"https://github.com/carlosalvarezh/EstructuraDatosAlgoritmos2/blob/main/images/StrongAI.PNG?raw=true\" width=\"500\" />\n",
    "</p>"
   ]
  },
  {
   "cell_type": "markdown",
   "id": "6bf76015",
   "metadata": {},
   "source": [
    "#### IA Fuerte vs Débil"
   ]
  },
  {
   "cell_type": "markdown",
   "id": "be4e6ffd",
   "metadata": {},
   "source": [
    "La siguiente tabla ofrece una comparación clara y concisa entre la IA débil y la IA fuerte, destacando sus diferencias fundamentales en términos de definición, capacidades, aprendizaje, conciencia, adaptabilidad y ejemplos.\n",
    "\n",
    "| Aspecto           | IA Débil     | IA Fuerte               |\n",
    "|-------------------|--------------|-------------------------|\n",
    "| **Definición**    | Inteligencia artificial diseñada para tareas específicas, con un enfoque y alcance limitado. | Inteligencia artificial con una capacidad de inteligencia generalizada, similar a la cognición humana. |\n",
    "| **Capacidades**   | Excelente en tareas especializadas como procesamiento de lenguaje e identificación de imágenes. | Teóricamente, puede realizar cualquier tarea intelectual que un ser humano pueda realizar. |\n",
    "| **Aprendizaje**   | Aprende de conjuntos de datos específicos; sus mejoras se limitan al ámbito para el que fue programado. | Capaz de aprender de manera autónoma y transferir conocimientos a través de distintos dominios. |\n",
    "| **Conciencia**    | No posee autoconciencia y funciona según algoritmos programados. | Podría llegar a tener autoconciencia y comprensión propia. |\n",
    "| **Adaptabilidad** | Su adaptabilidad es limitada y no puede superar su función específica. | Muy adaptable, capaz de afrontar situaciones y tareas nuevas o imprevistas. |\n",
    "| **Ejemplos**      | Asistentes virtuales como Siri y Alexa, algoritmos de recomendación, chatbots. | Una hipotética IA fuerte podría involucrarse en solución de problemas complejos, mostrar creatividad y tener inteligencia emocional. |"
   ]
  },
  {
   "cell_type": "markdown",
   "id": "294a3f4a",
   "metadata": {},
   "source": [
    "#### LLM's vs Modelos generativos"
   ]
  },
  {
   "cell_type": "markdown",
   "id": "9611bb0b",
   "metadata": {},
   "source": [
    "<p float=\"center\">\n",
    "  <img src=\"https://github.com/carlosalvarezh/EstructuraDatosAlgoritmos2/blob/main/images/LLMS01.webp?raw=true\" width=\"500\" />\n",
    "</p>\n",
    "\n",
    "Los [*Modelos de Lenguaje de Gran Escala*](https://en.wikipedia.org/wiki/Large_language_model) (*LLMs*, por sus siglas en inglés) y los [Modelos Generativos](https://en.wikipedia.org/wiki/Generative_artificial_intelligence) son dos conceptos dentro del campo de la inteligencia artificial, pero se enfocan en aspectos diferentes y tienen distintas aplicaciones:\n",
    "\n",
    "***Modelos de Lenguaje de Gran Escala (LLMs)***\n",
    "\n",
    "- **Enfoque**: Los LLMs están especializados en el procesamiento y generación de lenguaje natural. Utilizan grandes cantidades de texto para aprender a comprender, interpretar y generar lenguaje humano de manera coherente y contextual.\n",
    "\n",
    "- **Funcionamiento**: Se basan en arquitecturas de redes neuronales como los Transformers, que les permiten captar y generar secuencias de texto largas y complejas.\n",
    "\n",
    "- **Aplicaciones**: Están diseñados para tareas como la traducción automática, la generación de texto, el resumen de documentos, la respuesta a preguntas y la conversación interactiva.\n",
    "\n",
    "- **Ejemplos**: GPT-3 de OpenAI es un ejemplo prominente de un LLM.\n",
    "\n",
    "\n",
    "***Modelos Generativos***\n",
    "\n",
    "<p float=\"center\">\n",
    "  <img src=\"https://github.com/carlosalvarezh/EstructuraDatosAlgoritmos2/blob/main/images/GenerativeModels.webp?raw=true\" width=\"350\" />\n",
    "</p>\n",
    "\n",
    "- **Enfoque**: Los Modelos Generativos están diseñados para aprender la distribución de los datos de entrada y generar nuevos datos que sean similares. No están limitados solo al texto; también pueden trabajar con imágenes, música, voz, etc.\n",
    "\n",
    "- **Funcionamiento**: Utilizan técnicas como Redes Generativas Antagónicas (GANs) y Autoencoders Variacionales (VAEs) para aprender a generar nuevos datos que sean indistinguibles de los reales.\n",
    "\n",
    "- **Aplicaciones**: Se usan en la creación de arte y música, diseño de videojuegos, generación de imágenes realistas, síntesis de voz, entre otros.\n",
    "\n",
    "- **Ejemplos**: DeepFake y ThisPersonDoesNotExist.com son ejemplos de aplicaciones basadas en GANs, un tipo de Modelo Generativo.\n",
    "\n",
    "***Diferencias Clave***\n",
    "\n",
    "- **Tipo de Datos**: Los LLMs se centran específicamente en el lenguaje, mientras que los Modelos Generativos pueden trabajar con una variedad más amplia de tipos de datos.\n",
    "\n",
    "- **Objetivo**: Los LLMs están orientados a tareas de comprensión y generación de lenguaje, mientras que los Modelos Generativos buscan crear nuevas instancias de datos que sean realistas y coherentes con los datos de entrenamiento.\n",
    "\n",
    "- **Tecnología Subyacente**: Aunque ambos pueden usar redes neuronales, los LLMs a menudo se basan en arquitecturas como Transformers, mientras que los Modelos Generativos pueden utilizar GANs, VAEs, entre otros.\n",
    "\n",
    "En resumen, aunque ambos son \"generativos\" en el sentido de que crean nuevo contenido, los LLMs están especializados en el lenguaje y los Modelos Generativos tienen un alcance más amplio en términos de tipos de datos y aplicaciones."
   ]
  },
  {
   "cell_type": "markdown",
   "id": "a1f96767",
   "metadata": {},
   "source": [
    "#### ¿LLM's como IA's Fuertes?"
   ]
  },
  {
   "cell_type": "markdown",
   "id": "9b8f5917",
   "metadata": {},
   "source": [
    "Los [Modelos de Lenguaje de Gran Escala (*LLMs*)](https://en.wikipedia.org/wiki/Large_language_model), como ChatGPT, se clasifican dentro de la categoría de *IA Débil* o *Estrecha* (*Narrow AI*). Esto se debe a varias características clave que los diferencian de lo que sería una IA Fuerte:\n",
    "\n",
    "1. **Especialización en Tareas de Procesamiento de Lenguaje**: Los *LLMs* están diseñados y optimizados para tareas específicas relacionadas con el lenguaje, como la generación de texto, la traducción, y la interacción en conversaciones. No tienen la capacidad de realizar tareas fuera de este ámbito ni de aplicar su inteligencia a problemas generales.\n",
    "<p>&nbsp;</p>\n",
    "\n",
    "2. **Ausencia de Conciencia y Comprensión General**: A diferencia de una *IA Fuerte*, los *LLMs* carecen de autoconciencia, comprensión general del mundo y la capacidad de experimentar emociones o subjetividad. Su funcionamiento se basa en algoritmos y datos, sin un sentido de sí mismos o del entorno.\n",
    "<p>&nbsp;</p>\n",
    "\n",
    "3. **Aprendizaje Limitado y Estático**: Aunque los *LLMs* aprenden de vastos conjuntos de datos durante su entrenamiento, este aprendizaje es fijo y no continúa de manera autónoma una vez que se despliegan. No tienen la capacidad de aprender de forma autónoma ni de adaptar su comportamiento en función de experiencias nuevas o interacciones individuales.\n",
    "<p>&nbsp;</p>\n",
    "\n",
    "4. **Capacidad de Generalización Limitada**: Los *LLMs* pueden manejar una amplia gama de temas dentro de su especialización en lenguaje, pero su capacidad para generalizar y aplicar conocimientos de manera análoga a un ser humano es limitada. Están confinados a los límites de los datos y algoritmos que los forman.\n",
    "\n",
    "En cuanto a la posibilidad de que un *LLM* evolucione hasta convertirse en una *IA Fuerte*, actualmente se considera improbable dentro del paradigma existente. Los *LLMs* están fundamentalmente diseñados para procesar y generar lenguaje, no para emular la cognición humana en su totalidad. Alcanzar el nivel de una *IA Fuerte* probablemente requeriría un enfoque y una arquitectura completamente diferentes, con un avance significativo en la comprensión y modelado de la conciencia, el razonamiento general, y la cognición autónoma, aspectos que van mucho más allá del procesamiento del lenguaje y la generación de texto."
   ]
  },
  {
   "cell_type": "markdown",
   "id": "e833538f",
   "metadata": {},
   "source": [
    "## Aprendizaje Automático"
   ]
  },
  {
   "cell_type": "markdown",
   "id": "1657b766",
   "metadata": {},
   "source": [
    "> *\"Técnica del campo de la IA que permite a las computadoras aprender y mejorar en base a la experiencia, sin necesidad de ser programadas explícitamente para realizar una tarea en particular.\"*\n",
    "\n",
    "El Aprendizaje Automático ([Machine Learning, ML](https://en.wikipedia.org/wiki/Machine_learning)) es una rama de la inteligencia artificial que se centra en el desarrollo de sistemas capaces de aprender y mejorar a partir de la experiencia sin ser explícitamente programados. Utiliza algoritmos que analizan y reconocen patrones en los datos, permitiendo a las máquinas realizar predicciones o tomar decisiones basadas en información histórica.\n",
    "\n",
    "- Se basa en algoritmos que permiten a las computadoras aprender a partir de datos y realizar predicciones o tomar decisiones en función de lo que han aprendido.  \n",
    "<p>&nbsp;</p>\n",
    "\n",
    "- Utiliza en una variedad de aplicaciones, desde el procesamiento del lenguaje natural hasta el análisis de imágenes y la detección de fraudes."
   ]
  },
  {
   "cell_type": "markdown",
   "id": "d51b78c4",
   "metadata": {},
   "source": [
    "### Tipos de Aprendizaje Automático"
   ]
  },
  {
   "cell_type": "markdown",
   "id": "ad38f7f9",
   "metadata": {},
   "source": [
    "<p float=\"center\">\n",
    "  <img src=\"https://github.com/carlosalvarezh/EstructuraDatosAlgoritmos2/blob/main/images/ML04.png?raw=true\" width=\"500\" />\n",
    "</p>\n",
    "\n",
    "- ***Aprendizaje Supervisado:*** Involucra modelos que aprenden a partir de un conjunto de datos etiquetados. El objetivo es aprender una función que mapee las entradas a salidas deseadas. Ejemplos incluyen clasificación (e.g., distinguir entre correos electrónicos spam y no spam) y regresión (e.g., predecir precios de viviendas).\n",
    "<p>&nbsp;</p>\n",
    "\n",
    "- ***Aprendizaje No Supervisado:*** Se usa con datos que no están etiquetados. El sistema intenta aprender la estructura de los datos sin ninguna etiqueta, a menudo a través de la identificación de patrones. Ejemplos comunes son el clustering (e.g., segmentación de clientes) y la reducción de dimensionalidad.\n",
    "<p>&nbsp;</p>\n",
    "\n",
    "- ***Aprendizaje Semi-supervisado:*** Combina ambos métodos anteriores. Utiliza una pequeña cantidad de datos etiquetados y una gran cantidad de datos no etiquetados. Es útil cuando las etiquetas son costosas de obtener.\n",
    "<p>&nbsp;</p>\n",
    "\n",
    "- ***Aprendizaje por Refuerzo:*** En este tipo, los algoritmos aprenden a tomar decisiones realizando acciones en un entorno para maximizar alguna noción de recompensa acumulativa. Ejemplos incluyen juegos (e.g., ajedrez, Go) y navegación de robots."
   ]
  },
  {
   "cell_type": "markdown",
   "id": "7d9fde28",
   "metadata": {},
   "source": [
    "#### Aprendizaje Supervisado"
   ]
  },
  {
   "cell_type": "markdown",
   "id": "1b1380af",
   "metadata": {},
   "source": [
    "<p float=\"center\">\n",
    "  <img src=\"https://github.com/carlosalvarezh/EstructuraDatosAlgoritmos2/blob/main/images/SupervisedLearning00.png?raw=true\" width=\"350\" />\n",
    "</p>"
   ]
  },
  {
   "cell_type": "markdown",
   "id": "9a61ff2c",
   "metadata": {},
   "source": [
    "##### Definición"
   ]
  },
  {
   "cell_type": "markdown",
   "id": "fdb0a14a",
   "metadata": {},
   "source": [
    "Involucra modelos que aprenden a partir de un conjunto de datos etiquetados. Cada ejemplo en el conjunto de datos consiste en un conjunto de entradas (características) y una salida deseada (etiqueta). El objetivo es aprender una función que, dada una nueva entrada, pueda predecir la salida correspondiente con alta precisión.\n",
    "\n",
    "<p float=\"center\">\n",
    "  <img src=\"https://github.com/carlosalvarezh/EstructuraDatosAlgoritmos2/blob/main/images/SupervisedLearning02.png?raw=true\" width=\"500\" />\n",
    "</p>"
   ]
  },
  {
   "cell_type": "markdown",
   "id": "ca9faca9",
   "metadata": {},
   "source": [
    "##### Tipos de Tareas en Aprendizaje Supervisado"
   ]
  },
  {
   "cell_type": "markdown",
   "id": "df27aab8",
   "metadata": {},
   "source": [
    "- ***Clasificación:*** La tarea de predecir una etiqueta categórica. Ejemplos comunes incluyen identificación de correo spam (spam o no spam) y diagnóstico médico (enfermo o saludable).\n",
    "<p>&nbsp;</p>\n",
    "\n",
    "<p float=\"center\">\n",
    "  <img src=\"https://github.com/carlosalvarezh/EstructuraDatosAlgoritmos2/blob/main/images/Classification00.jpg?raw=true\" width=\"500\" />\n",
    "</p>\n",
    "\n",
    "- ***Regresión:*** Implica predecir una cantidad continua. Ejemplos incluyen la predicción de precios de viviendas o la temperatura futura.\n",
    "\n",
    "<p float=\"center\">\n",
    "  <img src=\"https://github.com/carlosalvarezh/EstructuraDatosAlgoritmos2/blob/main/images/Regression00.webp?raw=true\" width=\"350\" />\n",
    "</p>\n"
   ]
  },
  {
   "cell_type": "markdown",
   "id": "394881d1",
   "metadata": {},
   "source": [
    "#### Aprendizaje No Supervisado"
   ]
  },
  {
   "cell_type": "markdown",
   "id": "6ff126fe",
   "metadata": {},
   "source": [
    "<p float=\"center\">\n",
    "  <img src=\"https://github.com/carlosalvarezh/EstructuraDatosAlgoritmos2/blob/main/images/UnsupervisedLearning00.png?raw=true\" width=\"350\" />\n",
    "</p>"
   ]
  },
  {
   "cell_type": "markdown",
   "id": "d5d68d87",
   "metadata": {},
   "source": [
    "##### Definición"
   ]
  },
  {
   "cell_type": "markdown",
   "id": "579925da",
   "metadata": {},
   "source": [
    "El [Aprendizaje No Supervisado](https://en.wikipedia.org/wiki/Unsupervised_learning) se usa con datos que no están etiquetados. El sistema intenta aprender la estructura de los datos sin ninguna etiqueta, a menudo a través de la identificación de patrones. Ejemplos comunes son el clustering (e.g., segmentación de clientes) y la reducción de dimensionalidad.\n",
    "\n",
    "<p float=\"center\">\n",
    "  <img src=\"https://github.com/carlosalvarezh/EstructuraDatosAlgoritmos2/blob/main/images/UnsupervisedLearning01.png?raw=true\" width=\"750\" />\n",
    "</p>"
   ]
  },
  {
   "cell_type": "markdown",
   "id": "13a85234",
   "metadata": {},
   "source": [
    "##### Tipos de Tareas en Aprendizaje No Supervisado"
   ]
  },
  {
   "cell_type": "markdown",
   "id": "9b5079ab",
   "metadata": {},
   "source": [
    "El aprendizaje no supervisado es una rama del aprendizaje automático que se enfoca en identificar patrones y estructuras en los datos sin etiquetas previas. A diferencia del aprendizaje supervisado, donde los modelos se entrenan con datos etiquetados, el aprendizaje no supervisado trabaja con datos que no tienen etiquetas, lo que significa que el sistema intenta aprender las estructuras y patrones inherentes de los datos por sí mismo. Las principales actividades que se desarrollan en el aprendizaje no supervisado son:\n",
    "\n",
    "- **Clustering o Agrupamiento**: \n",
    "   - **Propósito**: Identificar grupos o conglomerados de datos en los que los elementos dentro de cada grupo son más similares entre sí en comparación con los de otros grupos.\n",
    "   - **Aplicaciones**: Segmentación de mercado, análisis de redes sociales, agrupación genética, organización de grandes bibliotecas de documentos, etc.\n",
    "   - **Ejemplos de Algoritmos**: K-Means, Clustering Jerárquico, DBSCAN.\n",
    "<p>&nbsp;</p>\n",
    "\n",
    "- **Reducción de Dimensionalidad**:\n",
    "   - **Propósito**: Reducir el número de variables aleatorias bajo consideración, obteniendo un conjunto de variables principales.\n",
    "   - **Aplicaciones**: Visualización de datos, preprocesamiento de datos para algoritmos de aprendizaje supervisado, compresión de datos.\n",
    "   - **Ejemplos de Algoritmos**: Análisis de Componentes Principales (PCA), t-SNE, Autoencoders.\n",
    "<p>&nbsp;</p>\n",
    "\n",
    "- **Detección de Anomalías**:\n",
    "   - **Propósito**: Identificar patrones inusuales o atípicos en los datos que no se ajustan al comportamiento esperado.\n",
    "   - **Aplicaciones**: Detección de fraudes, monitorización de sistemas, mantenimiento predictivo, detección de intrusiones en redes.\n",
    "   - **Ejemplos de Algoritmos**: Isolation Forest, DBSCAN, One-Class SVM.\n",
    "<p>&nbsp;</p>\n",
    "\n",
    "- **Asociación de Reglas**:\n",
    "   - **Propósito**: Descubrir relaciones interesantes entre variables en grandes bases de datos.\n",
    "   - **Aplicaciones**: Análisis de mercado y cesta de la compra, análisis de la web, bioinformática.\n",
    "   - **Ejemplos de Algoritmos**: Algoritmo Apriori, Algoritmo Eclat, Algoritmo FP-Growth.\n",
    "<p>&nbsp;</p>\n",
    "\n",
    "- **Modelos Generativos**:\n",
    "   - **Propósito**: Generar nuevos datos que se parecen a los datos de entrenamiento, o modelar la distribución de los datos.\n",
    "   - **Aplicaciones**: Generación de imágenes, texto y audio; modelado de distribuciones de datos.\n",
    "   - **Ejemplos de Algoritmos**: Redes Generativas Antagónicas (GANs), Modelos de Boltzmann.\n",
    "\n",
    "El aprendizaje no supervisado es fundamental para entender la estructura subyacente y las características intrínsecas de los datos, especialmente útil en situaciones donde no se dispone de datos etiquetados o cuando se desea explorar los datos para encontrar patrones no conocidos previamente."
   ]
  },
  {
   "cell_type": "markdown",
   "id": "5a6b944d",
   "metadata": {},
   "source": [
    "### Proceso de Aprendizaje Automático"
   ]
  },
  {
   "cell_type": "markdown",
   "id": "7a939b0e",
   "metadata": {},
   "source": [
    "El proceso de aprendizaje automático implica una serie de pasos sistemáticos y estructurados. A continuación, se presenta un paso a paso detallado para llevar a cabo un proyecto de aprendizaje automático:\n",
    "\n",
    "***1. Definición del Problema***\n",
    "   - **Comprender el Problema**: Identificar y definir claramente el problema que se va a resolver.\n",
    "   - **Establecer Objetivos**: Determinar los objetivos y resultados esperados del proyecto.\n",
    "\n",
    "***2. Recolección de Datos***\n",
    "   - **Identificar Fuentes de Datos**: Determinar de dónde y cómo se obtendrán los datos necesarios.\n",
    "   - **Recolección de Datos**: Recopilar datos a través de bases de datos, APIs, sensores, encuestas, etc.\n",
    "\n",
    "***3. Preprocesamiento de Datos***\n",
    "   - **Limpieza de Datos**: Tratar valores faltantes, eliminar duplicados, y corregir errores.\n",
    "   - **Exploración de Datos**: Realizar un análisis exploratorio para entender las características de los datos.\n",
    "   - **Transformación de Datos**: Normalización, escalado, codificación de variables categóricas, etc.\n",
    "\n",
    "***4. Análisis Exploratorio de Datos (EDA)***\n",
    "   - **Visualización de Datos**: Utilizar gráficos y visualizaciones para entender mejor los datos.\n",
    "   - **Análisis Estadístico**: Aplicar técnicas estadísticas para extraer patrones y tendencias.\n",
    "\n",
    "***5. Selección y Transformación de Características***\n",
    "   - **Ingeniería de Características**: Crear nuevas características que puedan mejorar el modelo.\n",
    "   - **Selección de Características**: Elegir las características más relevantes para el modelo.\n",
    "\n",
    "***6. División de Datos***\n",
    "   - **Conjuntos de Entrenamiento y Prueba**: Dividir los datos en conjuntos de entrenamiento y prueba.\n",
    "   - **Validación Cruzada**: Implementar validación cruzada para una mejor evaluación del modelo.\n",
    "\n",
    "***7. Elección del Modelo de Aprendizaje Automático***\n",
    "   - **Seleccionar Algoritmos**: Escoger algoritmos adecuados para el problema (regresión, clasificación, clustering, etc.).\n",
    "   - **Construcción de Modelos**: Construir modelos iniciales con los algoritmos seleccionados.\n",
    "\n",
    "***8. Entrenamiento del Modelo***\n",
    "   - **Ajuste de Parámetros**: Optimizar hiperparámetros para mejorar el rendimiento del modelo.\n",
    "   - **Entrenamiento**: Entrenar el modelo con el conjunto de datos de entrenamiento.\n",
    "\n",
    "***9. Evaluación del Modelo***\n",
    "   - **Pruebas del Modelo**: Evaluar el modelo utilizando el conjunto de datos de prueba.\n",
    "   - **Métricas de Rendimiento**: Usar métricas adecuadas (precisión, recall, F1-score, MSE, etc.) para evaluar el modelo.\n",
    "\n",
    "***10. Ajuste y Optimización***\n",
    "   - **Afinar el Modelo**: Realizar ajustes en el modelo o en la selección de características para mejorar el rendimiento.\n",
    "   - **Re-entrenamiento**: Volver a entrenar el modelo con ajustes realizados.\n",
    "\n",
    "***11. Despliegue del Modelo***\n",
    "   - **Integración del Modelo**: Integrar el modelo en el entorno de producción o en la aplicación final.\n",
    "   - **Monitoreo y Mantenimiento**: Monitorear el rendimiento del modelo en tiempo real y realizar mantenimiento cuando sea necesario.\n",
    "\n",
    "***12. Retroalimentación y Actualización Continua***\n",
    "   - **Recopilar Retroalimentación**: Obtener retroalimentación del desempeño del modelo en el mundo real.\n",
    "   - **Actualización del Modelo**: Actualizar y mejorar el modelo con nuevos datos y feedback recibido.\n",
    "\n",
    "Este proceso es iterativo y puede requerir volver a ciertos pasos y ajustarlos en función de los resultados obtenidos y las necesidades del proyecto. La clave del éxito en el aprendizaje automático es la adaptación continua y el aprendizaje a partir de los datos y experiencias adquiridas."
   ]
  },
  {
   "cell_type": "markdown",
   "id": "ee4826f5",
   "metadata": {},
   "source": [
    "### Habilidades a desarrollar para tener éxito en ML "
   ]
  },
  {
   "cell_type": "markdown",
   "id": "26411b45",
   "metadata": {},
   "source": [
    "Para incursionar con éxito en el campo del Machine Learning (ML), es importante desarrollar una combinación de habilidades técnicas, teóricas y prácticas. Aquí hay una lista de habilidades esenciales y recomendaciones para alguien interesado en el ML:\n",
    "\n",
    "***Habilidades Técnicas***\n",
    "\n",
    "1. **Programación**: Conocimiento sólido en lenguajes de programación utilizados en ML, como Python o R. Familiaridad con bibliotecas y frameworks como TensorFlow, PyTorch, Scikit-learn, y Pandas es crucial.\n",
    "\n",
    "2. **Matemáticas y Estadística**: Comprensión de conceptos de álgebra lineal, cálculo, estadística y probabilidad, fundamentales para entender los algoritmos de ML.\n",
    "\n",
    "3. **Análisis de Datos**: Habilidad para preprocesar, limpiar y analizar grandes conjuntos de datos, lo que incluye manejo de datos faltantes, normalización, y exploración de datos.\n",
    "\n",
    "4. **Machine Learning**: Conocimiento de los principios básicos y algoritmos de ML, incluyendo aprendizaje supervisado, no supervisado, y reforzado.\n",
    "\n",
    "5. **Deep Learning**: Para aquellos interesados en campos avanzados, conocimientos en redes neuronales y deep learning son importantes.\n",
    "\n",
    "***Habilidades Teóricas***\n",
    "\n",
    "1. **Fundamentos de ML**: Entender los fundamentos teóricos detrás de los modelos y algoritmos, cómo y por qué funcionan.\n",
    "\n",
    "2. **Modelado y Evaluación**: Aprender a construir modelos, ajustar hiperparámetros y evaluar su rendimiento de manera efectiva.\n",
    "\n",
    "3. **Conocimiento del Dominio**: Entender el contexto y el dominio de aplicación para el que se desarrolla el modelo, lo cual es clave para elegir y ajustar los modelos adecuadamente.\n",
    "\n",
    "***Habilidades Prácticas y de Resolución de Problemas***\n",
    "\n",
    "1. **Proyectos Prácticos**: Realizar proyectos reales o simulados para aplicar los conocimientos teóricos y técnicos en problemas prácticos.\n",
    "\n",
    "2. **Pensamiento Crítico y Resolución de Problemas**: Habilidad para abordar problemas complejos, desglosarlos en partes manejables y aplicar soluciones de ML de forma creativa.\n",
    "\n",
    "3. **Trabajo en Equipo y Comunicación**: Capacidad para trabajar en equipos interdisciplinarios y comunicar efectivamente hallazgos técnicos a audiencias no técnicas.\n",
    "\n",
    "***Habilidades Complementarias***\n",
    "\n",
    "1. **Curiosidad y Aprendizaje Continuo**: El campo del ML está en constante evolución, por lo que la curiosidad y el deseo de aprender constantemente son esenciales.\n",
    "\n",
    "2. **Ética y Responsabilidad**: Comprensión de las implicaciones éticas del ML y desarrollo de modelos responsables y justos.\n",
    "\n",
    "3. **Gestión de Proyectos y Negocios**: Habilidades para gestionar proyectos, entender requerimientos de negocio y traducirlos en soluciones de ML.\n",
    "\n",
    "***Recursos para Desarrollar Estas Habilidades***\n",
    "\n",
    "- **Cursos en Línea y Certificaciones**: Plataformas como Coursera, edX, y Udacity ofrecen cursos y especializaciones en ML y Data Science.\n",
    "- **Libros y Publicaciones Académicas**: Leer libros y artículos de investigación para profundizar en teorías y técnicas avanzadas.\n",
    "- **Comunidades y Networking**: Participar en comunidades en línea, hackathons, y conferencias para mantenerse actualizado y conectar con profesionales del campo.\n",
    "\n",
    "Ingresar al mundo del ML requiere dedicación y un enfoque en el desarrollo continuo de habilidades. Comenzar con fundamentos sólidos y construir gradualmente experiencia práctica y teórica es clave para el éxito en esta área."
   ]
  },
  {
   "cell_type": "markdown",
   "id": "bcada5b7",
   "metadata": {},
   "source": [
    "### Recursos OnLine para estudiar ML"
   ]
  },
  {
   "cell_type": "markdown",
   "id": "512d939f",
   "metadata": {},
   "source": [
    "Hay una gran variedad de recursos en línea disponibles para estudiar Machine Learning (ML), que van desde cursos introductorios hasta especializaciones avanzadas. Aquí se enumeran algunos de los más destacados:\n",
    "\n",
    "***Cursos Online y Especializaciones***\n",
    "\n",
    "1. **Coursera**\n",
    "   - Cursos como \"Machine Learning\" por Andrew Ng de Stanford University.\n",
    "   - Especializaciones como \"Deep Learning\" por deeplearning.ai.  \n",
    "\n",
    "2. **edX**\n",
    "   - Cursos como \"Principles of Machine Learning\" de Microsoft.\n",
    "   - Programas MicroMasters como \"Statistics and Data Science\" del MIT.\n",
    "\n",
    "3. **Udacity**\n",
    "   - Nanodegree en \"Machine Learning Engineer\".\n",
    "   - Nanodegree en \"Deep Learning\".\n",
    "\n",
    "4. **Udemy**\n",
    "   - Cursos variados sobre temas específicos de ML, adecuados para todos los niveles.\n",
    "\n",
    "5. **Kaggle**\n",
    "   - Cursos prácticos y competiciones que cubren una amplia gama de temas en ML y ciencia de datos.\n",
    "\n",
    "6. **fast.ai**\n",
    "   - Cursos prácticos que se centran en el uso efectivo de bibliotecas de aprendizaje profundo.\n",
    "<p>&nbsp;</p>\n",
    "\n",
    "***Tutoriales y Documentación***\n",
    "\n",
    "1. **Scikit-Learn Documentation**\n",
    "   - Tutoriales y guías de referencia para esta popular biblioteca de Python para ML.\n",
    "\n",
    "2. **TensorFlow Tutorials**\n",
    "   - Tutoriales oficiales para aprender TensorFlow, una herramienta esencial para el aprendizaje profundo.\n",
    "\n",
    "3. **PyTorch Tutorials**\n",
    "   - Tutoriales para PyTorch, otra biblioteca importante para el aprendizaje profundo.\n",
    "<p>&nbsp;</p>\n",
    "\n",
    "***Libros y Lecturas***\n",
    "\n",
    "1. **\"Hands-On Machine Learning with Scikit-Learn, Keras, and TensorFlow\" por Aurélien Géron**\n",
    "   - Un libro práctico que enseña ML con proyectos reales.\n",
    "\n",
    "2. **\"Pattern Recognition and Machine Learning\" por Christopher Bishop**\n",
    "   - Un libro más teórico que cubre aspectos fundamentales de ML.\n",
    "\n",
    "3. **\"Deep Learning\" por Ian Goodfellow, Yoshua Bengio y Aaron Courville**\n",
    "   - Un recurso completo para entender el aprendizaje profundo.\n",
    "<p>&nbsp;</p>\n",
    "\n",
    "***Foros y Comunidades***\n",
    "\n",
    "1. **Stack Overflow**\n",
    "   - Ideal para resolver dudas específicas de programación en ML.\n",
    "\n",
    "2. **Reddit**\n",
    "   - Subreddits como r/MachineLearning y r/LearnMachineLearning son útiles para mantenerse actualizado y hacer preguntas.\n",
    "\n",
    "3. **GitHub**\n",
    "   - Repositorios de proyectos de ML, donde se puede contribuir o aprender de los proyectos existentes.\n",
    "\n",
    "4. **Meetup**\n",
    "   - Grupos locales y eventos en línea sobre ML y ciencia de datos.\n",
    "<p>&nbsp;</p>\n",
    "\n",
    "***Plataformas de Datos y Competencias***\n",
    "\n",
    "1. **Kaggle**\n",
    "   - Plataforma para competiciones de ML, también ofrece datasets para práctica.\n",
    "\n",
    "2. **Google Colab**\n",
    "   - Plataforma que ofrece un entorno de Jupyter notebook gratuito con acceso a GPUs y TPUs.\n",
    "\n",
    "Estos recursos cubren una amplia gama de estilos de aprendizaje, desde el autoestudio hasta la instrucción guiada, y desde la teoría hasta la práctica. La clave es encontrar los recursos que mejor se ajusten a tu estilo de aprendizaje y objetivos."
   ]
  },
  {
   "cell_type": "markdown",
   "id": "e7818b6d",
   "metadata": {},
   "source": [
    "En los siguientes capítulos nos centraremos en detallar más algunos de los algoritmos más ampliamente utilizados en diferentes actividades dentro del Aprendizaje Automático."
   ]
  }
 ],
 "metadata": {
  "kernelspec": {
   "display_name": "Python 3 (ipykernel)",
   "language": "python",
   "name": "python3"
  },
  "language_info": {
   "codemirror_mode": {
    "name": "ipython",
    "version": 3
   },
   "file_extension": ".py",
   "mimetype": "text/x-python",
   "name": "python",
   "nbconvert_exporter": "python",
   "pygments_lexer": "ipython3",
   "version": "3.11.8"
  },
  "toc": {
   "base_numbering": 1,
   "nav_menu": {},
   "number_sections": true,
   "sideBar": true,
   "skip_h1_title": true,
   "title_cell": "Table of Contents",
   "title_sidebar": "Contents",
   "toc_cell": false,
   "toc_position": {
    "height": "calc(100% - 180px)",
    "left": "10px",
    "top": "150px",
    "width": "256px"
   },
   "toc_section_display": true,
   "toc_window_display": false
  }
 },
 "nbformat": 4,
 "nbformat_minor": 5
}
