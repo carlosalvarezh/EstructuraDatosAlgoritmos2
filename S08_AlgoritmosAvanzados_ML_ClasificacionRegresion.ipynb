{
 "cells": [
  {
   "cell_type": "markdown",
   "id": "6ec7257b",
   "metadata": {},
   "source": [
    "<h1 align=\"center\">Estructura de Datos y Algoritmos II</h1>\n",
    "<h1 align=\"center\">Algoritmos Avanzados</h1>\n",
    "<h1 align=\"center\">Aprendizaje Automático - Regresión y Clasificación</h1>\n",
    "<h1 align=\"center\">2024</h1>\n",
    "<h1 align=\"center\">MEDELLÍN - COLOMBIA </h1>"
   ]
  },
  {
   "cell_type": "markdown",
   "id": "88f12a6f",
   "metadata": {},
   "source": [
    "*** \n",
    "|[![Outlook](https://img.shields.io/badge/Microsoft_Outlook-0078D4?style=plastic&logo=microsoft-outlook&logoColor=white)](mailto:calvar52@eafit.edu.co)||[![Open In Colab](https://colab.research.google.com/assets/colab-badge.svg)](https://colab.research.google.com/github/carlosalvarezh/EstructuraDatosAlgoritmos2/blob/main/S08_AlgoritmosAvanzados_ML_ClasificacionRegresion.ipynb)\n",
    "|-:|:-|--:|\n",
    "|[![LinkedIn](https://img.shields.io/badge/linkedin-%230077B5.svg?style=plastic&logo=linkedin&logoColor=white)](https://www.linkedin.com/in/carlosalvarez5/)|[![@alvarezhenao](https://img.shields.io/twitter/url/https/twitter.com/alvarezhenao.svg?style=social&label=Follow%20%40alvarezhenao)](https://twitter.com/alvarezhenao)|[![@carlosalvarezh](https://img.shields.io/badge/github-%23121011.svg?style=plastic&logo=github&logoColor=white)](https://github.com/carlosalvarezh)|\n",
    "\n",
    "<table>\n",
    " <tr align=left><td><img align=left src=\"https://github.com/carlosalvarezh/Curso_CEC_EAFIT/blob/main/images/CCLogoColorPop1.gif?raw=true\" width=\"25\">\n",
    " <td>Text provided under a Creative Commons Attribution license, CC-BY. All code is made available under the FSF-approved MIT license.(c) Carlos Alberto Alvarez Henao</td>\n",
    "</table>\n",
    "\n",
    "***"
   ]
  },
  {
   "cell_type": "markdown",
   "id": "25a25268-465b-46cc-9855-1992737ba325",
   "metadata": {},
   "source": [
    "## Introducción"
   ]
  },
  {
   "cell_type": "markdown",
   "id": "2751d41d-aa9e-4a9a-9e98-004197a4b567",
   "metadata": {},
   "source": [
    "Recordemos, del capítulo anterior, los tipos de Aprendizaje Automático que se tienen:\n",
    "\n",
    "<p float=\"center\">\n",
    "  <img src=\"https://github.com/carlosalvarezh/EstructuraDatosAlgoritmos2/blob/main/images/ML04.png?raw=true\" width=\"500\" />\n",
    "</p>\n",
    "\n",
    "- ***Aprendizaje Supervisado:*** Involucra modelos que aprenden a partir de un conjunto de datos etiquetados. El objetivo es aprender una función que mapee las entradas a salidas deseadas. Ejemplos incluyen clasificación (e.g., distinguir entre correos electrónicos spam y no spam) y regresión (e.g., predecir precios de viviendas).\n",
    "<p>&nbsp;</p>\n",
    "\n",
    "- ***Aprendizaje No Supervisado:*** Se usa con datos que no están etiquetados. El sistema intenta aprender la estructura de los datos sin ninguna etiqueta, a menudo a través de la identificación de patrones. Ejemplos comunes son el clustering (e.g., segmentación de clientes) y la reducción de dimensionalidad.\n",
    "<p>&nbsp;</p>\n",
    "\n",
    "- ***Aprendizaje Semi-supervisado:*** Combina ambos métodos anteriores. Utiliza una pequeña cantidad de datos etiquetados y una gran cantidad de datos no etiquetados. Es útil cuando las etiquetas son costosas de obtener.\n",
    "<p>&nbsp;</p>\n",
    "\n",
    "- ***Aprendizaje por Refuerzo:*** En este tipo, los algoritmos aprenden a tomar decisiones realizando acciones en un entorno para maximizar alguna noción de recompensa acumulativa. Ejemplos incluyen juegos (e.g., ajedrez, Go) y navegación de robots.\n",
    "\n",
    "En este capítulo nos centraremos exclusivamente en revisar algunos de los algoritmos más ampliamente empleados en el Aprendizaje Supervisado, que incluye algoritmos de Clasificación y de Regresión."
   ]
  },
  {
   "cell_type": "markdown",
   "id": "cc26b03c",
   "metadata": {},
   "source": [
    "## Regresión"
   ]
  },
  {
   "cell_type": "markdown",
   "id": "7e8dca57",
   "metadata": {},
   "source": [
    " ### Introducción"
   ]
  },
  {
   "cell_type": "markdown",
   "id": "148d0a45",
   "metadata": {},
   "source": [
    "La [regresión](https://en.wikipedia.org/wiki/Regression_analysis) en el aprendizaje automático es una técnica esencial que permite a los científicos de datos predecir y entender las relaciones complejas entre variables. Al centrarse en predecir valores continuos, se diferencia de los modelos de [clasificación](https://en.wikipedia.org/wiki/Statistical_classification), que predicen categorías discretas. Los tipos más comunes de regresión incluyen la [regresión lineal](https://en.wikipedia.org/wiki/Linear_regression), tanto simple como múltiple, que se basan en el ajuste de una línea o plano a los datos para predecir la variable dependiente a partir de una o más variables independientes.\n",
    "\n",
    "Aparte de la regresión lineal, existen técnicas avanzadas como la [regresión polinómica](https://en.wikipedia.org/wiki/Polynomial_regression), que modela relaciones no lineales, y métodos de regularización como la regresión de cresta y [Lasso](https://en.wikipedia.org/wiki/Lasso_(statistics)), que son efectivos para manejar la multicolinealidad y evitar el sobreajuste. Además, existen enfoques no paramétricos, como los [árboles de decisión](https://en.wikipedia.org/wiki/Decision_tree) y los [Random forest](https://en.wikipedia.org/wiki/Random_forest), que ofrecen mayor flexibilidad en la modelización de relaciones complejas. La elección del modelo adecuado depende de varios factores, incluyendo la naturaleza de los datos y el problema específico a resolver. La evaluación del modelo, un paso crucial en cualquier análisis de regresión, se realiza a través de métricas como el error cuadrático medio y el coeficiente de determinación.\n",
    "\n",
    "El núcleo de cualquier problema de regresión es la relación entre:\n",
    "\n",
    "1. **Variable Independiente (Predictora):** Estas son las variables de entrada que se utilizan para hacer las predicciones.\n",
    "2. **Variable Dependiente (Objetivo):** Es el resultado que intentamos predecir o estimar.\n",
    "\n",
    "En la regresión, buscamos una función que mapee de la mejor manera las variables independientes con la dependiente."
   ]
  },
  {
   "cell_type": "markdown",
   "id": "de7ed856",
   "metadata": {},
   "source": [
    "### Regresión Lineal Simple"
   ]
  },
  {
   "cell_type": "markdown",
   "id": "060b03b1",
   "metadata": {},
   "source": [
    "La [regresión lineal](https://en.wikipedia.org/wiki/Linear_regression) es una técnica estadística que busca modelar la relación entre una variable dependiente (también conocida como variable de respuesta) y una o más variables independientes (también conocidas como predictores o covariables) a través de una ecuación lineal. La forma más simple de regresión lineal se llama *regresión lineal simple*, donde hay una sola variable independiente. Cuando hay más de una variable independiente, se habla de *regresión lineal múltiple*."
   ]
  },
  {
   "cell_type": "markdown",
   "id": "11018ef3",
   "metadata": {},
   "source": [
    "#### Aspectos matemáticos de la Regresión Lineal Simple"
   ]
  },
  {
   "cell_type": "markdown",
   "id": "5048198b",
   "metadata": {},
   "source": [
    "La ecuación básica para un modelo de regresión lineal simple es:\n",
    "\n",
    "$$y=\\beta_0+\\beta_1 \\cdot x + \\varepsilon$$\n",
    "\n",
    "donde:\n",
    "\n",
    "- $y$ es la variable dependiente a predecir.\n",
    "- $x$ son las variables predictoras.\n",
    "- $\\beta_0$ es la intersección (ordenada al origen) con el eje $y$\n",
    "- $\\beta_1$ es la pendiente de la línea de regresión.\n",
    "- $\\varepsilon$ es el término de error\n",
    "\n",
    "El objetivo principal es encontrar los valores de $\\beta_0$ y $\\beta_1$ que minimicen el error total (sumatoria de los errores al cuadrado) entre los valores reales de $y$ y los valores predichos por el modelo."
   ]
  },
  {
   "cell_type": "markdown",
   "id": "b49d0018",
   "metadata": {},
   "source": [
    "#### Minimización del error"
   ]
  },
  {
   "cell_type": "markdown",
   "id": "e11b8ebe",
   "metadata": {},
   "source": [
    "Para lograr esto, utilizamos el método de [mínimos cuadrados](https://en.wikipedia.org/wiki/Least_squares). Este método busca minimizar la suma de los cuadrados de las diferencias entre los valores reales y los valores predichos. Matemáticamente, esto se representa como:\n",
    "\n",
    "$$\\sum_{i=1}^n\\left(y_i-\\bar{y}_i\\right)^2$$\n",
    "\n",
    "donde $n$ es el número de observaciones. Esta suma de cuadrados es a menudo llamada \"suma de los residuales al cuadrado\".\n",
    "\n",
    "Cuando ajustamos los valores de $\\beta_0$ y $\\beta_1$, estamos esencialmente moviendo y rotando la línea de regresión en el gráfico para encontrar la posición que minimiza el error. Si ajustamos estos parámetros de manera correcta, la línea de regresión pasará lo más cerca posible de los puntos reales, y el error (la distancia entre los puntos y la línea) será mínima."
   ]
  },
  {
   "cell_type": "markdown",
   "id": "16413861",
   "metadata": {},
   "source": [
    "#### Cálculo de los coeficientes estadísticos"
   ]
  },
  {
   "cell_type": "markdown",
   "id": "eb5e1563",
   "metadata": {},
   "source": [
    "- ***Coeficientes de Regresión:***\n",
    "\n",
    "Los coeficientes de regresión $\\beta_0$ y $\\beta_1$ se calculan mediante las siguientes fórmulas:\n",
    "$$\n",
    "\\begin{aligned}\n",
    "& \\beta_1=\\frac{\\sum_{i-1}^n\\left(x_i - \\bar{x}\\right)\\left(y_i - \\bar{y}\\right)}{\\sum_{i-1}^n\\left(x_i-\\bar{x}\\right)^2} \\\\\n",
    "\\\\\n",
    "& \\beta_0=\\bar{y}-\\beta_1 \\cdot \\bar{x}\n",
    "\\end{aligned}\n",
    "$$\n",
    "Donde:\n",
    "- $n$ es el número de observaciones.\n",
    "- $x_i$ y $y_i$ son los valores de la variable independiente e dependiente respectivamente en la observación $i$.\n",
    "- $\\bar{x}$ y $\\bar{y}$ son las medias de las variables $x$ e $y$ respectivamente.\n",
    "<p>&nbsp;</p>\n",
    "\n",
    "- ***Coeficiente de Determinación $\\left(R^2\\right)$:***\n",
    "\n",
    "El coeficiente de determinación $R^2$ mide la proporción de la variabilidad total en la variable dependiente que es explicada por la regresión. Se calcula así:\n",
    "\n",
    "$$R^2=\\frac{S S R}{S S T}$$\n",
    "\n",
    "- $S S R$ es la suma de los cuadrados de la regresión.\n",
    "- $S S T$ es la suma total de los cuadrados.\n",
    "<p>&nbsp;</p>\n",
    "\n",
    "- ***Error Estándar de Estimación (SEE):***\n",
    "\n",
    "EI SEE es una medida de cuánto difieren los valores reales de la variable dependiente de los valores predichos por el modelo. Se calcula como:\n",
    "\n",
    "$$S E E=\\sqrt{\\frac{\\sum_{i=1}^n\\left(y_i-\\bar{y}_i\\right)^2}{n-2}}$$\n",
    "\n",
    "Donde:\n",
    "- $y_i$ son los valores reales de la variable dependiente.\n",
    "- $\\bar{y}_i$ son los valores predichos por el modelo."
   ]
  },
  {
   "cell_type": "markdown",
   "id": "f7e1986c",
   "metadata": {},
   "source": [
    "#### Indicadores de bondad de ajuste"
   ]
  },
  {
   "cell_type": "markdown",
   "id": "a07a08aa",
   "metadata": {},
   "source": [
    "Para evaluar la calidad del modelo de regresión lineal, utilizamos varios indicadores:\n",
    "\n",
    "- ***Coeficiente de Determinación ($R^2$):*** Mide la proporción de la variabilidad de la variable dependiente que es explicada por el modelo. $R^2$ varía entre $0$ y $1$, siendo $1$ indicativo de una perfecta predicción.\n",
    "<p>&nbsp;</p>\n",
    "\n",
    "- ***Error Estándar Residual (RSE):*** Estima la dispersión de los residuos (diferencias entre los valores reales y los predichos).\n",
    "<p>&nbsp;</p>\n",
    "\n",
    "- ***$p$-valor:*** Determina la significancia estadística de los coeficientes. Valores pequeños indican que la variable es relevante en el modelo.\n",
    "<p>&nbsp;</p>\n",
    "\n",
    "- ***Intervalos de Confianza para los Coeficientes:*** Ayudan a establecer el rango probable de valores para los coeficientes."
   ]
  },
  {
   "cell_type": "markdown",
   "id": "f4368c57",
   "metadata": {},
   "source": [
    "#### Implementación en Python"
   ]
  },
  {
   "cell_type": "markdown",
   "id": "454171f4",
   "metadata": {},
   "source": [
    "Vamos a explorar la implementación de un modelo de regresión lineal utilizando Python y su ecosistema de bibliotecas."
   ]
  },
  {
   "cell_type": "code",
   "execution_count": 6,
   "id": "ea6725c1",
   "metadata": {},
   "outputs": [
    {
     "data": {
      "image/png": "[encoded data removed]",
      "text/plain": [
       "<Figure size 800x400 with 1 Axes>"
      ]
     },
     "metadata": {},
     "output_type": "display_data"
    },
    {
     "name": "stdout",
     "output_type": "stream",
     "text": [
      "Pendiente (m): 1.8862774144823011\n",
      "Intercepto (c): 2.137947520534132\n",
      "RMSE: 0.8190052609225309\n",
      "Coeficiente de Determinación (R^2): 0.9819119045690099\n"
     ]
    }
   ],
   "source": [
    "import numpy as np\n",
    "import matplotlib.pyplot as plt\n",
    "\n",
    "# Generación de datos aleatorios\n",
    "np.random.seed(0)\n",
    "x = np.linspace(0, 10, 20)\n",
    "y = 2 * x + 1 + np.random.normal(0, 1, 20)\n",
    "\n",
    "beta1 = np.sum((x - np.mean(x)) * (y - np.mean(y))) / np.sum((x - np.mean(x))**2)\n",
    "beta0 = np.mean(y) - beta1 * np.mean(x)\n",
    "\n",
    "y_pred = beta0 + beta1 * x\n",
    "\n",
    "R2 = np.sum((y_pred - np.mean(y))**2) / np.sum((y - np.mean(y))**2)\n",
    "SEE = np.sqrt(np.sum((y - y_pred)**2) / (len(x) - 2))\n",
    "\n",
    "\"\"\"\n",
    "# Cálculo de los parámetros del ajuste lineal\n",
    "A = np.vstack([x, np.ones(len(x))]).T\n",
    "m, c = np.linalg.lstsq(A, y, rcond=None)[0]\n",
    "# Estadísticas del ajuste\n",
    "residuals = y - (m*x + c)\n",
    "rmse = np.sqrt(np.mean(residuals**2))\n",
    "r_squared = 1 - (np.sum(residuals**2) / np.sum((y - np.mean(y))**2))\n",
    "\"\"\"\n",
    "\n",
    "\n",
    "# Graficar los datos y la recta de ajuste\n",
    "plt.figure(figsize=(8, 4))\n",
    "plt.scatter(x, y, label='Datos')\n",
    "plt.plot(x, beta1*x + beta0, 'r', label='Ajuste Lineal')\n",
    "plt.xlabel('X')\n",
    "plt.ylabel('Y')\n",
    "plt.legend()\n",
    "plt.title('Ajuste Lineal de Datos Aleatorios')\n",
    "plt.show()\n",
    "\n",
    "# Imprimir resultados\n",
    "print(\"Pendiente (m):\", beta1)\n",
    "print(\"Intercepto (c):\", beta0)\n",
    "print(\"RMSE:\", SEE)\n",
    "print(\"Coeficiente de Determinación (R^2):\", R2)\n"
   ]
  },
  {
   "cell_type": "markdown",
   "id": "6777a5f7",
   "metadata": {},
   "source": [
    "#### Análisis de resultados"
   ]
  },
  {
   "cell_type": "markdown",
   "id": "46a1816d",
   "metadata": {},
   "source": [
    "Tanto el Coeficiente de Determinación $R^2$, como el *Root Mean Square Error* (*RMSE*) varían entre $0$ y $1$ en su escala.\n",
    "\n",
    "- $R^2$ varía entre $0$ y $1$. Un valor de $0$ significa que el modelo no explica nada de la variabilidad en los datos, mientras que un valor de $1$ significa que el modelo explica toda la variabilidad en los datos.\n",
    "<p>&nbsp;</p>\n",
    "\n",
    "- El *RMSE* es siempre un número positivo y varía en magnitud. No se mide en una escala de $0$ a $1$ como el $R^2$. Cuanto más pequeño sea el valor del *RMSE*, más cercano será el ajuste del modelo a los datos reales. Un *RMSE* de $0$ indicaría que el modelo encaja perfectamente con los datos observados, lo cual es poco probable en la mayoría de los casos."
   ]
  },
  {
   "cell_type": "markdown",
   "id": "1c5c5e7f",
   "metadata": {},
   "source": [
    "#### Ejemplo: Cuarteto de Anscombe"
   ]
  },
  {
   "cell_type": "markdown",
   "id": "2d7a3e77",
   "metadata": {},
   "source": [
    "El [Cuarteto de Anscombe](https://en.wikipedia.org/wiki/Anscombe%27s_quartet) es un conjunto de cuatro conjuntos de datos que tienen propiedades estadísticas muy similares, pero visualmente distintas. Fue presentado por el estadístico *Francis Anscombe* en 1973 como una poderosa demostración de la importancia de visualizar los datos antes de realizar análisis y tomar decisiones basadas en ellos. Cada conjunto de datos tiene 11 observaciones (puntos), lo que lo convierte en un ejemplo convincente para ilustrar cómo los resultados pueden ser engañosos si solo se confía en estadísticas descriptivas.\n",
    "\n",
    "|  x1   |  y1   |$|$|  x2   |  y2   |$|$| x3   |  y3   |$|$| x4   |  y4   |\n",
    "|-------|-------|-  |-------|-------|-  |------|-------|-  |------|-------|\n",
    "| 10.0  |  8.04 |$|$| 10.0  |  9.14 |$|$|10.0  |  7.46 |$|$| 8.0  |  6.58 |\n",
    "|  8.0  |  6.95 |$|$|  8.0  |  8.14 |$|$| 8.0  |  6.77 |$|$| 8.0  |  5.76 |\n",
    "| 13.0  |  7.58 |$|$| 13.0  |  8.74 |$|$|13.0  | 12.74 |$|$| 8.0  |  7.71 |\n",
    "|  9.0  |  8.81 |$|$|  9.0  |  8.77 |$|$| 9.0  |  7.11 |$|$| 8.0  |  8.84 |\n",
    "| 11.0  |  8.33 |$|$| 11.0  |  9.26 |$|$|11.0  |  7.81 |$|$| 8.0  |  8.47 |\n",
    "| 14.0  |  9.96 |$|$| 14.0  |  8.10 |$|$|14.0  |  8.84 |$|$| 8.0  |  7.04 |\n",
    "|  6.0  |  7.24 |$|$|  6.0  |  6.13 |$|$| 6.0  |  6.08 |$|$| 8.0  |  5.25 |\n",
    "|  4.0  |  4.26 |$|$|  4.0  |  3.10 |$|$| 4.0  |  5.39 |$|$|19.0  | 12.50 |\n",
    "| 12.0  | 10.84 |$|$| 12.0  |  9.13 |$|$|12.0  |  8.15 |$|$| 8.0  |  5.56 |\n",
    "|  7.0  |  4.82 |$|$|  7.0  |  7.26 |$|$| 7.0  |  6.42 |$|$| 8.0  |  7.91 |\n",
    "|  5.0  |  5.68 |$|$|  5.0  |  4.74 |$|$| 5.0  |  5.73 |$|$| 8.0  |  6.89 |"
   ]
  },
  {
   "cell_type": "code",
   "execution_count": null,
   "id": "f4453a4d",
   "metadata": {},
   "outputs": [],
   "source": [
    "import numpy as np\n",
    "import matplotlib.pyplot as plt\n",
    "\n",
    "# Cuarteto de Anscombe\n",
    "anscombe_1 = np.array([\n",
    "    [10.0, 8.04], [8.0, 6.95], [13.0, 7.58],\n",
    "    [9.0, 8.81], [11.0, 8.33], [14.0, 9.96],\n",
    "    [6.0, 7.24], [4.0, 4.26], [12.0, 10.84],\n",
    "    [7.0, 4.82], [5.0, 5.68]\n",
    "])\n",
    "\n",
    "anscombe_2 = np.array([\n",
    "    [10.0, 9.14], [8.0, 8.14], [13.0, 8.74],\n",
    "    [9.0, 8.77], [11.0, 9.26], [14.0, 8.10],\n",
    "    [6.0, 6.13], [4.0, 3.10], [12.0, 9.13],\n",
    "    [7.0, 7.26], [5.0, 4.74]\n",
    "])\n",
    "\n",
    "anscombe_3 = np.array([\n",
    "    [10.0, 7.46], [8.0, 6.77], [13.0, 12.74],\n",
    "    [9.0, 7.11], [11.0, 7.81], [14.0, 8.84],\n",
    "    [6.0, 6.08], [4.0, 5.39], [12.0, 8.15],\n",
    "    [7.0, 6.42], [5.0, 5.73]\n",
    "])\n",
    "\n",
    "anscombe_4 = np.array([\n",
    "    [8.0, 6.58], [8.0, 5.76], [8.0, 7.71],\n",
    "    [8.0, 8.84], [8.0, 8.47], [8.0, 7.04],\n",
    "    [8.0, 5.25], [19.0, 12.50], [8.0, 5.56],\n",
    "    [8.0, 7.91], [8.0, 6.89]\n",
    "])\n",
    "\n",
    "anscombe_data = [anscombe_1, anscombe_2, anscombe_3, anscombe_4]\n",
    "labels = [\"Cuarteto 1\", \"Cuarteto 2\", \"Cuarteto 3\", \"Cuarteto 4\"]"
   ]
  },
  {
   "cell_type": "markdown",
   "id": "23ef58ea",
   "metadata": {},
   "source": [
    "Calculando los estadísticos de cada conjunto de datos:"
   ]
  },
  {
   "cell_type": "code",
   "execution_count": null,
   "id": "bdc11477",
   "metadata": {},
   "outputs": [],
   "source": [
    "# Estadísticos del conjuntos de datos\n",
    "for i, data in enumerate(anscombe_data):\n",
    "    x, y = data[:, 0], data[:, 1]\n",
    "       \n",
    "    # Calcular estadísticos\n",
    "    mean_x, mean_y = np.mean(x), np.mean(y)\n",
    "    slope, intercept = np.polyfit(x, y, 1)\n",
    "    correlation = np.corrcoef(x, y)[0, 1]\n",
    "    \n",
    "    print(f\"\\nEstadísticas para {labels[i]}:\")\n",
    "    print(f\"Media de X: {mean_x:.2f}\")\n",
    "    print(f\"Media de Y: {mean_y:.2f}\")\n",
    "    print(f\"Pendiente: {slope:.2f}\")\n",
    "    print(f\"Intercepto: {intercept:.2f}\")\n",
    "    print(f\"Coeficiente de Correlación: {correlation:.2f}\")"
   ]
  },
  {
   "cell_type": "markdown",
   "id": "f4c92e4e",
   "metadata": {},
   "source": [
    "¿Qué podemos decir de los resultados de los estadísticos calculados? Tómese su tiempo para pensar y discutirlo, basado en la teoría.\n",
    "\n",
    "Ahora grafiquemos los datos de donde se obtuvieron dichos resultados:"
   ]
  },
  {
   "cell_type": "code",
   "execution_count": null,
   "id": "2fefc220",
   "metadata": {},
   "outputs": [],
   "source": [
    "# Graficar los conjuntos de datos y calcular estadísticos\n",
    "for i, data in enumerate(anscombe_data):\n",
    "    x, y = data[:, 0], data[:, 1]\n",
    "    \n",
    "    plt.subplot(2, 2, i + 1)\n",
    "    plt.scatter(x, y, label=labels[i])\n",
    "    plt.plot(x, np.polyval(np.polyfit(x, y, 1), x), 'r', label='Línea de Tendencia')\n",
    "    plt.title(labels[i])\n",
    "    plt.xlabel('X')\n",
    "    plt.ylabel('Y')\n",
    "    plt.legend()\n",
    "    \n",
    "plt.tight_layout()\n",
    "plt.show()"
   ]
  },
  {
   "cell_type": "markdown",
   "id": "91b81c02",
   "metadata": {},
   "source": [
    "### Ecuación de Regresión Lineal Múltiple"
   ]
  },
  {
   "cell_type": "markdown",
   "id": "bb2c8d07",
   "metadata": {},
   "source": [
    "#### Introducción"
   ]
  },
  {
   "cell_type": "markdown",
   "id": "8d638d0c",
   "metadata": {},
   "source": [
    "La Regresión Lineal Múltiple es una técnica fundamental en el campo de la estadística y el análisis de datos. Se trata de una extensión poderosa de la Regresión Lineal Simple, diseñada para abordar situaciones en las que una variable dependiente $Y$ se relaciona con dos o más variables independientes $X_1,X_2,\\ldots,X_n$. La principal pregunta que busca responder es cómo estas variables independientes influyen en la variable dependiente y cómo pueden ser utilizadas para predecir su comportamiento."
   ]
  },
  {
   "cell_type": "markdown",
   "id": "56648c88",
   "metadata": {},
   "source": [
    "#### Aspectos matemáticos de la ecuación de regresión lineal múltiple"
   ]
  },
  {
   "cell_type": "markdown",
   "id": "08293574",
   "metadata": {},
   "source": [
    "La ecuación general de la Regresión Lineal Múltiple es:\n",
    "\n",
    "$$Y=\\beta_0+\\beta_1 X_1+\\beta_2 X_2+\\ldots+\\beta_n X_n+\\varepsilon$$\n",
    "\n",
    "Aquí:\n",
    "\n",
    "- $Y$ es la variable dependiente que estamos tratando de predecir o entender.\n",
    "- $X_1, X_2, \\ldots, X_p$ son las variables independientes o predictores.\n",
    "- $\\beta_0$ es el término de intersección o el valor esperado de $Y$ cuando todas las $X$ son cero.\n",
    "- $\\beta_1, \\beta_2, \\ldots, \\beta_n$ son los coeficientes de regresión, que indican cómo cambia $Y$ en respuesta a cambios en las $X$.\n",
    "- $\\varepsilon$ representa el error, que captura la variabilidad no explicada por el modelo.\n",
    "\n",
    "A medida que se van adicionando más variables, de una $x$ a dos ($x_1$ y $x_2$), ya el problema cambia de *\"encontrar la recta que mejor se ajusta a una serie de datos\"* (en *2D*), a *encontrar el mejor plano que se ajuste a la nube de puntos tridimensionales* (3D). Y a medida que se añaden más variables, ya estaríamos hablando de hiperplanos en espacios multidimensionales. Cada una de las dimensiones representando una característica de la realidad del fenómeno que los datos representan. Se puede tener una gran cantidad de atributos y, por lo tanto, de dimensiones."
   ]
  },
  {
   "cell_type": "markdown",
   "id": "280df022",
   "metadata": {},
   "source": [
    "#### Forma vectorial"
   ]
  },
  {
   "cell_type": "markdown",
   "id": "bbc4536d",
   "metadata": {},
   "source": [
    "La forma más práctica de representar esta combinación lineal de variables para cada uno de nuestros datos es empleando la nomenclatura vectorial, es decir, en vez de tener un conjunto de ecuaciones del tipo:\n",
    "\n",
    "$$y_1=\\beta_0+\\beta_1x_{11}+\\beta_2x_{12}+\\beta_3x_{13}+\\ldots$$\n",
    "$$y_2=\\beta_0+\\beta_1x_{21}+\\beta_2x_{22}+\\beta_3x_{23}+\\ldots$$\n",
    "$$y_3=\\beta_0+\\beta_1x_{31}+\\beta_2x_{32}+\\beta_3x_{33}+\\ldots$$\n",
    "$$\\vdots$$\n",
    "\n",
    "se puede conformar una matriz en la que cada columna representa una característica de los datos de entrada, y las filas representa cada una de las mediciones que se tienen en el conjunto de datos\n",
    "\n",
    "$$\\textbf{X}=\\begin{bmatrix} 1 & x_{11} & x_{12} & x_{13} & \\ldots \\\\ 1 & x_{21} & x_{22} & x_{23} & \\ldots \\\\ 1 & x_{31} & x_{32} & x_{33} & \\ldots \\\\ \\vdots & \\vdots & \\vdots & \\vdots & \\ddots \\end{bmatrix}$$\n",
    "\n",
    "Para cada una de las ecuaciones se tiene la variable $y$, que es la variable a modelar. Juntando todas en un vector, se tiene\n",
    "\n",
    "$$\\textbf{Y}=\\begin{bmatrix} y_1 \\\\ y_2 \\\\ y_3  \\\\ \\vdots\\end{bmatrix}$$\n",
    "\n",
    "y se puede hacer lo mismo con los factores para generar un vector de parámetros\n",
    "\n",
    "$$\\textbf{B}=\\begin{bmatrix} \\beta_0 & \\beta_1 & \\beta_2 & \\beta_3 \\ldots\\end{bmatrix}$$\n",
    "\n",
    "Con esto, se puede reducir la escitura de una gran cantidad de ecuaciones a una sola ecuación vectorial escrita como\n",
    "\n",
    "$$\\textbf{Y}=\\textbf{X}\\textbf{B}$$\n",
    "\n",
    "Esta forma de escribir no es solo estética, sino que nos facilitará la comprensión del algoritmo a programar además de ser mucho más eficiente, ya que los procesadores y GPUs procesan de forma más eficiente sobre este tipo de estructuras."
   ]
  },
  {
   "cell_type": "markdown",
   "id": "5a53e9fe",
   "metadata": {},
   "source": [
    "#### Ecuación Matricial y Mínimos Cuadrados"
   ]
  },
  {
   "cell_type": "markdown",
   "id": "07a4ac55",
   "metadata": {},
   "source": [
    "La ecuación matricial que resume este proceso es:\n",
    "\n",
    "$$\\textbf{B}=\\left(\\textbf{X}^T \\textbf{X}\\right)^{-1} \\textbf{X}^T Y$$\n",
    "\n",
    "- $\\textbf{X}$ es la matriz de diseño que contiene los valores de las variables independientes para cada observación.\n",
    "- $\\textbf{Y}$ es el vector de valores de la variable dependiente.\n",
    "- $\\textbf{X}^T$ es la matriz transpuesta de $X$.\n",
    "- $\\left(\\textbf{X}^T \\textbf{X}\\right)^{-1}$ es la inversa de la matriz producto $\\textbf{X}^T \\textbf{X}$."
   ]
  },
  {
   "cell_type": "markdown",
   "id": "a588bdde",
   "metadata": {},
   "source": [
    "#### Evaluación de la calidad del ajuste"
   ]
  },
  {
   "cell_type": "markdown",
   "id": "624d45df",
   "metadata": {},
   "source": [
    "Una vez que se obtienen los coeficientes $\\beta$, es crucial evaluar la calidad del ajuste del modelo. Algunos estadísticos clave son:\n",
    "\n",
    "- ***Coeficiente de Determinación $\\left(R^2\\right)$ :*** Mide la proporción de la variabilidad total en \n",
    "$\\textbf{Y}$ explicada por el modelo. Varía entre $0$ (ninguna explicación) y $1$ (explicación completa).\n",
    "<p>&nbsp;</p>\n",
    "\n",
    "- ***Error Estándar Residual (RMSE o $\\sigma$ ):*** Representa la desviación estándar de los residuos. Un RMSE más bajo indica un mejor ajuste.\n",
    "<p>&nbsp;</p>\n",
    "\n",
    "- ***Estadístico F y Prueba t:*** Evalúan la significancia del modelo y de $\\sigma_z$ coeficientes individuales."
   ]
  },
  {
   "cell_type": "markdown",
   "id": "f8c205ea",
   "metadata": {},
   "source": [
    "#### Ejemplo: Casas de Boston"
   ]
  },
  {
   "cell_type": "markdown",
   "id": "f98f38e8",
   "metadata": {},
   "source": [
    "##### Descripción del Problema"
   ]
  },
  {
   "cell_type": "markdown",
   "id": "9135ca34",
   "metadata": {},
   "source": [
    "En este ejemplo, utilizaremos el conjunto de datos de las casas de Boston, que contiene información sobre diferentes atributos de viviendas en Boston y sus respectivos valores medios. El objetivo es predecir el valor medio de las viviendas ($\\textbf{Y}$) utilizando cuatro variables independientes: tasa de criminalidad ($\\texttt{CRIM}$), cantidad promedio de habitaciones por vivienda ($\\texttt{RM}$), proporción de viviendas ocupadas por sus propietarios construidas antes de 1940 ($\\texttt{AGE}$) y tasa de impuesto a la propiedad ($\\texttt{TAX}$)."
   ]
  },
  {
   "cell_type": "markdown",
   "id": "7d7200c0",
   "metadata": {},
   "source": [
    "##### Ruta de Solución"
   ]
  },
  {
   "cell_type": "markdown",
   "id": "551e1397",
   "metadata": {},
   "source": [
    "- ***Carga de Datos:*** Se carga el conjunto de datos de las casas de Boston utilizando la función `load_boston` de [`sklearn.datasets`](https://scikit-learn.org/stable/datasets.html). Luego, se crea un DataFrame data para almacenar los atributos y el vector target para almacenar los valores medios de las viviendas.\n",
    "<p>&nbsp;</p>\n",
    "\n",
    "- ***Selección de Variables:*** Se eligen cuatro variables independientes específicas para este ejemplo: $\\texttt{CRIM}$, $\\texttt{RM}$, $\\texttt{AGE}$ y $\\texttt{TAX}$. Estas variables se almacenan en la matriz $\\textbf{X}$.\n",
    "<p>&nbsp;</p>\n",
    "\n",
    "- ***División de Datos:*** Se divide el conjunto de datos en conjuntos de entrenamiento y prueba utilizando la función `train_test_split` de `sklearn.model_selection`. Esto nos permitirá evaluar el rendimiento del modelo en datos no vistos.\n",
    "<p>&nbsp;</p>\n",
    "\n",
    "- ***Creación y Ajuste del Modelo:*** Se crea un objeto de regresión lineal utilizando `LinearRegression` de `sklearn.linear_model`. Luego, se ajusta el modelo utilizando los datos de entrenamiento (`X_train` y `y_train`).\n",
    "<p>&nbsp;</p>\n",
    "\n",
    "- ***Predicciones y Evaluación:*** Se realizan predicciones en el conjunto de prueba (`X_test`) utilizando el modelo ajustado. Se calculan los estadísticos de calidad del ajuste, como el *Error Estándar Residual (RMSE)* y el *Coeficiente de Determinación* ($R^2$), utilizando las funciones `mean_squared_error` y `r2_score` de `sklearn.metrics`.\n",
    "<p>&nbsp;</p>\n",
    "\n",
    "- ***Presentación de Resultados:*** Se presentan los coeficientes de ajuste, el término de intersección, el *RMSE* y el $R^2$ como resultados."
   ]
  },
  {
   "cell_type": "markdown",
   "id": "5952e2c8",
   "metadata": {},
   "source": [
    "##### Código"
   ]
  },
  {
   "cell_type": "code",
   "execution_count": null,
   "id": "abfbb64b",
   "metadata": {},
   "outputs": [],
   "source": [
    "import numpy as np\n",
    "import pandas as pd\n",
    "from sklearn.datasets import load_boston\n",
    "from sklearn.model_selection import train_test_split\n",
    "from sklearn.linear_model import LinearRegression\n",
    "from sklearn.metrics import mean_squared_error, r2_score"
   ]
  },
  {
   "cell_type": "markdown",
   "id": "c7798b7e",
   "metadata": {},
   "source": [
    "En vez de la biblioteca de sklearn usaremos la URL directa al dataset"
   ]
  },
  {
   "cell_type": "code",
   "execution_count": null,
   "id": "52312017",
   "metadata": {},
   "outputs": [],
   "source": [
    "import numpy as np\n",
    "import pandas as pd\n",
    "from sklearn.model_selection import train_test_split\n",
    "from sklearn.linear_model import LinearRegression\n",
    "from sklearn.metrics import mean_squared_error, r2_score\n",
    "\n",
    "# Cargar el conjunto de datos de las casas de Boston desde la URL\n",
    "data_url = \"http://lib.stat.cmu.edu/datasets/boston\"\n",
    "\n",
    "raw_df = pd.read_csv(data_url, sep=\"\\s+\", skiprows=22, header=None)\n",
    "\n",
    "data = np.hstack([raw_df.values[::2, :], raw_df.values[1::2, :2]])\n",
    "target = raw_df.values[1::2, 2]\n"
   ]
  },
  {
   "cell_type": "code",
   "execution_count": null,
   "id": "d8eee631",
   "metadata": {},
   "outputs": [],
   "source": [
    "# Crear un DataFrame con los datos y nombres de columnas\n",
    "feature_names = ['CRIM', 'ZN', 'INDUS', 'CHAS', 'NOX', 'RM', 'AGE', 'DIS', 'RAD', 'TAX', 'PTRATIO', 'B', 'LSTAT']\n",
    "data_df = pd.DataFrame(data, columns=feature_names)"
   ]
  },
  {
   "cell_type": "code",
   "execution_count": null,
   "id": "e413efac",
   "metadata": {},
   "outputs": [],
   "source": [
    "data_df.head(10)"
   ]
  },
  {
   "cell_type": "code",
   "execution_count": null,
   "id": "c81ffb2c",
   "metadata": {},
   "outputs": [],
   "source": [
    "data_df.info()"
   ]
  },
  {
   "cell_type": "code",
   "execution_count": null,
   "id": "df1b11d3",
   "metadata": {},
   "outputs": [],
   "source": [
    "data_df.describe()"
   ]
  },
  {
   "cell_type": "code",
   "execution_count": null,
   "id": "1b6b39c9",
   "metadata": {},
   "outputs": [],
   "source": [
    "# Seleccionar cuatro variables independientes para el ejemplo\n",
    "selected_features = ['CRIM', 'RM', 'AGE', 'TAX']\n",
    "X = data_df[selected_features]\n",
    "X.head(10)"
   ]
  },
  {
   "cell_type": "code",
   "execution_count": null,
   "id": "ca32dc76",
   "metadata": {},
   "outputs": [],
   "source": [
    "\n",
    "# Dividir los datos en conjuntos de entrenamiento y prueba\n",
    "X_train, X_test, y_train, y_test = train_test_split(X, target, test_size=0.2, random_state=42)\n",
    "\n",
    "# Crear y ajustar el modelo de regresión lineal\n",
    "model = LinearRegression()\n",
    "model.fit(X_train, y_train)\n",
    "\n",
    "# Realizar predicciones en el conjunto de prueba\n",
    "y_pred = model.predict(X_test)\n",
    "\n",
    "# Calcular estadísticos de calidad del ajuste\n",
    "mse = mean_squared_error(y_test, y_pred)\n",
    "rmse = np.sqrt(mse)\n",
    "r2 = r2_score(y_test, y_pred)\n",
    "\n",
    "# Obtener los coeficientes de ajuste\n",
    "coefficients = model.coef_\n",
    "intercept = model.intercept_\n",
    "\n",
    "# Presentar resultados\n",
    "print(\"Coeficientes de Ajuste:\", coefficients)\n",
    "print(\"Término de Intersección:\", intercept)\n",
    "print(\"Error Estándar Residual (RMSE):\", rmse)\n",
    "print(\"Coeficiente de Determinación (R^2):\", r2)\n"
   ]
  },
  {
   "cell_type": "markdown",
   "id": "fc43a72e",
   "metadata": {},
   "source": [
    "##### Análisis de resultados"
   ]
  },
  {
   "cell_type": "markdown",
   "id": "fbdd1735",
   "metadata": {},
   "source": [
    "Los coeficientes de ajuste representan cómo cada variable independiente contribuye al valor medio de las viviendas. En este caso:\n",
    "\n",
    "- El coeficiente de ajuste para $\\texttt{CRIM}$ es aproximadamente $-0.1354$. Esto sugiere que, manteniendo las otras variables constantes, un aumento en la tasa de criminalidad está asociado con una disminución de aproximadamente $\\$135$ por unidad en el valor medio de las viviendas.\n",
    "<p>&nbsp;</p>\n",
    "\n",
    "- El coeficiente de ajuste para $\\texttt{RM}$ es aproximadamente $8.138$. Esto indica que, manteniendo las otras variables constantes, un aumento en la cantidad promedio de habitaciones por vivienda está relacionado con un aumento de aproximadamente $\\$8,138$ en el valor medio de las viviendas.\n",
    "<p>&nbsp;</p>\n",
    "\n",
    "- El coeficiente de ajuste para $\\texttt{AGE}$ es aproximadamente $-0.0287$. Esto implica que un aumento en la proporción de viviendas ocupadas por sus propietarios construidas antes de 1940 está asociado con una disminución de aproximadamente $\\$28.7$ por unidad en el valor medio de las viviendas.\n",
    "<p>&nbsp;</p>\n",
    "\n",
    "- El coeficiente de ajuste para $\\texttt{TAX}$ es aproximadamente $-0.0096$. Esto sugiere que un aumento en la tasa de impuesto a la propiedad está asociado con una disminución de aproximadamente $\\$9.6$ por unidad en el valor medio de las viviendas.\n",
    "<p>&nbsp;</p>\n",
    "\n",
    "- El término de intersección (aproximadamente $-22.2662$) representa el valor esperado de las viviendas cuando todas las variables independientes son cero. Sin embargo, en este contexto, este valor puede no tener una interpretación directa y práctica debido a que muchas de las variables nunca serán iguales a cero en situaciones reales.\n",
    "<p>&nbsp;</p>\n",
    "\n",
    "- ***Error Estándar Residual (RMSE):*** El *RMSE* es una medida de la desviación promedio entre los valores reales y las predicciones del modelo. En este caso, el *RMSE* es aproximadamente 6.1324. Esto significa que, en promedio, las predicciones del modelo tienen un error de alrededor de $\\$6,132$ en relación con los valores reales de las viviendas. Un *RMSE* más bajo indica un mejor ajuste del modelo a los datos.\n",
    "<p>&nbsp;</p>\n",
    "\n",
    "- ***Coeficiente de Determinación ($R^2$):*** El $R^2$ de aproximadamente $0.4872$ indica que alrededor del $48.72\\%$ de la variabilidad en los valores medios de las viviendas puede ser explicada por el modelo de regresión lineal múltiple. Esto sugiere que el modelo tiene cierta capacidad para predecir las variaciones en los valores medios de las viviendas, pero no explica la variabilidad en su totalidad.\n",
    "\n",
    "***Análisis General***\n",
    "\n",
    "- Los resultados sugieren que el modelo de regresión lineal múltiple tiene cierta capacidad para predecir los valores medios de las viviendas en función de las variables seleccionadas ($\\texttt{CRIM}$, $\\texttt{RM}$, $\\texttt{AGE}$ y $\\texttt{TAX}$). Sin embargo, el $R^2$ relativamente bajo y el *RMSE* moderado indican que aún existe una cantidad significativa de variabilidad que el modelo no puede explicar. Esto podría deberse a la falta de consideración de otras variables importantes que influyen en el valor de las viviendas.\n",
    "<p>&nbsp;</p>\n",
    "\n",
    "En resumen, mientras que el modelo tiene utilidad predictiva, es importante considerar que hay otros factores que podrían influir en los valores de las viviendas y que no están considerados en este análisis. Sería recomendable explorar más variables y realizar análisis adicionales para mejorar la precisión y capacidad explicativa del modelo."
   ]
  },
  {
   "cell_type": "markdown",
   "id": "93f77f2a",
   "metadata": {},
   "source": [
    "### Descenso del Gradiente"
   ]
  },
  {
   "cell_type": "markdown",
   "id": "f29676d7",
   "metadata": {},
   "source": [
    "<p float=\"center\">\n",
    "  <img src=\"https://github.com/carlosalvarezh/EstructuraDatosAlgoritmos2/blob/main/images/Gradient03.gif?raw=true\" width=\"350\" />\n",
    "</p>"
   ]
  },
  {
   "cell_type": "markdown",
   "id": "537a79dd",
   "metadata": {},
   "source": [
    "#### Introducción"
   ]
  },
  {
   "cell_type": "markdown",
   "id": "10b2ed66",
   "metadata": {},
   "source": [
    "El Método del [Descenso del Gradiente](https://en.wikipedia.org/wiki/Gradient_descent)(*Gradient Descent*), aunque comúnmente considerado una técnica de optimización general, juega un papel crucial en el contexto de la regresión en el aprendizaje automático. Esta metodología se emplea para optimizar los modelos de regresión, ayudando a encontrar los parámetros del modelo que minimizan la función de costo, un paso esencial en la generación de predicciones precisas.\n",
    "\n",
    "La conexión entre el *Descenso del Gradiente* y la *Regresión* se puede resumir en:\n",
    "\n",
    "- **Optimización de Modelos de Regresión:** En la regresión, el objetivo es ajustar una línea (en regresión lineal) o una curva (en regresión no lineal) a los datos de manera que se minimice la diferencia entre los valores predichos y los reales. Aquí es donde el descenso del gradiente se vuelve crucial, ayudando a ajustar los parámetros del modelo (como los coeficientes en la regresión lineal) de manera eficiente.\n",
    "<p>&nbsp;</p>\n",
    "\n",
    "- **Minimización de la Función de Costo:** La función de costo (como el error cuadrático medio en la regresión lineal) mide qué tan bien el modelo de regresión se ajusta a los datos. El descenso del gradiente busca minimizar esta función de costo ajustando iterativamente los parámetros del modelo.\n",
    "<p>&nbsp;</p>\n",
    "\n",
    "- **Ajuste de Parámetros del Modelo:** En cada iteración, el descenso del gradiente ajusta los parámetros en dirección al gradiente negativo de la función de costo. Esto significa que los parámetros se modifican en la dirección que más reduce el error de predicción."
   ]
  },
  {
   "cell_type": "markdown",
   "id": "9197b00d",
   "metadata": {},
   "source": [
    "#### ¿Qué es un gradiente?"
   ]
  },
  {
   "cell_type": "markdown",
   "id": "237700dd",
   "metadata": {},
   "source": [
    "<p float=\"center\">\n",
    "  <img src=\"https://github.com/carlosalvarezh/EstructuraDatosAlgoritmos2/blob/main/images/Gradient02.PNG?raw=true\" width=\"500\" />\n",
    "</p>\n",
    "\n",
    "Matemáticamente, el gradiente es un vector que representa la dirección y magnitud del mayor incremento de una función en un punto dado. En otras palabras, el gradiente apunta en la dirección de la mayor pendiente ascendente de la función.\n",
    "\n",
    "- **Definición del Gradiente:** Para una función $ f(x, y, z, \\dots) $ de varias variables, el gradiente de $ f $, denotado como $ \\nabla f $ o $ \\text{grad} \\, f $, es un vector que contiene todas las derivadas parciales de $ f $. Si $ f $ es una función de tres variables $ x $, $ y $, y $ z $, el gradiente de $ f $ es: \n",
    "     $$ \\nabla f = \\left( \\frac{\\partial f}{\\partial x}, \\frac{\\partial f}{\\partial y}, \\frac{\\partial f}{\\partial z} \\right) $$\n",
    "<p>&nbsp;</p>\n",
    "\n",
    "- **Interpretación Geométrica:** El gradiente en un punto particular ofrece la dirección en la que la función aumenta más rápidamente. La magnitud del gradiente en ese punto da la tasa de aumento más rápida.\n",
    "<p>&nbsp;</p>\n",
    "\n",
    "- **El Gradiente y el Descenso Máximo:** Aunque el gradiente apunta en la dirección de la mayor subida, en el método del descenso del gradiente lo utilizamos para movernos en la dirección opuesta. Esto se debe a que buscamos minimizar la función, no maximizarla."
   ]
  },
  {
   "cell_type": "markdown",
   "id": "ede47c84",
   "metadata": {},
   "source": [
    "#### El Gradiente en el Descenso del Gradiente"
   ]
  },
  {
   "cell_type": "markdown",
   "id": "b858eac9",
   "metadata": {},
   "source": [
    "El Descenso del Gradiente es una técnica de optimización para encontrar los parámetros de un modelo que minimizan la función de coste, esencial en el aprendizaje supervisado para la regresión.Matemáticamente, el gradiente de una función en un punto dado es un vector que apunta en la dirección de mayor aumento de la función. En el descenso del gradiente, tomamos pasos en la dirección opuesta al gradiente para reducir el valor de la función de coste.\n",
    "\n",
    "\n",
    "- **Cálculo del Gradiente en la Función de Costo:** Considerando una función de costo $ f(\\theta) $ que depende de los parámetros del modelo $ \\theta $, el gradiente de $ f $ con respecto a $ \\theta $, denotado como $\\nabla f(\\theta)$, indica en qué dirección cambiar $ \\theta $ para aumentar $ f $.\n",
    "<p>&nbsp;</p>\n",
    "\n",
    "- **Uso del Gradiente para Actualizar Parámetros:** En cada iteración, los parámetros del modelo se actualizan en la dirección opuesta al gradiente. Esto se hace mediante la fórmula:\n",
    "     $$ \\theta_{\\text{new}} = \\theta_{\\text{old}} - \\alpha \\nabla f(\\theta_{\\text{old}}) $$\n",
    " Aquí, $ \\alpha $ es la tasa de aprendizaje, que controla el tamaño del paso en la actualización, es decir, $\\alpha$ determina el tamaño de los pasos que damos hacia el mínimo de la función de coste. Un $\\alpha$ pequeño conduce a una convergencia lenta, mientras que un $\\alpha$ grande podría saltar sobre el mínimo y nunca encontrarlo. Un valor óptimo de $\\alpha$ es crucial para asegurar que el algoritmo converge de manera eficiente sin perder precisión.\n",
    "<p>&nbsp;</p>\n",
    "\n",
    "- **Convergencia a un Mínimo Local:** Repitiendo este proceso, ajustamos iterativamente los parámetros del modelo para moverse hacia un mínimo local en la función de costo."
   ]
  },
  {
   "cell_type": "markdown",
   "id": "876f4777",
   "metadata": {},
   "source": [
    "**Ejemplo:** Regresión Lineal con Descenso del Gradiente en Python\n",
    "\n",
    "Sea la función:\n",
    "\n",
    "$$F(x,y)=\\sin \\left(\\frac{1}{2}x^2-\\frac{1}{4}y^2+3\\right)\\cos\\left(2x+1-e^y\\right)$$"
   ]
  },
  {
   "cell_type": "code",
   "execution_count": 4,
   "id": "0e248f8c",
   "metadata": {},
   "outputs": [
    {
     "data": {
      "image/png": "[encoded data removed]",
      "text/plain": [
       "<Figure size 640x480 with 2 Axes>"
      ]
     },
     "metadata": {},
     "output_type": "display_data"
    }
   ],
   "source": [
    "import numpy as np\n",
    "import scipy as sc\n",
    "import matplotlib.pyplot as plt\n",
    "\n",
    "# Función objetivo para la optimización.\n",
    "# Esta función es específica y puede variar según el problema.\n",
    "func = lambda th: np.sin(1/2 * th[0] **2 - 1/4 * th[1] **2 + 3) * np.cos(2 * th[0] + 1 - np.e**th[1])\n",
    "\n",
    "# Configuración de la resolución de la malla para la visualización.\n",
    "res = 100\n",
    "_X = np.linspace(-2, 2, res)\n",
    "_Y = np.linspace(-2, 2, res)\n",
    "\n",
    "# Creación de una matriz de ceros para almacenar los valores de la función.\n",
    "_Z = np.zeros((res, res))\n",
    "\n",
    "# Cálculo de los valores de la función en los puntos de la malla.\n",
    "for ix, x in enumerate(_X):\n",
    "    for iy, y in enumerate(_Y):\n",
    "        _Z[iy, ix] = func([x, y])\n",
    "\n",
    "# Visualización de la función como un gráfico de contorno.\n",
    "plt.contourf(_X, _Y, _Z, 100)\n",
    "plt.colorbar()\n",
    "\n",
    "# Generación de un punto aleatorio como posición inicial para el descenso del gradiente.\n",
    "Theta = np.random.rand(2) * 4 - 2\n",
    "\n",
    "# Copia de Theta para uso en el cálculo del gradiente.\n",
    "_T = np.copy(Theta)\n",
    "\n",
    "# Parámetros para el cálculo del gradiente: tamaño del paso y tasa de aprendizaje.\n",
    "h = 0.001\n",
    "lr = 0.001\n",
    "\n",
    "# Representación gráfica del punto inicial.\n",
    "plt.plot(Theta[0], Theta[1], \"o\", c=\"white\")\n",
    "\n",
    "# Inicialización del vector gradiente.\n",
    "grad = np.zeros(2)\n",
    "\n",
    "# Proceso iterativo para realizar el descenso del gradiente.\n",
    "for _ in range(100000):\n",
    "    # Cálculo de las derivadas parciales en cada dimensión.\n",
    "    for it, th in enumerate(Theta):\n",
    "        _T = np.copy(Theta)\n",
    "        _T[it] = _T[it] + h\n",
    "        deriv = (func(_T) - func(Theta)) / h\n",
    "        grad[it] = deriv\n",
    "\n",
    "    # Actualización de los parámetros Theta.\n",
    "    Theta = Theta - lr * grad\n",
    "    \n",
    "    # Representación gráfica de la trayectoria cada 100 iteraciones.\n",
    "    if (_ % 100 == 0):\n",
    "        plt.plot(Theta[0], Theta[1], \".\", c=\"red\")\n",
    "\n",
    "# Representación gráfica de la posición final de Theta.\n",
    "plt.plot(Theta[0], Theta[1], \"o\", c=\"green\")\n",
    "plt.show()\n"
   ]
  },
  {
   "cell_type": "code",
   "execution_count": null,
   "id": "25dd0583",
   "metadata": {},
   "outputs": [],
   "source": []
  },
  {
   "cell_type": "code",
   "execution_count": null,
   "id": "4c5533f2",
   "metadata": {},
   "outputs": [],
   "source": []
  },
  {
   "cell_type": "markdown",
   "id": "806729f0",
   "metadata": {},
   "source": [
    "\n",
    "\n",
    "\n",
    "## IV. Variantes del Descenso del Gradiente\n",
    "\n",
    "### A. Descenso del Gradiente Estocástico (SGD)\n",
    "   - **Concepto:** En lugar de calcular el gradiente utilizando todo el conjunto de datos (como en el descenso del gradiente clásico), SGD actualiza los parámetros utilizando un solo ejemplo de entrenamiento en cada iteración.\n",
    "   - **Ventajas y Desventajas:** SGD reduce el tiempo de cálculo por iteración pero puede incrementar la variabilidad en el camino hacia la convergencia.\n",
    "\n",
    "### B. Descenso del Gradiente por Minibatch\n",
    "   - **Enfoque Híbrido:** Combina elementos del descenso del gradiente clásico y SGD, utilizando un subconjunto (minibatch) de los datos para calcular el gradiente en cada iteración.\n",
    "   - **Balance:** Ofrece un equilibrio entre la eficiencia computacional y la estabilidad en la convergencia.\n",
    "\n",
    "### C. Descenso del Gradiente con Momentum\n",
    "   - **Momentum:** Incorpora un término de \"momentum\" para acelerar el descenso del gradiente, especialmente en superficies de error con mínimos locales o puntos de silla.\n",
    "   - **Efectividad:** Ayuda a acelerar la convergencia y a superar puntos estancados en la superficie del error.\n",
    "\n",
    "## V. Aplicación en Regresión\n",
    "\n",
    "### A. Regresión Lineal y Descenso del Gradiente\n",
    "   - **Integración con Regresión Lineal:** En regresión lineal, el descenso del gradiente se usa para encontrar la línea de mejor ajuste minimizando el error cuadrático medio.\n",
    "   - **Fórmula del Error Cuadrático Medio:** \\( \\text{ECM} = \\frac{1}{n} \\sum_{i=1}^{n} (y_i - (mx_i + b))^2 \\), donde \\( m \\) es la pendiente y \\( b \\) el intercepto.\n",
    "\n",
    "### B. Ejemplo Práctico y Código\n",
    "   - **Desarrollo de un Ejemplo:** Se implementará un ejemplo de regresión lineal utilizando descenso del gradiente en Python.\n",
    "   - **Inclusión de Visualizaciones:** La implementación incluirá gráficas para visualizar tanto los datos como el proceso de ajuste de la línea de regresión.\n",
    "\n",
    "### C. Interpretación de Resultados\n",
    "   - **Análisis de Resultados:** Se examinará cómo el ajuste de la línea de regresión mejora con cada iteración del algoritmo.\n",
    "   - **Consideraciones en la Convergencia:** Se discutirá cómo la tasa de aprendizaje y el número de iteraciones afectan el resultado final.\n",
    "\n",
    "## VI. Desafíos y Consideraciones\n",
    "\n",
    "### A. Elección de la Tasa de Aprendizaje\n",
    "   - **Impacto Significativo:** Una tasa de aprendizaje inadecuadamente elegida puede llevar a una convergencia muy lenta o a una divergencia.\n",
    "   - **Técnicas de Ajuste:** Se discutirán técnicas como la disminución adaptativa o el uso de tasas de aprendizaje variables.\n",
    "\n",
    "### B. Problemas de Convergencia\n",
    "   - **Dificultades en la Optimización:** El descenso del gradiente puede quedar atrapado en mínimos locales o puntos de silla.\n",
    "   - **Soluciones:** Uso de técnicas avanzadas como momentum o adaptación de la tasa de aprendizaje.\n",
    "\n",
    "### C. Escalado de Características\n",
    "   - **Importancia del Preprocesamiento:** El escalado adecuado de características puede acelerar significativamente la convergencia del algoritmo.\n",
    "   - **Métodos de Escalado:** Normalización y estandarización como técnicas comunes.\n",
    "\n",
    "## VII. Conclusión\n",
    "\n",
    "El descenso del gradiente es una herramienta esencial en machine learning, especialmente en problemas de regresión. Su flexibilidad y variabilidad a través de diferentes versiones lo hacen adecuado para una amplia gama de situaciones. La comprensión profunda de sus fundamentos y variantes es crucial para aplicar eficientemente técnicas de aprendizaje automático.\n",
    "\n",
    "---\n",
    "\n",
    "**Ejemplo Práctico: Regresión Lineal con Descenso del Gradiente en Python**\n",
    "\n",
    "Imaginemos un conjunto de datos que relaciona las horas de estudio con las calificaciones obtenidas. Nuestro objetivo será utilizar la regresión lineal y el descenso del gradiente para predecir las calificaciones basándonos en las horas de estudio.\n",
    "\n",
    "1. **Importación de Librerías y Generación de Datos:**\n",
    "   ```python\n",
    "   import numpy as np\n",
    "   import matplotlib.pyplot as plt\n",
    "\n",
    "   # Generar datos de ejemplo\n",
    "   np.random.seed(0)\n",
    "   horas = np.random.rand(100, 1) * 10  # Horas de estudio\n",
    "   calificaciones = 2 * horas + np.random.randn(100, 1) * 2  # Calificaciones obtenidas\n",
    "   ```\n",
    "\n",
    "2. **Implementación del Descenso del Gradiente:**\n",
    "   ```python\n",
    "   def descenso_gradiente(X, y, lr=0.01, iteraciones=1000):\n",
    "       m, b = 0, 0  # Inicialización de parámetros\n",
    "       n = len(y)\n",
    "       historial_coste = []\n",
    "       \n",
    "       for _ in range(iteraciones):\n",
    "           pred = m * X + b\n",
    "           coste = (1/n) * np.sum((y - pred) ** 2)\n",
    "           historial_coste.append(coste)\n",
    "           \n",
    "           # Actualización de parámetros\n",
    "           dm = -(2/n) * np.sum(X * (y - pred))\n",
    "           db = -(2/n) * np.sum(y - pred)\n",
    "           m -= lr * dm\n",
    "           b -= lr * db\n",
    "       \n",
    "       return m, b, historial_coste\n",
    "   ```\n",
    "\n",
    "3. **Entrenamiento y Visualización de Resultados:**\n",
    "   ```python\n",
    "   m_optimo, b_optimo, costes = descenso_gradiente(horas, calificaciones)\n",
    "\n",
    "   plt.plot(costes)\n",
    "   plt.title('Evolución del Coste a lo Largo de las Iteraciones')\n",
    "   plt.xlabel('Iteraciones')\n",
    "   plt.ylabel('Coste')\n",
    "   plt.show()\n",
    "\n",
    "   # Visualización de la línea de regresión\n",
    "   plt.scatter(horas, calificaciones, color='blue')\n",
    "   plt.plot(horas, m_optimo*horas + b_optimo, color='red')\n",
    "   plt.title('Horas de Estudio vs Calificaciones')\n",
    "   plt.xlabel('Horas de Estudio')\n",
    "   plt.ylabel('Calificaciones')\n",
    "   plt.show()\n",
    "   ```\n",
    "\n",
    "Este ejemplo ilustra cómo el descenso del gradiente puede ser aplicado en un problema de regresión line"
   ]
  },
  {
   "cell_type": "markdown",
   "id": "61bbe191",
   "metadata": {},
   "source": []
  },
  {
   "cell_type": "markdown",
   "id": "b3845c0c",
   "metadata": {},
   "source": [
    "### Regresión Lasso"
   ]
  },
  {
   "cell_type": "markdown",
   "id": "135f9360",
   "metadata": {},
   "source": []
  },
  {
   "cell_type": "markdown",
   "id": "29329a4c-64e4-4447-bd38-24eb1364d958",
   "metadata": {},
   "source": [
    "## Clasificación"
   ]
  },
  {
   "cell_type": "markdown",
   "id": "2875775a",
   "metadata": {},
   "source": [
    "<p float=\"center\">\n",
    "  <img src=\"https://github.com/carlosalvarezh/EstructuraDatosAlgoritmos2/blob/main/images/Classification05.jpg?raw=true\" width=\"250\" />\n",
    "</p>"
   ]
  },
  {
   "cell_type": "markdown",
   "id": "be9e29dd",
   "metadata": {},
   "source": [
    "### ¿Cómo funciona?"
   ]
  },
  {
   "cell_type": "markdown",
   "id": "55fde59f",
   "metadata": {},
   "source": [
    "La clasificación nos ayuda a tomar decisiones, por ejemplo, a la hora de recoger tomates en un supermercado (\"verdes\", \"maduros\", \"podridos\"). En términos de aprendizaje automático, asignamos una etiqueta de una de las clases a cada tomate que tenemos en nuestras manos.\n",
    "\n",
    "La eficiencia en la recolección de tomates (algunos lo llamarían modelo de clasificación) depende de la precisión de sus resultados. Cuanto más a menudo vayas al supermercado (en lugar de enviar a tus padres o a tu pareja), mejor podrás elegir tomates frescos y deliciosos.\n",
    "\n",
    "Las máquinas son iguales. Para que un modelo de clasificación aprenda a predecir resultados con precisión, necesita muchos ejemplos de entrenamiento."
   ]
  },
  {
   "cell_type": "markdown",
   "id": "59b2db4c",
   "metadata": {},
   "source": [
    "### Tipos de algoritmos de clasificación"
   ]
  },
  {
   "cell_type": "markdown",
   "id": "0e3824f7",
   "metadata": {},
   "source": [
    "<p float=\"center\">\n",
    "  <img src=\"https://github.com/carlosalvarezh/EstructuraDatosAlgoritmos2/blob/main/images/Classification04.PNG?raw=true\" width=\"750\" />\n",
    "</p>\n",
    "\n",
    "En el aprendizaje supervisado, la clasificación se refiere al proceso de predecir categorías discretas (etiquetas de clase) para instancias dadas. Existen varios tipos de clasificación, cada uno adecuado para diferentes tipos de problemas y conjuntos de datos. Los principales tipos de clasificación en aprendizaje supervisado son:"
   ]
  },
  {
   "cell_type": "markdown",
   "id": "a358074e",
   "metadata": {},
   "source": [
    "#### Clasificación Binaria"
   ]
  },
  {
   "cell_type": "markdown",
   "id": "0e08a87e",
   "metadata": {},
   "source": [
    "<p float=\"center\">\n",
    "  <img src=\"https://github.com/carlosalvarezh/EstructuraDatosAlgoritmos2/blob/main/images/Classification03.jpeg?raw=true\" width=\"250\" />\n",
    "</p>\n",
    "\n",
    "La clasificación binaria significa que hay dos clases con las que trabajar que se relacionan entre sí como *verdaderas* o *falsas*. Imagina que tienes delante una enorme caja con tomates amarillos y rojos, pero para tu receta de pasta italiana solo necesitas los rojos. O en un diagnóstico médico, un clasificador binario para una enfermedad específica podría tomar los síntomas de un paciente como características de entrada y predecir si el paciente está sano o tiene la enfermedad. Los posibles resultados del diagnóstico son *positivos* y *negativos*. \n",
    "\n",
    "Veamos algunos de los algoritmos de clasificación binaria más usados:"
   ]
  },
  {
   "cell_type": "markdown",
   "id": "0a052016",
   "metadata": {},
   "source": [
    "##### Regresión Logística"
   ]
  },
  {
   "cell_type": "markdown",
   "id": "dea0486b",
   "metadata": {},
   "source": [
    "La [regresión logística](https://en.wikipedia.org/wiki/Logistic_regression) se utiliza para la clasificación binaria donde empleamos la [función sigmoide](https://en.wikipedia.org/wiki/Sigmoid_function), que toma como entrada las variables independientes y produce un valor de probabilidad entre $0$ y $1$.\n",
    "\n",
    "Por ejemplo, si tenemos dos clases, `Clase0` y `Clase1`, si el valor de la función logística para una entrada es mayor que $0.5$ (valor umbral), entonces pertenece a la `Clase1`, de lo contrario, pertenece a la `Clase0`. Se le llama regresión porque es una extensión de la regresión lineal, pero se utiliza principalmente para problemas de clasificación.\n",
    "\n",
    "***Función logística:***\n",
    "\n",
    "La *función logística*, también conocida como *función sigmoide*, es una función matemática que tiene una característica forma de *\"S\"*. Es ampliamente utilizada en el campo del aprendizaje automático, especialmente en la regresión logística y en redes neuronales, para modelar la probabilidad de una clase o evento.\n",
    "\n",
    "1. **Ecuación**: La función logística se define como:\n",
    "\n",
    "<p float=\"center\">\n",
    "  <img src=\"https://github.com/carlosalvarezh/EstructuraDatosAlgoritmos2/blob/main/images/Logistic00.PNG?raw=true\" width=\"250\" />\n",
    "</p>\n",
    "\n",
    "\n",
    "   $$\\sigma(x) = \\frac{1}{1 + e^{-x}} $$\n",
    "   Donde:\n",
    "   - $\\sigma(x)$ es el valor de salida de la función sigmoide.\n",
    "   - $x$ es el valor de entrada.\n",
    "   - $e$ es la base del logaritmo natural.\n",
    "\n",
    "2. **Características**:\n",
    "   - **Rango de Salida**: La salida de la función sigmoide está siempre entre $0$ y $1$, lo que la hace útil para representar probabilidades. Recordemos que la probabilidad de una clase se puede medir como: \n",
    "   $$P(y=1)=\\sigma(x)$$\n",
    "   $$P(y=0)=1-\\sigma(x)$$  \n",
    "   - **Forma de S**: Tiene una región central donde ocurre una transición suave y pronunciada, que se aplana a medida que se aleja hacia cualquier extremo.\n",
    "   - **Derivada**: La derivada de la función sigmoide es máxima en $x = 0$ y disminuye a medida que $x$ se aleja de $0$, lo cual es útil para el gradiente en algoritmos de aprendizaje.\n",
    "\n",
    "\n",
    "\n",
    "\n",
    "\n",
    "\n",
    "3. **Código en Python**\n",
    "\n",
    "    A continuación, se proporciona un código en Python que utiliza las bibliotecas [`matplotlib`](https://matplotlib.org/) y [`numpy`](https://numpy.org/) para visualizar la función sigmoide logística:"
   ]
  },
  {
   "cell_type": "code",
   "execution_count": null,
   "id": "5e5385e8",
   "metadata": {},
   "outputs": [],
   "source": [
    "import numpy as np\n",
    "import matplotlib.pyplot as plt\n",
    "\n",
    "# Definición de la función logística\n",
    "def logistic(x):\n",
    "    return 1 / (1 + np.exp(-x))\n",
    "\n",
    "# Generación de valores de x\n",
    "x = np.linspace(-10, 10, 100)\n",
    "\n",
    "# Calculando los valores y de la función logística\n",
    "y = logistic(x)\n",
    "\n",
    "# Creación del gráfico\n",
    "plt.plot(x, y)\n",
    "plt.title(\"Función Logística\")\n",
    "plt.xlabel(\"x\")\n",
    "plt.ylabel(\"σ(x)\")\n",
    "plt.grid(True)\n",
    "plt.show()"
   ]
  },
  {
   "cell_type": "markdown",
   "id": "8db46dec",
   "metadata": {},
   "source": [
    "<div class=\"alert alert-success\" role=\"alert\">\n",
    "  <strong>Actividad para el estudiante:</strong>\n",
    "  <p>Investigue otras posibles funciones Sigmoides. Para cada una de ellas, indique su aplicación o ventaja/desventaja respecto a otras funciones.</p> \n",
    "</div>"
   ]
  },
  {
   "cell_type": "markdown",
   "id": "4c5d7df0",
   "metadata": {},
   "source": [
    "##### Supuestos de regresión logística"
   ]
  },
  {
   "cell_type": "markdown",
   "id": "2efcc96e",
   "metadata": {},
   "source": [
    "- ***Observaciones independientes:*** cada observación es independiente de la otra. lo que significa que no hay correlación entre ninguna variable de entrada.\n",
    "<p>&nbsp;</p>\n",
    "\n",
    "- ***Variables dependientes binarias:*** se asume que la variable dependiente debe ser binaria o dicotómica, lo que significa que solo puede tomar dos valores. Para más de dos categorías se utilizan funciones SoftMax.\n",
    "<p>&nbsp;</p>\n",
    "\n",
    "- ***Relación de linealidad entre variables independientes y probabilidades logarítmicas:*** la relación entre las variables independientes y las probabilidades logarítmicas de la variable dependiente debe ser lineal.\n",
    "<p>&nbsp;</p>\n",
    "\n",
    "- ***Sin valores atípicos (outliers):*** no debería haber valores atípicos en el conjunto de datos.\n",
    "<p>&nbsp;</p>\n",
    "\n",
    "- ***Tamaño de muestra grande:*** el tamaño de la muestra es suficientemente grande"
   ]
  },
  {
   "cell_type": "markdown",
   "id": "8f642512",
   "metadata": {},
   "source": [
    "##### ¿Cómo funciona la regresión logística?"
   ]
  },
  {
   "cell_type": "markdown",
   "id": "018e173f",
   "metadata": {},
   "source": [
    "El modelo de regresión logística transforma la salida de valor continuo de la función de [regresión lineal](https://en.wikipedia.org/wiki/Linear_regression) en una salida de valor categórico utilizando una función sigmoidea, que asigna cualquier conjunto de variables independientes de valor real ingresado a un valor entre $0$ y $1$. Esta función se conoce como función logística.\n",
    "\n",
    "Sean las características de entrada independientes:\n",
    "\n",
    "$$\n",
    "X=\\left[\\begin{array}{ccc}\n",
    "x_{11} & \\ldots & x_{1 m} \\\\\n",
    "x_{21} & \\ldots & x_{2 m} \\\\\n",
    "\\vdots & \\ddots & \\vdots \\\\\n",
    "x_{n 1} & \\ldots & x_{n m}\n",
    "\\end{array}\\right]\n",
    "$$\n",
    "\n",
    "y la variable dependiente es $\\mathrm{Y}$ y tiene solo valor binario, es decir, $0$ o $1$.\n",
    "\n",
    "$$ Y= \\begin{cases}0 & \\text { if Class } 1 \\\\ 1 & \\text { if Class } 2\\end{cases}$$\n",
    "\n",
    "luego, aplique la función multilineal a las variables de entrada $\\mathrm{X}$.\n",
    "\n",
    "$$z=\\left(\\sum_{i=1}^n w_i x_i\\right)+b$$\n",
    "\n",
    "Aquí $x_i$ está la $i$-ésima observación de $\\mathrm{X}, w_i=\\left[w_1, w_2, w_3, \\cdots, w_m\\right]$ son los pesos o coeficiente, y $b$ es el término de sesgo, también conocido como intersección. simplemente esto se puede representar como el producto escalar del peso y el sesgo.\n",
    "\n",
    "$$z=w \\cdot X+b$$\n",
    "\n",
    "La discusión anterior es conocida como *Regresión Lineal*."
   ]
  },
  {
   "cell_type": "code",
   "execution_count": null,
   "id": "7bd31e35",
   "metadata": {},
   "outputs": [],
   "source": [
    "from sklearn.model_selection import train_test_split\n",
    "from sklearn import datasets, linear_model, metrics\n",
    "\n",
    "# load the digit dataset\n",
    "digits = datasets.load_digits()\n",
    "\n",
    "# defining feature matrix(X) and response vector(y)\n",
    "X = digits.data\n",
    "y = digits.target\n",
    "\n",
    "# splitting X and y into training and testing sets\n",
    "X_train, X_test, y_train, y_test = train_test_split(X, y,test_size=0.4,random_state=1)\n",
    "\n",
    "# create logistic regression object\n",
    "reg = linear_model.LogisticRegression()\n",
    "\n",
    "# train the model using the training sets\n",
    "reg.fit(X_train, y_train)\n",
    "\n",
    "# making predictions on the testing set\n",
    "y_pred = reg.predict(X_test)\n",
    "\n",
    "# comparing actual response values (y_test)\n",
    "# with predicted response values (y_pred)\n",
    "print(\"Logistic Regression model accuracy(in %):\",\n",
    "\tmetrics.accuracy_score(y_test, y_pred)*100)\n"
   ]
  },
  {
   "cell_type": "markdown",
   "id": "956892c3",
   "metadata": {},
   "source": []
  },
  {
   "cell_type": "markdown",
   "id": "6c50c74e",
   "metadata": {},
   "source": []
  },
  {
   "cell_type": "markdown",
   "id": "733fe3fa",
   "metadata": {},
   "source": []
  },
  {
   "cell_type": "code",
   "execution_count": null,
   "id": "05a1e36d",
   "metadata": {},
   "outputs": [],
   "source": []
  },
  {
   "cell_type": "markdown",
   "id": "46cb0456",
   "metadata": {},
   "source": [
    "\n",
    "\n",
    "- **Clasificación Binaria:** Este tipo implica solo dos clases o categorías. El objetivo es clasificar las instancias en una de estas dos categorías. Como ejemplos tenemos: Detección de spam (spam o no spam), diagnóstico médico (enfermedad o no enfermedad).\n",
    "<p>&nbsp;</p>\n",
    "\n",
    "- **Clasificación Multiclase (Multinomial):** La clasificación multiclase trata con problemas donde hay más de dos clases, y cada instancia se clasifica en una y solo una de estas clases. Ejemplos: Clasificación de tipos de frutas (manzana, naranja, plátano), reconocimiento de dígitos escritos a mano.\n",
    "<p>&nbsp;</p>\n",
    "\n",
    "- **Clasificación Multi-Etiqueta:** En la clasificación multi-etiqueta, cada instancia puede pertenecer a múltiples clases simultáneamente. Tenemos, Categorización de temas en un artículo (política, economía, educación), identificación de varios objetos en una imagen.\n",
    "<p>&nbsp;</p>\n",
    "\n",
    "- **Clasificación Jerárquica:** Este tipo organiza las clases en una jerarquía. Las predicciones se hacen a diferentes niveles de esta jerarquía.  Clasificación taxonómica en biología, organización de temas en un sistema de ayuda.\n",
    "<p>&nbsp;</p>\n",
    "\n",
    "- **Clasificación Desbalanceada:** Se refiere a situaciones en las que las clases no están representadas equitativamente en los datos. Detección de transacciones fraudulentas (pocas transacciones fraudulentas comparadas con las legítimas).\n",
    "\n",
    "Cada uno de estos tipos de clasificación requiere un enfoque y técnicas específicas para abordar de manera efectiva sus desafíos únicos. Por ejemplo, en la clasificación desbalanceada, se pueden emplear métodos para equilibrar los conjuntos de datos o ajustar la sensibilidad del algoritmo hacia la clase minoritaria. En la clasificación multi-etiqueta, se requieren estrategias para manejar múltiples etiquetas simultáneamente. La elección del tipo de clasificación adecuado es crucial para el diseño de un modelo de aprendizaje automático eficaz."
   ]
  },
  {
   "cell_type": "markdown",
   "id": "b36acf3e",
   "metadata": {},
   "source": []
  },
  {
   "cell_type": "markdown",
   "id": "9ecc12ed",
   "metadata": {},
   "source": []
  },
  {
   "cell_type": "markdown",
   "id": "0ec30a0a",
   "metadata": {},
   "source": []
  },
  {
   "cell_type": "markdown",
   "id": "d2961bd0-fb5b-4bb6-872e-ba01496156fb",
   "metadata": {},
   "source": [
    "## Regresión"
   ]
  },
  {
   "cell_type": "code",
   "execution_count": null,
   "id": "2705875e-1e1c-4e1f-8737-de494aa82135",
   "metadata": {},
   "outputs": [],
   "source": []
  }
 ],
 "metadata": {
  "kernelspec": {
   "display_name": "Python 3 (ipykernel)",
   "language": "python",
   "name": "python3"
  },
  "language_info": {
   "codemirror_mode": {
    "name": "ipython",
    "version": 3
   },
   "file_extension": ".py",
   "mimetype": "text/x-python",
   "name": "python",
   "nbconvert_exporter": "python",
   "pygments_lexer": "ipython3",
   "version": "3.11.8"
  },
  "toc": {
   "base_numbering": 1,
   "nav_menu": {},
   "number_sections": true,
   "sideBar": true,
   "skip_h1_title": true,
   "title_cell": "Table of Contents",
   "title_sidebar": "Contents",
   "toc_cell": false,
   "toc_position": {
    "height": "calc(100% - 180px)",
    "left": "10px",
    "top": "150px",
    "width": "256px"
   },
   "toc_section_display": true,
   "toc_window_display": false
  }
 },
 "nbformat": 4,
 "nbformat_minor": 5
}
