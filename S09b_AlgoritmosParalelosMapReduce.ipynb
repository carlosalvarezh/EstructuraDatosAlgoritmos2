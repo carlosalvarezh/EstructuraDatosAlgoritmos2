{
 "cells": [
  {
   "cell_type": "markdown",
   "id": "f1b06738",
   "metadata": {},
   "source": [
    "<h1 align=\"center\">Estructura de Datos y Algoritmos II</h1>\n",
    "<h1 align=\"center\">Algoritmos Paralelos - Map, Reduce</h1>\n",
    "<h1 align=\"center\">2024</h1>\n",
    "<h1 align=\"center\">MEDELLÍN - COLOMBIA </h1>"
   ]
  },
  {
   "cell_type": "markdown",
   "id": "4b32776e",
   "metadata": {},
   "source": [
    "*** \n",
    "|[![Outlook](https://img.shields.io/badge/Microsoft_Outlook-0078D4?style=plastic&logo=microsoft-outlook&logoColor=white)](mailto:calvar52@eafit.edu.co)||[![Open In Colab](https://colab.research.google.com/assets/colab-badge.svg)](https://colab.research.google.com/github/carlosalvarezh/EstructuraDatosAlgoritmos2/blob/main/S09b_AlgoritmosParalelosMapReduce.ipynb)\n",
    "|-:|:-|--:|\n",
    "|[![LinkedIn](https://img.shields.io/badge/linkedin-%230077B5.svg?style=plastic&logo=linkedin&logoColor=white)](https://www.linkedin.com/in/carlosalvarez5/)|[![@alvarezhenao](https://img.shields.io/twitter/url/https/twitter.com/alvarezhenao.svg?style=social&label=Follow%20%40alvarezhenao)](https://twitter.com/alvarezhenao)|[![@carlosalvarezh](https://img.shields.io/badge/github-%23121011.svg?style=plastic&logo=github&logoColor=white)](https://github.com/carlosalvarezh)|\n",
    "\n",
    "<table>\n",
    " <tr align=left><td><img align=left src=\"https://github.com/carlosalvarezh/Curso_CEC_EAFIT/blob/main/images/CCLogoColorPop1.gif?raw=true\" width=\"25\">\n",
    " <td>Text provided under a Creative Commons Attribution license, CC-BY. All code is made available under the FSF-approved MIT license.(c) Carlos Alberto Alvarez Henao</td>\n",
    "</table>\n",
    "\n",
    "***"
   ]
  },
  {
   "cell_type": "markdown",
   "id": "10e82a27",
   "metadata": {},
   "source": [
    "## Map-Reduce y Multiprocesamiento en Python"
   ]
  },
  {
   "cell_type": "markdown",
   "id": "f197e6fa",
   "metadata": {},
   "source": [
    "<p float=\"center\">\n",
    "  <img src=\"https://github.com/carlosalvarezh/EstructuraDatosAlgoritmos2/blob/main/images/MapReduce00.PNG?raw=true\" width=\"500\" />\n",
    "</p>"
   ]
  },
  {
   "cell_type": "markdown",
   "id": "563c212f",
   "metadata": {},
   "source": [
    "### Introducción"
   ]
  },
  {
   "cell_type": "markdown",
   "id": "96d51ed7",
   "metadata": {},
   "source": [
    "[Map-Reduce](https://en.wikipedia.org/wiki/MapReduce) es un modelo de programación destinado al procesamiento paralelo y distribuido de grandes volúmenes de datos. Originado por Google, este modelo simplifica la computación en grandes clusters de servidores y se basa en dos funciones clave:\n",
    "\n",
    "- ***Map:*** En esta fase, los datos de entrada se dividen en fragmentos más pequeños y se procesan de manera independiente en paralelo a través de múltiples nodos en un entorno de computación distribuida. Cada fragmento se transforma o \"mapea\" en pares *clave-valor* aplicando una función definida por el usuario. El resultado de la fase de *Map* es un conjunto de pares clave-valor intermedios. \n",
    "<p>&nbsp;</p>\n",
    "\n",
    "- ***Reduce:*** Es la fase que sigue a la fase de *Map*. Recopila los pares *clave-valor* intermedios generados por las tareas de *Map*, realiza una reorganización de datos para agrupar los pares con la misma *clave* y luego aplica una función de reducción definida por el usuario para agregar y procesar los datos. El resultado de la fase de *Reduce* es el resultado final del cómputo.\n",
    "\n",
    "El ejemplo de *MapReduce* permite el procesamiento eficiente de conjuntos de datos a gran escala mediante el aprovechamiento del paralelismo y la distribución de la carga de trabajo a través de un clúster de máquinas. Simplifica el desarrollo de aplicaciones de procesamiento de datos distribuidos al abstraer las complejidades de la paralelización, distribución de datos y tolerancia a fallos, convirtiéndolo en una herramienta esencial para el procesamiento de grandes datos."
   ]
  },
  {
   "cell_type": "markdown",
   "id": "593b03ec",
   "metadata": {},
   "source": [
    "### Ventajas del Uso de MapReduce"
   ]
  },
  {
   "cell_type": "markdown",
   "id": "59dabaf8",
   "metadata": {},
   "source": [
    "\n",
    "Las ventajas de utilizar MapReduce son las siguientes:\n",
    "\n",
    "- **Flexibilidad en Programación:** MapReduce permite definir funciones de mapeo y reducción en varios lenguajes diferentes mediante el uso de Hadoop Streaming. Esto facilita la integración con diversas tecnologías y lenguajes de programación, proporcionando una amplia compatibilidad y flexibilidad.\n",
    "<p>&nbsp;</p>\n",
    "\n",
    "- **Paralelización y Distribución Automática:** MapReduce facilita la paralelización automática y la distribución de los datos, lo que reduce significativamente el tiempo necesario para ejecutar programas. Al distribuir automáticamente las tareas a través de múltiples nodos, MapReduce optimiza el uso de recursos y mejora el rendimiento de procesamiento.\n",
    "<p>&nbsp;</p>\n",
    "\n",
    "- **Tolerancia a Fallos:** MapReduce ofrece tolerancia a fallos mediante la reejecución de tareas fallidas. Al escribir las salidas del mapeo en un sistema de archivos distribuido y reiniciar las tareas de mapeo o reducción que fallan, se asegura la continuidad y la integridad del proceso de computación, incluso en caso de errores o fallos del sistema.\n",
    "<p>&nbsp;</p>\n",
    "\n",
    "- **Costo-Efectividad:** El procesamiento de datos con MapReduce es una solución costo-efectiva, especialmente para empresas y organizaciones que manejan grandes volúmenes de datos. Al utilizar infraestructura distribuida, se reducen los costos asociados con el procesamiento de grandes conjuntos de datos.\n",
    "<p>&nbsp;</p>\n",
    "\n",
    "- **Rapidez en el Procesamiento de Datos No Estructurados:** MapReduce procesa grandes volúmenes de datos no estructurados de manera muy rápida, haciéndolo ideal para aplicaciones que requieren el análisis de grandes cantidades de información no organizada, como datos de redes sociales, logs de servidores y más.\n",
    "<p>&nbsp;</p>\n",
    "\n",
    "- **Seguridad de Datos:** Utilizando las funcionalidades de seguridad de HDFS y HBase, MapReduce asegura la seguridad de los datos al permitir solo a usuarios autorizados acceder a la información almacenada en el sistema. Esto es crucial en entornos donde la protección y privacidad de los datos son prioritarias.\n",
    "<p>&nbsp;</p>\n",
    "\n",
    "- **Modelo de Programación Sencillo:** MapReduce utiliza un modelo de programación simple que permite manejar tareas de manera más eficiente y rápida. Este modelo es fácil de aprender, lo que reduce la curva de aprendizaje para los desarrolladores y permite a los usuarios concentrarse en la lógica del problema en lugar de los detalles de la implementación paralela.\n",
    "<p>&nbsp;</p>\n",
    "\n",
    "- **Flexibilidad de Datos:** MapReduce es flexible y compatible con varios lenguajes y tecnologías dentro del ecosistema Hadoop para manejar y almacenar datos. Esto permite que las organizaciones adopten MapReduce sin tener que reestructurar completamente sus sistemas de procesamiento de datos existentes."
   ]
  },
  {
   "cell_type": "markdown",
   "id": "6e28cda2",
   "metadata": {},
   "source": [
    "### Arquitectura de MapReduce"
   ]
  },
  {
   "cell_type": "markdown",
   "id": "3869dbe6",
   "metadata": {},
   "source": [
    "<p float=\"center\">\n",
    "  <img src=\"https://github.com/carlosalvarezh/EstructuraDatosAlgoritmos2/blob/main/images/MapReduce01.png?raw=true\" width=\"500\" />\n",
    "</p>\n",
    "\n",
    "El proceso de MapReduce se desglosa en las siguientes fases esenciales, que organizan y facilitan el procesamiento eficiente de grandes volúmenes de datos:\n",
    "\n",
    "- ***División de Entrada (Input Splits):*** MapReduce divide los datos de entrada en fragmentos más pequeños denominados *splits* de entrada, representando cada uno un bloque de trabajo asignado a una tarea de mapeador. Esta división permite que múltiples mapeadores procesen los datos de manera concurrente, optimizando así la utilización de recursos y acelerando el tiempo de procesamiento.\n",
    "<p>&nbsp;</p>\n",
    "\n",
    "- ***Mapeo (Mapping):*** Durante la fase de mapeo, los datos de entrada son procesados y divididos en segmentos más pequeños. El número de mapeadores es igual al número de *splits* de entrada. Un `RecordReader` produce un par clave-valor de los *splits* de entrada utilizando `TextInputFormat`, que más tarde el Reductor usará como entrada. El mapeador procesa estos pares clave-valor utilizando lógica de codificación específica para producir una salida en la misma forma de pares clave-valor.\n",
    "<p>&nbsp;</p>\n",
    "\n",
    "- ***Mezclado (Shuffling):*** En la fase de mezclado, la salida de la fase de mapeo es transmitida a la fase de reducción eliminando valores duplicados y agrupando los valores bajo claves comunes. La salida sigue siendo en forma de claves y valores como en la fase de mapeo. Dado que el mezclado puede comenzar incluso antes de que la fase de mapeo esté completa, se ahorra tiempo en el proceso general.\n",
    "<p>&nbsp;</p>\n",
    "\n",
    "- ***Ordenamiento (Sorting):*** El ordenamiento se realiza simultáneamente con el mezclado. La fase de ordenamiento implica la fusión y ordenación de la salida generada por el mapeador. Los pares clave-valor intermedios se ordenan por clave antes de iniciar la fase de reducción, y los valores pueden tomar cualquier orden. El ordenamiento por valor se realiza mediante un ordenamiento secundario.\n",
    "<p>&nbsp;</p>\n",
    "\n",
    "- ***Reducción (Reducing):*** En la fase de reducción, los valores intermedios de la fase de mezclado se reducen para producir un único valor de salida que resume todo el conjunto de datos. HDFS (Hadoop Distributed File System) se utiliza entonces para almacenar la salida final.\n",
    "\n",
    "***Implementación y Beneficios:*** \n",
    "\n",
    "Esta estructura no solo facilita el procesamiento paralelo y distribuido de grandes cantidades de datos, sino que también incorpora mecanismos robustos para la tolerancia a fallos y la optimización de la carga de trabajo. Cada fase está diseñada para maximizar la eficiencia del proceso de datos, desde la inicial segmentación hasta la consolidación final en la fase de reducción. MapReduce es particularmente efectivo en entornos donde se requiere el procesamiento de grandes volúmenes de datos no estructurados o semi-estructurados, ofreciendo una solución escalable y eficiente para análisis de datos y big data."
   ]
  },
  {
   "cell_type": "markdown",
   "id": "a956e856",
   "metadata": {},
   "source": [
    "### Ejemplo"
   ]
  },
  {
   "cell_type": "markdown",
   "id": "460535cd",
   "metadata": {},
   "source": [
    "En el siguiente ejemplo, se ilustra el uso del modelo MapReduce para contar la frecuencia de cada palabra en un texto dado. El proceso se descompone en tres fases principales: *Map*, *Shuffle* y *Reduce*.\n",
    "\n",
    "<p float=\"center\">\n",
    "  <img src=\"https://github.com/carlosalvarezh/EstructuraDatosAlgoritmos2/blob/main/images/MapReduce02.png?raw=true\" width=\"500\" />\n",
    "</p>\n",
    "\n",
    "- ***Fase de Map (Mapeo):*** El texto \"This is an apple. Apple is red in color.\" se divide en dos segmentos para procesar en paralelo y reducir el tiempo de procesamiento. La división resulta en dos fragmentos de entrada, lo que permite distribuir el trabajo en todos los nodos de mapeo. En esta fase, cada palabra del texto se cuenta y se representa en forma de pares clave-valor donde la clave es la palabra y el valor es la frecuencia de aparición. Por ejemplo, para el primer fragmento de entrada, el mapeador genera cuatro pares clave-valor: `This, 1`; `is, 1`; `an, 1`; `Apple, 1`. Para el segundo, produce cinco pares clave-valor: `Apple, 1`; `is, 1`; `red, 1`; `in, 1`; `color, 1`.\n",
    "<p>&nbsp;</p>\n",
    "\n",
    "- ***Fase de Shuffle (Mezclado):*** En la fase de mezclado, los valores se agrupan por claves en forma de pares *clave-valor*. Aquí obtenemos un total de seis grupos de pares *clave-valor*. Esto asegura que todos los valores asociados con una clave particular se procesen juntos en la siguiente fase.\n",
    "<p>&nbsp;</p>\n",
    "\n",
    "- ***Fase de Reduce (Reducción):*** En la fase de reducción, se usa el mismo reductor para todos los pares *clave-valor* con la misma clave. Todas las palabras presentes en los datos se combinan en una única salida. La salida muestra la frecuencia de cada palabra en el texto de entrada. En nuestro ejemplo, el resultado final son los pares clave-valor que reflejan la frecuencia de cada palabra: `This, 1`; `is, 2`; `an, 1`; `Apple, 2`; `red, 1`; `in, 1`; `color, 1`. Esto indica que, por ejemplo, la palabra `is` aparece dos veces en el texto completo.\n",
    "<p>&nbsp;</p>\n",
    "\n",
    "- ***Almacenamiento de Resultados:*** El escritor de registros (record writer) escribe los pares clave-valor finales del reductor en archivos de salida.\n",
    "\n",
    "Este proceso destaca cómo *MapReduce* facilita el análisis eficiente y rápido de grandes volúmenes de datos al distribuir y paralelizar el procesamiento, lo que es fundamental en el ámbito de los grandes datos (Big Data) y el análisis computacional."
   ]
  },
  {
   "cell_type": "markdown",
   "id": "4e00e9e8",
   "metadata": {},
   "source": [
    "### Limitaciones de MapReduce"
   ]
  },
  {
   "cell_type": "markdown",
   "id": "fa084a2c",
   "metadata": {},
   "source": [
    "Aunque MapReduce es un modelo poderoso para el procesamiento de datos a gran escala, no está exento de limitaciones. Algunas de estas restricciones son las siguientes:\n",
    "\n",
    "- **Programación de Bajo Nivel:** MapReduce requiere que los desarrolladores escriban código detallado para definir las funciones de Map y Reduce. Este modelo de bajo nivel puede conllevar a una mayor cantidad de código en comparación con los modelos de más alto nivel que automatizan más aspectos del procesamiento de datos.\n",
    "<p>&nbsp;</p>\n",
    "\n",
    "- **Procesamiento por Lotes:** La naturaleza de procesamiento por lotes de MapReduce no es adecuada para el procesamiento en tiempo real. Los sistemas que requieren respuestas inmediatas o el procesamiento de flujos de datos continuos pueden encontrar ineficiente la estructura de MapReduce, que está diseñada para el procesamiento de datos acumulados en lotes grandes.\n",
    "<p>&nbsp;</p>\n",
    "\n",
    "- **Falta de Soporte para Pipeline de Datos:** MapReduce no admite el pipeline de datos ni la superposición de las fases de Map y Reduce. Cada fase debe completarse antes de que la siguiente comience, lo que puede resultar en un uso ineficiente de los recursos si las tareas podrían superponerse de manera productiva.\n",
    "<p>&nbsp;</p>\n",
    "\n",
    "- **Gestión de Tareas Ineficiente:** La inicialización de tareas, coordinación, monitoreo y programación ocupan una gran parte del tiempo de ejecución de MapReduce y pueden disminuir su rendimiento. Este gasto de tiempo en la gestión de tareas puede ser significativo, especialmente cuando se manejan grandes cantidades de tareas pequeñas o trabajos de corta duración.\n",
    "<p>&nbsp;</p>\n",
    "\n",
    "- **No Caching de Datos Intermedios:** MapReduce no puede almacenar datos intermedios en la memoria, lo que podría reducir la eficiencia del Hadoop al acceder repetidamente al almacenamiento en disco para datos que podrían ser procesados más rápidamente si se mantuvieran en la memoria.\n"
   ]
  },
  {
   "cell_type": "markdown",
   "id": "e1cb4e85",
   "metadata": {},
   "source": [
    "### Flujo de Trabajo de Ejemplo con Map y Reduce para la Estimación de 𝜋"
   ]
  },
  {
   "cell_type": "markdown",
   "id": "65bc0a82",
   "metadata": {},
   "source": [
    "#### Introducción"
   ]
  },
  {
   "cell_type": "markdown",
   "id": "03100e63",
   "metadata": {},
   "source": [
    "Python, al soportar el paradigma de [programación funcional](https://docs.python.org/3/howto/functional.html) y contar con funciones integradas de *map* y *reduce*, facilita la prototipación de soluciones usando estos bloques constructivos. Una aplicación práctica y educativa común para marcos de trabajo que soportan el paradigma *MapReduce* es la estimación empírica del valor de $\\pi$.\n",
    "\n",
    "La fórmula para el área $A$ de un círculo con radio $r$ es $A=\\pi r^2 $, por lo que el radio y el área de un círculo pueden utilizarse para computar $\\pi=\\frac{A}{r^2} $. Estableciendo $r = \\frac{1}{2}$ obtenemos $\\pi = \\frac{A}{(\\frac{1}{2})^2} = 4A$. Por lo tanto, para estimar $\\pi$, es suficiente multiplicar por $4$ el área de un círculo con radio $\\frac{1}{2}$.\n",
    "\n",
    "Un círculo con radio de $\\frac{1}{2}$ tiene un diámetro de $1$ y por lo tanto se ajusta perfectamente dentro de un cuadrado con lados de longitud $1$ (y, así, un área de $1 \\times 1 = 1$). Esto permite estimar $A$ generando puntos aleatorios dentro de un cuadrado de área $1$ y luego contando cuántos de estos puntos aleatorios se encuentran dentro del círculo de radio $\\frac{1}{2}$ que está inscrito perfectamente dentro de ese cuadrado.\n"
   ]
  },
  {
   "cell_type": "markdown",
   "id": "fa7561c0",
   "metadata": {},
   "source": [
    "#### Cálculo serial"
   ]
  },
  {
   "cell_type": "code",
   "execution_count": 1,
   "id": "a04e5c2f",
   "metadata": {},
   "outputs": [
    {
     "name": "stdout",
     "output_type": "stream",
     "text": [
      "Aproximación de 𝜋: 3.143644\n",
      "Execution time: 0.6951911449432373 seconds\n",
      "Error%: 0.06529638422905984\n"
     ]
    },
    {
     "data": {
      "image/png": "[encoded data removed]",
      "text/plain": [
       "<Figure size 500x500 with 1 Axes>"
      ]
     },
     "metadata": {},
     "output_type": "display_data"
    }
   ],
   "source": [
    "import random\n",
    "import time\n",
    "import matplotlib.pyplot as plt\n",
    "\n",
    "def estimate_pi_serial(num_samples):\n",
    "    points_inside_circle = 0\n",
    "    inside_points = []\n",
    "    outside_points = []\n",
    "\n",
    "    for _ in range(num_samples):\n",
    "        # Generar un punto aleatorio\n",
    "        x, y = random.random(), random.random()\n",
    "        # Checar si el punto está dentro del círculo de radio 0.5\n",
    "        if (x - 0.5)**2 + (y - 0.5)**2 <= (0.5)**2:\n",
    "            points_inside_circle += 1\n",
    "            inside_points.append((x, y))\n",
    "        else:\n",
    "            outside_points.append((x, y))\n",
    "    # Calcular la aproximación de pi multiplicando por 4 el área del círculo\n",
    "    pi_estimate = 4 * (points_inside_circle / num_samples)\n",
    "\n",
    "    return pi_estimate, inside_points, outside_points\n",
    "\n",
    "def visualize_points(inside_points, outside_points):\n",
    "    # Visualización gráfica\n",
    "    inside_x, inside_y = zip(*inside_points)\n",
    "    outside_x, outside_y = zip(*outside_points)\n",
    "    plt.figure(figsize=(5,5))\n",
    "    plt.scatter(inside_x, inside_y, color='b', s=1)\n",
    "    plt.scatter(outside_x, outside_y, color='r', s=1)\n",
    "    plt.show()\n",
    "\n",
    "# Ejemplo de uso para 10000 muestras\n",
    "start_time = time.time()\n",
    "pi_approximation, inside_points, outside_points = estimate_pi_serial(1000000)\n",
    "end_time = time.time()\n",
    "\n",
    "pi = 3.14159265359\n",
    "\n",
    "print(f\"Aproximación de 𝜋: {pi_approximation}\")\n",
    "print(f\"Execution time: {end_time - start_time} seconds\")\n",
    "print(f\"Error%: {abs(pi - pi_approximation)/pi * 100}\")\n",
    "\n",
    "visualize_points(inside_points, outside_points)\n"
   ]
  },
  {
   "cell_type": "markdown",
   "id": "4f1f6856",
   "metadata": {},
   "source": [
    "#### Implementación del Map y Reduce en Python (serial)"
   ]
  },
  {
   "cell_type": "markdown",
   "id": "c343d93b",
   "metadata": {},
   "source": [
    "Para implementar esta estimación, se pueden usar las funciones map y reduce de Python de la siguiente manera:\n",
    "\n",
    "1. **Fase Map:** Generamos puntos aleatorios y mapeamos cada punto a un valor de 1 si está dentro del círculo y 0 si no lo está."
   ]
  },
  {
   "cell_type": "code",
   "execution_count": 2,
   "id": "635d1fdb",
   "metadata": {},
   "outputs": [],
   "source": [
    "import random\n",
    "import time\n",
    "import matplotlib.pyplot as plt\n",
    "\n",
    "def map_point(_):\n",
    "    # Generar punto aleatorio dentro del cuadrado\n",
    "    x, y = random.random(), random.random()\n",
    "    # Checar si el punto está dentro del círculo inscrito\n",
    "    return ((x, y), 1) if (x - 0.5)**2 + (y - 0.5)**2 <= (0.5)**2 else ((x, y), 0)\n"
   ]
  },
  {
   "cell_type": "markdown",
   "id": "16a5e3c6",
   "metadata": {},
   "source": [
    "2. **Fase Reduce:** Sumamos los valores obtenidos por la función map para contar cuántos puntos están dentro del círculo."
   ]
  },
  {
   "cell_type": "code",
   "execution_count": 3,
   "id": "71a09169",
   "metadata": {},
   "outputs": [],
   "source": [
    "from functools import reduce\n",
    "\n",
    "def reduce_points(accumulated, point_value):\n",
    "    # Sumar el valor del punto al acumulado para el conteo total\n",
    "    (points, total), (point, value) = accumulated, point_value\n",
    "    if value == 1:\n",
    "        points[0].append(point)\n",
    "    else:\n",
    "        points[1].append(point)\n",
    "    return (points, total + value)\n"
   ]
  },
  {
   "cell_type": "markdown",
   "id": "418a689e",
   "metadata": {},
   "source": [
    "3. **Estimación de $ \\pi $:** Ejecutamos las fases map y reduce y multiplicamos el resultado por 4 para obtener la estimación de $ \\pi $."
   ]
  },
  {
   "cell_type": "code",
   "execution_count": 4,
   "id": "62740f4d",
   "metadata": {},
   "outputs": [],
   "source": [
    "def estimate_pi(num_samples):\n",
    "    mapped_points = map(map_point, range(num_samples))\n",
    "    (points, points_inside_circle) = reduce(reduce_points, mapped_points, (([], []), 0))\n",
    "    return 4 * (points_inside_circle / num_samples), points\n"
   ]
  },
  {
   "cell_type": "markdown",
   "id": "83d8024f",
   "metadata": {},
   "source": [
    "4. ***Visualización de resultados***"
   ]
  },
  {
   "cell_type": "code",
   "execution_count": 5,
   "id": "c34960c9",
   "metadata": {},
   "outputs": [],
   "source": [
    "def visualize_points(points):\n",
    "    # Visualización gráfica\n",
    "    inside_points, outside_points = points\n",
    "    inside_x, inside_y = zip(*inside_points)\n",
    "    outside_x, outside_y = zip(*outside_points)\n",
    "    plt.figure(figsize=(5,5))\n",
    "    plt.scatter(inside_x, inside_y, color='b', s=1)\n",
    "    plt.scatter(outside_x, outside_y, color='r', s=1)\n",
    "    plt.show()\n",
    "    "
   ]
  },
  {
   "cell_type": "code",
   "execution_count": 6,
   "id": "097a1aef",
   "metadata": {},
   "outputs": [
    {
     "name": "stdout",
     "output_type": "stream",
     "text": [
      "Aproximación de 𝜋: 3.139028\n",
      "Execution time: 0.9776730537414551 seconds\n",
      "Error%: 0.08163545923336678\n"
     ]
    },
    {
     "data": {
      "image/png": "[encoded data removed]",
      "text/plain": [
       "<Figure size 500x500 with 1 Axes>"
      ]
     },
     "metadata": {},
     "output_type": "display_data"
    }
   ],
   "source": [
    "# Ejemplo de uso para 1000000 muestras\n",
    "start_time = time.time()\n",
    "pi_approximation, points = estimate_pi(1000000)\n",
    "end_time = time.time()\n",
    "\n",
    "pi = 3.14159265359\n",
    "\n",
    "print(f\"Aproximación de 𝜋: {pi_approximation}\")\n",
    "print(f\"Execution time: {end_time - start_time} seconds\")\n",
    "print(f\"Error%: {abs(pi - pi_approximation)/pi * 100}\")\n",
    "\n",
    "visualize_points(points)\n"
   ]
  },
  {
   "cell_type": "markdown",
   "id": "e6b5f6ed",
   "metadata": {},
   "source": [
    "Este flujo de trabajo ilustra cómo se pueden aplicar los conceptos de map y reduce para resolver un problema computacional complejo mediante la simplificación en tareas más pequeñas y manejables, aprovechando la paralelización para mejorar el rendimiento y la eficiencia."
   ]
  },
  {
   "cell_type": "markdown",
   "id": "8fd64433",
   "metadata": {},
   "source": [
    "#### Implementación del Map y Reduce en Python (paralelo)"
   ]
  },
  {
   "cell_type": "code",
   "execution_count": 7,
   "id": "810ac57b",
   "metadata": {},
   "outputs": [
    {
     "name": "stdout",
     "output_type": "stream",
     "text": [
      "Aproximación de 𝜋: 3.142128\n",
      "Execution time: 4.528998136520386 seconds\n",
      "Error%: 0.017040605483598033\n"
     ]
    },
    {
     "data": {
      "image/png": "[encoded data removed]",
      "text/plain": [
       "<Figure size 500x500 with 1 Axes>"
      ]
     },
     "metadata": {},
     "output_type": "display_data"
    }
   ],
   "source": [
    "import time\n",
    "import matplotlib.pyplot as plt\n",
    "from multiprocess import Pool\n",
    "from functools import reduce\n",
    "\n",
    "def map_point(_):\n",
    "    import random\n",
    "    # Generar punto aleatorio dentro del cuadrado\n",
    "    x, y = random.random(), random.random()\n",
    "    # Checar si el punto está dentro del círculo inscrito\n",
    "    return ((x, y), 1) if (x - 0.5)**2 + (y - 0.5)**2 <= (0.5)**2 else ((x, y), 0)\n",
    "\n",
    "def reduce_points(accumulated, point_value):\n",
    "    # Sumar el valor del punto al acumulado para el conteo total\n",
    "    (points, total), (point, value) = accumulated, point_value\n",
    "    if value == 1:\n",
    "        points[0].append(point)\n",
    "    else:\n",
    "        points[1].append(point)\n",
    "    return (points, total + value)\n",
    "\n",
    "def estimate_pi(num_samples):\n",
    "    with Pool() as p:\n",
    "        mapped_points = p.map(map_point, range(num_samples))\n",
    "    (points, points_inside_circle) = reduce(reduce_points, mapped_points, (([], []), 0))\n",
    "    return 4 * (points_inside_circle / num_samples), points\n",
    "\n",
    "def visualize_points(points):\n",
    "    # Visualización gráfica\n",
    "    inside_points, outside_points = points\n",
    "    inside_x, inside_y = zip(*inside_points)\n",
    "    outside_x, outside_y = zip(*outside_points)\n",
    "    plt.figure(figsize=(5,5))\n",
    "    plt.scatter(inside_x, inside_y, color='b', s=1)\n",
    "    plt.scatter(outside_x, outside_y, color='r', s=1)\n",
    "    plt.show()\n",
    "\n",
    "if __name__ == '__main__':\n",
    "    # Ejemplo de uso para 10000 muestras\n",
    "    start_time = time.time()\n",
    "    pi_approximation, points = estimate_pi(1000000)\n",
    "    end_time = time.time()\n",
    "\n",
    "    pi = 3.14159265359\n",
    "\n",
    "    print(f\"Aproximación de 𝜋: {pi_approximation}\")\n",
    "    print(f\"Execution time: {end_time - start_time} seconds\")\n",
    "    print(f\"Error%: {abs(pi - pi_approximation)/pi * 100}\")\n",
    "\n",
    "    visualize_points(points)\n"
   ]
  },
  {
   "cell_type": "markdown",
   "id": "5b9f7f05",
   "metadata": {},
   "source": [
    "#### Análisis de Resultados en la Estimación de 𝜋 por Monte Carlo"
   ]
  },
  {
   "cell_type": "markdown",
   "id": "d1e28254",
   "metadata": {},
   "source": [
    "Los resultados obtenidos a partir de la implementación de tres enfoques distintos para calcular el valor de 𝜋 mediante el método de Monte Carlo en Python presentan diferencias notables que merecen una explicación detallada.\n",
    "\n",
    "Para $n=1000000$ (un millón de puntos)\n",
    "\n",
    "| Método                  | Aproximación de 𝜋 | Tiempo de Ejecución (segundos) | Error%               |\n",
    "|-------------------------|--------------------|-------------------------------|----------------------|\n",
    "| Serial                  | 3.143644           | 0.6952                        | 0.065296 |\n",
    "| Map-Reduce Serial       | 3.139028           | 0.9777                        | 0.081635 |\n",
    "| Map-Reduce Paralelo (4 procesos) | 3.142128  | 4.5290                        | 0.017041 |\n",
    "\n",
    "- ***Enfoque Serial:*** El cálculo serial de 𝜋 ofrece una aproximación de 3.141304 en un tiempo de ejecución de aproximadamente 0.78 segundos, con un error porcentual de aproximadamente el 0.009% con respecto al valor real de 𝜋. Este enfoque, al ejecutarse en un solo hilo, demuestra la eficiencia inherente del procesamiento secuencial cuando no hay sobrecarga por paralelización.\n",
    "\n",
    "- ***Map-Reduce Serial:*** Al adaptar el enfoque serial a un modelo Map-Reduce, la aproximación de 𝜋 fue ligeramente menos precisa con un valor de 3.144076 y un tiempo de ejecución mayor, cerca de 1 segundo, y un error porcentual del 0.079%. Este aumento en el tiempo podría estar relacionado con la sobrecarga adicional de las operaciones de map y reduce realizadas secuencialmente, incluso sin el paralelismo.\n",
    "\n",
    "- ***Map-Reduce Paralelo (4 procesos):*** La implementación de Map-Reduce en paralelo, utilizando 4 procesos, resultó en una aproximación de 3.1419332 con un tiempo de ejecución considerablemente mayor, más de 43 segundos, y un error porcentual del 0.0108%. Contrario a la expectativa común de que el paralelismo mejora el rendimiento, el tiempo de ejecución observado es considerablemente más alto que en los enfoques seriales.\n",
    "\n",
    "***Reflexión sobre la Discrepancia de Tiempos en Paralelo***\n",
    "\n",
    "Los resultados no parecen coherentes a primera vista; se esperaría que el enfoque paralelo fuera más rápido. Sin embargo, hay varios factores a considerar:\n",
    "\n",
    "- **Sobrecarga de Paralelización:** El tiempo de ejecución extendido puede deberse a la sobrecarga significativa en la creación, gestión y sincronización de los procesos, especialmente si la tarea a paralelizar es relativamente ligera en términos de cómputo.\n",
    "\n",
    "- **Global Interpreter Lock (GIL) de Python:** El GIL en Python puede limitar el rendimiento del paralelismo, ya que evita la ejecución simultánea de múltiples hilos en el intérprete de Python, lo que podría explicar por qué el enfoque paralelo no logra un mejor tiempo.\n",
    "\n",
    "- **Comunicación entre Procesos:** La biblioteca `multiprocessing` utiliza procesos separados que pueden incurrir en latencia debido a la comunicación entre procesos, especialmente al recopilar y combinar resultados.\n",
    "\n",
    "- **Arquitectura del Hardware:** Si el hardware no tiene suficientes núcleos para soportar el número de procesos, la competencia por los recursos de CPU puede llevar a un rendimiento más pobre.\n",
    "\n",
    "- **Distribución Ineficiente del Trabajo:** Si la carga de trabajo no está bien distribuida entre los procesos, algunos pueden terminar su trabajo antes y quedarse inactivos, lo que también puede aumentar el tiempo total.\n",
    "\n",
    "Para validar si el paralelismo es beneficioso, se debe asegurar que la cantidad de datos procesados justifique el uso de múltiples procesos y que la máquina tenga suficientes núcleos para manejar estos procesos eficientemente. Además, sería recomendable revisar la implementación para identificar cuellos de botella o ineficiencias en la comunicación entre procesos."
   ]
  },
  {
   "cell_type": "markdown",
   "id": "6c3b5165",
   "metadata": {},
   "source": [
    "#### Resumen"
   ]
  },
  {
   "cell_type": "code",
   "execution_count": 8,
   "id": "26f7677a",
   "metadata": {},
   "outputs": [
    {
     "name": "stdout",
     "output_type": "stream",
     "text": [
      "                 Method         n  Pi Approximation    Error%  Execution Time\n",
      "0                Serial      1000          3.116000  0.814639        0.000000\n",
      "1     Map-Reduce Serial      1000          3.140000  0.050696        0.000000\n",
      "2   Map-Reduce Parallel      1000          3.256000  3.641699        0.199700\n",
      "3                Serial     10000          3.142400  0.025699        0.005004\n",
      "4     Map-Reduce Serial     10000          3.154400  0.407670        0.005068\n",
      "5   Map-Reduce Parallel     10000          3.130400  0.356273        0.245106\n",
      "6                Serial    100000          3.142720  0.035885        0.060063\n",
      "7     Map-Reduce Serial    100000          3.139320  0.072341        0.118555\n",
      "8   Map-Reduce Parallel    100000          3.141920  0.010420        0.686453\n",
      "9                Serial   1000000          3.140012  0.050314        0.590363\n",
      "10    Map-Reduce Serial   1000000          3.144300  0.086178        1.159936\n",
      "11  Map-Reduce Parallel   1000000          3.143548  0.062241        4.519751\n",
      "12               Serial  10000000          3.141784  0.006103        5.370171\n",
      "13    Map-Reduce Serial  10000000          3.141742  0.004741       12.062631\n",
      "14  Map-Reduce Parallel  10000000          3.140766  0.026313       44.172397\n"
     ]
    },
    {
     "data": {
      "image/png": "[encoded data removed]",
      "text/plain": [
       "<Figure size 640x480 with 1 Axes>"
      ]
     },
     "metadata": {},
     "output_type": "display_data"
    }
   ],
   "source": [
    "import random\n",
    "import time\n",
    "import matplotlib.pyplot as plt\n",
    "import pandas as pd\n",
    "from multiprocess import Pool\n",
    "from functools import reduce\n",
    "\n",
    "# Estimación de Pi en serie\n",
    "def estimate_pi_serial(num_samples):\n",
    "    points_inside_circle = 0\n",
    "    for _ in range(num_samples):\n",
    "        x, y = random.random(), random.random()\n",
    "        if (x - 0.5)**2 + (y - 0.5)**2 <= (0.5)**2:\n",
    "            points_inside_circle += 1\n",
    "    return 4 * (points_inside_circle / num_samples)\n",
    "\n",
    "# Estimación de Pi con Map-Reduce en serie\n",
    "def map_point(_):\n",
    "    import random\n",
    "    x, y = random.random(), random.random()\n",
    "    return ((x, y), 1) if (x - 0.5)**2 + (y - 0.5)**2 <= (0.5)**2 else ((x, y), 0)\n",
    "\n",
    "def reduce_points(accumulated, point_value):\n",
    "    (points, total), (point, value) = accumulated, point_value\n",
    "    if value == 1:\n",
    "        points[0].append(point)\n",
    "    else:\n",
    "        points[1].append(point)\n",
    "    return (points, total + value)\n",
    "\n",
    "def estimate_pi_map_reduce_serial(num_samples):\n",
    "    mapped_points = map(map_point, range(num_samples))\n",
    "    (points, points_inside_circle) = reduce(reduce_points, mapped_points, (([], []), 0))\n",
    "    return 4 * (points_inside_circle / num_samples)\n",
    "\n",
    "# Estimación de Pi con Map-Reduce en paralelo\n",
    "def estimate_pi_map_reduce_parallel(num_samples):\n",
    "    with Pool() as p:\n",
    "        mapped_points = p.map(map_point, range(num_samples))\n",
    "    (points, points_inside_circle) = reduce(reduce_points, mapped_points, (([], []), 0))\n",
    "    return 4 * (points_inside_circle / num_samples)\n",
    "\n",
    "def main():\n",
    "    n_values = [1000, 10000, 100000, 1000000, 10000000]\n",
    "    pi = 3.14159265359\n",
    "    results = []\n",
    "\n",
    "    for n in n_values:\n",
    "        start_time = time.time()\n",
    "        pi_approximation = estimate_pi_serial(n)\n",
    "        end_time = time.time()\n",
    "        results.append(['Serial', n, pi_approximation, abs(pi - pi_approximation)/pi * 100, end_time - start_time])\n",
    "\n",
    "        start_time = time.time()\n",
    "        pi_approximation = estimate_pi_map_reduce_serial(n)\n",
    "        end_time = time.time()\n",
    "        results.append(['Map-Reduce Serial', n, pi_approximation, abs(pi - pi_approximation)/pi * 100, end_time - start_time])\n",
    "\n",
    "        start_time = time.time()\n",
    "        pi_approximation = estimate_pi_map_reduce_parallel(n)\n",
    "        end_time = time.time()\n",
    "        results.append(['Map-Reduce Parallel', n, pi_approximation, abs(pi - pi_approximation)/pi * 100, end_time - start_time])\n",
    "\n",
    "    df = pd.DataFrame(results, columns=['Method', 'n', 'Pi Approximation', 'Error%', 'Execution Time'])\n",
    "    print(df)\n",
    "\n",
    "    for method in df['Method'].unique():\n",
    "        plt.plot(df[df['Method'] == method]['n'], df[df['Method'] == method]['Execution Time'], label=method)\n",
    "    plt.xscale('log')\n",
    "    plt.yscale('log')\n",
    "    plt.xlabel('n')\n",
    "    plt.ylabel('Execution Time')\n",
    "    plt.legend()\n",
    "    plt.show()\n",
    "\n",
    "if __name__ == '__main__':\n",
    "    main()"
   ]
  },
  {
   "cell_type": "markdown",
   "id": "0cdf981e",
   "metadata": {},
   "source": []
  }
 ],
 "metadata": {
  "kernelspec": {
   "display_name": "Python 3 (ipykernel)",
   "language": "python",
   "name": "python3"
  },
  "language_info": {
   "codemirror_mode": {
    "name": "ipython",
    "version": 3
   },
   "file_extension": ".py",
   "mimetype": "text/x-python",
   "name": "python",
   "nbconvert_exporter": "python",
   "pygments_lexer": "ipython3",
   "version": "3.11.8"
  },
  "toc": {
   "base_numbering": 1,
   "nav_menu": {},
   "number_sections": true,
   "sideBar": true,
   "skip_h1_title": true,
   "title_cell": "Table of Contents",
   "title_sidebar": "Contents",
   "toc_cell": false,
   "toc_position": {
    "height": "calc(100% - 180px)",
    "left": "10px",
    "top": "150px",
    "width": "588.865px"
   },
   "toc_section_display": true,
   "toc_window_display": false
  }
 },
 "nbformat": 4,
 "nbformat_minor": 5
}
