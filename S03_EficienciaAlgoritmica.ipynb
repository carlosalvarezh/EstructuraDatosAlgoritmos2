{
 "cells": [
  {
   "cell_type": "markdown",
   "id": "f53755b6",
   "metadata": {},
   "source": [
    "<h1 align=\"center\">Estructura de Datos y Algoritmos II</h1>\n",
    "<h1 align=\"center\">Semana03: Eficiencia algorítmica</h1>\n",
    "<h1 align=\"center\">2024</h1>\n",
    "<h1 align=\"center\">MEDELLÍN - COLOMBIA </h1>"
   ]
  },
  {
   "cell_type": "markdown",
   "id": "b677e269",
   "metadata": {},
   "source": [
    "*** \n",
    "|[![Outlook](https://img.shields.io/badge/Microsoft_Outlook-0078D4?style=plastic&logo=microsoft-outlook&logoColor=white)](mailto:calvar52@eafit.edu.co)||[![Open In Colab](https://colab.research.google.com/assets/colab-badge.svg)](https://colab.research.google.com/github/carlosalvarezh/EstructuraDatosAlgoritmos2/blob/main/S03_EficienciaAlgoritmica.ipynb)\n",
    "|-:|:-|--:|\n",
    "|[![LinkedIn](https://img.shields.io/badge/linkedin-%230077B5.svg?style=plastic&logo=linkedin&logoColor=white)](https://www.linkedin.com/in/carlosalvarez5/)|[![@alvarezhenao](https://img.shields.io/twitter/url/https/twitter.com/alvarezhenao.svg?style=social&label=Follow%20%40alvarezhenao)](https://twitter.com/alvarezhenao)|[![@carlosalvarezh](https://img.shields.io/badge/github-%23121011.svg?style=plastic&logo=github&logoColor=white)](https://github.com/carlosalvarezh)|\n",
    "\n",
    "<table>\n",
    " <tr align=left><td><img align=left src=\"https://github.com/carlosalvarezh/Curso_CEC_EAFIT/blob/main/images/CCLogoColorPop1.gif?raw=true\" width=\"25\">\n",
    " <td>Text provided under a Creative Commons Attribution license, CC-BY. All code is made available under the FSF-approved MIT license.(c) Carlos Alberto Alvarez Henao</td>\n",
    "</table>\n",
    "\n",
    "***"
   ]
  },
  {
   "cell_type": "markdown",
   "id": "8f40d3c5",
   "metadata": {},
   "source": [
    "<p float=\"center\">\n",
    "  <img src=\"https://github.com/carlosalvarezh/EstructuraDatosAlgoritmos2/blob/main/images/Time.avif?raw=true\" width=\"350\" />\n",
    "</p>\n",
    "\n",
    "<p style=\"text-align: center;\">\n",
    "    <strong>Tomado de:</strong> <a href=\"https://unsplash.com/es/fotos/foto-de-enfoque-selectivo-de-reloj-de-arena-marron-y-azul-en-piedras-BXOXnQ26B7o\">Unsplash</a>\n",
    "</p>"
   ]
  },
  {
   "cell_type": "markdown",
   "id": "8870a5c7",
   "metadata": {},
   "source": [
    "## Eficiencia Algorítmica"
   ]
  },
  {
   "cell_type": "markdown",
   "id": "1180cbb9",
   "metadata": {},
   "source": [
    "### Introducción"
   ]
  },
  {
   "cell_type": "markdown",
   "id": "285c3b6e",
   "metadata": {},
   "source": [
    "En el ámbito de la Ciencia de la Computación, el estudio y aplicación de algoritmos se centra en encontrar soluciones óptimas para diversos problemas. Un aspecto crucial en este proceso es la [eficiencia algorítmica](https://en.wikipedia.org/wiki/Time_complexity), que determina la efectividad de un algoritmo en términos de los recursos que consume, siendo estos principalmente el tiempo y la memoria. Esta introducción aborda los conceptos fundamentales de la eficiencia algorítmica, enfocándose en la complejidad temporal y espacial, dos métricas esenciales para evaluar y comparar algoritmos."
   ]
  },
  {
   "cell_type": "markdown",
   "id": "b90a6c0a",
   "metadata": {},
   "source": [
    "### Definición de Eficiencia Algorítmica"
   ]
  },
  {
   "cell_type": "markdown",
   "id": "d641bda5",
   "metadata": {},
   "source": [
    "La eficiencia algorítmica es una medida que determina la cantidad de recursos computacionales que un algoritmo requiere para ejecutarse. Esta eficiencia es independiente del hardware o configuración de la máquina donde se ejecuta el algoritmo, y se relaciona directamente con el tamaño de los datos de entrada. Existen dos principales tipos de eficiencia algorítmica: la complejidad temporal y la complejidad espacial."
   ]
  },
  {
   "cell_type": "markdown",
   "id": "46735275",
   "metadata": {},
   "source": [
    "#### Complejidad Temporal"
   ]
  },
  {
   "cell_type": "markdown",
   "id": "bd36dbb8",
   "metadata": {},
   "source": [
    "La complejidad temporal de un algoritmo se refiere a la cantidad de tiempo que toma ejecutarlo, en función de la longitud de la entrada. No se mide en tiempo real de ejecución, sino en términos de la cantidad de operaciones elementales que el algoritmo realiza. La eficiencia temporal de un algoritmo se ve fuertemente influenciada por el tamaño de la entrada; a medida que este tamaño aumenta, también lo hace el tiempo de ejecución."
   ]
  },
  {
   "cell_type": "markdown",
   "id": "2164635e",
   "metadata": {},
   "source": [
    "#### Complejidad Espacial"
   ]
  },
  {
   "cell_type": "markdown",
   "id": "28467752",
   "metadata": {},
   "source": [
    "Por otro lado, la complejidad espacial de un algoritmo mide la cantidad de memoria requerida para su ejecución. Esta incluye la memoria necesaria para almacenar los datos de entrada, así como cualquier espacio adicional necesario para procesar esos datos. La complejidad espacial es crucial, especialmente en contextos donde la memoria es limitada.\n"
   ]
  },
  {
   "cell_type": "markdown",
   "id": "04bea7ea",
   "metadata": {},
   "source": [
    "### Importancia de la Complejidad Temporal y Espacial"
   ]
  },
  {
   "cell_type": "markdown",
   "id": "60481616",
   "metadata": {},
   "source": [
    "La eficiencia en términos de tiempo y espacio es fundamental para el desarrollo de algoritmos eficaces. Por ejemplo, en el caso de algoritmos de ordenamiento, diferentes métodos pueden tener distintos niveles de eficiencia. La elección del algoritmo más eficiente depende de realizar un análisis computacional detallado de cada opción, considerando tanto la complejidad temporal como la espacial."
   ]
  },
  {
   "cell_type": "markdown",
   "id": "40665866",
   "metadata": {},
   "source": [
    "### Operaciones básicas"
   ]
  },
  {
   "cell_type": "markdown",
   "id": "f6a231a6",
   "metadata": {},
   "source": [
    "En el contexto de la complejidad algorítmica y el análisis de algoritmos, *\"operaciones básicas\"* (o *elementales*) se refieren a las acciones fundamentales que un algoritmo realiza en su ejecución. Estas operaciones son los elementos esenciales y más simples que componen el algoritmo y determinan en gran medida su rendimiento y eficiencia. Algunos ejemplos incluyen:\n",
    "\n",
    "- ***Operaciones Aritméticas:*** Como sumar, restar, multiplicar y dividir.\n",
    "<p>&nbsp;</p>\n",
    "\n",
    "- ***Comparaciones:*** Como verificar si un número es mayor, menor o igual a otro.\n",
    "<p>&nbsp;</p>\n",
    "\n",
    "- ***Asignaciones:*** Asignar un valor a una variable.\n",
    "<p>&nbsp;</p>\n",
    "\n",
    "- ***Accesos a Memoria:*** Leer o escribir datos en una ubicación de memoria, como acceder a un elemento en un arreglo.\n",
    "<p>&nbsp;</p>\n",
    "\n",
    "- ***Operaciones de Control de Flujo:*** Como declaraciones if, ciclos for o while.\n",
    "\n",
    "En el análisis de algoritmos, frecuentemente se cuenta el número de estas operaciones básicas para estimar la complejidad temporal de un algoritmo, especialmente en el contexto de la notación $\\text{Big}(\\mathcal{O})$. Este enfoque permite una comparación estandarizada de algoritmos en términos de eficiencia, independientemente de la máquina o el lenguaje de programación en el que se implementan."
   ]
  },
  {
   "cell_type": "markdown",
   "id": "45fc9a15",
   "metadata": {},
   "source": [
    "### Ejemplo: Suma de dos números enteros"
   ]
  },
  {
   "cell_type": "markdown",
   "id": "b33dec4c",
   "metadata": {},
   "source": [
    "Imagina que tienes un algoritmo cuyo único propósito es sumar dos números. Por ejemplo, tienes dos números, `numero1` y `numero2`, y tu algoritmo simplemente los suma para obtener su resultado, `suma`.\n",
    "\n",
    "***¿Cómo Calcular su Complejidad Temporal?***\n",
    "Para evaluar la complejidad temporal de este algoritmo, consideramos cuántas operaciones básicas necesita realizar. En este caso, nuestro algoritmo realiza una sola operación, independientemente de los valores de los números: la suma de los dos números.\n",
    "\n",
    "```\n",
    "ALGORITMO SumarDosNumeros\n",
    "    INICIO\n",
    "        // Definir las variables\n",
    "        DECLARE numero1, numero2, suma: INTEGER\n",
    "\n",
    "        // Leer los dos números\n",
    "        LEER numero1\n",
    "        LEER numero2\n",
    "\n",
    "        // Sumar los números\n",
    "        suma = numero1 + numero2\n",
    "\n",
    "        // Mostrar el resultado\n",
    "        ESCRIBIR suma\n",
    "    FIN\n",
    "```\n",
    "\n",
    "Dado que el número de operaciones (en este caso, una sola suma) no cambia sin importar los números específicos que estamos sumando, decimos que la complejidad temporal de este algoritmo es constante, o en términos técnicos, es $\\mathcal{O}(1)$. Esto significa que el tiempo que toma ejecutar el algoritmo no varía con el tamaño de la entrada, ya que siempre está realizando exactamente la misma cantidad de trabajo (una operación)."
   ]
  },
  {
   "cell_type": "markdown",
   "id": "a61b8079",
   "metadata": {},
   "source": [
    "## Notación Asintótica"
   ]
  },
  {
   "cell_type": "markdown",
   "id": "afff45c7",
   "metadata": {},
   "source": [
    "<p float=\"center\">\n",
    "  <img src=\"https://github.com/carlosalvarezh/EstructuraDatosAlgoritmos2/blob/main/images/Asymptotic01.webp?raw=true\" width=\"350\" />\n",
    "</p>\n",
    "\n",
    "<p style=\"text-align: center;\">\n",
    "    <strong>Tomado de:</strong> <a href=\"https://positive-vibes.co.in/Blog/Modern-Version-of-Tortoise-and-Rabbit-Story.php\">Internet</a>\n",
    "</p>"
   ]
  },
  {
   "cell_type": "markdown",
   "id": "848de94a",
   "metadata": {},
   "source": [
    "### Introducción"
   ]
  },
  {
   "cell_type": "markdown",
   "id": "6318ded3",
   "metadata": {},
   "source": [
    "Supongamos que estamos diseñando un software de biblioteca que necesita clasificar una lista de libros. Al principio, cuando la biblioteca es pequeña, el software solo necesita manejar unos pocos cientos de libros. En esta etapa, se utiliza un algoritmo de ordenamiento simple como el ordenamiento por burbuja. Sin embargo, a medida que la biblioteca crece y el número de libros se cuenta por miles, empezamos a notar que el software se vuelve más lento."
   ]
  },
  {
   "cell_type": "markdown",
   "id": "6caf52f7",
   "metadata": {},
   "source": [
    "### Análisis del Problema"
   ]
  },
  {
   "cell_type": "markdown",
   "id": "1b4a5ce7",
   "metadata": {},
   "source": [
    "Para entender el problema, analizamos el algoritmo de ordenamiento por burbuja. Este algoritmo compara repetidamente pares de elementos adyacentes y los intercambia si están en el orden incorrecto. Este proceso se repite hasta que no se necesitan más intercambios, lo que significa que la lista está ordenada.\n",
    "\n",
    "En una biblioteca pequeña, el número reducido de libros significa que el número total de comparaciones e intercambios es manejable. Sin embargo, a medida que la cantidad de libros aumenta, el número de operaciones necesarias para ordenar toda la lista crece drásticamente. Si la lista tiene $n$ elementos, en el peor de los casos, el ordenamiento por burbuja puede requerir aproximadamente $n^2$ comparaciones e intercambios."
   ]
  },
  {
   "cell_type": "markdown",
   "id": "03a97771",
   "metadata": {},
   "source": [
    "### Necesidad de una notación"
   ]
  },
  {
   "cell_type": "markdown",
   "id": "ea903624",
   "metadata": {},
   "source": [
    "Aquí es donde entra en juego la notación asintótica. Para expresar de manera eficiente cómo la eficiencia de un algoritmo cambia o escala con el tamaño de la entrada, usamos esta notación. En el caso del ordenamiento por burbuja, decimos que su complejidad temporal en el peor de los casos es $O(n^2)$. Este $O(n^2)$ es una forma de expresar que el tiempo de ejecución del algoritmo aumenta cuadráticamente con el número de elementos.\n",
    "\n",
    "La notación asintótica nos permite abstraer y enfocarnos en el crecimiento de la complejidad del algoritmo en lugar de preocuparnos por los detalles específicos de la implementación o el hardware. Nos da una herramienta para comparar algoritmos basándonos en su eficiencia relativa y nos ayuda a elegir el más adecuado para un tamaño de problema dado.\n"
   ]
  },
  {
   "cell_type": "markdown",
   "id": "495cc977",
   "metadata": {},
   "source": [
    "### Definición de Notación Asintótica"
   ]
  },
  {
   "cell_type": "markdown",
   "id": "617ca58d",
   "metadata": {},
   "source": [
    "<p float=\"center\">\n",
    "  <img src=\"https://github.com/carlosalvarezh/EstructuraDatosAlgoritmos2/blob/main/images/BigO.PNG?raw=true\" width=\"500\" />\n",
    "</p>\n",
    "\n",
    "<p style=\"text-align: center;\">\n",
    "    <strong>Tomado de:</strong> <a href=\"https://www.bigocheatsheet.com/\">bigocheatsheet.com</a>\n",
    "</p>\n",
    "\n",
    "La notación asintótica es una herramienta matemática esencial en el análisis de algoritmos, y su propósito es describir cómo cambia la complejidad de un algoritmo —representada por la función $f(n)$— en relación con el aumento del tamaño del problema, denotado por $n$. Esta notación se centra en el comportamiento del algoritmo cuando $n$ se hace muy grande, es decir, tiende hacia el infinito. Proporciona un medio simplificado y estandarizado para representar el cambio en la complejidad del algoritmo, ya sea en términos de tiempo de ejecución o uso de espacio, especialmente para grandes volúmenes de entrada.\n",
    "\n",
    "El objetivo principal de emplear la notación asintótica es comprender cómo se comporta un algoritmo a medida que el tamaño de su entrada se incrementa. Inicialmente, se podría pensar en utilizar una sola medida para describir este comportamiento. Sin embargo, el análisis detallado de diferentes algoritmos revela que su rendimiento no es uniforme para todas las posibles entradas. Algunos algoritmos pueden ser extremadamente eficientes para ciertos tipos de entradas (representando el mejor caso), mientras que pueden encontrar dificultades considerables con otros tipos de datos (correspondientes al peor caso).\n",
    "\n",
    "Este descubrimiento lleva a la necesidad de múltiples medidas para capturar de manera precisa y completa el rendimiento variable de los algoritmos bajo distintas condiciones. Por lo tanto, la notación asintótica no se limita a una sola perspectiva, sino que se expande para incluir diferentes notaciones, cada una destacando un aspecto particular del comportamiento del algoritmo."
   ]
  },
  {
   "cell_type": "markdown",
   "id": "b3aca37d-bbfe-4ae3-8761-b1f22b443a5c",
   "metadata": {},
   "source": [
    "### Jerarquía de órdenes de complejidad"
   ]
  },
  {
   "cell_type": "markdown",
   "id": "cd6fd1eb-7ef0-42fa-a69d-d6c8a53f5c7c",
   "metadata": {},
   "source": [
    "$O(1)$: Orden constante.  \n",
    "$O( \\log n )$ : Orden logarítmico.   \n",
    "$O( n )$ : Orden lineal.   \n",
    "$O( n \\log n )$ : Orden cuasi-lineal.   \n",
    "$O( n^2  )$ : Orden cuadrático.  \n",
    "$O( n^3  )$ : Orden cúbico.  \n",
    "$O( n^a  )$ : Orden polinómico.  \n",
    "$O( a^n  )$ : Orden exponencial.  \n",
    "$O( n!  )$ : Orden factorial.  \n",
    "\n",
    "$$O(1) < O( \\log n ) <O( n ) < O( n \\log n ) < O( n^2  ) < O( n^3 ) < O( n^a  ) < O( a^n  ) < O( n!  )$$"
   ]
  },
  {
   "cell_type": "markdown",
   "id": "040bb612",
   "metadata": {},
   "source": [
    "### La Necesidad de Múltiples Perspectivas"
   ]
  },
  {
   "cell_type": "markdown",
   "id": "fcf33052",
   "metadata": {},
   "source": [
    "Para obtener una evaluación completa de un algoritmo, es necesario considerar distintos escenarios:\n",
    "\n",
    "- ***Rendimiento en el Peor Caso:*** Necesitamos una medida que nos diga cómo se comporta el algoritmo en su peor forma. Esto es crucial para entender los límites y garantizar la robustez del algoritmo.\n",
    "<p>&nbsp;</p>\n",
    "\n",
    "- ***Rendimiento en el Mejor Caso:*** Es igualmente importante saber cuán bien puede funcionar el algoritmo bajo condiciones ideales. Esto puede ser especialmente relevante en aplicaciones donde se conoce de antemano el tipo de datos a procesar.\n",
    "<p>&nbsp;</p>\n",
    "\n",
    "- ***Comportamiento Típico o Promedio:*** Finalmente, queremos una idea del rendimiento del algoritmo en condiciones normales o promedio, lo que proporciona una visión más realista de su comportamiento diario."
   ]
  },
  {
   "cell_type": "markdown",
   "id": "88f989e3",
   "metadata": {},
   "source": [
    "### Notación Big $\\mathcal{O}$ (O$-$grande)"
   ]
  },
  {
   "cell_type": "markdown",
   "id": "933bc8b1",
   "metadata": {},
   "source": [
    "<p float=\"center\">\n",
    "  <img src=\"https://github.com/carlosalvarezh/EstructuraDatosAlgoritmos2/blob/main/images/Big_O_Notation.png?raw=true\" width=\"350\" />\n",
    "</p>\n",
    "\n",
    "<p style=\"text-align: center;\">\n",
    "    <strong>Tomado de:</strong> <a href=\"http://www.btechsmartclass.com/data_structures/asymptotic-notations.html\">btechsmartclass.com</a>\n",
    "</p>\n",
    "\n",
    "La notación $\\text{Big } \\mathcal{O}$, denotada como $\\mathcal{O}(g(n))$, es quizás la más conocida y utilizada en el análisis de algoritmos. Esta notación se centra en el peor caso posible de un algoritmo, proporcionando un límite superior en el crecimiento de la función que representa su complejidad. Matemáticamente, decimos que una función $f(n)$ es $O(g(n))$ si existe una constante $c$ y un valor $n_0$ tal que $0 \\leq f(n) \\leq c \\cdot g(n)$ para todo $n \\geq n_0$. Esto significa que, independientemente de los valores específicos de entrada, el tiempo de ejecución del algoritmo no excederá el crecimiento marcado por $g(n)$ multiplicado por una constante, en el peor de los casos. Por ejemplo, en el caso del algoritmo de ordenamiento por burbuja, donde su complejidad temporal es $\\mathcal{O}(n^2)$, indica que en el peor de los casos, el número de operaciones necesarias crece cuadráticamente con el tamaño de la entrada."
   ]
  },
  {
   "cell_type": "markdown",
   "id": "ab43f14a",
   "metadata": {},
   "source": [
    "- ***Breve comentario sobre la función $g(n)$***\n",
    "\n",
    "En el contexto de la notación asintótica, $g(n)$ es una función que se utiliza para comparar el crecimiento de la función $f(n)$, donde $f(n)$ representa la complejidad de un algoritmo. La función $g(n)$ sirve como un punto de referencia o un \"modelo\" de crecimiento para entender cómo se comporta $f(n)$ cuando $n$ (el tamaño de la entrada del algoritmo) se hace grande.\n",
    "\n",
    "Por ejemplo, en el caso de la notación $\\text{Big } \\mathcal{O}$, cuando decimos que un algoritmo tiene una complejidad de $\\mathcal{O}(n)$, estamos diciendo que el tiempo de ejecución del algoritmo crece, en el peor de los casos, de manera proporcional a $g(n)=n$. Aquí, $g(n)$ es una función lineal, que representa el crecimiento lineal en relación con el tamaño de la entrada.\n",
    "De manera similar, si un algoritmo tiene una complejidad de $\\mathcal{O}(n^2)$,$g(n)=n^2$ actúa como una función cuadrática para comparar el crecimiento de la complejidad del algoritmo.\n",
    "\n",
    "En resumen, $g(n)$ es una función teórica que utilizamos para caracterizar y entender el comportamiento asintótico de $f(n)$, la función real que describe la complejidad de un algoritmo."
   ]
  },
  {
   "cell_type": "markdown",
   "id": "bc78a0f4",
   "metadata": {},
   "source": [
    "### Notación Omega ($\\Omega$)"
   ]
  },
  {
   "cell_type": "markdown",
   "id": "15447eaa",
   "metadata": {},
   "source": [
    "<p float=\"center\">\n",
    "  <img src=\"https://github.com/carlosalvarezh/EstructuraDatosAlgoritmos2/blob/main/images/Big_Omega_Notation.png?raw=true\" width=\"350\" />\n",
    "</p>\n",
    "\n",
    "<p style=\"text-align: center;\">\n",
    "    <strong>Tomado de:</strong> <a href=\"http://www.btechsmartclass.com/data_structures/asymptotic-notations.html\">btechsmartclass.com</a>\n",
    "</p>\n",
    "\n",
    "La notación Omega, representada como $\\Omega(g(n))$, se utiliza para describir el límite inferior de la complejidad de un algoritmo, enfocándose en el mejor caso posible. Aquí, una función $f(n)$ es $\\Omega(g(n))$ si existen constantes $c$ y $n_0$ tales que $0 \\leq c \\cdot g(n) \\leq f(n)$ para todo $n \\geq n_0$. Esta notación es particularmente útil para comprender el rendimiento mínimo que un algoritmo puede garantizar. Por ejemplo, si un algoritmo de búsqueda tiene una complejidad de $\\Omega(\\log n)$, sugiere que en el mejor de los casos, el tiempo necesario para completar la búsqueda es proporcional al logaritmo del tamaño de la entrada, lo cual es un indicador de alta eficiencia."
   ]
  },
  {
   "cell_type": "markdown",
   "id": "db31def4",
   "metadata": {},
   "source": [
    "### Notación Theta ($\\Theta$)"
   ]
  },
  {
   "cell_type": "markdown",
   "id": "0f1f91f0",
   "metadata": {},
   "source": [
    "<p float=\"center\">\n",
    "  <img src=\"https://github.com/carlosalvarezh/EstructuraDatosAlgoritmos2/blob/main/images/Big_Theta_Notation.png?raw=true\" width=\"350\" />\n",
    "</p>\n",
    "\n",
    "<p style=\"text-align: center;\">\n",
    "    <strong>Tomado de:</strong> <a href=\"http://www.btechsmartclass.com/data_structures/asymptotic-notations.html\">btechsmartclass.com</a>\n",
    "</p>\n",
    "\n",
    "La notación Theta, denotada por $\\Theta(g(n))$, proporciona una visión más precisa y ajustada del rendimiento de un algoritmo, al establecer tanto un límite superior como inferior para la complejidad. Una función $f(n)$ es $\\Theta(g(n))$ si y solo si es tanto $O(g(n))$ como $\\Omega(g(n))$. En términos matemáticos, esto significa que existen constantes $c_1, c_2$ y $n_0$ tales que $c_1 \\cdot g(n) \\leq f(n) \\leq c_2 \\cdot g(n)$ para todo $n \\geq n_0$. Esta notación es particularmente valiosa para describir algoritmos cuyo rendimiento no varía drásticamente entre diferentes casos. Por ejemplo, un algoritmo con una complejidad de $\\Theta(n \\log n)$, como el ordenamiento por mezcla, indica que tanto en el mejor como en el peor de los casos, su tiempo de ejecución es proporcional a $n \\log n$."
   ]
  },
  {
   "cell_type": "markdown",
   "id": "f81c6f5a",
   "metadata": {},
   "source": [
    "Cada una de estas notaciones asintóticas proporciona una lente única a través de la cual podemos examinar y comprender la complejidad de un algoritmo. La elección de qué notación usar depende de qué aspecto del rendimiento del algoritmo es más relevante para el análisis en cuestión. Juntas, estas notaciones ofrecen una imagen completa y matizada del comportamiento de los algoritmos en diferentes escenarios."
   ]
  },
  {
   "cell_type": "markdown",
   "id": "e4bbcad4-1645-41db-bdb1-9e64d904968a",
   "metadata": {},
   "source": [
    "## Análisis de Complejidad"
   ]
  },
  {
   "cell_type": "markdown",
   "id": "f9746f57-d564-40a7-ac2a-d02fcbdb7350",
   "metadata": {},
   "source": [
    "### Introducción"
   ]
  },
  {
   "cell_type": "markdown",
   "id": "78ce80c0-728a-4829-b6f6-5f76a1b180a3",
   "metadata": {},
   "source": [
    "El tiempo de ejecución de un algoritmo depende de varios factores, siendo el tamaño de los datos de entrada uno de los más relevantes. Este tamaño del problema se mide en términos de la cantidad de datos de entrada.\n",
    "\n",
    "La complejidad temporal de un algoritmo $ T(n) $ es $ O(f(n)) $ si existen constantes positivas $ c $ y $ n_0 $ tales que para todo $ n > n_0 $, se cumple que $ T(n) \\leq c \\cdot f(n) $. En otras palabras, estamos interesados en cómo crece el tiempo de ejecución $ T(n) $ a medida que el tamaño del problema $ n $ se incrementa.\n",
    "\n",
    "***Importancia de la Tasa de Crecimiento***\n",
    "\n",
    "La tasa de crecimiento $ f(n) $ nos permite:\n",
    "- **Determinar el comportamiento del algoritmo**: Entender cómo el tiempo de ejecución varía con el tamaño del problema.\n",
    "- **Calcular el incremento en tiempo de cómputo**: Saber cuánto más tiempo toma al aumentar el tamaño del problema en una unidad $( f(n+1) - f(n) )$.\n",
    "- **Comparar algoritmos**: Identificar cuál algoritmo es más eficiente basándose en su tasa de crecimiento.\n"
   ]
  },
  {
   "cell_type": "markdown",
   "id": "3345a2af-ab26-47d4-96e0-8082da7163a7",
   "metadata": {},
   "source": [
    "### Ejemplo de Comparación de Complejidades"
   ]
  },
  {
   "cell_type": "markdown",
   "id": "bc4cfb67-defa-4e49-8fb9-513e033d7f08",
   "metadata": {},
   "source": [
    "A medida que los computadores se hacen más rápidos, podemos manejar problemas de mayor tamaño. La complejidad del algoritmo determina cuánto puede incrementarse el tamaño del problema con el aumento en la capacidad de cómputo. \n",
    "\n",
    "Consideremos cinco algoritmos $ A_1 $ a $ A_5 $ con diferentes complejidades temporales, y el tamaño máximo del problema que pueden manejar en diferentes periodos de tiempo:\n",
    "\n",
    "| Algoritmo | Complejidad en Tiempo | 1 seg. | 1 min. | 1 hora |\n",
    "|-----------|-----------------------|--------|--------|--------|\n",
    "| $ A_1 $ | $ n $               | 1000   | $ 6 \\times 10^4 $ | $ 3.6 \\times 10^6 $ |\n",
    "| $ A_2 $ | $ n \\log n $        | 140    | 4893   | 20000   |\n",
    "| $ A_3 $ | $ n^2 $             | 31     | 244    | 1897    |\n",
    "| $ A_4 $ | $ n^3 $             | 10     | 39     | 153     |\n",
    "| $ A_5 $ | $ 2^n $             | 9      | 15     | 21      |\n",
    "\n",
    "Si la velocidad de los computadores aumenta 10 veces, los tamaños máximos de problemas que se pueden manejar cambian de la siguiente manera:\n",
    "\n",
    "| Algoritmo | Complejidad en Tiempo | Tamaño Máx. del Problema (antes) | Tamaño Máx. del Problema (después) |\n",
    "|-----------|-----------------------|----------------------------------|-----------------------------------|\n",
    "| $ A_1 $ | $ n $               | $ s_1 $                        | $ 10 s_1 $                      |\n",
    "| $ A_2 $ | $ n \\log n $        | $ s_2 $                        | Aproximadamente $ 10 s_2 $      |\n",
    "| $ A_3 $ | $ n^2 $             | $ s_3 $                        | $ 3.16 s_3 $                    |\n",
    "| $ A_4 $ | $ n^3 $             | $ s_4 $                        | $ 2.15 s_4 $                    |\n",
    "| $ A_5 $ | $ 2^n $             | $ s_5 $                        | $ s_5 + 3.3 $                   |\n",
    "\n",
    "Para algoritmos con alta complejidad, un incremento de 10 veces en la capacidad de cómputo no produce un aumento significativo en el tamaño de los problemas que se pueden tratar. Esto destaca la importancia de elegir algoritmos con menores tasas de crecimiento para manejar problemas de gran tamaño eficientemente.\n"
   ]
  },
  {
   "cell_type": "markdown",
   "id": "ac27ef67-161e-446a-8b1f-e6f051962107",
   "metadata": {},
   "source": [
    "### Regla de la Suma"
   ]
  },
  {
   "cell_type": "markdown",
   "id": "3183fc10-9e21-4f7f-b111-51ddcbc52933",
   "metadata": {},
   "source": [
    "Sean $T_1(n) $ y $ T_2(n) $ las funciones de complejidad para ejecutar dos instrucciones $ P_1 $ y $ P_2 $ respectivamente (dos instrucciones de un programa), con $ T_1(n) = O(f(n)) $ y $ T_2(n) = O(g(n)) $. La complejidad temporal de la secuencia $ P_1; P_2 $ es $ T_1(n) + T_2(n) = O(\\max\\{f(n), g(n)\\}) $. Nótese que $ T_1, T_2: \\mathbb{N} \\rightarrow \\mathbb{R}^{+} \\setminus \\{0\\} $ porque el tamaño de los problemas es un entero positivo y el tiempo $ T_i(n) $ siempre es un número real positivo.\n",
    "\n",
    "Cuando se ejecutan dos operaciones secuenciales $ P_1 $ y $ P_2 $, la complejidad temporal total es la suma de las complejidades de cada operación. Sin embargo, en notación $Big-O$, solo consideramos el término de mayor crecimiento. Por lo tanto, la complejidad de la secuencia es $ O(\\max\\{f(n), g(n)\\}) $.\n",
    "\n",
    "**Ejemplo**: Si una operación tiene una complejidad $ O(n) $ y la otra $ O(n^2) $, la complejidad total es:\n",
    "$$ O(n) + O(n^2) = O(n^2) $$\n",
    "\n"
   ]
  },
  {
   "cell_type": "markdown",
   "id": "fd16a49a-89c0-4a65-a731-dc2f2c46615b",
   "metadata": {},
   "source": [
    "### Regla del Producto"
   ]
  },
  {
   "cell_type": "markdown",
   "id": "127e5d87-80d4-41fc-ae8a-88790d436528",
   "metadata": {},
   "source": [
    "Si $ T_1(n) = O(f(n)) $ y $ T_2(n) = O(g(n)) $, entonces:\n",
    "$$ T_1(n) \\cdot T_2(n) = O(f(n) \\cdot g(n)) $$\n",
    "\n",
    "Sean $ c $ y $ d $ constantes tales que $ c, d \\in \\mathbb{R}^{+} \\setminus \\{0\\} $. A partir de las reglas del producto y la suma, y las propiedades citadas anteriormente, se derivan las siguientes simplificaciones:\n",
    "\n",
    "1. Si $ T(n) = c $, entonces $ T(n) = O(1) $.\n",
    "2. Si $ T(n) = c + f(n) $, entonces $ T(n) = O(f(n)) $.\n",
    "3. Si $ T_1(n) = c \\cdot f(n) $, entonces $ T_1(n) = O(f(n)) $.\n",
    "4. Si $ T_1(n) = c \\cdot f(n) + d $, entonces $ T_1(n) = O(f(n)) $.\n",
    "5. Si $ T_1(n) = O(n^k) $ y $ T_2(n) = O(n^{k+1}) $, entonces $ T_1(n) + T_2(n) = O(n^{k+1}) $.\n",
    "6. Si $ T(n) = c \\cdot n^d $, entonces $ T(n) = O(n^d) $.\n",
    "7. Si $ T(n) = P_k(n) $ (donde $ P_k(n) $ es un polinomio de grado $ k \\geq 0 $), entonces $ T(n) = O(n^k) $.\n",
    "8. Si $ T_1(n) = \\log(n) $ y $ T_2(n) = n^k $ con $ k > 1 $, entonces $ T_1(n) + T_2(n) = O(n^k) $.\n",
    "9. Si $ T_1(n) = r^n $ y $ T_2(n) = P_k(n) $ con $ r > 1 $, entonces $ T_1(n) + T_2(n) = O(r^n) $.\n",
    "\n",
    "Cuando una operación se ejecuta dentro de otra (por ejemplo, en bucles anidados), la complejidad temporal total es el producto de las complejidades de cada operación.\n",
    "\n",
    "**Ejemplo**:\n",
    "Si una operación tiene una complejidad $ O(n) $ y se ejecuta dentro de otra operación con complejidad $ O(n) $, la complejidad total es:\n",
    "$$ O(n) \\times O(n) = O(n^2) $$"
   ]
  },
  {
   "cell_type": "markdown",
   "id": "0608bc79-dccd-48e4-a87d-921a4581845c",
   "metadata": {},
   "source": [
    "### Ejemplos de Simplificaciones"
   ]
  },
  {
   "cell_type": "markdown",
   "id": "90ef6afc-c7dc-4d85-9392-a35b0dbdde09",
   "metadata": {},
   "source": [
    "\r\n",
    "\r\n",
    "1. **Constante**: $ T(n) = c \\implies T(n) = O(1) $.\r\n",
    "2. **Suma de Constante y Función**: $ T(n) = c + f(n) \\implies T(n) = O(f(n)) $.\r\n",
    "3. **Constante Multiplicativa**: $ T_1(n) = c \\cdot f(n) \\implies T_1(n) = O(f(n)) $.\r\n",
    "4. **Suma de Constante y Función Multiplicada**: $ T_1(n) = c \\cdot f(n) + d \\implies T_1(n) = O(f(n)) $.\r\n",
    "5. **Dominancia de Términos**: $ T_1(n) = O(n^k) $ y $ T_2(n) = O(n^{k+1}) \\implies T_1(n) + T_2(n) = O(n^{k+1}) $.\r\n",
    "6. **Polinomio**: $ T(n) = c \\cdot n^d \\implies T(n) = O(n^d) $.\r\n",
    "7. **Polinomio General**: $ T(n) = P_k(n) \\implies T(n) = O(n^k) $.\r\n",
    "8. **Dominancia de Potencia sobre Logaritmo**: $ T_1(n) = \\log(n) $ y $ T_2(n) = n^k $ con $ k > 1 \\implies T_1(n) + T_2(n) = O(n^k) $.\r\n",
    "9. **Exponencial vs. Polinomio**: $ T_1(n) = r^n $ y $ T_2(n) = P_k(n) $ con $ r > 1 \\implies T_1(n) + T_2(n)ento asintótico."
   ]
  },
  {
   "cell_type": "markdown",
   "id": "0051e917-fe1f-4114-9865-1b1832923dc1",
   "metadata": {},
   "source": [
    "### Análisis de Complejidad Temporal de las Instrucciones en un Lenguaje de Programación"
   ]
  },
  {
   "cell_type": "markdown",
   "id": "195c7f48-858a-4971-a22e-eb39f7e6ae5a",
   "metadata": {},
   "source": [
    "Para evaluar la complejidad temporal de los programas, utilizamos varias reglas basadas en el análisis de instrucciones en un pseudolenguaje. A continuación, se presentan estas reglas y se ilustran con ejemplos."
   ]
  },
  {
   "cell_type": "markdown",
   "id": "f7bf3b82-4aed-4edf-8a35-04e575c11cd1",
   "metadata": {},
   "source": [
    "#### Regla 1: Asignación Simple"
   ]
  },
  {
   "cell_type": "markdown",
   "id": "3d171431-470d-4de0-a210-e13628c7e4bd",
   "metadata": {},
   "source": [
    "La complejidad temporal de una instrucción de asignación simple es una constante $O(1)$, independientemente del tamaño de la entrada de datos. Esto aplica solo a asignaciones que no involucran llamadas a funciones complejas.\n",
    "\n",
    "**Ejemplos**:\n",
    "```\n",
    "b ← 100               // O(1)\n",
    "a ← a + 1             // O(1)\n",
    "a ← (b div 5) mod 7 - 3 // O(1)\n",
    "```\n",
    "\n",
    "Sin embargo, no todas las asignaciones son $O(1)$. Por ejemplo, una asignación como `f ← factorial(n)` implica un cálculo con $n$ pasos, por lo que no es $O(1)$.\n"
   ]
  },
  {
   "cell_type": "markdown",
   "id": "7e312e78-62b8-49f5-8b2e-129d67d99ad3",
   "metadata": {},
   "source": [
    "#### Regla 2: Operaciones de Entrada/Salida"
   ]
  },
  {
   "cell_type": "markdown",
   "id": "a015105d-6768-4265-b3bf-63800d28b7d8",
   "metadata": {},
   "source": [
    "La complejidad temporal de una operación simple de entrada/salida es constante, $O(1)$."
   ]
  },
  {
   "cell_type": "markdown",
   "id": "32511a27-800b-402b-bb22-1b87c0a4481b",
   "metadata": {},
   "source": [
    "#### Regla 3: Secuencia de Instrucciones"
   ]
  },
  {
   "cell_type": "markdown",
   "id": "41369a28-dd17-4ea5-96e0-0457f55dfe2d",
   "metadata": {},
   "source": [
    "Según la regla de la suma, la complejidad temporal de una secuencia de $k$ instrucciones $P_1; P_2; \\ldots; P_k$, donde la complejidad de cada instrucción $P_i$ es $T_i(n) = O(f_i(n))$, se da por:\n",
    "$$ T(n) = \\sum_{i=1}^k T_i(n) = O(\\max\\{f_1(n), f_2(n), \\ldots, f_k(n)\\}) $$\n",
    "\n",
    "**Ejemplo**:\n",
    "Las siguientes tres instrucciones tienen complejidades constantes:\n",
    "```\n",
    "b ← 100\n",
    "a ← a + 1\n",
    "a ← (b div 5) mod 7 - 3\n",
    "```\n",
    "La complejidad total es $O(1)$ ya que todas son operaciones constantes.\n"
   ]
  },
  {
   "cell_type": "markdown",
   "id": "7725a185-2320-4d0f-84e2-92ae746f551a",
   "metadata": {},
   "source": [
    "#### Regla 4: Instrucciones Condicionales"
   ]
  },
  {
   "cell_type": "markdown",
   "id": "1ec76e8e-e9d7-4f84-841c-000d2a2b812e",
   "metadata": {},
   "source": [
    "La complejidad temporal de una instrucción condicional simple de la forma:\n",
    "```\n",
    "si <Condición> entonces <Instrucciones> fsi\n",
    "```\n",
    "es la suma de la complejidad de evaluar la condición $T_1(n)$ y la complejidad de ejecutar las instrucciones $T_2(n)$. Por la regla de la suma, si $T_1(n) = O(f(n))$ y $T_2(n) = O(g(n))$, entonces:\n",
    "$$ T(n) = T_1(n) + T_2(n) = O(\\max\\{f(n), g(n)\\}) $$\n",
    "\n",
    "Para una instrucción selectiva con una rama \"sino\":\n",
    "```\n",
    "si <Condición> entonces\n",
    "    <Instrucciones1>\n",
    "sino\n",
    "    <Instrucciones2>\n",
    "fsi\n",
    "```\n",
    "La complejidad está dada por:\n",
    "$$ T(n) = T_1(n) + \\max\\{T_2(n), T_3(n)\\} = O(\\max\\{f(n), \\max\\{g(n), h(n)\\}\\}) = O(\\max\\{f(n), g(n), h(n)\\}) $$\n"
   ]
  },
  {
   "cell_type": "markdown",
   "id": "6128da93-f6d6-4e92-a979-bae7a133c922",
   "metadata": {},
   "source": [
    "#### Regla 5: Ciclos Iterativos"
   ]
  },
  {
   "cell_type": "markdown",
   "id": "1be60d8a-a7d7-49f1-90df-528a5f87c1d3",
   "metadata": {},
   "source": [
    "La complejidad temporal de un ciclo iterativo es la suma de la complejidad de todas las iteraciones, incluyendo la complejidad del cuerpo de la iteración y la complejidad de evaluar la condición de terminación del ciclo.\n",
    "\n",
    "**Estructura general de un ciclo iterativo**:\n",
    "```\n",
    "iterar\n",
    "    <Instrucciones1>\n",
    "parada <Condición>\n",
    "    <Instrucciones2>\n",
    "fiterar\n",
    "```\n",
    "La complejidad del ciclo iterativo es:\n",
    "$$ T(n) = \\sum_{i=1}^k T_{1,i}(n) + \\sum_{i=1}^{k-1} T_{2,i}(n) + k \\cdot T_{\\text{cond}}(n) $$\n",
    "donde $k$ es el número de iteraciones, $T_{1,i}(n)$ es la complejidad de <Instrucciones1> en la iteración $i$-ésima, $T_{2,i}(n)$ es la complejidad de <Instrucciones2> en la iteración $i$-ésima, y $T_{\\text{cond}}(n)$ es la complejidad para evaluar la condición de parada.\n",
    "\n",
    "**Estructuras de ciclos comunes**:\n",
    "\n",
    "- **Mientras**:\n",
    "  ```\n",
    "  mientras <No Condición> hacer\n",
    "      <Instrucciones2>\n",
    "  fimientras\n",
    "  ```\n",
    "  La complejidad es:\n",
    "  $$ T(n) = \\sum_{i=1}^{k-1} T_{2,i}(n) + k \\cdot T_{\\text{cond}}(n) $$\n",
    "\n",
    "- **Repetir**:\n",
    "  ```\n",
    "  repetir\n",
    "      <Instrucciones1>\n",
    "  hasta <Condición>\n",
    "  ```\n",
    "  La complejidad es:\n",
    "  $$ T(n) = \\sum_{i=1}^k T_{1,i}(n) + k \\cdot T_{\\text{cond}}(n) $$\n",
    "\n",
    "- **Para**:\n",
    "  ```\n",
    "  para i = Inicio hasta Final hacer\n",
    "      <Instrucciones1>\n",
    "  fpara\n",
    "  ```\n",
    "  Evaluar la condición de parada es verificar si la variable llegó a $Final$. La complejidad es:\n",
    "  $$ T(n) = \\sum_{i=1}^{Final-Inicio+1} T_{1,i}(n) + 2 \\cdot (Final - Inicio + 1) \\cdot c $$\n",
    "  donde $T_{1,i}(n)$ es la complejidad del cuerpo del ciclo en la iteración $i$-ésima.\n"
   ]
  },
  {
   "cell_type": "markdown",
   "id": "0570d9e3-004d-4be8-a887-29b9c178c2a8",
   "metadata": {},
   "source": [
    "#### Regla 6: Procedimientos y Funciones"
   ]
  },
  {
   "cell_type": "markdown",
   "id": "c49003da-4330-4826-922d-8b6521ac081c",
   "metadata": {},
   "source": [
    "Para programas con procedimientos (no recursivos), se puede calcular la complejidad temporal de cada procedimiento individualmente, comenzando con aquellos que no llaman a otros. La complejidad general del programa se calcula usando las reglas anteriores. Si existen procedimientos recursivos, la complejidad se determina mediante una ecuación de recurrencia, cuyo cálculo se abordará en un capítulo posterior."
   ]
  },
  {
   "cell_type": "markdown",
   "id": "cfffda18-c758-4541-ab0b-2f9807d55b2e",
   "metadata": {},
   "source": [
    "#### Resumiendo"
   ]
  },
  {
   "cell_type": "markdown",
   "id": "61b12b70-eb9b-4a9a-8cf0-4309c298a1ab",
   "metadata": {},
   "source": [
    "\r\n",
    "\r\n",
    "El análisis de complejidad temporal de las instrucciones de un programa se basa en reglas fundamentales que permiten evaluar y simplificar la complejidad de secuencias de instrucciones, instrucciones condicionales y ciclos iterativos. Estas reglas ayudan a determinar la eficiencia de un algoritmo y a comparar diferentes algoritmos de manera efectiva. Las principales reglas incluyen:\r\n",
    "\r\n",
    "1. **Asignaciones Simples**: Constante $O(1)$.\r\n",
    "2. **Operaciones de Entrada/Salida**: Constante $O(1)$.\r\n",
    "3. **Secuencia de Instrucciones**: Suma de complejidades, dominada por la mayor $O(\\max\\{f_1(n), f_2(n), \\ldots, f_k(n)\\})$.\r\n",
    "4. **Instrucciones Condicionales**: Suma de la complejidad de evaluar la condición y la mayor complejidad de las ramas $O(\\max\\{f(n), g(n), h(n)\\})$.\r\n",
    "5. **Ciclos Iterativos**: Suma de las complejidades de todas las iteraciones y la evaluación de la condición de terminación.\r\n",
    "6. **Procedimientos y Funciones**: Complejidad determinada indirencia.\r\n",
    "\r\n",
    "Estas reglas son esenciales para el análisis y la optimización de algoritmos en el desarrollo de software."
   ]
  },
  {
   "cell_type": "markdown",
   "id": "181d5fea-d87b-436d-ae44-f30b55decf88",
   "metadata": {},
   "source": [
    "### Análisis de Complejidad en Espacio"
   ]
  },
  {
   "cell_type": "markdown",
   "id": "d323d6dc-5d56-48ed-b604-763b798099c5",
   "metadata": {},
   "source": [
    "La complejidad en espacio de un algoritmo es una función del tamaño del problema y representa la cantidad de memoria que requiere el algoritmo para su ejecución. Esta memoria incluye diversos elementos, pero el análisis se centrará en los relacionados con la entrada de datos del programa."
   ]
  },
  {
   "cell_type": "markdown",
   "id": "fbc239d6-aeec-43bc-ab9c-338f2c18d09e",
   "metadata": {},
   "source": [
    "#### Requerimientos Estáticos de Espacio"
   ]
  },
  {
   "cell_type": "markdown",
   "id": "74898f7c-369d-46ef-a6ab-c3528931bea5",
   "metadata": {},
   "source": [
    "Los requerimientos estáticos de memoria se refieren al espacio necesario para almacenar los objetos que resuelven el problema. Este espacio se puede calcular fácilmente para los tipos de datos primitivos y estructurados intrínsecos de los lenguajes de programación. Estos objetos se denominan estáticos porque su tamaño se determina en el momento de la declaración y permanece constante durante la ejecución del programa.\n",
    "\n",
    "**Costo en Memoria**:\n",
    "- **Tipos Primitivos**: El espacio requerido por los tipos de datos elementales (Entero, Real, Lógico, Caracter) es constante y generalmente se mide en palabras de memoria (2 bytes por palabra).\n",
    "  - $\\mathrm{Cm}(T) = 1$ para tipos elementales.\n",
    "- **Tipos Definidos por Enumeración**: También requieren una palabra de memoria.\n",
    "  - $\\mathrm{Cm}(T) = 1$ para tipos definidos por enumeración.\n",
    "- **Tipos Estructurados**:\n",
    "  - **Arreglos**: El espacio requerido por un arreglo de longitud $n$ y tipo base $T_0$ es $n \\cdot \\mathrm{Cm}(T_0) + 3$, donde 3 es el tamaño en palabras del descriptor (este valor constante depende del lenguaje en donde se ejecuta el código. Para estos ejemplos se tomó como lenguaje el Pascal).\n",
    "    - Ejemplo:\n",
    "      $$\n",
    "      \\text{tipo Arr = arreglo[Li..Ls] de } T_0\n",
    "      $$\n",
    "      $$\n",
    "      \\mathrm{Cm}(\\text{Arr}) = 3 + (\\mathrm{Ls} - \\mathrm{Li} + 1) \\cdot \\mathrm{Cm}(T_0)\n",
    "      $$\n",
    "  - **Matrices**: El espacio requerido por una matriz de dimensiones $N \\times M$ y tipo base $T_0$ es $6 + N \\cdot M \\cdot \\mathrm{Cm}(T_0)$.\n",
    "    - Ejemplo:\n",
    "      $$\n",
    "      \\text{tipo Matriz = arreglo[1..N, 1..M] de } T_0\n",
    "      $$\n",
    "      $$\n",
    "      \\mathrm{Cm}(\\text{Matriz}) = 6 + N \\cdot M \\cdot \\mathrm{Cm}(T_0)\n",
    "      $$\n",
    "  - **Registros**: El espacio requerido por un registro es la suma del espacio requerido por cada uno de sus componentes.\n",
    "    - Ejemplo:\n",
    "      $$\n",
    "      \\text{tipo Reg = registro}\n",
    "      $$\n",
    "      $$\n",
    "      \\mathrm{C}_i: \\mathrm{T}_i; \\quad i = 1, 2, \\ldots, n\n",
    "      $$\n",
    "      $$\n",
    "      \\mathrm{Cm}(\\mathrm{Reg}) = \\sum_{i=1}^n \\mathrm{Cm}(T_i)\n",
    "      $$\n",
    "Para registros variantes, se considera solo el campo que ocupa más espacio.\n",
    "\n",
    "- **Tipos Referencia (Apuntadores)**: Asumen el costo de una palabra.\n",
    "- **Constantes**: Tienen el mismo costo en memoria que las variables de su tipo.\n",
    "- **Definiciones de Tipo**: No tienen costo en memoria; solo las instancias del tipo declarado ocupan espacio. el uso de memoria, especialmente en sistemas con recursos limitados."
   ]
  },
  {
   "cell_type": "markdown",
   "id": "09e0d273-53fb-41af-8e10-3d41ba2dd99c",
   "metadata": {},
   "source": [
    "#### Requerimientos Dinámicos de Espacio"
   ]
  },
  {
   "cell_type": "markdown",
   "id": "973016a2-e30f-4909-a27a-41f66f3cf11c",
   "metadata": {},
   "source": [
    "El análisis de los requerimientos dinámicos de memoria es relevante para los lenguajes que permiten la asignación dinámica de memoria. La complejidad en espacio en este caso se refiere a la cantidad de objetos existentes en un momento determinado durante la ejecución del programa, según las reglas de alcance. La cantidad de memoria requerida es la máxima memoria en uso en cualquier punto durante la ejecución, no la suma total de todas las declaraciones de datos."
   ]
  },
  {
   "cell_type": "markdown",
   "id": "8e3f9bb6-21ff-4945-9231-16898b6b92d7",
   "metadata": {},
   "source": [
    "#### Resumiendo"
   ]
  },
  {
   "cell_type": "markdown",
   "id": "99677333-8d23-49d6-96cb-69b55e7870d8",
   "metadata": {},
   "source": [
    "\r\n",
    "\r\n",
    "La complejidad en espacio de un algoritmo mide la cantidad de memoria que requiere para su ejecución, en función del tamaño del problema. Esta memoria puede ser estática o dinámica:\r\n",
    "\r\n",
    "1. **Requerimientos Estáticos**:\r\n",
    "   - **Tipos Primitivos**: Constante ($\\mathrm{O}(1)$).\r\n",
    "   - **Tipos Definidos por Enumeración**: Constante ($\\mathrm{O}(1)$).\r\n",
    "   - **Tipos Estructurados**:\r\n",
    "     - **Arreglos**: Espacio calculado por la longitud del arreglo y el tamaño del tipo base.\r\n",
    "     - **Matrices**: Espacio calculado por las dimensiones y el tamaño del tipo base.\r\n",
    "     - **Registros**: Suma del espacio de cada componente.\r\n",
    "   - **Tipos Referencia (Apuntadores)**: Constante ($\\mathrm{O}(1)$).\r\n",
    "   - **Constantes**: Igual que las variables de su tipo.\r\n",
    "   - **Definiciones de Tipo**: Sin costo en memoria.\r\n",
    "\r\n",
    "2. **Requerimientos Dinámicos**:\r\n",
    "   - Dependientes de la cantidad de objetos existentes en un punto del programa.\r\n",
    "   - Determinados poo de memoria, especialmente en sistemas con recursos limitados."
   ]
  },
  {
   "cell_type": "markdown",
   "id": "2c1cd998",
   "metadata": {},
   "source": [
    "## Ejemplo explicativo: Algoritmo Divide y Vencerás"
   ]
  },
  {
   "cell_type": "markdown",
   "id": "ba4a0ab7",
   "metadata": {},
   "source": [
    "<p float=\"center\">\n",
    "  <img src=\"https://github.com/carlosalvarezh/EstructuraDatosAlgoritmos2/blob/main/images/DivideVenceras.PNG?raw=true\" width=\"500\" />\n",
    "</p>\n",
    "\n",
    "<p style=\"text-align: center;\">\n",
    "    <strong>Fuente:</strong> Creación propia\n",
    "</p>"
   ]
  },
  {
   "cell_type": "markdown",
   "id": "e4ef1ddf",
   "metadata": {},
   "source": [
    "El algoritmo *\"Divide y Vencerás\"* es una técnica fundamental en la ciencia de la computación para el diseño de algoritmos eficientes. Se basa en un enfoque recursivo para resolver problemas complejos descomponiéndolos en subproblemas más pequeños y manejables, que a su vez se resuelven de manera independiente. La esencia de esta estrategia se encuentra en tres pasos principales:\n",
    "\n",
    "1. ***Dividir:*** El problema original se divide en varios subproblemas más pequeños. Estos subproblemas deben ser similares al problema original, pero de menor tamaño.\n",
    "<p>&nbsp;</p>\n",
    "\n",
    "2. ***Conquistar:*** Cada uno de estos subproblemas se resuelve de forma independiente. Si los subproblemas siguen siendo complejos, se pueden dividir aún más utilizando la misma estrategia de *\"Divide y Vencerás\"*.\n",
    "<p>&nbsp;</p>\n",
    "\n",
    "3. ***Combinar:*** Finalmente, las soluciones de los subproblemas se combinan para formar la solución al problema original.\n",
    "\n",
    "El algoritmo de *\"Divide y Vencerás\"* es particularmente poderoso en situaciones donde la descomposición del problema reduce significativamente la complejidad del mismo. Algunos ejemplos clásicos de algoritmos que utilizan esta técnica incluyen el ordenamiento rápido (*Quicksort*), el ordenamiento por mezcla (*Merge Sort*) y la *búsqueda binaria*.\n",
    "\n",
    "Esta técnica es apreciada no solo por su eficiencia sino también por su elegancia y simplicidad en el manejo de problemas complejos. Al dividir un gran problema en partes más pequeñas, los algoritmos de *\"Divide y Vencerás\"* pueden proporcionar soluciones óptimas y eficientes que serían difíciles o imposibles de alcanzar con un enfoque más lineal o iterativo..\n",
    "\n",
    "***Algoritmo \"Divide y Vencerás\" (una versión...):***\n",
    "\n",
    "```pseudo\n",
    " ALGORITMO DivideYVenceras(n)\n",
    "1    SI n <= 1\n",
    "2        return n\n",
    "3    SINO\n",
    "4        mitad = n / 2\n",
    "5        izquierda = DivideYVenceras(mitad)\n",
    "6        derecha = DivideYVenceras(n - mitad)\n",
    "7        return izquierda + derecha\n",
    " FIN\n",
    "```\n",
    "\n",
    "***Análisis de Complejidad:***\n",
    "\n",
    "1. ***Operaciones de Asignación y Condicional:***\n",
    "   - Hay una operación condicional en la línea 2.\n",
    "   - Dos operaciones de asignación en las líneas 5 y 6.\n",
    "   - Una operación de retorno en la línea 7.\n",
    "<p>&nbsp;</p>\n",
    "\n",
    "2. ***División del Problema:***\n",
    "   - El algoritmo divide el problema en dos mitades en cada llamada recursiva hasta que el tamaño del problema es 1 o menor, lo cual sucede en la línea 5 y 6.\n",
    "<p>&nbsp;</p>\n",
    "\n",
    "3. ***Cálculo de Complejidad:***\n",
    "\n",
    "    - ***Número de Niveles de Recursión:***\n",
    "      - Comenzamos con un problema de tamaño $n$. Después de la primera división, tenemos dos subproblemas, cada uno de tamaño $\\frac{n}{2}$. En la siguiente etapa, cada uno de estos subproblemas se divide nuevamente, resultando en subproblemas de tamaño $\\frac{n}{4}$, y así sucesivamente.\n",
    "      - Este proceso de división continúa hasta que el tamaño del subproblema se reduce a 1. En cada paso, el tamaño del problema se divide por 2. Para determinar cuántas veces necesitamos dividir el problema hasta llegar a un tamaño de 1, usamos la relación $n, \\frac{n}{2}, \\frac{n}{4}, \\frac{n}{8}, \\ldots, 1$.\n",
    "\n",
    "    - ***Cálculo de la Profundidad de la Recursión:***\n",
    "      - Para encontrar el número de veces que el tamaño del problema se divide por 2 hasta llegar a 1, resolvemos la ecuación $\\frac{n}{2^k} = 1$, donde $k$ es el número de divisiones.\n",
    "      - Resolviendo para $k$, obtenemos $k = \\log_2(n)$. Esto se debe a que $2^k = n \\Rightarrow k = \\log_2(n)$.\n",
    "      - Por lo tanto, el número total de niveles de recursión, o la profundidad de la recursión, es $\\log_2(n)$.\n",
    "\n",
    "***Complejidad en Notaciones Asintóticas:***\n",
    "\n",
    "- **Big O (O-grande):**\n",
    "  - La complejidad en el peor caso es $O(\\log(n))$. Cada vez que el algoritmo se divide en dos, se reduce el tamaño del problema a la mitad, lo que resulta en un crecimiento logarítmico del número total de operaciones.\n",
    "<p>&nbsp;</p>\n",
    "  \n",
    "- **Omega (Ω):**\n",
    "  - En el mejor caso, también se tienen que realizar las divisiones, por lo que la complejidad sigue siendo $\\Omega(\\log(n))$. Incluso en el caso más rápido, se deben realizar las divisiones logarítmicas.\n",
    "<p>&nbsp;</p>\n",
    "\n",
    "- **Theta (Θ):**\n",
    "  - Dado que tanto el mejor como el peor caso tienen la misma complejidad, la complejidad temporal promedio o típica del algoritmo también es $\\Theta(\\log(n))$.\n",
    "\n",
    "Este análisis muestra que el algoritmo de *\"Divide y Vencerás\"* presentado tiene una complejidad logarítmica tanto en su mejor como en su peor caso, lo que lo hace eficiente para problemas que se pueden dividir de esta manera."
   ]
  },
  {
   "cell_type": "markdown",
   "id": "0592be72-b4a8-48cc-9e83-b1436f220d8d",
   "metadata": {},
   "source": [
    "## Ejemplo computacional"
   ]
  },
  {
   "cell_type": "code",
   "execution_count": null,
   "id": "c744ada6-09b4-4ef6-8387-1715a77fd6ab",
   "metadata": {},
   "outputs": [],
   "source": [
    "import matplotlib.pyplot as plt\n",
    "import time\n",
    "import random"
   ]
  },
  {
   "cell_type": "code",
   "execution_count": null,
   "id": "deaa0378-d4bc-4c0c-a63a-36a6118a40b8",
   "metadata": {},
   "outputs": [],
   "source": [
    "# Función para medir el tiempo de ejecución de cada algoritmo\n",
    "def measure_time(func, n, data=None, **kwargs):\n",
    "    start_time = time.time()\n",
    "    if data is None:\n",
    "        func(n, **kwargs)\n",
    "    else:\n",
    "        func(data, **kwargs)\n",
    "    end_time = time.time()\n",
    "    return end_time - start_time\n"
   ]
  },
  {
   "cell_type": "code",
   "execution_count": null,
   "id": "30c2a5b6-df6f-488b-b216-65b05b7f0023",
   "metadata": {},
   "outputs": [],
   "source": [
    "# Función para generar las gráficas para cualquier algoritmo\n",
    "def plot_complexity(algorithm_name, func, ns, use_exp=False, **kwargs):\n",
    "    times = []\n",
    "    epsilon = 1e-9  # Añadir una pequeña cantidad para evitar valores cero\n",
    "\n",
    "    for n in ns:\n",
    "        if use_exp:\n",
    "            elapsed_time = measure_time(func, n, **kwargs) + epsilon\n",
    "        else:\n",
    "            data = random.sample(range(n), n)\n",
    "            elapsed_time = measure_time(func, n, data, **kwargs) + epsilon\n",
    "        times.append(elapsed_time)\n",
    "\n",
    "    plt.figure(figsize=(6, 4))\n",
    "    plt.plot(ns, times, marker='o', label=algorithm_name)\n",
    "    plt.xlabel(\"Tamaño de entrada (n)\")\n",
    "    plt.ylabel(\"Tiempo de ejecución (s)\")\n",
    "    plt.title(f\"Complejidad Algorítmica - {algorithm_name}\")\n",
    "    plt.legend()\n",
    "    plt.grid(True)\n",
    "    plt.yscale(\"log\")\n",
    "    plt.show()"
   ]
  },
  {
   "cell_type": "markdown",
   "id": "9d72fd77-a7e6-4b0d-a56a-3d27fa12f3cd",
   "metadata": {},
   "source": [
    "### Complejidad $O(1)$"
   ]
  },
  {
   "cell_type": "code",
   "execution_count": null,
   "id": "8103ae84-e7da-46c0-847c-d4cac31d1bd1",
   "metadata": {},
   "outputs": [],
   "source": [
    "# Definición del algoritmo de tiempo constante\n",
    "def constant_time_example(lst):\n",
    "    return lst[0]"
   ]
  },
  {
   "cell_type": "code",
   "execution_count": null,
   "id": "a476030b-cf05-4286-88d2-c711b577b89e",
   "metadata": {},
   "outputs": [],
   "source": [
    "plot_complexity(\"O(1)\", constant_time_example, [10, 100, 1000, 10000, 100000])"
   ]
  },
  {
   "cell_type": "markdown",
   "id": "f7d48377-b001-4491-876b-2ae7e4ec1bd3",
   "metadata": {},
   "source": [
    "- ***Explicación:*** Un algoritmo de tiempo constante $O(1)$ significa que el tiempo de ejecución no depende del tamaño del input. Acceder al primer elemento de una lista es una operación que toma tiempo constante, sin importar el tamaño de la lista. No se realizan ciclos ni operaciones que dependen de $n$."
   ]
  },
  {
   "cell_type": "markdown",
   "id": "3eb9f00a-61d9-411b-b587-0eb5afd6d332",
   "metadata": {},
   "source": [
    "### Complejidad $O(k)$ ($k$ constante)"
   ]
  },
  {
   "cell_type": "code",
   "execution_count": null,
   "id": "a0acd3ae-29a7-4017-b712-1d7d4994a538",
   "metadata": {},
   "outputs": [],
   "source": [
    "def constant_k_time_example(lst, k):\n",
    "    for i in range(k):\n",
    "        pass"
   ]
  },
  {
   "cell_type": "code",
   "execution_count": null,
   "id": "f93723f2-137c-4802-927b-30b986a0efe3",
   "metadata": {},
   "outputs": [],
   "source": [
    "k_value = 1000\n",
    "plot_complexity(\"O(k)\", constant_k_time_example, [10, 100, 1000, 10000, 100000], k=k_value)"
   ]
  },
  {
   "cell_type": "markdown",
   "id": "85ff7e62-ec4d-4d9a-987a-cb3f1a1f8b56",
   "metadata": {},
   "source": [
    "- ***Explicación:*** Un algoritmo de tiempo constante con $k$ iteraciones, donde $k$ es una constante, se comporta de manera similar a $O(1)$ pero con un factor constante de iteraciones. El ciclo `for` se ejecuta $k$ veces, donde $k$ es constante. El tiempo de ejecución es proporcional a $k$ pero no depende del tamaño de `lst`."
   ]
  },
  {
   "cell_type": "markdown",
   "id": "18fc12cc-0279-481c-b544-eb410ea6ec4a",
   "metadata": {},
   "source": [
    "### Complejidad $O(n)$"
   ]
  },
  {
   "cell_type": "code",
   "execution_count": null,
   "id": "10beb60c-61d5-426e-a664-da42e3a1a6d5",
   "metadata": {},
   "outputs": [],
   "source": [
    "def linear_time_example(lst):\n",
    "    for item in lst:\n",
    "        pass"
   ]
  },
  {
   "cell_type": "code",
   "execution_count": null,
   "id": "ec446dd7-6bc8-4f0f-bd31-8f86e0e80e7b",
   "metadata": {},
   "outputs": [],
   "source": [
    "plot_complexity(\"O(n)\", linear_time_example, [10, 100, 1000, 10000, 100000])"
   ]
  },
  {
   "cell_type": "markdown",
   "id": "213be836-dbb9-467e-a000-3ecf95f83203",
   "metadata": {},
   "source": [
    "- ***Explicación:*** Un algoritmo de tiempo lineal $O(n)$ significa que el tiempo de ejecución es directamente proporcional al tamaño del input. El ciclo `for` recorre todos los elementos de `lst` una vez. Por lo tanto, si `lst` tiene $n$ elementos, el ciclo se ejecuta $n$ veces, haciendo que el tiempo de ejecución sea proporcional a $n$."
   ]
  },
  {
   "cell_type": "markdown",
   "id": "9bcfd560-f7d7-4f6f-a960-43cf696f2024",
   "metadata": {},
   "source": [
    "### Complejidad O($n^2$)"
   ]
  },
  {
   "cell_type": "code",
   "execution_count": null,
   "id": "b78a1f38-3f4f-4cf3-8ace-d707b0f31c4a",
   "metadata": {},
   "outputs": [],
   "source": [
    "def quadratic_time_example(lst):\n",
    "    for i in range(len(lst)):\n",
    "        for j in range(len(lst)):\n",
    "            pass"
   ]
  },
  {
   "cell_type": "code",
   "execution_count": null,
   "id": "4ef0f9d2-212a-4807-90db-5c29200dd787",
   "metadata": {},
   "outputs": [],
   "source": [
    "plot_complexity(\"O(n^2)\", quadratic_time_example, [10, 100, 1000, 10000, 100000])"
   ]
  },
  {
   "cell_type": "markdown",
   "id": "d784d00b-af22-4df1-b17b-544360498378",
   "metadata": {},
   "source": [
    "- ***Explicación:*** Un algoritmo de tiempo cuadrático $O(n^2)$ significa que el tiempo de ejecución es proporcional al cuadrado del tamaño del input. El ciclo externo se ejecuta $n$ veces y por cada iteración del ciclo externo, el ciclo interno se ejecuta $n$ veces. Esto resulta en un total de $n \\times n = n^2$ iteraciones."
   ]
  },
  {
   "cell_type": "markdown",
   "id": "f4c42da2-5ed2-4abd-86ae-5ecb66547535",
   "metadata": {},
   "source": [
    "### Complejidad $O(n^3)$"
   ]
  },
  {
   "cell_type": "code",
   "execution_count": null,
   "id": "0f095742-d7a1-4216-91f0-0a087dac11a6",
   "metadata": {},
   "outputs": [],
   "source": [
    "def cubic_time_example(lst):\n",
    "    for i in range(len(lst)):\n",
    "        for j in range(len(lst)):\n",
    "            for k in range(len(lst)):\n",
    "                pass"
   ]
  },
  {
   "cell_type": "code",
   "execution_count": null,
   "id": "5c10ff80-42b1-421e-bcfa-b0c0913dfda5",
   "metadata": {},
   "outputs": [],
   "source": [
    "plot_complexity(\"O(n^3)\", cubic_time_example, [10, 100, 1000])"
   ]
  },
  {
   "cell_type": "markdown",
   "id": "a4b17bea-b049-4b8e-b025-3257fa55086a",
   "metadata": {},
   "source": [
    "- ***Explicación:*** Un algoritmo de tiempo cúbico $O(n^3)$ significa que el tiempo de ejecución es proporcional al cubo del tamaño del input. Similar a $O(n^2)$, pero aquí hay un tercer ciclo anidado. El ciclo externo se ejecuta $n$ veces, el segundo ciclo también se ejecuta $n$ veces por cada iteración del ciclo externo, y el tercer ciclo se ejecuta $n$ veces por cada iteración del segundo ciclo. Esto da un total de $n \\times n \\times n = n^3$ iteraciones."
   ]
  },
  {
   "cell_type": "markdown",
   "id": "6b28ad60-b6e6-499e-a168-edb641c09611",
   "metadata": {},
   "source": [
    "### Complejidad $O(2^n)$"
   ]
  },
  {
   "cell_type": "code",
   "execution_count": null,
   "id": "bd03e7c9-d697-46c6-b4de-e004323e6690",
   "metadata": {},
   "outputs": [],
   "source": [
    "def exponential_time_example(n):\n",
    "    if n == 0:\n",
    "        return 1\n",
    "    else:\n",
    "        return exponential_time_example(n-1) + exponential_time_example(n-1)"
   ]
  },
  {
   "cell_type": "code",
   "execution_count": null,
   "id": "3e91d43a-653c-49dc-8c13-6a5c7a356f6a",
   "metadata": {},
   "outputs": [],
   "source": [
    "plot_complexity(\"O(2^n)\", exponential_time_example, [1, 5, 10, 20], use_exp=True)"
   ]
  },
  {
   "cell_type": "markdown",
   "id": "34eb3af6-a141-49e4-90ef-a47476ae10df",
   "metadata": {},
   "source": [
    "- ***Explicación:*** Un algoritmo de tiempo exponencial $O(2^n)$ significa que el tiempo de ejecución se duplica con cada incremento del tamaño del input. Cada llamada recursiva realiza dos llamadas adicionales hasta que $n$ llega a $0$. Esto significa que el número total de llamadas es $2^n$. Si $n$ incrementa en $1$, el número de llamadas se duplica."
   ]
  },
  {
   "cell_type": "markdown",
   "id": "d77b8791-3255-4e8e-9f16-df94c325c04a",
   "metadata": {},
   "source": [
    "### Complejidad $O(nlog(n))$"
   ]
  },
  {
   "cell_type": "code",
   "execution_count": null,
   "id": "794bb33a-df25-4d7e-9050-dbe3ef8a7e3e",
   "metadata": {},
   "outputs": [],
   "source": [
    "def merge_sort(lst):\n",
    "    if len(lst) <= 1:\n",
    "        return lst\n",
    "    mid = len(lst) // 2\n",
    "    left_half = merge_sort(lst[:mid])\n",
    "    right_half = merge_sort(lst[mid:])\n",
    "    return merge(left_half, right_half)"
   ]
  },
  {
   "cell_type": "code",
   "execution_count": null,
   "id": "bbc25e73-7624-46ab-b238-4d6bbe64b090",
   "metadata": {},
   "outputs": [],
   "source": [
    "plot_complexity(\"O(n log n)\", merge_sort, [10, 100, 1000, 10000, 100000])"
   ]
  },
  {
   "cell_type": "markdown",
   "id": "5a75059c-cc2a-4684-9f6c-a977c048e7c5",
   "metadata": {},
   "source": [
    "- ***Explicación:*** Un algoritmo de tiempo $O(n log n)$ es común en algoritmos de ordenación eficientes como *Merge Sort*. *Merge Sort* divide la lista en dos mitades (operación que es logarítmica) y luego combina las dos mitades ordenadas (operación que es lineal). Esto da una complejidad total de $O(n log n)$."
   ]
  },
  {
   "cell_type": "markdown",
   "id": "0993a411-9520-451b-90ed-3920dbe758ae",
   "metadata": {},
   "source": [
    "### Complejidad $O(log(n))$"
   ]
  },
  {
   "cell_type": "code",
   "execution_count": null,
   "id": "753e97fc-01b0-4732-87b9-113956f1fc29",
   "metadata": {},
   "outputs": [],
   "source": [
    "def binary_search(lst, target):\n",
    "    low = 0\n",
    "    high = len(lst) - 1\n",
    "    while low <= high:\n",
    "        mid = (low + high) // 2\n",
    "        if lst[mid] == target:\n",
    "            return mid\n",
    "        elif lst[mid] < target:\n",
    "            low = mid + 1\n",
    "        else:\n",
    "            high = mid - 1\n",
    "    return -1"
   ]
  },
  {
   "cell_type": "code",
   "execution_count": null,
   "id": "72a19174-c9d8-46d8-964b-f1d6ae1af8f4",
   "metadata": {},
   "outputs": [],
   "source": [
    "plot_complexity(\"O(log n)\", binary_search, [10, 100, 1000, 10000, 100000], target=50)"
   ]
  },
  {
   "cell_type": "markdown",
   "id": "e43de44e-5659-4aa2-a5a1-f2917fd77cb9",
   "metadata": {},
   "source": [
    "- ***Explicación:*** Un algoritmo de tiempo logarítmico $O(log n)$ significa que el tiempo de ejecución crece logarítmicamente con el tamaño del input, como en la *búsqueda binaria*. En cada iteración, el tamaño del problema se reduce a la mitad. Esto significa que si el tamaño de `lst` es $n$, se necesitarán aproximadamente $log_2(n)$ iteraciones para encontrar el elemento o determinar que no está en la lista."
   ]
  },
  {
   "cell_type": "markdown",
   "id": "49eaeeb1",
   "metadata": {},
   "source": [
    "## Desafíos"
   ]
  },
  {
   "cell_type": "markdown",
   "id": "f81d2ba0-8497-4dc8-beac-bfb81301fd69",
   "metadata": {},
   "source": [
    "<div class=\"alert alert-success\" role=\"alert\">\n",
    "  <p><strong>1.</strong> Para cada uno de los siguientes fragmentos de código determine cuál es su complejidad algorítmica.</p>   \n",
    "</div>"
   ]
  },
  {
   "cell_type": "markdown",
   "id": "4104cc1d",
   "metadata": {},
   "source": [
    "***\n",
    "\n",
    "```pseudo\n",
    "prueba = 0\n",
    "Para i = 1 hasta n hacer:\n",
    "    Para j = 1 hasta n hacer:\n",
    "        prueba = prueba + i * j\n",
    "```"
   ]
  },
  {
   "cell_type": "markdown",
   "id": "ee01adcc",
   "metadata": {},
   "source": [
    "***\n",
    "```pseudo\n",
    "prueba = 0\n",
    "Para i = 1 hasta n hacer:\n",
    "   prueba = prueba + 1\n",
    "\n",
    "Para j = 1 hasta n hacer:\n",
    "   prueba = prueba - 1\n",
    "```"
   ]
  },
  {
   "cell_type": "markdown",
   "id": "f847c85e",
   "metadata": {},
   "source": [
    "***\n",
    "```pseudo\n",
    "i = n\n",
    "Mientras i > 0 hacer:\n",
    "   k = 2 + 2\n",
    "   i = i // 2\n",
    "```\n",
    "***"
   ]
  },
  {
   "cell_type": "markdown",
   "id": "71ae4d08-e2ee-40ea-a979-eea8e73ee196",
   "metadata": {},
   "source": [
    "<div class=\"alert alert-success\" role=\"alert\">\n",
    "  <p><strong>2.</strong> Para cada uno de los ejemplos dados en el numeral 4. Ejemplo Computacional, analice y demuestre matemáticamente que esas son sus complejidades algoritmicas.</p>   \n",
    "\n",
    "<strong>Nota:</strong> En este ejercicio, se les pide que analicen y demuestren matemáticamente la complejidad de varios algoritmos, incluyendo algunos que involucran relaciones de recurrencia. Aunque aún no hemos cubierto en detalle el tema de las recurrencias, este ejercicio les permitirá ver la importancia y el desafío de entender estos conceptos. Les animo a que investiguen de manera preliminar sobre las relaciones de recurrencia y los métodos para resolverlas, ya que serán fundamentales para su análisis.\n",
    "</div>"
   ]
  },
  {
   "cell_type": "markdown",
   "id": "7a63a210-65dd-4bf4-8753-46eebb3f9c59",
   "metadata": {},
   "source": [
    "<div class=\"alert alert-success\" role=\"alert\">\r\n",
    "  <strong>3. Traducción y Comparación de Algoritmos:</strong>\r\n",
    "  <p>- Traduce los algoritmos proporcionados a otros lenguajes interpretados como <a href=\"https://www.ruby-lang.org/en/\" target=\"_blank\">Ruby</a> y <a href=\"https://www.r-project.org/\" target=\"_blank\">R</a>, y lenguajes compilados como C/C++, <a href=\"https://www.java.com/\" target=\"_blank\">Java</a>, <a href=\"https://golang.org/\" target=\"_blank\">Go</a>, y <a href=\"https://julialang.org/\" target=\"_blank\">Julia</a> (u otro lenguaje de tu preferencia).</p>  \r\n",
    "  <p>- Compara los tiempos de ejecución obtenidos en estos lenguajes con los tiempos de ejecución en Python.</p>\r\n",
    "  <p>- Analiza y presenta tus conclusiones sobre el uso de diferentes tipos de lenguajes en términos de eficiencia y rendimiento.</p>\r\n",
    "</div>\r\n"
   ]
  },
  {
   "cell_type": "markdown",
   "id": "d745c1d7-8e09-45fa-adf3-c59f86ad45ea",
   "metadata": {},
   "source": [
    "<div class=\"alert alert-success\" role=\"alert\">\n",
    "  <strong>¡Buena suerte y disfruten del desafío!</strong>\n",
    "</div>\n",
    "\n"
   ]
  }
 ],
 "metadata": {
  "kernelspec": {
   "display_name": "Python 3 (ipykernel)",
   "language": "python",
   "name": "python3"
  },
  "language_info": {
   "codemirror_mode": {
    "name": "ipython",
    "version": 3
   },
   "file_extension": ".py",
   "mimetype": "text/x-python",
   "name": "python",
   "nbconvert_exporter": "python",
   "pygments_lexer": "ipython3",
   "version": "3.12.4"
  },
  "toc": {
   "base_numbering": 1,
   "nav_menu": {},
   "number_sections": true,
   "sideBar": true,
   "skip_h1_title": true,
   "title_cell": "Table of Contents",
   "title_sidebar": "Contents",
   "toc_cell": false,
   "toc_position": {
    "height": "calc(100% - 180px)",
    "left": "10px",
    "top": "150px",
    "width": "256px"
   },
   "toc_section_display": true,
   "toc_window_display": false
  }
 },
 "nbformat": 4,
 "nbformat_minor": 5
}
