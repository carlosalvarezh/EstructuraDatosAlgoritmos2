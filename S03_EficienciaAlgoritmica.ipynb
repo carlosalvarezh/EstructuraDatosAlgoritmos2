{
 "cells": [
  {
   "cell_type": "markdown",
   "id": "f53755b6",
   "metadata": {},
   "source": [
    "<h1 align=\"center\">Estructura de Datos y Algoritmos II</h1>\n",
    "<h1 align=\"center\">Semana03: Eficiencia algorítmica</h1>\n",
    "<h1 align=\"center\">2024</h1>\n",
    "<h1 align=\"center\">MEDELLÍN - COLOMBIA </h1>"
   ]
  },
  {
   "cell_type": "markdown",
   "id": "b677e269",
   "metadata": {},
   "source": [
    "*** \n",
    "|[![Outlook](https://img.shields.io/badge/Microsoft_Outlook-0078D4?style=plastic&logo=microsoft-outlook&logoColor=white)](mailto:calvar52@eafit.edu.co)||[![Open In Colab](https://colab.research.google.com/assets/colab-badge.svg)](https://colab.research.google.com/github/carlosalvarezh/EstructuraDatosAlgoritmos2/blob/main/S03_EficienciaAlgoritmica.ipynb)\n",
    "|-:|:-|--:|\n",
    "|[![LinkedIn](https://img.shields.io/badge/linkedin-%230077B5.svg?style=plastic&logo=linkedin&logoColor=white)](https://www.linkedin.com/in/carlosalvarez5/)|[![@alvarezhenao](https://img.shields.io/twitter/url/https/twitter.com/alvarezhenao.svg?style=social&label=Follow%20%40alvarezhenao)](https://twitter.com/alvarezhenao)|[![@carlosalvarezh](https://img.shields.io/badge/github-%23121011.svg?style=plastic&logo=github&logoColor=white)](https://github.com/carlosalvarezh)|\n",
    "\n",
    "<table>\n",
    " <tr align=left><td><img align=left src=\"https://github.com/carlosalvarezh/Curso_CEC_EAFIT/blob/main/images/CCLogoColorPop1.gif?raw=true\" width=\"25\">\n",
    " <td>Text provided under a Creative Commons Attribution license, CC-BY. All code is made available under the FSF-approved MIT license.(c) Carlos Alberto Alvarez Henao</td>\n",
    "</table>\n",
    "\n",
    "***"
   ]
  },
  {
   "cell_type": "markdown",
   "id": "8f40d3c5",
   "metadata": {},
   "source": [
    "<p float=\"center\">\n",
    "  <img src=\"https://github.com/carlosalvarezh/EstructuraDatosAlgoritmos2/blob/main/images/Time.avif?raw=true\" width=\"350\" />\n",
    "</p>\n",
    "\n",
    "<p style=\"text-align: center;\">\n",
    "    <strong>Tomado de:</strong> <a href=\"https://unsplash.com/es/fotos/foto-de-enfoque-selectivo-de-reloj-de-arena-marron-y-azul-en-piedras-BXOXnQ26B7o\">Unsplash</a>\n",
    "</p>"
   ]
  },
  {
   "cell_type": "markdown",
   "id": "8870a5c7",
   "metadata": {},
   "source": [
    "## Eficiencia Algorítmica"
   ]
  },
  {
   "cell_type": "markdown",
   "id": "1180cbb9",
   "metadata": {},
   "source": [
    "### Introducción"
   ]
  },
  {
   "cell_type": "markdown",
   "id": "285c3b6e",
   "metadata": {},
   "source": [
    "En el ámbito de la Ciencia de la Computación, el estudio y aplicación de algoritmos se centra en encontrar soluciones óptimas para diversos problemas. Un aspecto crucial en este proceso es la [eficiencia algorítmica](https://en.wikipedia.org/wiki/Time_complexity), que determina la efectividad de un algoritmo en términos de los recursos que consume, siendo estos principalmente el tiempo y la memoria. Esta introducción aborda los conceptos fundamentales de la eficiencia algorítmica, enfocándose en la complejidad temporal y espacial, dos métricas esenciales para evaluar y comparar algoritmos."
   ]
  },
  {
   "cell_type": "markdown",
   "id": "b90a6c0a",
   "metadata": {},
   "source": [
    "### Definición de Eficiencia Algorítmica"
   ]
  },
  {
   "cell_type": "markdown",
   "id": "d641bda5",
   "metadata": {},
   "source": [
    "La eficiencia algorítmica es una medida que determina la cantidad de recursos computacionales que un algoritmo requiere para ejecutarse. Esta eficiencia es independiente del hardware o configuración de la máquina donde se ejecuta el algoritmo, y se relaciona directamente con el tamaño de los datos de entrada. Existen dos principales tipos de eficiencia algorítmica: la complejidad temporal y la complejidad espacial."
   ]
  },
  {
   "cell_type": "markdown",
   "id": "46735275",
   "metadata": {},
   "source": [
    "#### Complejidad Temporal"
   ]
  },
  {
   "cell_type": "markdown",
   "id": "bd36dbb8",
   "metadata": {},
   "source": [
    "La complejidad temporal de un algoritmo se refiere a la cantidad de tiempo que toma ejecutarlo, en función de la longitud de la entrada. No se mide en tiempo real de ejecución, sino en términos de la cantidad de operaciones elementales que el algoritmo realiza. La eficiencia temporal de un algoritmo se ve fuertemente influenciada por el tamaño de la entrada; a medida que este tamaño aumenta, también lo hace el tiempo de ejecución."
   ]
  },
  {
   "cell_type": "markdown",
   "id": "2164635e",
   "metadata": {},
   "source": [
    "#### Complejidad Espacial"
   ]
  },
  {
   "cell_type": "markdown",
   "id": "28467752",
   "metadata": {},
   "source": [
    "Por otro lado, la complejidad espacial de un algoritmo mide la cantidad de memoria requerida para su ejecución. Esta incluye la memoria necesaria para almacenar los datos de entrada, así como cualquier espacio adicional necesario para procesar esos datos. La complejidad espacial es crucial, especialmente en contextos donde la memoria es limitada.\n"
   ]
  },
  {
   "cell_type": "markdown",
   "id": "04bea7ea",
   "metadata": {},
   "source": [
    "### Importancia de la Complejidad Temporal y Espacial"
   ]
  },
  {
   "cell_type": "markdown",
   "id": "60481616",
   "metadata": {},
   "source": [
    "La eficiencia en términos de tiempo y espacio es fundamental para el desarrollo de algoritmos eficaces. Por ejemplo, en el caso de algoritmos de ordenamiento, diferentes métodos pueden tener distintos niveles de eficiencia. La elección del algoritmo más eficiente depende de realizar un análisis computacional detallado de cada opción, considerando tanto la complejidad temporal como la espacial."
   ]
  },
  {
   "cell_type": "markdown",
   "id": "40665866",
   "metadata": {},
   "source": [
    "### Operaciones básicas"
   ]
  },
  {
   "cell_type": "markdown",
   "id": "f6a231a6",
   "metadata": {},
   "source": [
    "En el contexto de la complejidad algorítmica y el análisis de algoritmos, *\"operaciones básicas\"* (o *elementales*) se refieren a las acciones fundamentales que un algoritmo realiza en su ejecución. Estas operaciones son los elementos esenciales y más simples que componen el algoritmo y determinan en gran medida su rendimiento y eficiencia. Algunos ejemplos incluyen:\n",
    "\n",
    "- ***Operaciones Aritméticas:*** Como sumar, restar, multiplicar y dividir.\n",
    "<p>&nbsp;</p>\n",
    "\n",
    "- ***Comparaciones:*** Como verificar si un número es mayor, menor o igual a otro.\n",
    "<p>&nbsp;</p>\n",
    "\n",
    "- ***Asignaciones:*** Asignar un valor a una variable.\n",
    "<p>&nbsp;</p>\n",
    "\n",
    "- ***Accesos a Memoria:*** Leer o escribir datos en una ubicación de memoria, como acceder a un elemento en un arreglo.\n",
    "<p>&nbsp;</p>\n",
    "\n",
    "- ***Operaciones de Control de Flujo:*** Como declaraciones if, ciclos for o while.\n",
    "\n",
    "En el análisis de algoritmos, frecuentemente se cuenta el número de estas operaciones básicas para estimar la complejidad temporal de un algoritmo, especialmente en el contexto de la notación $\\text{Big}(\\mathcal{O})$. Este enfoque permite una comparación estandarizada de algoritmos en términos de eficiencia, independientemente de la máquina o el lenguaje de programación en el que se implementan."
   ]
  },
  {
   "cell_type": "markdown",
   "id": "45fc9a15",
   "metadata": {},
   "source": [
    "### Ejemplo: Suma de dos números enteros"
   ]
  },
  {
   "cell_type": "markdown",
   "id": "b33dec4c",
   "metadata": {},
   "source": [
    "Imagina que tienes un algoritmo cuyo único propósito es sumar dos números. Por ejemplo, tienes dos números, `numero1` y `numero2`, y tu algoritmo simplemente los suma para obtener su resultado, `suma`.\n",
    "\n",
    "***¿Cómo Calcular su Complejidad Temporal?***\n",
    "Para evaluar la complejidad temporal de este algoritmo, consideramos cuántas operaciones básicas necesita realizar. En este caso, nuestro algoritmo realiza una sola operación, independientemente de los valores de los números: la suma de los dos números.\n",
    "\n",
    "```\n",
    "ALGORITMO SumarDosNumeros\n",
    "    INICIO\n",
    "        // Definir las variables\n",
    "        DECLARE numero1, numero2, suma: INTEGER\n",
    "\n",
    "        // Leer los dos números\n",
    "        LEER numero1\n",
    "        LEER numero2\n",
    "\n",
    "        // Sumar los números\n",
    "        suma = numero1 + numero2\n",
    "\n",
    "        // Mostrar el resultado\n",
    "        ESCRIBIR suma\n",
    "    FIN\n",
    "```\n",
    "\n",
    "Dado que el número de operaciones (en este caso, una sola suma) no cambia sin importar los números específicos que estamos sumando, decimos que la complejidad temporal de este algoritmo es constante, o en términos técnicos, es $\\mathcal{O}(1)$. Esto significa que el tiempo que toma ejecutar el algoritmo no varía con el tamaño de la entrada, ya que siempre está realizando exactamente la misma cantidad de trabajo (una operación)."
   ]
  },
  {
   "cell_type": "markdown",
   "id": "a61b8079",
   "metadata": {},
   "source": [
    "## Notación Asintótica"
   ]
  },
  {
   "cell_type": "markdown",
   "id": "afff45c7",
   "metadata": {},
   "source": [
    "<p float=\"center\">\n",
    "  <img src=\"https://github.com/carlosalvarezh/EstructuraDatosAlgoritmos2/blob/main/images/Asymptotic01.webp?raw=true\" width=\"350\" />\n",
    "</p>\n",
    "\n",
    "<p style=\"text-align: center;\">\n",
    "    <strong>Tomado de:</strong> <a href=\"https://positive-vibes.co.in/Blog/Modern-Version-of-Tortoise-and-Rabbit-Story.php\">Internet</a>\n",
    "</p>"
   ]
  },
  {
   "cell_type": "markdown",
   "id": "848de94a",
   "metadata": {},
   "source": [
    "### Introducción"
   ]
  },
  {
   "cell_type": "markdown",
   "id": "6318ded3",
   "metadata": {},
   "source": [
    "Supongamos que estamos diseñando un software de biblioteca que necesita clasificar una lista de libros. Al principio, cuando la biblioteca es pequeña, el software solo necesita manejar unos pocos cientos de libros. En esta etapa, se utiliza un algoritmo de ordenamiento simple como el ordenamiento por burbuja. Sin embargo, a medida que la biblioteca crece y el número de libros se cuenta por miles, empezamos a notar que el software se vuelve más lento."
   ]
  },
  {
   "cell_type": "markdown",
   "id": "6caf52f7",
   "metadata": {},
   "source": [
    "### Análisis del Problema"
   ]
  },
  {
   "cell_type": "markdown",
   "id": "1b4a5ce7",
   "metadata": {},
   "source": [
    "Para entender el problema, analizamos el algoritmo de ordenamiento por burbuja. Este algoritmo compara repetidamente pares de elementos adyacentes y los intercambia si están en el orden incorrecto. Este proceso se repite hasta que no se necesitan más intercambios, lo que significa que la lista está ordenada.\n",
    "\n",
    "En una biblioteca pequeña, el número reducido de libros significa que el número total de comparaciones e intercambios es manejable. Sin embargo, a medida que la cantidad de libros aumenta, el número de operaciones necesarias para ordenar toda la lista crece drásticamente. Si la lista tiene $n$ elementos, en el peor de los casos, el ordenamiento por burbuja puede requerir aproximadamente $n^2$ comparaciones e intercambios."
   ]
  },
  {
   "cell_type": "markdown",
   "id": "03a97771",
   "metadata": {},
   "source": [
    "### Necesidad de una notación"
   ]
  },
  {
   "cell_type": "markdown",
   "id": "ea903624",
   "metadata": {},
   "source": [
    "Aquí es donde entra en juego la notación asintótica. Para expresar de manera eficiente cómo la eficiencia de un algoritmo cambia o escala con el tamaño de la entrada, usamos esta notación. En el caso del ordenamiento por burbuja, decimos que su complejidad temporal en el peor de los casos es $O(n^2)$. Este $O(n^2)$ es una forma de expresar que el tiempo de ejecución del algoritmo aumenta cuadráticamente con el número de elementos.\n",
    "\n",
    "La notación asintótica nos permite abstraer y enfocarnos en el crecimiento de la complejidad del algoritmo en lugar de preocuparnos por los detalles específicos de la implementación o el hardware. Nos da una herramienta para comparar algoritmos basándonos en su eficiencia relativa y nos ayuda a elegir el más adecuado para un tamaño de problema dado.\n"
   ]
  },
  {
   "cell_type": "markdown",
   "id": "495cc977",
   "metadata": {},
   "source": [
    "### Definición de Notación Asintótica"
   ]
  },
  {
   "cell_type": "markdown",
   "id": "617ca58d",
   "metadata": {},
   "source": [
    "<p float=\"center\">\n",
    "  <img src=\"https://github.com/carlosalvarezh/EstructuraDatosAlgoritmos2/blob/main/images/BigO.PNG?raw=true\" width=\"500\" />\n",
    "</p>\n",
    "\n",
    "<p style=\"text-align: center;\">\n",
    "    <strong>Tomado de:</strong> <a href=\"https://www.bigocheatsheet.com/\">bigocheatsheet.com</a>\n",
    "</p>\n",
    "\n",
    "La notación asintótica es una herramienta matemática esencial en el análisis de algoritmos, y su propósito es describir cómo cambia la complejidad de un algoritmo —representada por la función $f(n)$— en relación con el aumento del tamaño del problema, denotado por $n$. Esta notación se centra en el comportamiento del algoritmo cuando $n$ se hace muy grande, es decir, tiende hacia el infinito. Proporciona un medio simplificado y estandarizado para representar el cambio en la complejidad del algoritmo, ya sea en términos de tiempo de ejecución o uso de espacio, especialmente para grandes volúmenes de entrada.\n",
    "\n",
    "El objetivo principal de emplear la notación asintótica es comprender cómo se comporta un algoritmo a medida que el tamaño de su entrada se incrementa. Inicialmente, se podría pensar en utilizar una sola medida para describir este comportamiento. Sin embargo, el análisis detallado de diferentes algoritmos revela que su rendimiento no es uniforme para todas las posibles entradas. Algunos algoritmos pueden ser extremadamente eficientes para ciertos tipos de entradas (representando el mejor caso), mientras que pueden encontrar dificultades considerables con otros tipos de datos (correspondientes al peor caso).\n",
    "\n",
    "Este descubrimiento lleva a la necesidad de múltiples medidas para capturar de manera precisa y completa el rendimiento variable de los algoritmos bajo distintas condiciones. Por lo tanto, la notación asintótica no se limita a una sola perspectiva, sino que se expande para incluir diferentes notaciones, cada una destacando un aspecto particular del comportamiento del algoritmo."
   ]
  },
  {
   "cell_type": "markdown",
   "id": "040bb612",
   "metadata": {},
   "source": [
    "### La Necesidad de Múltiples Perspectivas"
   ]
  },
  {
   "cell_type": "markdown",
   "id": "fcf33052",
   "metadata": {},
   "source": [
    "Para obtener una evaluación completa de un algoritmo, es necesario considerar distintos escenarios:\n",
    "\n",
    "- ***Rendimiento en el Peor Caso:*** Necesitamos una medida que nos diga cómo se comporta el algoritmo en su peor forma. Esto es crucial para entender los límites y garantizar la robustez del algoritmo.\n",
    "<p>&nbsp;</p>\n",
    "\n",
    "- ***Rendimiento en el Mejor Caso:*** Es igualmente importante saber cuán bien puede funcionar el algoritmo bajo condiciones ideales. Esto puede ser especialmente relevante en aplicaciones donde se conoce de antemano el tipo de datos a procesar.\n",
    "<p>&nbsp;</p>\n",
    "\n",
    "- ***Comportamiento Típico o Promedio:*** Finalmente, queremos una idea del rendimiento del algoritmo en condiciones normales o promedio, lo que proporciona una visión más realista de su comportamiento diario."
   ]
  },
  {
   "cell_type": "markdown",
   "id": "88f989e3",
   "metadata": {},
   "source": [
    "### Notación Big $\\mathcal{O}$ (O$-$grande)"
   ]
  },
  {
   "cell_type": "markdown",
   "id": "933bc8b1",
   "metadata": {},
   "source": [
    "<p float=\"center\">\n",
    "  <img src=\"https://github.com/carlosalvarezh/EstructuraDatosAlgoritmos2/blob/main/images/Big_O_Notation.png?raw=true\" width=\"350\" />\n",
    "</p>\n",
    "\n",
    "<p style=\"text-align: center;\">\n",
    "    <strong>Tomado de:</strong> <a href=\"http://www.btechsmartclass.com/data_structures/asymptotic-notations.html\">btechsmartclass.com</a>\n",
    "</p>\n",
    "\n",
    "La notación $\\text{Big } \\mathcal{O}$, denotada como $\\mathcal{O}(g(n))$, es quizás la más conocida y utilizada en el análisis de algoritmos. Esta notación se centra en el peor caso posible de un algoritmo, proporcionando un límite superior en el crecimiento de la función que representa su complejidad. Matemáticamente, decimos que una función $f(n)$ es $O(g(n))$ si existe una constante $c$ y un valor $n_0$ tal que $0 \\leq f(n) \\leq c \\cdot g(n)$ para todo $n \\geq n_0$. Esto significa que, independientemente de los valores específicos de entrada, el tiempo de ejecución del algoritmo no excederá el crecimiento marcado por $g(n)$ multiplicado por una constante, en el peor de los casos. Por ejemplo, en el caso del algoritmo de ordenamiento por burbuja, donde su complejidad temporal es $\\mathcal{O}(n^2)$, indica que en el peor de los casos, el número de operaciones necesarias crece cuadráticamente con el tamaño de la entrada.\n",
    "\n",
    "<div class=\"alert alert-success\" role=\"alert\">\n",
    "  <strong>Actividad para el estudiante:</strong>\n",
    "  <p>- Compruebe este resultado con los obtenidos en las actividades de la semana 02.</p>  \n",
    "  <p>- A la luz de este nuevo conocimiento, demuestre que la complejidad del algoritmo de ordenamiento por burbuja es de orden $\\mathcal{O}(n^2)$.</p>  \n",
    "</div>"
   ]
  },
  {
   "cell_type": "markdown",
   "id": "ab43f14a",
   "metadata": {},
   "source": [
    "- ***Breve comentario sobre la función $g(n)$***\n",
    "\n",
    "En el contexto de la notación asintótica, $g(n)$ es una función que se utiliza para comparar el crecimiento de la función $f(n)$, donde $f(n)$ representa la complejidad de un algoritmo. La función $g(n)$ sirve como un punto de referencia o un \"modelo\" de crecimiento para entender cómo se comporta $f(n)$ cuando $n$ (el tamaño de la entrada del algoritmo) se hace grande.\n",
    "\n",
    "Por ejemplo, en el caso de la notación $\\text{Big } \\mathcal{O}$, cuando decimos que un algoritmo tiene una complejidad de $\\mathcal{O}(n)$, estamos diciendo que el tiempo de ejecución del algoritmo crece, en el peor de los casos, de manera proporcional a $g(n)=n$. Aquí, $g(n)$ es una función lineal, que representa el crecimiento lineal en relación con el tamaño de la entrada.\n",
    "De manera similar, si un algoritmo tiene una complejidad de $\\mathcal{O}(n^2)$,$g(n)=n^2$ actúa como una función cuadrática para comparar el crecimiento de la complejidad del algoritmo.\n",
    "\n",
    "En resumen, $g(n)$ es una función teórica que utilizamos para caracterizar y entender el comportamiento asintótico de $f(n)$, la función real que describe la complejidad de un algoritmo."
   ]
  },
  {
   "cell_type": "markdown",
   "id": "bc78a0f4",
   "metadata": {},
   "source": [
    "### Notación Omega ($\\Omega$)"
   ]
  },
  {
   "cell_type": "markdown",
   "id": "15447eaa",
   "metadata": {},
   "source": [
    "<p float=\"center\">\n",
    "  <img src=\"https://github.com/carlosalvarezh/EstructuraDatosAlgoritmos2/blob/main/images/Big_Omega_Notation.png?raw=true\" width=\"350\" />\n",
    "</p>\n",
    "\n",
    "<p style=\"text-align: center;\">\n",
    "    <strong>Tomado de:</strong> <a href=\"http://www.btechsmartclass.com/data_structures/asymptotic-notations.html\">btechsmartclass.com</a>\n",
    "</p>\n",
    "\n",
    "La notación Omega, representada como $\\Omega(g(n))$, se utiliza para describir el límite inferior de la complejidad de un algoritmo, enfocándose en el mejor caso posible. Aquí, una función $f(n)$ es $\\Omega(g(n))$ si existen constantes $c$ y $n_0$ tales que $0 \\leq c \\cdot g(n) \\leq f(n)$ para todo $n \\geq n_0$. Esta notación es particularmente útil para comprender el rendimiento mínimo que un algoritmo puede garantizar. Por ejemplo, si un algoritmo de búsqueda tiene una complejidad de $\\Omega(\\log n)$, sugiere que en el mejor de los casos, el tiempo necesario para completar la búsqueda es proporcional al logaritmo del tamaño de la entrada, lo cual es un indicador de alta eficiencia."
   ]
  },
  {
   "cell_type": "markdown",
   "id": "db31def4",
   "metadata": {},
   "source": [
    "### Notación Theta ($\\Theta$)"
   ]
  },
  {
   "cell_type": "markdown",
   "id": "0f1f91f0",
   "metadata": {},
   "source": [
    "<p float=\"center\">\n",
    "  <img src=\"https://github.com/carlosalvarezh/EstructuraDatosAlgoritmos2/blob/main/images/Big_Theta_Notation.png?raw=true\" width=\"350\" />\n",
    "</p>\n",
    "\n",
    "<p style=\"text-align: center;\">\n",
    "    <strong>Tomado de:</strong> <a href=\"http://www.btechsmartclass.com/data_structures/asymptotic-notations.html\">btechsmartclass.com</a>\n",
    "</p>\n",
    "\n",
    "La notación Theta, denotada por $\\Theta(g(n))$, proporciona una visión más precisa y ajustada del rendimiento de un algoritmo, al establecer tanto un límite superior como inferior para la complejidad. Una función $f(n)$ es $\\Theta(g(n))$ si y solo si es tanto $O(g(n))$ como $\\Omega(g(n))$. En términos matemáticos, esto significa que existen constantes $c_1, c_2$ y $n_0$ tales que $c_1 \\cdot g(n) \\leq f(n) \\leq c_2 \\cdot g(n)$ para todo $n \\geq n_0$. Esta notación es particularmente valiosa para describir algoritmos cuyo rendimiento no varía drásticamente entre diferentes casos. Por ejemplo, un algoritmo con una complejidad de $\\Theta(n \\log n)$, como el ordenamiento por mezcla, indica que tanto en el mejor como en el peor de los casos, su tiempo de ejecución es proporcional a $n \\log n$."
   ]
  },
  {
   "cell_type": "markdown",
   "id": "f81c6f5a",
   "metadata": {},
   "source": [
    "Cada una de estas notaciones asintóticas proporciona una lente única a través de la cual podemos examinar y comprender la complejidad de un algoritmo. La elección de qué notación usar depende de qué aspecto del rendimiento del algoritmo es más relevante para el análisis en cuestión. Juntas, estas notaciones ofrecen una imagen completa y matizada del comportamiento de los algoritmos en diferentes escenarios."
   ]
  },
  {
   "cell_type": "markdown",
   "id": "2c1cd998",
   "metadata": {},
   "source": [
    "## Ejemplo explicativo: Algoritmo Divide y Vencerás"
   ]
  },
  {
   "cell_type": "markdown",
   "id": "ba4a0ab7",
   "metadata": {},
   "source": [
    "<p float=\"center\">\n",
    "  <img src=\"https://github.com/carlosalvarezh/EstructuraDatosAlgoritmos2/blob/main/images/DivideVenceras.PNG?raw=true\" width=\"500\" />\n",
    "</p>\n",
    "\n",
    "<p style=\"text-align: center;\">\n",
    "    <strong>Fuente:</strong> Creaci</a>\n",
    "</p>"
   ]
  },
  {
   "cell_type": "markdown",
   "id": "e4ef1ddf",
   "metadata": {},
   "source": [
    "El algoritmo *\"Divide y Vencerás\"* es una técnica fundamental en la ciencia de la computación para el diseño de algoritmos eficientes. Se basa en un enfoque recursivo para resolver problemas complejos descomponiéndolos en subproblemas más pequeños y manejables, que a su vez se resuelven de manera independiente. La esencia de esta estrategia se encuentra en tres pasos principales:\n",
    "\n",
    "1. ***Dividir:*** El problema original se divide en varios subproblemas más pequeños. Estos subproblemas deben ser similares al problema original, pero de menor tamaño.\n",
    "<p>&nbsp;</p>\n",
    "\n",
    "2. ***Conquistar:*** Cada uno de estos subproblemas se resuelve de forma independiente. Si los subproblemas siguen siendo complejos, se pueden dividir aún más utilizando la misma estrategia de *\"Divide y Vencerás\"*.\n",
    "<p>&nbsp;</p>\n",
    "\n",
    "3. ***Combinar:*** Finalmente, las soluciones de los subproblemas se combinan para formar la solución al problema original.\n",
    "\n",
    "El algoritmo de *\"Divide y Vencerás\"* es particularmente poderoso en situaciones donde la descomposición del problema reduce significativamente la complejidad del mismo. Algunos ejemplos clásicos de algoritmos que utilizan esta técnica incluyen el ordenamiento rápido (*Quicksort*), el ordenamiento por mezcla (*Merge Sort*) y la *búsqueda binaria*.\n",
    "\n",
    "Esta técnica es apreciada no solo por su eficiencia sino también por su elegancia y simplicidad en el manejo de problemas complejos. Al dividir un gran problema en partes más pequeñas, los algoritmos de *\"Divide y Vencerás\"* pueden proporcionar soluciones óptimas y eficientes que serían difíciles o imposibles de alcanzar con un enfoque más lineal o iterativo..\n",
    "\n",
    "***Algoritmo \"Divide y Vencerás\" (una versión...):***\n",
    "\n",
    "```pseudo\n",
    " ALGORITMO DivideYVenceras(n)\n",
    "1    SI n <= 1\n",
    "2        return n\n",
    "3    SINO\n",
    "4        mitad = n / 2\n",
    "5        izquierda = DivideYVenceras(mitad)\n",
    "6        derecha = DivideYVenceras(n - mitad)\n",
    "7        return izquierda + derecha\n",
    " FIN\n",
    "```\n",
    "\n",
    "***Análisis de Complejidad:***\n",
    "\n",
    "1. ***Operaciones de Asignación y Condicional:***\n",
    "   - Hay una operación condicional en la línea 2.\n",
    "   - Dos operaciones de asignación en las líneas 5 y 6.\n",
    "   - Una operación de retorno en la línea 7.\n",
    "<p>&nbsp;</p>\n",
    "\n",
    "2. ***División del Problema:***\n",
    "   - El algoritmo divide el problema en dos mitades en cada llamada recursiva hasta que el tamaño del problema es 1 o menor, lo cual sucede en la línea 5 y 6.\n",
    "<p>&nbsp;</p>\n",
    "\n",
    "3. ***Cálculo de Complejidad:***\n",
    "\n",
    "    - ***Número de Niveles de Recursión:***\n",
    "      - Comenzamos con un problema de tamaño $n$. Después de la primera división, tenemos dos subproblemas, cada uno de tamaño $\\frac{n}{2}$. En la siguiente etapa, cada uno de estos subproblemas se divide nuevamente, resultando en subproblemas de tamaño $\\frac{n}{4}$, y así sucesivamente.\n",
    "      - Este proceso de división continúa hasta que el tamaño del subproblema se reduce a 1. En cada paso, el tamaño del problema se divide por 2. Para determinar cuántas veces necesitamos dividir el problema hasta llegar a un tamaño de 1, usamos la relación $n, \\frac{n}{2}, \\frac{n}{4}, \\frac{n}{8}, \\ldots, 1$.\n",
    "\n",
    "    - ***Cálculo de la Profundidad de la Recursión:***\n",
    "      - Para encontrar el número de veces que el tamaño del problema se divide por 2 hasta llegar a 1, resolvemos la ecuación $\\frac{n}{2^k} = 1$, donde $k$ es el número de divisiones.\n",
    "      - Resolviendo para $k$, obtenemos $k = \\log_2(n)$. Esto se debe a que $2^k = n \\Rightarrow k = \\log_2(n)$.\n",
    "      - Por lo tanto, el número total de niveles de recursión, o la profundidad de la recursión, es $\\log_2(n)$.\n",
    "\n",
    "***Complejidad en Notaciones Asintóticas:***\n",
    "\n",
    "- **Big O (O-grande):**\n",
    "  - La complejidad en el peor caso es $O(\\log(n))$. Cada vez que el algoritmo se divide en dos, se reduce el tamaño del problema a la mitad, lo que resulta en un crecimiento logarítmico del número total de operaciones.\n",
    "<p>&nbsp;</p>\n",
    "  \n",
    "- **Omega (Ω):**\n",
    "  - En el mejor caso, también se tienen que realizar las divisiones, por lo que la complejidad sigue siendo $\\Omega(\\log(n))$. Incluso en el caso más rápido, se deben realizar las divisiones logarítmicas.\n",
    "<p>&nbsp;</p>\n",
    "\n",
    "- **Theta (Θ):**\n",
    "  - Dado que tanto el mejor como el peor caso tienen la misma complejidad, la complejidad temporal promedio o típica del algoritmo también es $\\Theta(\\log(n))$.\n",
    "\n",
    "Este análisis muestra que el algoritmo de *\"Divide y Vencerás\"* presentado tiene una complejidad logarítmica tanto en su mejor como en su peor caso, lo que lo hace eficiente para problemas que se pueden dividir de esta manera."
   ]
  },
  {
   "cell_type": "markdown",
   "id": "49eaeeb1",
   "metadata": {},
   "source": [
    "## Desafíos"
   ]
  },
  {
   "cell_type": "markdown",
   "id": "0ad610db",
   "metadata": {},
   "source": [
    "Para cada uno de las siguientes preguntas, realice el procedimiento adecuado para obtener el orden del algoritmo. Una vez determinado, indique cuál de las cuatro opciones es la correcta."
   ]
  },
  {
   "cell_type": "markdown",
   "id": "ec204750",
   "metadata": {},
   "source": [
    "1. Para cada uno de los siguientes fragmentos de código, determine cuál es su $\\mathcal{O}(n)$?\n",
    "\n",
    "- A) $\\mathcal{O}(n)$\n",
    "- B) $\\mathcal{O}(n^2)$\n",
    "- C) $\\mathcal{O}(log(n))$\n",
    "- D) $\\mathcal{O}(n^3)$"
   ]
  },
  {
   "cell_type": "markdown",
   "id": "4104cc1d",
   "metadata": {},
   "source": [
    "***\n",
    "\n",
    "```pseudo\n",
    "prueba = 0\n",
    "Para i = 1 hasta n hacer:\n",
    "    Para j = 1 hasta n hacer:\n",
    "        prueba = prueba + i * j\n",
    "```"
   ]
  },
  {
   "cell_type": "markdown",
   "id": "ee01adcc",
   "metadata": {},
   "source": [
    "***\n",
    "```pseudo\n",
    "prueba = 0\n",
    "Para i = 1 hasta n hacer:\n",
    "   prueba = prueba + 1\n",
    "\n",
    "Para j = 1 hasta n hacer:\n",
    "   prueba = prueba - 1\n",
    "```"
   ]
  },
  {
   "cell_type": "markdown",
   "id": "f847c85e",
   "metadata": {},
   "source": [
    "***\n",
    "```pseudo\n",
    "i = n\n",
    "Mientras i > 0 hacer:\n",
    "   k = 2 + 2\n",
    "   i = i // 2\n",
    "```"
   ]
  },
  {
   "cell_type": "code",
   "execution_count": null,
   "id": "57151663",
   "metadata": {},
   "outputs": [],
   "source": []
  }
 ],
 "metadata": {
  "kernelspec": {
   "display_name": "Python 3 (ipykernel)",
   "language": "python",
   "name": "python3"
  },
  "language_info": {
   "codemirror_mode": {
    "name": "ipython",
    "version": 3
   },
   "file_extension": ".py",
   "mimetype": "text/x-python",
   "name": "python",
   "nbconvert_exporter": "python",
   "pygments_lexer": "ipython3",
   "version": "3.11.3"
  },
  "toc": {
   "base_numbering": 1,
   "nav_menu": {},
   "number_sections": true,
   "sideBar": true,
   "skip_h1_title": true,
   "title_cell": "Table of Contents",
   "title_sidebar": "Contents",
   "toc_cell": false,
   "toc_position": {
    "height": "calc(100% - 180px)",
    "left": "10px",
    "top": "150px",
    "width": "256px"
   },
   "toc_section_display": true,
   "toc_window_display": false
  }
 },
 "nbformat": 4,
 "nbformat_minor": 5
}
