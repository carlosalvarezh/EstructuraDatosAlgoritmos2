{
 "cells": [
  {
   "cell_type": "markdown",
   "id": "f53755b6",
   "metadata": {},
   "source": [
    "<h1 align=\"center\">Estructura de Datos y Algoritmos II</h1>\n",
    "<h1 align=\"center\">Semana03: Eficiencia algorítmica</h1>\n",
    "<h1 align=\"center\">2024</h1>\n",
    "<h1 align=\"center\">MEDELLÍN - COLOMBIA </h1>"
   ]
  },
  {
   "cell_type": "markdown",
   "id": "b677e269",
   "metadata": {},
   "source": [
    "*** \n",
    "|[![Outlook](https://img.shields.io/badge/Microsoft_Outlook-0078D4?style=plastic&logo=microsoft-outlook&logoColor=white)](mailto:calvar52@eafit.edu.co)||[![Open In Colab](https://colab.research.google.com/assets/colab-badge.svg)](https://colab.research.google.com/github/carlosalvarezh/EstructuraDatosAlgoritmos2/blob/main/S03_EficienciaAlgoritmica.ipynb)\n",
    "|-:|:-|--:|\n",
    "|[![LinkedIn](https://img.shields.io/badge/linkedin-%230077B5.svg?style=plastic&logo=linkedin&logoColor=white)](https://www.linkedin.com/in/carlosalvarez5/)|[![@alvarezhenao](https://img.shields.io/twitter/url/https/twitter.com/alvarezhenao.svg?style=social&label=Follow%20%40alvarezhenao)](https://twitter.com/alvarezhenao)|[![@carlosalvarezh](https://img.shields.io/badge/github-%23121011.svg?style=plastic&logo=github&logoColor=white)](https://github.com/carlosalvarezh)|\n",
    "\n",
    "<table>\n",
    " <tr align=left><td><img align=left src=\"https://github.com/carlosalvarezh/Curso_CEC_EAFIT/blob/main/images/CCLogoColorPop1.gif?raw=true\" width=\"25\">\n",
    " <td>Text provided under a Creative Commons Attribution license, CC-BY. All code is made available under the FSF-approved MIT license.(c) Carlos Alberto Alvarez Henao</td>\n",
    "</table>\n",
    "\n",
    "***"
   ]
  },
  {
   "cell_type": "markdown",
   "id": "8f40d3c5",
   "metadata": {},
   "source": [
    "<p float=\"center\">\n",
    "  <img src=\"https://github.com/carlosalvarezh/EstructuraDatosAlgoritmos2/blob/main/images/Time.avif?raw=true\" width=\"350\" />\n",
    "</p>\n",
    "\n",
    "<p style=\"text-align: center;\">\n",
    "    <strong>Tomado de:</strong> <a href=\"https://unsplash.com/es/fotos/foto-de-enfoque-selectivo-de-reloj-de-arena-marron-y-azul-en-piedras-BXOXnQ26B7o\">Unsplash</a>\n",
    "</p>"
   ]
  },
  {
   "cell_type": "markdown",
   "id": "8870a5c7",
   "metadata": {},
   "source": [
    "## Eficiencia Algorítmica"
   ]
  },
  {
   "cell_type": "markdown",
   "id": "1180cbb9",
   "metadata": {},
   "source": [
    "### Introducción"
   ]
  },
  {
   "cell_type": "markdown",
   "id": "285c3b6e",
   "metadata": {},
   "source": [
    "En el ámbito de la Ciencia de la Computación, el estudio y aplicación de algoritmos se centra en encontrar soluciones óptimas para diversos problemas. Un aspecto crucial en este proceso es la [eficiencia algorítmica](https://en.wikipedia.org/wiki/Time_complexity), que determina la efectividad de un algoritmo en términos de los recursos que consume, siendo estos principalmente el tiempo y la memoria. Esta introducción aborda los conceptos fundamentales de la eficiencia algorítmica, enfocándose en la complejidad temporal y espacial, dos métricas esenciales para evaluar y comparar algoritmos."
   ]
  },
  {
   "cell_type": "markdown",
   "id": "b90a6c0a",
   "metadata": {},
   "source": [
    "### Definición de Eficiencia Algorítmica"
   ]
  },
  {
   "cell_type": "markdown",
   "id": "d641bda5",
   "metadata": {},
   "source": [
    "La eficiencia algorítmica es una medida que determina la cantidad de recursos computacionales que un algoritmo requiere para ejecutarse. Esta eficiencia es independiente del hardware o configuración de la máquina donde se ejecuta el algoritmo, y se relaciona directamente con el tamaño de los datos de entrada. Existen dos principales tipos de eficiencia algorítmica: la complejidad temporal y la complejidad espacial."
   ]
  },
  {
   "cell_type": "markdown",
   "id": "46735275",
   "metadata": {},
   "source": [
    "#### Complejidad Temporal"
   ]
  },
  {
   "cell_type": "markdown",
   "id": "bd36dbb8",
   "metadata": {},
   "source": [
    "La complejidad temporal de un algoritmo se refiere a la cantidad de tiempo que toma ejecutarlo, en función de la longitud de la entrada. No se mide en tiempo real de ejecución, sino en términos de la cantidad de operaciones elementales que el algoritmo realiza. La eficiencia temporal de un algoritmo se ve fuertemente influenciada por el tamaño de la entrada; a medida que este tamaño aumenta, también lo hace el tiempo de ejecución."
   ]
  },
  {
   "cell_type": "markdown",
   "id": "2164635e",
   "metadata": {},
   "source": [
    "#### Complejidad Espacial"
   ]
  },
  {
   "cell_type": "markdown",
   "id": "28467752",
   "metadata": {},
   "source": [
    "Por otro lado, la complejidad espacial de un algoritmo mide la cantidad de memoria requerida para su ejecución. Esta incluye la memoria necesaria para almacenar los datos de entrada, así como cualquier espacio adicional necesario para procesar esos datos. La complejidad espacial es crucial, especialmente en contextos donde la memoria es limitada.\n"
   ]
  },
  {
   "cell_type": "markdown",
   "id": "04bea7ea",
   "metadata": {},
   "source": [
    "### Importancia de la Complejidad Temporal y Espacial"
   ]
  },
  {
   "cell_type": "markdown",
   "id": "60481616",
   "metadata": {},
   "source": [
    "La eficiencia en términos de tiempo y espacio es fundamental para el desarrollo de algoritmos eficaces. Por ejemplo, en el caso de algoritmos de ordenamiento, diferentes métodos pueden tener distintos niveles de eficiencia. La elección del algoritmo más eficiente depende de realizar un análisis computacional detallado de cada opción, considerando tanto la complejidad temporal como la espacial."
   ]
  },
  {
   "cell_type": "markdown",
   "id": "40665866",
   "metadata": {},
   "source": [
    "### Operaciones básicas"
   ]
  },
  {
   "cell_type": "markdown",
   "id": "f6a231a6",
   "metadata": {},
   "source": [
    "En el contexto de la complejidad algorítmica y el análisis de algoritmos, *\"operaciones básicas\"* (o *elementales*) se refieren a las acciones fundamentales que un algoritmo realiza en su ejecución. Estas operaciones son los elementos esenciales y más simples que componen el algoritmo y determinan en gran medida su rendimiento y eficiencia. Algunos ejemplos incluyen:\n",
    "\n",
    "- ***Operaciones Aritméticas:*** Como sumar, restar, multiplicar y dividir.\n",
    "<p>&nbsp;</p>\n",
    "\n",
    "- ***Comparaciones:*** Como verificar si un número es mayor, menor o igual a otro.\n",
    "<p>&nbsp;</p>\n",
    "\n",
    "- ***Asignaciones:*** Asignar un valor a una variable.\n",
    "<p>&nbsp;</p>\n",
    "\n",
    "- ***Accesos a Memoria:*** Leer o escribir datos en una ubicación de memoria, como acceder a un elemento en un arreglo.\n",
    "<p>&nbsp;</p>\n",
    "\n",
    "- ***Operaciones de Control de Flujo:*** Como declaraciones if, ciclos for o while.\n",
    "\n",
    "En el análisis de algoritmos, frecuentemente se cuenta el número de estas operaciones básicas para estimar la complejidad temporal de un algoritmo, especialmente en el contexto de la notación $\\text{Big}(\\mathcal{O})$. Este enfoque permite una comparación estandarizada de algoritmos en términos de eficiencia, independientemente de la máquina o el lenguaje de programación en el que se implementan."
   ]
  },
  {
   "cell_type": "markdown",
   "id": "45fc9a15",
   "metadata": {},
   "source": [
    "### Ejemplo: Suma de dos números enteros"
   ]
  },
  {
   "cell_type": "markdown",
   "id": "b33dec4c",
   "metadata": {},
   "source": [
    "Imagina que tienes un algoritmo cuyo único propósito es sumar dos números. Por ejemplo, tienes dos números, `numero1` y `numero2`, y tu algoritmo simplemente los suma para obtener su resultado, `suma`.\n",
    "\n",
    "***¿Cómo Calcular su Complejidad Temporal?***\n",
    "Para evaluar la complejidad temporal de este algoritmo, consideramos cuántas operaciones básicas necesita realizar. En este caso, nuestro algoritmo realiza una sola operación, independientemente de los valores de los números: la suma de los dos números.\n",
    "\n",
    "```\n",
    "ALGORITMO SumarDosNumeros\n",
    "    INICIO\n",
    "        // Definir las variables\n",
    "        DECLARE numero1, numero2, suma: INTEGER\n",
    "\n",
    "        // Leer los dos números\n",
    "        LEER numero1\n",
    "        LEER numero2\n",
    "\n",
    "        // Sumar los números\n",
    "        suma = numero1 + numero2\n",
    "\n",
    "        // Mostrar el resultado\n",
    "        ESCRIBIR suma\n",
    "    FIN\n",
    "```\n",
    "\n",
    "Dado que el número de operaciones (en este caso, una sola suma) no cambia sin importar los números específicos que estamos sumando, decimos que la complejidad temporal de este algoritmo es constante, o en términos técnicos, es $\\mathcal{O}(1)$. Esto significa que el tiempo que toma ejecutar el algoritmo no varía con el tamaño de la entrada, ya que siempre está realizando exactamente la misma cantidad de trabajo (una operación)."
   ]
  },
  {
   "cell_type": "markdown",
   "id": "a61b8079",
   "metadata": {},
   "source": [
    "## Notación Asintótica"
   ]
  },
  {
   "cell_type": "markdown",
   "id": "afff45c7",
   "metadata": {},
   "source": [
    "<p float=\"center\">\n",
    "  <img src=\"https://github.com/carlosalvarezh/EstructuraDatosAlgoritmos2/blob/main/images/Asymptotic01.webp?raw=true\" width=\"350\" />\n",
    "</p>\n",
    "\n",
    "<p style=\"text-align: center;\">\n",
    "    <strong>Tomado de:</strong> <a href=\"https://positive-vibes.co.in/Blog/Modern-Version-of-Tortoise-and-Rabbit-Story.php\">Internet</a>\n",
    "</p>"
   ]
  },
  {
   "cell_type": "markdown",
   "id": "848de94a",
   "metadata": {},
   "source": [
    "### Introducción"
   ]
  },
  {
   "cell_type": "markdown",
   "id": "6318ded3",
   "metadata": {},
   "source": [
    "Supongamos que estamos diseñando un software de biblioteca que necesita clasificar una lista de libros. Al principio, cuando la biblioteca es pequeña, el software solo necesita manejar unos pocos cientos de libros. En esta etapa, se utiliza un algoritmo de ordenamiento simple como el ordenamiento por burbuja. Sin embargo, a medida que la biblioteca crece y el número de libros se cuenta por miles, empezamos a notar que el software se vuelve más lento."
   ]
  },
  {
   "cell_type": "markdown",
   "id": "6caf52f7",
   "metadata": {},
   "source": [
    "### Análisis del Problema"
   ]
  },
  {
   "cell_type": "markdown",
   "id": "1b4a5ce7",
   "metadata": {},
   "source": [
    "Para entender el problema, analizamos el algoritmo de ordenamiento por burbuja. Este algoritmo compara repetidamente pares de elementos adyacentes y los intercambia si están en el orden incorrecto. Este proceso se repite hasta que no se necesitan más intercambios, lo que significa que la lista está ordenada.\n",
    "\n",
    "En una biblioteca pequeña, el número reducido de libros significa que el número total de comparaciones e intercambios es manejable. Sin embargo, a medida que la cantidad de libros aumenta, el número de operaciones necesarias para ordenar toda la lista crece drásticamente. Si la lista tiene $n$ elementos, en el peor de los casos, el ordenamiento por burbuja puede requerir aproximadamente $n^2$ comparaciones e intercambios."
   ]
  },
  {
   "cell_type": "markdown",
   "id": "03a97771",
   "metadata": {},
   "source": [
    "### Necesidad de una notación"
   ]
  },
  {
   "cell_type": "markdown",
   "id": "ea903624",
   "metadata": {},
   "source": [
    "Aquí es donde entra en juego la notación asintótica. Para expresar de manera eficiente cómo la eficiencia de un algoritmo cambia o escala con el tamaño de la entrada, usamos esta notación. En el caso del ordenamiento por burbuja, decimos que su complejidad temporal en el peor de los casos es $O(n^2)$. Este $O(n^2)$ es una forma de expresar que el tiempo de ejecución del algoritmo aumenta cuadráticamente con el número de elementos.\n",
    "\n",
    "La notación asintótica nos permite abstraer y enfocarnos en el crecimiento de la complejidad del algoritmo en lugar de preocuparnos por los detalles específicos de la implementación o el hardware. Nos da una herramienta para comparar algoritmos basándonos en su eficiencia relativa y nos ayuda a elegir el más adecuado para un tamaño de problema dado.\n"
   ]
  },
  {
   "cell_type": "markdown",
   "id": "495cc977",
   "metadata": {},
   "source": [
    "### Definición de Notación Asintótica"
   ]
  },
  {
   "cell_type": "markdown",
   "id": "617ca58d",
   "metadata": {},
   "source": [
    "<p float=\"center\">\n",
    "  <img src=\"https://github.com/carlosalvarezh/EstructuraDatosAlgoritmos2/blob/main/images/BigO.PNG?raw=true\" width=\"500\" />\n",
    "</p>\n",
    "\n",
    "<p style=\"text-align: center;\">\n",
    "    <strong>Tomado de:</strong> <a href=\"https://www.bigocheatsheet.com/\">bigocheatsheet.com</a>\n",
    "</p>\n",
    "\n",
    "La notación asintótica es una herramienta matemática esencial en el análisis de algoritmos, y su propósito es describir cómo cambia la complejidad de un algoritmo —representada por la función $f(n)$— en relación con el aumento del tamaño del problema, denotado por $n$. Esta notación se centra en el comportamiento del algoritmo cuando $n$ se hace muy grande, es decir, tiende hacia el infinito. Proporciona un medio simplificado y estandarizado para representar el cambio en la complejidad del algoritmo, ya sea en términos de tiempo de ejecución o uso de espacio, especialmente para grandes volúmenes de entrada.\n",
    "\n",
    "El objetivo principal de emplear la notación asintótica es comprender cómo se comporta un algoritmo a medida que el tamaño de su entrada se incrementa. Inicialmente, se podría pensar en utilizar una sola medida para describir este comportamiento. Sin embargo, el análisis detallado de diferentes algoritmos revela que su rendimiento no es uniforme para todas las posibles entradas. Algunos algoritmos pueden ser extremadamente eficientes para ciertos tipos de entradas (representando el mejor caso), mientras que pueden encontrar dificultades considerables con otros tipos de datos (correspondientes al peor caso).\n",
    "\n",
    "Este descubrimiento lleva a la necesidad de múltiples medidas para capturar de manera precisa y completa el rendimiento variable de los algoritmos bajo distintas condiciones. Por lo tanto, la notación asintótica no se limita a una sola perspectiva, sino que se expande para incluir diferentes notaciones, cada una destacando un aspecto particular del comportamiento del algoritmo."
   ]
  },
  {
   "cell_type": "markdown",
   "id": "040bb612",
   "metadata": {},
   "source": [
    "### La Necesidad de Múltiples Perspectivas"
   ]
  },
  {
   "cell_type": "markdown",
   "id": "fcf33052",
   "metadata": {},
   "source": [
    "Para obtener una evaluación completa de un algoritmo, es necesario considerar distintos escenarios:\n",
    "\n",
    "- ***Rendimiento en el Peor Caso:*** Necesitamos una medida que nos diga cómo se comporta el algoritmo en su peor forma. Esto es crucial para entender los límites y garantizar la robustez del algoritmo.\n",
    "<p>&nbsp;</p>\n",
    "\n",
    "- ***Rendimiento en el Mejor Caso:*** Es igualmente importante saber cuán bien puede funcionar el algoritmo bajo condiciones ideales. Esto puede ser especialmente relevante en aplicaciones donde se conoce de antemano el tipo de datos a procesar.\n",
    "<p>&nbsp;</p>\n",
    "\n",
    "- ***Comportamiento Típico o Promedio:*** Finalmente, queremos una idea del rendimiento del algoritmo en condiciones normales o promedio, lo que proporciona una visión más realista de su comportamiento diario."
   ]
  },
  {
   "cell_type": "markdown",
   "id": "88f989e3",
   "metadata": {},
   "source": [
    "### Notación Big $\\mathcal{O}$ (O$-$grande)"
   ]
  },
  {
   "cell_type": "markdown",
   "id": "933bc8b1",
   "metadata": {},
   "source": [
    "<p float=\"center\">\n",
    "  <img src=\"https://github.com/carlosalvarezh/EstructuraDatosAlgoritmos2/blob/main/images/Big_O_Notation.png?raw=true\" width=\"350\" />\n",
    "</p>\n",
    "\n",
    "<p style=\"text-align: center;\">\n",
    "    <strong>Tomado de:</strong> <a href=\"http://www.btechsmartclass.com/data_structures/asymptotic-notations.html\">btechsmartclass.com</a>\n",
    "</p>\n",
    "\n",
    "La notación $\\text{Big } \\mathcal{O}$, denotada como $\\mathcal{O}(g(n))$, es quizás la más conocida y utilizada en el análisis de algoritmos. Esta notación se centra en el peor caso posible de un algoritmo, proporcionando un límite superior en el crecimiento de la función que representa su complejidad. Matemáticamente, decimos que una función $f(n)$ es $O(g(n))$ si existe una constante $c$ y un valor $n_0$ tal que $0 \\leq f(n) \\leq c \\cdot g(n)$ para todo $n \\geq n_0$. Esto significa que, independientemente de los valores específicos de entrada, el tiempo de ejecución del algoritmo no excederá el crecimiento marcado por $g(n)$ multiplicado por una constante, en el peor de los casos. Por ejemplo, en el caso del algoritmo de ordenamiento por burbuja, donde su complejidad temporal es $\\mathcal{O}(n^2)$, indica que en el peor de los casos, el número de operaciones necesarias crece cuadráticamente con el tamaño de la entrada."
   ]
  },
  {
   "cell_type": "markdown",
   "id": "ab43f14a",
   "metadata": {},
   "source": [
    "- ***Breve comentario sobre la función $g(n)$***\n",
    "\n",
    "En el contexto de la notación asintótica, $g(n)$ es una función que se utiliza para comparar el crecimiento de la función $f(n)$, donde $f(n)$ representa la complejidad de un algoritmo. La función $g(n)$ sirve como un punto de referencia o un \"modelo\" de crecimiento para entender cómo se comporta $f(n)$ cuando $n$ (el tamaño de la entrada del algoritmo) se hace grande.\n",
    "\n",
    "Por ejemplo, en el caso de la notación $\\text{Big } \\mathcal{O}$, cuando decimos que un algoritmo tiene una complejidad de $\\mathcal{O}(n)$, estamos diciendo que el tiempo de ejecución del algoritmo crece, en el peor de los casos, de manera proporcional a $g(n)=n$. Aquí, $g(n)$ es una función lineal, que representa el crecimiento lineal en relación con el tamaño de la entrada.\n",
    "De manera similar, si un algoritmo tiene una complejidad de $\\mathcal{O}(n^2)$,$g(n)=n^2$ actúa como una función cuadrática para comparar el crecimiento de la complejidad del algoritmo.\n",
    "\n",
    "En resumen, $g(n)$ es una función teórica que utilizamos para caracterizar y entender el comportamiento asintótico de $f(n)$, la función real que describe la complejidad de un algoritmo."
   ]
  },
  {
   "cell_type": "markdown",
   "id": "bc78a0f4",
   "metadata": {},
   "source": [
    "### Notación Omega ($\\Omega$)"
   ]
  },
  {
   "cell_type": "markdown",
   "id": "15447eaa",
   "metadata": {},
   "source": [
    "<p float=\"center\">\n",
    "  <img src=\"https://github.com/carlosalvarezh/EstructuraDatosAlgoritmos2/blob/main/images/Big_Omega_Notation.png?raw=true\" width=\"350\" />\n",
    "</p>\n",
    "\n",
    "<p style=\"text-align: center;\">\n",
    "    <strong>Tomado de:</strong> <a href=\"http://www.btechsmartclass.com/data_structures/asymptotic-notations.html\">btechsmartclass.com</a>\n",
    "</p>\n",
    "\n",
    "La notación Omega, representada como $\\Omega(g(n))$, se utiliza para describir el límite inferior de la complejidad de un algoritmo, enfocándose en el mejor caso posible. Aquí, una función $f(n)$ es $\\Omega(g(n))$ si existen constantes $c$ y $n_0$ tales que $0 \\leq c \\cdot g(n) \\leq f(n)$ para todo $n \\geq n_0$. Esta notación es particularmente útil para comprender el rendimiento mínimo que un algoritmo puede garantizar. Por ejemplo, si un algoritmo de búsqueda tiene una complejidad de $\\Omega(\\log n)$, sugiere que en el mejor de los casos, el tiempo necesario para completar la búsqueda es proporcional al logaritmo del tamaño de la entrada, lo cual es un indicador de alta eficiencia."
   ]
  },
  {
   "cell_type": "markdown",
   "id": "db31def4",
   "metadata": {},
   "source": [
    "### Notación Theta ($\\Theta$)"
   ]
  },
  {
   "cell_type": "markdown",
   "id": "0f1f91f0",
   "metadata": {},
   "source": [
    "<p float=\"center\">\n",
    "  <img src=\"https://github.com/carlosalvarezh/EstructuraDatosAlgoritmos2/blob/main/images/Big_Theta_Notation.png?raw=true\" width=\"350\" />\n",
    "</p>\n",
    "\n",
    "<p style=\"text-align: center;\">\n",
    "    <strong>Tomado de:</strong> <a href=\"http://www.btechsmartclass.com/data_structures/asymptotic-notations.html\">btechsmartclass.com</a>\n",
    "</p>\n",
    "\n",
    "La notación Theta, denotada por $\\Theta(g(n))$, proporciona una visión más precisa y ajustada del rendimiento de un algoritmo, al establecer tanto un límite superior como inferior para la complejidad. Una función $f(n)$ es $\\Theta(g(n))$ si y solo si es tanto $O(g(n))$ como $\\Omega(g(n))$. En términos matemáticos, esto significa que existen constantes $c_1, c_2$ y $n_0$ tales que $c_1 \\cdot g(n) \\leq f(n) \\leq c_2 \\cdot g(n)$ para todo $n \\geq n_0$. Esta notación es particularmente valiosa para describir algoritmos cuyo rendimiento no varía drásticamente entre diferentes casos. Por ejemplo, un algoritmo con una complejidad de $\\Theta(n \\log n)$, como el ordenamiento por mezcla, indica que tanto en el mejor como en el peor de los casos, su tiempo de ejecución es proporcional a $n \\log n$."
   ]
  },
  {
   "cell_type": "markdown",
   "id": "f81c6f5a",
   "metadata": {},
   "source": [
    "Cada una de estas notaciones asintóticas proporciona una lente única a través de la cual podemos examinar y comprender la complejidad de un algoritmo. La elección de qué notación usar depende de qué aspecto del rendimiento del algoritmo es más relevante para el análisis en cuestión. Juntas, estas notaciones ofrecen una imagen completa y matizada del comportamiento de los algoritmos en diferentes escenarios."
   ]
  },
  {
   "cell_type": "markdown",
   "id": "2c1cd998",
   "metadata": {},
   "source": [
    "## Ejemplo explicativo: Algoritmo Divide y Vencerás"
   ]
  },
  {
   "cell_type": "markdown",
   "id": "ba4a0ab7",
   "metadata": {},
   "source": [
    "<p float=\"center\">\n",
    "  <img src=\"https://github.com/carlosalvarezh/EstructuraDatosAlgoritmos2/blob/main/images/DivideVenceras.PNG?raw=true\" width=\"500\" />\n",
    "</p>\n",
    "\n",
    "<p style=\"text-align: center;\">\n",
    "    <strong>Fuente:</strong> Creación propia\n",
    "</p>"
   ]
  },
  {
   "cell_type": "markdown",
   "id": "e4ef1ddf",
   "metadata": {},
   "source": [
    "El algoritmo *\"Divide y Vencerás\"* es una técnica fundamental en la ciencia de la computación para el diseño de algoritmos eficientes. Se basa en un enfoque recursivo para resolver problemas complejos descomponiéndolos en subproblemas más pequeños y manejables, que a su vez se resuelven de manera independiente. La esencia de esta estrategia se encuentra en tres pasos principales:\n",
    "\n",
    "1. ***Dividir:*** El problema original se divide en varios subproblemas más pequeños. Estos subproblemas deben ser similares al problema original, pero de menor tamaño.\n",
    "<p>&nbsp;</p>\n",
    "\n",
    "2. ***Conquistar:*** Cada uno de estos subproblemas se resuelve de forma independiente. Si los subproblemas siguen siendo complejos, se pueden dividir aún más utilizando la misma estrategia de *\"Divide y Vencerás\"*.\n",
    "<p>&nbsp;</p>\n",
    "\n",
    "3. ***Combinar:*** Finalmente, las soluciones de los subproblemas se combinan para formar la solución al problema original.\n",
    "\n",
    "El algoritmo de *\"Divide y Vencerás\"* es particularmente poderoso en situaciones donde la descomposición del problema reduce significativamente la complejidad del mismo. Algunos ejemplos clásicos de algoritmos que utilizan esta técnica incluyen el ordenamiento rápido (*Quicksort*), el ordenamiento por mezcla (*Merge Sort*) y la *búsqueda binaria*.\n",
    "\n",
    "Esta técnica es apreciada no solo por su eficiencia sino también por su elegancia y simplicidad en el manejo de problemas complejos. Al dividir un gran problema en partes más pequeñas, los algoritmos de *\"Divide y Vencerás\"* pueden proporcionar soluciones óptimas y eficientes que serían difíciles o imposibles de alcanzar con un enfoque más lineal o iterativo..\n",
    "\n",
    "***Algoritmo \"Divide y Vencerás\" (una versión...):***\n",
    "\n",
    "```pseudo\n",
    " ALGORITMO DivideYVenceras(n)\n",
    "1    SI n <= 1\n",
    "2        return n\n",
    "3    SINO\n",
    "4        mitad = n / 2\n",
    "5        izquierda = DivideYVenceras(mitad)\n",
    "6        derecha = DivideYVenceras(n - mitad)\n",
    "7        return izquierda + derecha\n",
    " FIN\n",
    "```\n",
    "\n",
    "***Análisis de Complejidad:***\n",
    "\n",
    "1. ***Operaciones de Asignación y Condicional:***\n",
    "   - Hay una operación condicional en la línea 2.\n",
    "   - Dos operaciones de asignación en las líneas 5 y 6.\n",
    "   - Una operación de retorno en la línea 7.\n",
    "<p>&nbsp;</p>\n",
    "\n",
    "2. ***División del Problema:***\n",
    "   - El algoritmo divide el problema en dos mitades en cada llamada recursiva hasta que el tamaño del problema es 1 o menor, lo cual sucede en la línea 5 y 6.\n",
    "<p>&nbsp;</p>\n",
    "\n",
    "3. ***Cálculo de Complejidad:***\n",
    "\n",
    "    - ***Número de Niveles de Recursión:***\n",
    "      - Comenzamos con un problema de tamaño $n$. Después de la primera división, tenemos dos subproblemas, cada uno de tamaño $\\frac{n}{2}$. En la siguiente etapa, cada uno de estos subproblemas se divide nuevamente, resultando en subproblemas de tamaño $\\frac{n}{4}$, y así sucesivamente.\n",
    "      - Este proceso de división continúa hasta que el tamaño del subproblema se reduce a 1. En cada paso, el tamaño del problema se divide por 2. Para determinar cuántas veces necesitamos dividir el problema hasta llegar a un tamaño de 1, usamos la relación $n, \\frac{n}{2}, \\frac{n}{4}, \\frac{n}{8}, \\ldots, 1$.\n",
    "\n",
    "    - ***Cálculo de la Profundidad de la Recursión:***\n",
    "      - Para encontrar el número de veces que el tamaño del problema se divide por 2 hasta llegar a 1, resolvemos la ecuación $\\frac{n}{2^k} = 1$, donde $k$ es el número de divisiones.\n",
    "      - Resolviendo para $k$, obtenemos $k = \\log_2(n)$. Esto se debe a que $2^k = n \\Rightarrow k = \\log_2(n)$.\n",
    "      - Por lo tanto, el número total de niveles de recursión, o la profundidad de la recursión, es $\\log_2(n)$.\n",
    "\n",
    "***Complejidad en Notaciones Asintóticas:***\n",
    "\n",
    "- **Big O (O-grande):**\n",
    "  - La complejidad en el peor caso es $O(\\log(n))$. Cada vez que el algoritmo se divide en dos, se reduce el tamaño del problema a la mitad, lo que resulta en un crecimiento logarítmico del número total de operaciones.\n",
    "<p>&nbsp;</p>\n",
    "  \n",
    "- **Omega (Ω):**\n",
    "  - En el mejor caso, también se tienen que realizar las divisiones, por lo que la complejidad sigue siendo $\\Omega(\\log(n))$. Incluso en el caso más rápido, se deben realizar las divisiones logarítmicas.\n",
    "<p>&nbsp;</p>\n",
    "\n",
    "- **Theta (Θ):**\n",
    "  - Dado que tanto el mejor como el peor caso tienen la misma complejidad, la complejidad temporal promedio o típica del algoritmo también es $\\Theta(\\log(n))$.\n",
    "\n",
    "Este análisis muestra que el algoritmo de *\"Divide y Vencerás\"* presentado tiene una complejidad logarítmica tanto en su mejor como en su peor caso, lo que lo hace eficiente para problemas que se pueden dividir de esta manera."
   ]
  },
  {
   "cell_type": "markdown",
   "id": "0592be72-b4a8-48cc-9e83-b1436f220d8d",
   "metadata": {},
   "source": [
    "## Ejemplo computacional"
   ]
  },
  {
   "cell_type": "code",
   "execution_count": null,
   "id": "c744ada6-09b4-4ef6-8387-1715a77fd6ab",
   "metadata": {},
   "outputs": [],
   "source": [
    "import matplotlib.pyplot as plt\n",
    "import time\n",
    "import random"
   ]
  },
  {
   "cell_type": "code",
   "execution_count": null,
   "id": "deaa0378-d4bc-4c0c-a63a-36a6118a40b8",
   "metadata": {},
   "outputs": [],
   "source": [
    "# Función para medir el tiempo de ejecución de cada algoritmo\n",
    "def measure_time(func, n, data=None, **kwargs):\n",
    "    start_time = time.time()\n",
    "    if data is None:\n",
    "        func(n, **kwargs)\n",
    "    else:\n",
    "        func(data, **kwargs)\n",
    "    end_time = time.time()\n",
    "    return end_time - start_time\n"
   ]
  },
  {
   "cell_type": "code",
   "execution_count": null,
   "id": "30c2a5b6-df6f-488b-b216-65b05b7f0023",
   "metadata": {},
   "outputs": [],
   "source": [
    "# Función para generar las gráficas para cualquier algoritmo\n",
    "def plot_complexity(algorithm_name, func, ns, use_exp=False, **kwargs):\n",
    "    times = []\n",
    "    epsilon = 1e-9  # Añadir una pequeña cantidad para evitar valores cero\n",
    "\n",
    "    for n in ns:\n",
    "        if use_exp:\n",
    "            elapsed_time = measure_time(func, n, **kwargs) + epsilon\n",
    "        else:\n",
    "            data = random.sample(range(n), n)\n",
    "            elapsed_time = measure_time(func, n, data, **kwargs) + epsilon\n",
    "        times.append(elapsed_time)\n",
    "\n",
    "    plt.figure(figsize=(6, 4))\n",
    "    plt.plot(ns, times, marker='o', label=algorithm_name)\n",
    "    plt.xlabel(\"Tamaño de entrada (n)\")\n",
    "    plt.ylabel(\"Tiempo de ejecución (s)\")\n",
    "    plt.title(f\"Complejidad Algorítmica - {algorithm_name}\")\n",
    "    plt.legend()\n",
    "    plt.grid(True)\n",
    "    plt.yscale(\"log\")\n",
    "    plt.show()"
   ]
  },
  {
   "cell_type": "markdown",
   "id": "9d72fd77-a7e6-4b0d-a56a-3d27fa12f3cd",
   "metadata": {},
   "source": [
    "### Complejidad $O(1)$"
   ]
  },
  {
   "cell_type": "code",
   "execution_count": null,
   "id": "8103ae84-e7da-46c0-847c-d4cac31d1bd1",
   "metadata": {},
   "outputs": [],
   "source": [
    "# Definición del algoritmo de tiempo constante\n",
    "def constant_time_example(lst):\n",
    "    return lst[0]"
   ]
  },
  {
   "cell_type": "code",
   "execution_count": null,
   "id": "a476030b-cf05-4286-88d2-c711b577b89e",
   "metadata": {},
   "outputs": [],
   "source": [
    "plot_complexity(\"O(1)\", constant_time_example, [10, 100, 1000, 10000, 100000])"
   ]
  },
  {
   "cell_type": "markdown",
   "id": "f7d48377-b001-4491-876b-2ae7e4ec1bd3",
   "metadata": {},
   "source": [
    "- ***Explicación:*** Un algoritmo de tiempo constante $O(1)$ significa que el tiempo de ejecución no depende del tamaño del input. Acceder al primer elemento de una lista es una operación que toma tiempo constante, sin importar el tamaño de la lista. No se realizan ciclos ni operaciones que dependen de $n$."
   ]
  },
  {
   "cell_type": "markdown",
   "id": "3eb9f00a-61d9-411b-b587-0eb5afd6d332",
   "metadata": {},
   "source": [
    "### Complejidad $O(k)$ ($k$ constante)"
   ]
  },
  {
   "cell_type": "code",
   "execution_count": null,
   "id": "a0acd3ae-29a7-4017-b712-1d7d4994a538",
   "metadata": {},
   "outputs": [],
   "source": [
    "def constant_k_time_example(lst, k):\n",
    "    for i in range(k):\n",
    "        pass"
   ]
  },
  {
   "cell_type": "code",
   "execution_count": null,
   "id": "f93723f2-137c-4802-927b-30b986a0efe3",
   "metadata": {},
   "outputs": [],
   "source": [
    "k_value = 1000\n",
    "plot_complexity(\"O(k)\", constant_k_time_example, [10, 100, 1000, 10000, 100000], k=k_value)"
   ]
  },
  {
   "cell_type": "markdown",
   "id": "85ff7e62-ec4d-4d9a-987a-cb3f1a1f8b56",
   "metadata": {},
   "source": [
    "- ***Explicación:*** Un algoritmo de tiempo constante con $k$ iteraciones, donde $k$ es una constante, se comporta de manera similar a $O(1)$ pero con un factor constante de iteraciones. El ciclo `for` se ejecuta $k$ veces, donde $k$ es constante. El tiempo de ejecución es proporcional a $k$ pero no depende del tamaño de `lst`."
   ]
  },
  {
   "cell_type": "markdown",
   "id": "18fc12cc-0279-481c-b544-eb410ea6ec4a",
   "metadata": {},
   "source": [
    "### Complejidad $O(n)$"
   ]
  },
  {
   "cell_type": "code",
   "execution_count": null,
   "id": "10beb60c-61d5-426e-a664-da42e3a1a6d5",
   "metadata": {},
   "outputs": [],
   "source": [
    "def linear_time_example(lst):\n",
    "    for item in lst:\n",
    "        pass"
   ]
  },
  {
   "cell_type": "code",
   "execution_count": null,
   "id": "ec446dd7-6bc8-4f0f-bd31-8f86e0e80e7b",
   "metadata": {},
   "outputs": [],
   "source": [
    "plot_complexity(\"O(n)\", linear_time_example, [10, 100, 1000, 10000, 100000])"
   ]
  },
  {
   "cell_type": "markdown",
   "id": "213be836-dbb9-467e-a000-3ecf95f83203",
   "metadata": {},
   "source": [
    "- ***Explicación:*** Un algoritmo de tiempo lineal $O(n)$ significa que el tiempo de ejecución es directamente proporcional al tamaño del input. El ciclo `for` recorre todos los elementos de `lst` una vez. Por lo tanto, si `lst` tiene $n$ elementos, el ciclo se ejecuta $n$ veces, haciendo que el tiempo de ejecución sea proporcional a $n$."
   ]
  },
  {
   "cell_type": "markdown",
   "id": "9bcfd560-f7d7-4f6f-a960-43cf696f2024",
   "metadata": {},
   "source": [
    "### Complejidad O($n^2$)"
   ]
  },
  {
   "cell_type": "code",
   "execution_count": null,
   "id": "b78a1f38-3f4f-4cf3-8ace-d707b0f31c4a",
   "metadata": {},
   "outputs": [],
   "source": [
    "def quadratic_time_example(lst):\n",
    "    for i in range(len(lst)):\n",
    "        for j in range(len(lst)):\n",
    "            pass"
   ]
  },
  {
   "cell_type": "code",
   "execution_count": null,
   "id": "4ef0f9d2-212a-4807-90db-5c29200dd787",
   "metadata": {},
   "outputs": [],
   "source": [
    "plot_complexity(\"O(n^2)\", quadratic_time_example, [10, 100, 1000, 10000, 100000])"
   ]
  },
  {
   "cell_type": "markdown",
   "id": "d784d00b-af22-4df1-b17b-544360498378",
   "metadata": {},
   "source": [
    "- ***Explicación:*** Un algoritmo de tiempo cuadrático $O(n^2)$ significa que el tiempo de ejecución es proporcional al cuadrado del tamaño del input. El ciclo externo se ejecuta $n$ veces y por cada iteración del ciclo externo, el ciclo interno se ejecuta $n$ veces. Esto resulta en un total de $n \\times n = n^2$ iteraciones."
   ]
  },
  {
   "cell_type": "markdown",
   "id": "f4c42da2-5ed2-4abd-86ae-5ecb66547535",
   "metadata": {},
   "source": [
    "### Complejidad $O(n^3)$"
   ]
  },
  {
   "cell_type": "code",
   "execution_count": null,
   "id": "0f095742-d7a1-4216-91f0-0a087dac11a6",
   "metadata": {},
   "outputs": [],
   "source": [
    "def cubic_time_example(lst):\n",
    "    for i in range(len(lst)):\n",
    "        for j in range(len(lst)):\n",
    "            for k in range(len(lst)):\n",
    "                pass"
   ]
  },
  {
   "cell_type": "code",
   "execution_count": null,
   "id": "5c10ff80-42b1-421e-bcfa-b0c0913dfda5",
   "metadata": {},
   "outputs": [],
   "source": [
    "plot_complexity(\"O(n^3)\", cubic_time_example, [10, 100, 1000])"
   ]
  },
  {
   "cell_type": "markdown",
   "id": "a4b17bea-b049-4b8e-b025-3257fa55086a",
   "metadata": {},
   "source": [
    "- ***Explicación:*** Un algoritmo de tiempo cúbico $O(n^3)$ significa que el tiempo de ejecución es proporcional al cubo del tamaño del input. Similar a $O(n^2)$, pero aquí hay un tercer ciclo anidado. El ciclo externo se ejecuta $n$ veces, el segundo ciclo también se ejecuta $n$ veces por cada iteración del ciclo externo, y el tercer ciclo se ejecuta $n$ veces por cada iteración del segundo ciclo. Esto da un total de $n \\times n \\times n = n^3$ iteraciones."
   ]
  },
  {
   "cell_type": "markdown",
   "id": "6b28ad60-b6e6-499e-a168-edb641c09611",
   "metadata": {},
   "source": [
    "### Complejidad $O(2^n)$"
   ]
  },
  {
   "cell_type": "code",
   "execution_count": null,
   "id": "bd03e7c9-d697-46c6-b4de-e004323e6690",
   "metadata": {},
   "outputs": [],
   "source": [
    "def exponential_time_example(n):\n",
    "    if n == 0:\n",
    "        return 1\n",
    "    else:\n",
    "        return exponential_time_example(n-1) + exponential_time_example(n-1)"
   ]
  },
  {
   "cell_type": "code",
   "execution_count": null,
   "id": "3e91d43a-653c-49dc-8c13-6a5c7a356f6a",
   "metadata": {},
   "outputs": [],
   "source": [
    "plot_complexity(\"O(2^n)\", exponential_time_example, [1, 5, 10, 20], use_exp=True)"
   ]
  },
  {
   "cell_type": "markdown",
   "id": "34eb3af6-a141-49e4-90ef-a47476ae10df",
   "metadata": {},
   "source": [
    "- ***Explicación:*** Un algoritmo de tiempo exponencial $O(2^n)$ significa que el tiempo de ejecución se duplica con cada incremento del tamaño del input. Cada llamada recursiva realiza dos llamadas adicionales hasta que $n$ llega a $0$. Esto significa que el número total de llamadas es $2^n$. Si $n$ incrementa en $1$, el número de llamadas se duplica."
   ]
  },
  {
   "cell_type": "markdown",
   "id": "d77b8791-3255-4e8e-9f16-df94c325c04a",
   "metadata": {},
   "source": [
    "### Complejidad $O(nlog(n))$"
   ]
  },
  {
   "cell_type": "code",
   "execution_count": null,
   "id": "794bb33a-df25-4d7e-9050-dbe3ef8a7e3e",
   "metadata": {},
   "outputs": [],
   "source": [
    "def merge_sort(lst):\n",
    "    if len(lst) <= 1:\n",
    "        return lst\n",
    "    mid = len(lst) // 2\n",
    "    left_half = merge_sort(lst[:mid])\n",
    "    right_half = merge_sort(lst[mid:])\n",
    "    return merge(left_half, right_half)"
   ]
  },
  {
   "cell_type": "code",
   "execution_count": null,
   "id": "bbc25e73-7624-46ab-b238-4d6bbe64b090",
   "metadata": {},
   "outputs": [],
   "source": [
    "plot_complexity(\"O(n log n)\", merge_sort, [10, 100, 1000, 10000, 100000])"
   ]
  },
  {
   "cell_type": "markdown",
   "id": "5a75059c-cc2a-4684-9f6c-a977c048e7c5",
   "metadata": {},
   "source": [
    "- ***Explicación:*** Un algoritmo de tiempo $O(n log n)$ es común en algoritmos de ordenación eficientes como *Merge Sort*. *Merge Sort* divide la lista en dos mitades (operación que es logarítmica) y luego combina las dos mitades ordenadas (operación que es lineal). Esto da una complejidad total de $O(n log n)$."
   ]
  },
  {
   "cell_type": "markdown",
   "id": "0993a411-9520-451b-90ed-3920dbe758ae",
   "metadata": {},
   "source": [
    "### Complejidad $O(log(n))$"
   ]
  },
  {
   "cell_type": "code",
   "execution_count": null,
   "id": "753e97fc-01b0-4732-87b9-113956f1fc29",
   "metadata": {},
   "outputs": [],
   "source": [
    "def binary_search(lst, target):\n",
    "    low = 0\n",
    "    high = len(lst) - 1\n",
    "    while low <= high:\n",
    "        mid = (low + high) // 2\n",
    "        if lst[mid] == target:\n",
    "            return mid\n",
    "        elif lst[mid] < target:\n",
    "            low = mid + 1\n",
    "        else:\n",
    "            high = mid - 1\n",
    "    return -1"
   ]
  },
  {
   "cell_type": "code",
   "execution_count": null,
   "id": "72a19174-c9d8-46d8-964b-f1d6ae1af8f4",
   "metadata": {},
   "outputs": [],
   "source": [
    "plot_complexity(\"O(log n)\", binary_search, [10, 100, 1000, 10000, 100000], target=50)"
   ]
  },
  {
   "cell_type": "markdown",
   "id": "e43de44e-5659-4aa2-a5a1-f2917fd77cb9",
   "metadata": {},
   "source": [
    "- ***Explicación:*** Un algoritmo de tiempo logarítmico $O(log n)$ significa que el tiempo de ejecución crece logarítmicamente con el tamaño del input, como en la *búsqueda binaria*. En cada iteración, el tamaño del problema se reduce a la mitad. Esto significa que si el tamaño de `lst` es $n$, se necesitarán aproximadamente $log_2(n)$ iteraciones para encontrar el elemento o determinar que no está en la lista."
   ]
  },
  {
   "cell_type": "markdown",
   "id": "49eaeeb1",
   "metadata": {},
   "source": [
    "## Desafíos"
   ]
  },
  {
   "cell_type": "markdown",
   "id": "f81d2ba0-8497-4dc8-beac-bfb81301fd69",
   "metadata": {},
   "source": [
    "<div class=\"alert alert-success\" role=\"alert\">\n",
    "  <p><strong>1.</strong> Para cada uno de los siguientes fragmentos de código determine cuál es su complejidad algorítmica.</p>   \n",
    "</div>"
   ]
  },
  {
   "cell_type": "markdown",
   "id": "4104cc1d",
   "metadata": {},
   "source": [
    "***\n",
    "\n",
    "```pseudo\n",
    "prueba = 0\n",
    "Para i = 1 hasta n hacer:\n",
    "    Para j = 1 hasta n hacer:\n",
    "        prueba = prueba + i * j\n",
    "```"
   ]
  },
  {
   "cell_type": "markdown",
   "id": "ee01adcc",
   "metadata": {},
   "source": [
    "***\n",
    "```pseudo\n",
    "prueba = 0\n",
    "Para i = 1 hasta n hacer:\n",
    "   prueba = prueba + 1\n",
    "\n",
    "Para j = 1 hasta n hacer:\n",
    "   prueba = prueba - 1\n",
    "```"
   ]
  },
  {
   "cell_type": "markdown",
   "id": "f847c85e",
   "metadata": {},
   "source": [
    "***\n",
    "```pseudo\n",
    "i = n\n",
    "Mientras i > 0 hacer:\n",
    "   k = 2 + 2\n",
    "   i = i // 2\n",
    "```\n",
    "***"
   ]
  },
  {
   "cell_type": "markdown",
   "id": "71ae4d08-e2ee-40ea-a979-eea8e73ee196",
   "metadata": {},
   "source": [
    "<div class=\"alert alert-success\" role=\"alert\">\n",
    "  <p><strong>2.</strong> Para cada uno de los ejemplos dados en el numeral 4. Ejemplo Computacional, analice y demuestre matemáticamente que esas son sus complejidades algoritmicas.</p>   \n",
    "\n",
    "<strong>Nota:</strong> En este ejercicio, se les pide que analicen y demuestren matemáticamente la complejidad de varios algoritmos, incluyendo algunos que involucran relaciones de recurrencia. Aunque aún no hemos cubierto en detalle el tema de las recurrencias, este ejercicio les permitirá ver la importancia y el desafío de entender estos conceptos. Les animo a que investiguen de manera preliminar sobre las relaciones de recurrencia y los métodos para resolverlas, ya que serán fundamentales para su análisis.\n",
    "</div>"
   ]
  },
  {
   "cell_type": "markdown",
   "id": "7a63a210-65dd-4bf4-8753-46eebb3f9c59",
   "metadata": {},
   "source": [
    "<div class=\"alert alert-success\" role=\"alert\">\r\n",
    "  <strong>3. Traducción y Comparación de Algoritmos:</strong>\r\n",
    "  <p>- Traduce los algoritmos proporcionados a otros lenguajes interpretados como <a href=\"https://www.ruby-lang.org/en/\" target=\"_blank\">Ruby</a> y <a href=\"https://www.r-project.org/\" target=\"_blank\">R</a>, y lenguajes compilados como C/C++, <a href=\"https://www.java.com/\" target=\"_blank\">Java</a>, <a href=\"https://golang.org/\" target=\"_blank\">Go</a>, y <a href=\"https://julialang.org/\" target=\"_blank\">Julia</a> (u otro lenguaje de tu preferencia).</p>  \r\n",
    "  <p>- Compara los tiempos de ejecución obtenidos en estos lenguajes con los tiempos de ejecución en Python.</p>\r\n",
    "  <p>- Analiza y presenta tus conclusiones sobre el uso de diferentes tipos de lenguajes en términos de eficiencia y rendimiento.</p>\r\n",
    "</div>\r\n"
   ]
  },
  {
   "cell_type": "markdown",
   "id": "d745c1d7-8e09-45fa-adf3-c59f86ad45ea",
   "metadata": {},
   "source": [
    "<div class=\"alert alert-success\" role=\"alert\">\n",
    "  <strong>¡Buena suerte y disfruten del desafío!</strong>\n",
    "</div>\n",
    "\n"
   ]
  }
 ],
 "metadata": {
  "kernelspec": {
   "display_name": "Python 3 (ipykernel)",
   "language": "python",
   "name": "python3"
  },
  "language_info": {
   "codemirror_mode": {
    "name": "ipython",
    "version": 3
   },
   "file_extension": ".py",
   "mimetype": "text/x-python",
   "name": "python",
   "nbconvert_exporter": "python",
   "pygments_lexer": "ipython3",
   "version": "3.12.4"
  },
  "toc": {
   "base_numbering": 1,
   "nav_menu": {},
   "number_sections": true,
   "sideBar": true,
   "skip_h1_title": true,
   "title_cell": "Table of Contents",
   "title_sidebar": "Contents",
   "toc_cell": false,
   "toc_position": {
    "height": "calc(100% - 180px)",
    "left": "10px",
    "top": "150px",
    "width": "256px"
   },
   "toc_section_display": true,
   "toc_window_display": false
  }
 },
 "nbformat": 4,
 "nbformat_minor": 5
}
