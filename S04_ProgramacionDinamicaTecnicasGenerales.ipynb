{
 "cells": [
  {
   "cell_type": "markdown",
   "id": "3a529943",
   "metadata": {},
   "source": [
    "<h1 align=\"center\">Estructura de Datos y Algoritmos II</h1>\n",
    "<h1 align=\"center\">Programación Dinámica 1</h1>\n",
    "<h1 align=\"center\">Tecnicas para dividir el problema en subproblemas</h1>\n",
    "<h1 align=\"center\">2024</h1>\n",
    "<h1 align=\"center\">MEDELLÍN - COLOMBIA </h1>"
   ]
  },
  {
   "cell_type": "markdown",
   "id": "c8935192",
   "metadata": {},
   "source": [
    "*** \n",
    "|[![Outlook](https://img.shields.io/badge/Microsoft_Outlook-0078D4?style=plastic&logo=microsoft-outlook&logoColor=white)](mailto:calvar52@eafit.edu.co)||[![Open In Colab](https://colab.research.google.com/assets/colab-badge.svg)](https://colab.research.google.com/github/carlosalvarezh/EstructuraDatosAlgoritmos2/blob/main/S04_ProgramacionDinamica.ipynb)\n",
    "|-:|:-|--:|\n",
    "|[![LinkedIn](https://img.shields.io/badge/linkedin-%230077B5.svg?style=plastic&logo=linkedin&logoColor=white)](https://www.linkedin.com/in/carlosalvarez5/)|[![@alvarezhenao](https://img.shields.io/twitter/url/https/twitter.com/alvarezhenao.svg?style=social&label=Follow%20%40alvarezhenao)](https://twitter.com/alvarezhenao)|[![@carlosalvarezh](https://img.shields.io/badge/github-%23121011.svg?style=plastic&logo=github&logoColor=white)](https://github.com/carlosalvarezh)|\n",
    "\n",
    "<table>\n",
    " <tr align=left><td><img align=left src=\"https://github.com/carlosalvarezh/Curso_CEC_EAFIT/blob/main/images/CCLogoColorPop1.gif?raw=true\" width=\"25\">\n",
    " <td>Text provided under a Creative Commons Attribution license, CC-BY. All code is made available under the FSF-approved MIT license.(c) Carlos Alberto Alvarez Henao</td>\n",
    "</table>\n",
    "\n",
    "***"
   ]
  },
  {
   "cell_type": "markdown",
   "id": "1ddfa0d5",
   "metadata": {},
   "source": [
    "<p float=\"center\">\n",
    "  <img src=\"https://github.com/carlosalvarezh/EstructuraDatosAlgoritmos2/blob/main/images/Dynamic.avif?raw=true\" width=\"500\" />\n",
    "</p>\n",
    "\n",
    "<p style=\"text-align: center;\">\n",
    "    <strong>Tomado de:</strong> <a href=\"https://unsplash.com/es/fotos/ilustracion-de-triangulo-en-blanco-y-negro-MpL4w1vb798\">Shubham Dhage </a> en <a href=\"https://unsplash.com/\"> Unsplash</a>\n",
    "</p>"
   ]
  },
  {
   "cell_type": "markdown",
   "id": "0bf22f4c",
   "metadata": {},
   "source": [
    "## Programación Dinámica"
   ]
  },
  {
   "cell_type": "markdown",
   "id": "511f5e7b",
   "metadata": {},
   "source": [
    "### Introducción"
   ]
  },
  {
   "cell_type": "markdown",
   "id": "5679df09",
   "metadata": {},
   "source": [
    "La [Programación Dinámica](https://en.wikipedia.org/wiki/Dynamic_programming) (*PD*), es una metodología de optimización matemática y un paradigma algorítmico crucial.Fue desarrollada por Richard Bellman en la década de 1950. Originalmente concebida para la toma de decisiones en procesos que se extienden en el tiempo, su aplicación se ha expandido a una amplia gama de campos, desde la ingeniería aeroespacial hasta la economía. Esta técnica se distingue por su enfoque en descomponer problemas complejos en subproblemas más sencillos y manejables de forma recursiva, lo que la hace particularmente adecuada para situaciones donde las decisiones se desglosan de manera similar.\n",
    "\n",
    "En la esencia de la *Programación Dinámica* reside la idea de subestructura óptima y el solapamiento de subproblemas. Un problema posee subestructura óptima si su solución global óptima puede ser construida a partir de las soluciones óptimas de sus subproblemas, y presenta solapamiento de subproblemas cuando el mismo subproblema necesita ser resuelto múltiples veces. Este solapamiento permite a la *Programación Dinámica* ser eficiente, ya que almacena los resultados de estos subproblemas para evitar cálculos redundantes, un proceso conocido como [memoización](https://en.wikipedia.org/wiki/Memoization). La relación entre el problema mayor y sus subproblemas se describe a menudo mediante la ecuación de Bellman en la literatura de optimización.\n",
    "\n",
    "La *Programación Dinámica* no se limita a ser un algoritmo específico, sino que es más bien un enfoque sistemático para la resolución de problemas. Se implementa mediante dos técnicas principales: la memoización, que es un enfoque de arriba hacia abajo donde se almacenan los resultados de subproblemas para su uso posterior, y la tabulación, un método de abajo hacia arriba que construye soluciones a partir de subproblemas más pequeños. Esta metodología es particularmente eficaz en problemas que se pueden dividir en subproblemas superpuestos o subestructuras óptimas, optimizando así la solución de problemas complejos mediante la reducción del trabajo innecesario y el mejoramiento de la eficiencia general del algoritmo."
   ]
  },
  {
   "cell_type": "markdown",
   "id": "7c67ecfe",
   "metadata": {},
   "source": [
    "### Conexión con Estructuras de Datos"
   ]
  },
  {
   "cell_type": "markdown",
   "id": "56e0ee19",
   "metadata": {},
   "source": [
    "Las listas enlazadas y los arrays, estructuras de datos que hemos explorado anteriormente, juegan un papel crucial en la implementación de la *PD*. Estas estructuras se utilizan para almacenar los resultados de subproblemas, lo que permite un acceso rápido a soluciones ya calculadas y evita la necesidad de recalculaciones innecesarias."
   ]
  },
  {
   "cell_type": "markdown",
   "id": "458b8977",
   "metadata": {},
   "source": [
    "### Conceptos Fundamentales"
   ]
  },
  {
   "cell_type": "markdown",
   "id": "62a27d6f",
   "metadata": {},
   "source": [
    "1. **Subestructura Óptima y Solapamiento de Subproblemas:**\n",
    "   La esencia de la *PD* radica en estos dos conceptos. La subestructura óptima significa que la solución óptima de un problema se compone de las soluciones óptimas de sus subproblemas. El solapamiento de subproblemas se refiere a la situación donde los subproblemas se repiten, y aquí es donde la *PD* brilla, almacenando estos resultados para evitar cálculos redundantes.\n",
    "<p>&nbsp;</p>\n",
    "\n",
    "2. **Memoización vs. Tabulación:**\n",
    "   Estas son las dos técnicas comunes en *PD*. La memoización es un enfoque de arriba hacia abajo, donde almacenamos los resultados de los subproblemas en una estructura de datos (por ejemplo, un array) para su uso posterior. La tabulación es un enfoque de abajo hacia arriba, donde \"rellenamos\" una tabla basándonos en soluciones de subproblemas más pequeños para llegar a la solución del problema mayor."
   ]
  },
  {
   "cell_type": "markdown",
   "id": "cd296286",
   "metadata": {},
   "source": [
    "### Ejemplos Prácticos"
   ]
  },
  {
   "cell_type": "markdown",
   "id": "56d16178",
   "metadata": {},
   "source": [
    "1. ***Secuencia de Fibonacci:*** Un clásico ejemplo de *PD* es el cálculo de la secuencia de Fibonacci, donde `Fib(n) = Fib(n-1) + Fib(n-2)`. Implementar esto usando *PD* evita los cálculos repetidos típicos de una implementación recursiva directa.\n",
    "<p>&nbsp;</p>\n",
    "\n",
    "2. ***Problema de la Mochila:*** Este es un problema de optimización donde tenemos que elegir los objetos a incluir en una mochila con una capacidad limitada para maximizar el valor total. La *PD* permite abordar este problema de manera eficiente, construyendo soluciones desde los casos más pequeños y simples hasta llegar a la capacidad total.\n",
    "<p>&nbsp;</p>\n",
    "\n",
    "3. ***Camino Mínimo:*** Otro problema común es encontrar el camino de costo mínimo en una cuadrícula, donde solo se puede mover hacia abajo o hacia la derecha. La *PD* ayuda a calcular el costo mínimo a cada punto en la cuadrícula, basándose en los costos mínimos de los puntos adyacentes."
   ]
  },
  {
   "cell_type": "markdown",
   "id": "82740197",
   "metadata": {},
   "source": [
    "### Fuerza Bruta vs Programación Dinámica"
   ]
  },
  {
   "cell_type": "markdown",
   "id": "03514313",
   "metadata": {},
   "source": [
    "#### Introducción"
   ]
  },
  {
   "cell_type": "markdown",
   "id": "1ca543dc",
   "metadata": {},
   "source": [
    "La *Programación Dinámica* (*PD*) es una técnica avanzada en la informática que se destaca por resolver problemas complejos en [*tiempo polinomial*](https://en.wikipedia.org/wiki/Time_complexity#Polynomial_time), una gran mejora frente a los métodos de [*fuerza bruta*](https://en.wikipedia.org/wiki/Time_complexity#Polynomial_time) que operan en tiempo exponencial. Se especializa en descomponer problemas complicados en subproblemas más sencillos, almacenando las soluciones para evitar cálculos repetidos. Esta eficiencia la convierte en una herramienta crucial en áreas donde se requiere rapidez y optimización.\n",
    "\n",
    "A diferencia de la *fuerza bruta*, que examina todas las posibilidades sin distinción y resulta poco eficiente para problemas grandes, la *PD* aprovecha propiedades como el solapamiento de subproblemas y la subestructura óptima. Al resolver cada subproblema solo una vez y guardar sus soluciones, la *PD* reduce el número de cálculos necesarios, transformando tareas arduas en procesos factibles y eficientes.\n",
    "\n",
    "Este enfoque no solo optimiza el rendimiento, sino que también profundiza la comprensión de la estructura de los problemas complejos. La *PD*, al ofrecer una perspectiva estratégica y metódica, se convierte en una herramienta esencial para los programadores, abriendo nuevas posibilidades en la programación y el análisis de datos, y preparando a los profesionales para enfrentar futuros desafíos con mayor confianza y habilidad."
   ]
  },
  {
   "cell_type": "markdown",
   "id": "ae0e54bd",
   "metadata": {},
   "source": [
    "#### Algoritmo fuerza bruta - Problema de las N-Reinas"
   ]
  },
  {
   "cell_type": "markdown",
   "id": "f2123755",
   "metadata": {},
   "source": [
    "El problema de las $n$*-reinas* es un ejemplo clásico de un algoritmo de *fuerza bruta* con *complejidad exponencial*. En este problema, el objetivo es colocar $n$ reinas en un tablero de ajedrez de $n \\times n$ de tal manera que ninguna reina amenace a otra. \n",
    "\n",
    "<p float=\"center\">\n",
    "  <img src=\"https://github.com/carlosalvarezh/EstructuraDatosAlgoritmos2/blob/main/images/NQueens.webp?raw=true\" width=\"350\" />\n",
    "</p>\n",
    "\n",
    "<p style=\"text-align: center;\">\n",
    "    <strong>Tomado de:</strong> <a href=\"https://yue-guo.com/\">Yue Guo</a>\n",
    "</p>\n",
    "\n",
    "***Algoritmo (Fuerza Bruta):***\n",
    "1. Generar todas las posibles disposiciones de $n$ reinas en el tablero.\n",
    "2. Para cada disposición, verificar si las reinas se amenazan entre sí.\n",
    "3. Si una disposición es válida (ninguna reina se amenaza), contarla como una solución.\n",
    "\n",
    "***Pseudocódigo:***\n",
    "```pseudocódigo\n",
    "función resolverNReinas(tablero, fila, N)\n",
    "    si fila es igual a N\n",
    "        imprimir tablero\n",
    "        retornar\n",
    "    para cada columna en 0 hasta N-1\n",
    "        si la colocación en (fila, columna) es segura\n",
    "            colocar una reina en (fila, columna)\n",
    "            resolverNReinas(tablero, fila + 1, N)\n",
    "            remover reina de (fila, columna)  // backtracking\n",
    "```\n",
    "\n",
    "***Complejidad Exponencial:***\n",
    "- El número de combinaciones posibles de colocar $n$ reinas en un tablero de $n \\times n$ es exponencial, ya que para cada una de las $n$ filas, hay $n$ posibles columnas donde una reina puede ser colocada.\n",
    "<p>&nbsp;</p>\n",
    "\n",
    "- La complejidad del algoritmo es $\\mathcal{O}(n!)$, ya que se prueban todas las posibles formas de colocar cada reina.\n",
    "\n",
    "Este ejemplo demuestra cómo el enfoque de fuerza bruta puede llevar rápidamente a una explosión combinatoria en problemas complejos, resultando en una complejidad de tiempo exponencial."
   ]
  },
  {
   "cell_type": "code",
   "execution_count": null,
   "id": "0be6f0f8",
   "metadata": {},
   "outputs": [],
   "source": [
    "# codifique aquí el algoritmo"
   ]
  },
  {
   "cell_type": "markdown",
   "id": "aa8a9174",
   "metadata": {},
   "source": [
    "### Características de la Programación Dinámica"
   ]
  },
  {
   "cell_type": "markdown",
   "id": "8c0a492e",
   "metadata": {},
   "source": [
    "- En general, la programación dinámica (*PD*) es una de las técnicas más poderosas para resolver ciertas clases de problemas. \n",
    "- Hay una manera elegante de formular el enfoque, un proceso de pensamiento muy sencillo, y la parte de codificación es muy fácil. \n",
    "<p>&nbsp;</p>\n",
    "\n",
    "- Básicamente, es una idea simple: después de resolver un problema con una entrada dada, guardar el resultado como referencia para uso futuro, así no tendrás que resolverlo de nuevo. Brevemente, \"Recuerda tu pasado\". \n",
    "<p>&nbsp;</p>\n",
    "\n",
    "- Es una gran pista para la *PD* si el problema dado se puede descomponer en subproblemas más pequeños, y estos subproblemas más pequeños pueden dividirse en otros aún menores, y en este proceso, ves algunos subproblemas superpuestos. \n",
    "<p>&nbsp;</p>\n",
    "\n",
    "- Además, las soluciones óptimas a los subproblemas contribuyen a la solución óptima del problema dado (conocido como la Propiedad de Subestructura Óptima). \n",
    "<p>&nbsp;</p>\n",
    "\n",
    "- Las soluciones a los subproblemas se almacenan en una tabla o arreglo (memoización) o de manera ascendente (tabulación) para evitar cálculos redundantes. \n",
    "<p>&nbsp;</p>\n",
    "\n",
    "- La solución al problema se puede construir a partir de las soluciones a los subproblemas. \n",
    "<p>&nbsp;</p>\n",
    "\n",
    "- La programación dinámica se puede implementar utilizando un algoritmo recursivo, donde se encuentran las soluciones a los subproblemas recursivamente, o utilizando un algoritmo iterativo, donde las soluciones se encuentran trabajando a través de los subproblemas en un orden específico."
   ]
  },
  {
   "cell_type": "markdown",
   "id": "d9c9dc17",
   "metadata": {},
   "source": [
    "### Técnicas para resolver problemas de Programación Dinámica"
   ]
  },
  {
   "cell_type": "markdown",
   "id": "8809a722",
   "metadata": {},
   "source": [
    "- ***De Arriba hacia Abajo (Memoización):*** Descompone el problema en subproblemas. Si un subproblema ya ha sido resuelto, se devuelve la respuesta almacenada. Si no, se resuelve y guarda. Este método, conocido como Memoización, suele ser intuitivo y fácil de idear.\n",
    "<p>&nbsp;</p>\n",
    "\n",
    "- ***De Abajo hacia Arriba (Programación Dinámica):*** Analiza el problema y determina el orden en que se resuelven los subproblemas, avanzando desde el subproblema más sencillo hasta el problema principal. Este proceso garantiza que los subproblemas se resuelvan antes del problema principal, denominándose Programación Dinámica."
   ]
  },
  {
   "cell_type": "markdown",
   "id": "b8244d79",
   "metadata": {},
   "source": [
    "## Memoización"
   ]
  },
  {
   "cell_type": "markdown",
   "id": "8dba1e93",
   "metadata": {},
   "source": [
    "<p float=\"center\">\n",
    "  <img src=\"https://github.com/carlosalvarezh/EstructuraDatosAlgoritmos2/blob/main/images/Memoization.avif?raw=true\" width=\"350\" />\n",
    "</p>\n",
    "\n",
    "<p style=\"text-align: center;\">\n",
    "    <strong>Tomado de:</strong> <a href=\"https://unsplash.com/photos/photo-of-bulb-artwork-82TpEld0_e4\">AbsoluteVision</a> en <a href=\"https://unsplash.com/\">Unsplash</a>.\n",
    "</p>"
   ]
  },
  {
   "cell_type": "markdown",
   "id": "d179808d",
   "metadata": {},
   "source": [
    "### Introducción"
   ]
  },
  {
   "cell_type": "markdown",
   "id": "161c65ee",
   "metadata": {},
   "source": [
    "El término [\"Memoización\"](https://en.wikipedia.org/wiki/Memoization) proviene de la palabra latina \"*memorandum*\" (*recordar*), que comúnmente se abrevia como \"*memo*\" en inglés americano, y significa \"*transformar los resultados de una función en algo para recordar*\". En informática, la memoización se utiliza para acelerar los programas de computadora eliminando el cálculo repetitivo de resultados y evitando llamadas repetidas a funciones que procesan la misma entrada."
   ]
  },
  {
   "cell_type": "markdown",
   "id": "fc2eec57",
   "metadata": {},
   "source": [
    "### Por qué y dónde usar memoización"
   ]
  },
  {
   "cell_type": "markdown",
   "id": "55a16199",
   "metadata": {},
   "source": [
    "La memoización se utiliza en programación para mejorar la eficiencia de los algoritmos que resuelven problemas recursivos o con subproblemas superpuestos. Se emplea para evitar cálculos redundantes almacenando y reutilizando resultados de operaciones previas. Esto es especialmente útil en problemas donde la misma operación se repite con los mismos datos de entrada, como en el cálculo de números de *Fibonacci*, el [factorial](https://en.wikipedia.org/wiki/Factorial) de un número, o en algoritmos de optimización. Al reducir el tiempo de ejecución y el uso de recursos, la memoización es una herramienta clave en áreas como la optimización matemática, inteligencia artificial, y procesamiento de datos, donde la eficiencia computacional es crucial."
   ]
  },
  {
   "cell_type": "markdown",
   "id": "24530b3f",
   "metadata": {},
   "source": [
    "### Ejemplo de memoización - Secuencia de Fibonacci"
   ]
  },
  {
   "cell_type": "markdown",
   "id": "3e4c6ac2",
   "metadata": {},
   "source": [
    "La [secuencia de Fibonacci](https://en.wikipedia.org/wiki/Fibonacci_sequence) es una [secuencia](https://en.wikipedia.org/wiki/Integer_sequence) de números en la que cada número es la suma de los dos anteriores. Comienza con $0$ y $1$, y se define matemáticamente como:\n",
    "$$ F(n) = \\begin{cases} \n",
    "0 & \\text{si } n = 0 \\\\\n",
    "1 & \\text{si } n = 1 \\\\\n",
    "F(n-1) + F(n-2) & \\text{si } n > 1 \n",
    "\\end{cases} $$\n",
    "\n",
    "generándose la siguiente secuencia de valores:\n",
    "\n",
    "$$0,1,1,2,3,5,8,13,21,34,55,89,144,233, \\ldots$$"
   ]
  },
  {
   "cell_type": "markdown",
   "id": "0a41d173",
   "metadata": {},
   "source": [
    "#### Solución Iterativa (Fuerza Bruta)\n"
   ]
  },
  {
   "cell_type": "markdown",
   "id": "a088c401",
   "metadata": {},
   "source": [
    "```pseudocódigo\n",
    "función fibonacciIterativo(n)\n",
    "    si n es 0\n",
    "        retornar 0\n",
    "    si n es 1\n",
    "        retornar 1\n",
    "    a = 0, b = 1\n",
    "    para i = 2 hasta n\n",
    "        c = a + b\n",
    "        a = b\n",
    "        b = c\n",
    "    retornar b\n",
    "```\n",
    "- ***Análisis de Complejidad:*** La complejidad es $\\mathcal{O}(n)$, ya que hay un bucle que se ejecuta $n$ veces.\n",
    "\n",
    "<p float=\"center\">\n",
    "  <img src=\"https://github.com/carlosalvarezh/EstructuraDatosAlgoritmos2/blob/main/images/FibonacciFull01.PNG?raw=true\" width=\"1000\" />\n",
    "</p>\n",
    "\n",
    "\n",
    "<p style=\"text-align: center;\">\n",
    "    Arbol de Fibonacci sin memoización\n",
    "</p>\n",
    "<p style=\"text-align: center;\">\n",
    "    <strong>Fuente:</strong> Elaboración propia.\n",
    "</p>"
   ]
  },
  {
   "cell_type": "code",
   "execution_count": null,
   "id": "d7568bc7",
   "metadata": {},
   "outputs": [],
   "source": [
    "# codifique aquí el algoritmo"
   ]
  },
  {
   "cell_type": "markdown",
   "id": "3fc61d48",
   "metadata": {},
   "source": [
    "#### Solución Recursiva Simple"
   ]
  },
  {
   "cell_type": "markdown",
   "id": "56e67362",
   "metadata": {},
   "source": [
    "```pseudocódigo\n",
    "función fibonacciRecursivo(n)\n",
    "    si n es menor o igual a 1\n",
    "        retornar n\n",
    "    retornar fibonacciRecursivo(n - 1) + fibonacciRecursivo(n - 2)\n",
    "```\n",
    "\n",
    "***Análisis de Complejidad:*** \n",
    "\n",
    "La complejidad es $\\mathcal{O}(2^n)$, debido a la expansión exponencial de las llamadas recursivas.\n",
    "\n",
    "Para entender por qué la complejidad del algoritmo recursivo simple para la serie de Fibonacci es $\\mathcal{O}(2^n)$, debemos analizar cómo se expanden las llamadas recursivas:\n",
    "\n",
    "1. ***Expansión de Llamadas Recursivas:***\n",
    "   - Cada llamada a `fibonacciRecursivo(n)` resulta en dos llamadas más: `fibonacciRecursivo(n - 1)` y `fibonacciRecursivo(n - 2)`.\n",
    "   - Esta división se repite para cada nueva llamada.\n",
    "<p>&nbsp;</p>\n",
    "\n",
    "2. ***Árbol de Recursión:***\n",
    "   - Visualizando las llamadas como un árbol, cada nodo se ramifica en dos nuevos nodos, hasta llegar a los casos base ($n=0$ o $n=1$).\n",
    "   - La altura de este árbol de recursión es $n$, y en cada nivel, el número de nodos se duplica respecto al nivel anterior.\n",
    "<p>&nbsp;</p>\n",
    "\n",
    "3. ***Número Total de Nodos en el Árbol:***\n",
    "   - En el primer nivel (la llamada inicial), hay $1$ nodo.\n",
    "   - En el segundo nivel, hay $2$ nodos.\n",
    "   - En el tercer nivel, hay $4$ nodos.\n",
    "   - Y así sucesivamente, hasta el nivel $n$, donde hay $2^{n-1}$ nodos.\n",
    "   - La cantidad total de nodos es la suma de todos los nodos en cada nivel.\n",
    "<p>&nbsp;</p>\n",
    "\n",
    "4. ***Cálculo de la Complejidad:***\n",
    "   - La suma total de nodos en un árbol binario completo es aproximadamente $2^n$, donde $n$ es la altura del árbol.\n",
    "   - Dado que cada nodo representa una llamada a la función, el número total de llamadas a la función (y, por lo tanto, el número total de operaciones) es aproximadamente $2^n$.\n",
    "\n",
    "Por lo tanto, la complejidad del algoritmo recursivo simple para Fibonacci es $\\mathcal{O}(2^n)$, ya que el número de operaciones se duplica con cada incremento adicional en $n$."
   ]
  },
  {
   "cell_type": "code",
   "execution_count": null,
   "id": "b0b9611a",
   "metadata": {},
   "outputs": [],
   "source": [
    "# codifique aquí el algoritmo"
   ]
  },
  {
   "cell_type": "markdown",
   "id": "5aca13ef",
   "metadata": {},
   "source": [
    "#### Solución con Memoización"
   ]
  },
  {
   "cell_type": "markdown",
   "id": "060b2669",
   "metadata": {},
   "source": [
    "```pseudocódigo\n",
    "función fibonacciMemoizado(n, memo)\n",
    "    si n en memo\n",
    "        retornar memo[n]\n",
    "    si n es menor o igual a 1\n",
    "        memo[n] = n\n",
    "    sino\n",
    "        memo[n] = fibonacciMemoizado(n - 1, memo) + fibonacciMemoizado(n - 2, memo)\n",
    "    retornar memo[n]\n",
    "```\n",
    "\n",
    "<p float=\"center\">\n",
    "  <img src=\"https://github.com/carlosalvarezh/EstructuraDatosAlgoritmos2/blob/main/images/Fibonaccimemo.PNG?raw=true\" width=\"750\" />\n",
    "</p>\n",
    "\n",
    "\n",
    "<p style=\"text-align: center;\">\n",
    "    Arbol de Fibonacci sin memoización\n",
    "</p>\n",
    "<p style=\"text-align: center;\">\n",
    "    <strong>Fuente:</strong> Elaboración propia.\n",
    "</p>\n",
    "\n",
    "\n",
    "- ***Análisis de Complejidad:*** La complejidad se reduce a $\\mathcal{O}(n)$ porque cada número de Fibonacci se calcula solo una vez."
   ]
  },
  {
   "cell_type": "code",
   "execution_count": null,
   "id": "8dd7026d",
   "metadata": {},
   "outputs": [],
   "source": [
    "# codifique aquí el algoritmo"
   ]
  },
  {
   "cell_type": "markdown",
   "id": "2be1c047",
   "metadata": {},
   "source": [
    "En resumen, mientras la solución iterativa y la solución con memoización tienen una complejidad lineal, la solución recursiva simple es exponencial. La memoización mejora significativamente la eficiencia del enfoque recursivo al almacenar y reutilizar los resultados."
   ]
  },
  {
   "cell_type": "markdown",
   "id": "684e9101",
   "metadata": {},
   "source": [
    "<div class=\"alert alert-success\" role=\"alert\">\n",
    "  <strong>Actividad para el estudiante:</strong>\n",
    "  <p>Basándose en el ejemplo anterior, plantee algunas posibles soluciones para el problema del Cálculo del Factorial de un número (a fuerza bruta, con recursividad (si es posible), con memoización). </p>\n",
    "</div>"
   ]
  },
  {
   "cell_type": "code",
   "execution_count": null,
   "id": "13e84e04",
   "metadata": {},
   "outputs": [],
   "source": [
    "# Desarrolle aquí su solución"
   ]
  },
  {
   "cell_type": "markdown",
   "id": "748ec3a7",
   "metadata": {},
   "source": [
    "### Tipos de Memoización"
   ]
  },
  {
   "cell_type": "markdown",
   "id": "6cd5a3e6",
   "metadata": {},
   "source": [
    "#### Memoización 1D (Una Variable)"
   ]
  },
  {
   "cell_type": "markdown",
   "id": "f1f7fc5a",
   "metadata": {},
   "source": [
    "En problemas con una sola variable cambiante, la memoización 1D se utiliza para almacenar resultados basados en esta única variable. Aquí, \"una dimensión variable\" se refiere a problemas donde el estado del problema o subproblema puede representarse con una sola variable o índice.\n",
    "\n",
    "La serie de Fibonacci, vista en el apartado anterior, donde cada número es la suma de los dos números anteriores, es un ejemplo clásico. La memoización almacena los resultados de los cálculos previos de Fibonacci en un arreglo o diccionario, evitando así la necesidad de recalcularlos."
   ]
  },
  {
   "cell_type": "markdown",
   "id": "7a9656dd",
   "metadata": {},
   "source": [
    "#### Memoización 2D (Dos Variables)"
   ]
  },
  {
   "cell_type": "markdown",
   "id": "9b7e0dca",
   "metadata": {},
   "source": [
    "En escenarios donde el estado del problema depende de dos variables, se utiliza la memoización 2D. Esto suele suceder en problemas donde se trabaja con estructuras de datos bidimensionales, como matrices o tablas.\n",
    "   \n",
    "- ***Ejemplo: Camino Mínimo en una Matriz:*** Un problema típico es encontrar el camino mínimo en una matriz, donde cada celda tiene un costo y se quiere encontrar el costo mínimo para llegar de una esquina a otra de la matriz. La memoización 2D almacena los resultados de subproblemas definidos por dos coordenadas (fila y columna).\n",
    "\n",
    "<div class=\"alert alert-success\" role=\"alert\">\n",
    "  <strong>Actividad para el estudiante:</strong>\n",
    "  En este algoritmo solo consideraremos el desplazamiento a la derecha y abajo. Se deja al estudiante la actividad de desarrollar un algoritmo que también considere la posibilidad de desplazamiento diagonal.  \n",
    "</div>\n",
    "\n",
    "```pseudocode\n",
    "función caminoMinimo(matriz, fila, columna, memo)\n",
    "    si (fila, columna) en memo\n",
    "        retornar memo[(fila, columna)]\n",
    "    si fila o columna fuera de límites\n",
    "        retornar infinito\n",
    "    si fila y columna en última posición\n",
    "        retornar matriz[fila][columna]\n",
    "    abajo = caminoMinimo(matriz, fila + 1, columna, memo)\n",
    "    derecha = caminoMinimo(matriz, fila, columna + 1, memo)\n",
    "    memo[(fila, columna)] = matriz[fila][columna] + min(abajo, derecha)\n",
    "    retornar memo[(fila, columna)]\n",
    "```\n",
    "\n",
    "Veamos la siguiente matriz:\n",
    "\n",
    "<p float=\"center\">\n",
    "  <img src=\"https://github.com/carlosalvarezh/EstructuraDatosAlgoritmos2/blob/main/images/PD_Matrix01.PNG?raw=true\" width=\"250\" />\n",
    "</p>\n",
    "\n",
    "\n",
    "<p style=\"text-align: center;\">\n",
    "    Matriz de costos\n",
    "</p>\n",
    "<p style=\"text-align: center;\">\n",
    "    <strong>Fuente:</strong> Elaboración propia.\n",
    "</p>\n",
    "\n",
    "\n",
    "A continuación vamos a desglosar cómo funciona el algoritmo `caminoMinimo` con el ejemplo proporcionado de la matriz:\n",
    "\n",
    "El objetivo es encontrar el camino de costo mínimo desde la celda superior izquierda $[0,0]$ hasta la celda inferior derecha $[2,2]$. No se considera el movimiento diagonal.\n",
    "\n",
    "<p float=\"center\">\n",
    "  <img src=\"https://github.com/carlosalvarezh/EstructuraDatosAlgoritmos2/blob/main/images/PD_Matrix02.PNG?raw=true\" width=\"250\" />\n",
    "</p>\n",
    "\n",
    "\n",
    "1. **Inicio $[0,0]$:** Comenzamos en la celda $[0,0]$ que tiene un valor de $1$. Llamamos a `caminoMinimo(matriz_prueba, 0, 0, {})`.\n",
    "<p>&nbsp;</p>\n",
    "\n",
    "2. **Explorando Caminos:**\n",
    "   - Desde $[0,0]$, tenemos dos opciones: mover hacia abajo a $[1,0]$ o hacia la derecha a $[0,1]$. Ambas opciones invocan llamadas recursivas.\n",
    "\n",
    "<p float=\"center\">\n",
    "  <img src=\"https://github.com/carlosalvarezh/EstructuraDatosAlgoritmos2/blob/main/images/PD_Matrix03.PNG?raw=true\" width=\"250\" />\n",
    "</p>\n",
    "\n",
    "<p>&nbsp;</p>\n",
    "\n",
    "3. **Celda $[1,0]$:**\n",
    "   - El valor es $1$. Aquí, de nuevo tenemos dos opciones: $[2,0]$ y $[1,1]$.\n",
    "   \n",
    "   <p float=\"center\">\n",
    "  <img src=\"https://github.com/carlosalvarezh/EstructuraDatosAlgoritmos2/blob/main/images/PD_Matrix04.PNG?raw=true\" width=\"250\" />\n",
    "</p>\n",
    "   \n",
    "   - En $[2,0]$, el valor es $4$. Luego, solo podemos mover hacia la derecha a $[2,1]$, cuyo valor es $2$.\n",
    "   \n",
    "      <p float=\"center\">\n",
    "  <img src=\"https://github.com/carlosalvarezh/EstructuraDatosAlgoritmos2/blob/main/images/PD_Matrix05.PNG?raw=true\" width=\"250\" />\n",
    "</p>\n",
    "   \n",
    "   - En $[1,1]$, el valor es $5$. Las opciones son $[2,1]$ y $[1,2]$.\n",
    "\n",
    "<p float=\"center\">\n",
    "  <img src=\"https://github.com/carlosalvarezh/EstructuraDatosAlgoritmos2/blob/main/images/PD_Matrix06.PNG?raw=true\" width=\"250\" />\n",
    "</p></p>\n",
    "\n",
    "<p>&nbsp;</p>\n",
    "\n",
    "4. **Celda $[0,1]$:**\n",
    "   - El valor es $3$. Las opciones son $[0,2]$ y $[1,1]$.\n",
    "   \n",
    "   <p float=\"center\">\n",
    "  <img src=\"https://github.com/carlosalvarezh/EstructuraDatosAlgoritmos2/blob/main/images/PD_Matrix07.PNG?raw=true\" width=\"250\" />\n",
    "</p></p>\n",
    "   \n",
    "   - En $[0,2]$, el valor es $1$. Solo podemos mover hacia abajo a $[1,2]$.\n",
    "   \n",
    "   <p float=\"center\">\n",
    "  <img src=\"https://github.com/carlosalvarezh/EstructuraDatosAlgoritmos2/blob/main/images/PD_Matrix08.PNG?raw=true\" width=\"250\" />\n",
    "</p></p>\n",
    "   \n",
    "   - $[1,1]$ es común a ambos caminos y ya fue explorada.\n",
    "<p>&nbsp;</p>\n",
    "\n",
    "5. **Llegando a $[2,2]$:**\n",
    "   - Finalmente, tanto desde $[1,2]$ como desde $[2,1]$, llegamos a la celda $[2,2]$, que es nuestro destino.\n",
    "   \n",
    "      <p float=\"center\">\n",
    "  <img src=\"https://github.com/carlosalvarezh/EstructuraDatosAlgoritmos2/blob/main/images/PD_Matrix09.PNG?raw=true\" width=\"250\" />\n",
    "\n",
    "   \n",
    "<p>&nbsp;</p>\n",
    "\n",
    "6. **Memoización:**\n",
    "   - Cada vez que se calcula el costo mínimo para llegar a una celda, se almacena en `memo`. Esto significa que si una celda se explora desde diferentes caminos, su costo mínimo ya calculado se reutiliza.\n",
    "<p>&nbsp;</p>\n",
    "\n",
    "7. **Resultado Final:**\n",
    "   - El costo mínimo de cada ruta se compara y se elige el mínimo. En este caso, el costo mínimo para llegar a $[2,2]$ desde $[0,0]$ es el valor que se devuelve.\n",
    "\n",
    "Este algoritmo utiliza memoización para almacenar y reutilizar los costos de los caminos, lo que evita la necesidad de recalcular el costo para cada celda cada vez que se encuentra en diferentes rutas."
   ]
  },
  {
   "cell_type": "markdown",
   "id": "16e8efb8",
   "metadata": {},
   "source": [
    "<div class=\"alert alert-success\" role=\"alert\">\n",
    "  <strong>Actividad para el estudiante:</strong>\n",
    "  ¿Cuál es el costo mínimo si se recorre la matriz sin permitir desplazamiento diagonal y cuál es el costo permitiendo desplazamiento diagonal?.  \n",
    "</div>"
   ]
  },
  {
   "cell_type": "markdown",
   "id": "bea4c4e4",
   "metadata": {},
   "source": [
    "#### Memoización 3D (Tres Variables)"
   ]
  },
  {
   "cell_type": "markdown",
   "id": "45b9d7e5",
   "metadata": {},
   "source": [
    "En problemas más complejos que dependen de tres variables, se utiliza la memoización 3D. Estos problemas a menudo surgen en contextos donde hay múltiples dimensiones a considerar, como en ciertos tipos de problemas de optimización o en algoritmos de procesamiento de imágenes tridimensionales.\n",
    "   \n",
    "- ***Ejemplo: Problema 3D específico:*** Un ejemplo podría ser la optimización de decisiones en un juego tridimensional, donde cada estado se define por tres variables diferentes, como coordenadas x, y, z o tres atributos diferentes de un sistema."
   ]
  },
  {
   "cell_type": "markdown",
   "id": "cb8b162a",
   "metadata": {},
   "source": [
    "Cada uno de estos tipos de memoización aumenta la eficiencia al reducir la cantidad de cálculo necesario, permitiendo que los algoritmos manejen problemas más complejos de manera más eficiente."
   ]
  }
 ],
 "metadata": {
  "kernelspec": {
   "display_name": "Python 3 (ipykernel)",
   "language": "python",
   "name": "python3"
  },
  "language_info": {
   "codemirror_mode": {
    "name": "ipython",
    "version": 3
   },
   "file_extension": ".py",
   "mimetype": "text/x-python",
   "name": "python",
   "nbconvert_exporter": "python",
   "pygments_lexer": "ipython3",
   "version": "3.11.3"
  },
  "toc": {
   "base_numbering": 1,
   "nav_menu": {},
   "number_sections": true,
   "sideBar": true,
   "skip_h1_title": true,
   "title_cell": "Table of Contents",
   "title_sidebar": "Contents",
   "toc_cell": false,
   "toc_position": {
    "height": "calc(100% - 180px)",
    "left": "10px",
    "top": "150px",
    "width": "256px"
   },
   "toc_section_display": true,
   "toc_window_display": false
  }
 },
 "nbformat": 4,
 "nbformat_minor": 5
}
