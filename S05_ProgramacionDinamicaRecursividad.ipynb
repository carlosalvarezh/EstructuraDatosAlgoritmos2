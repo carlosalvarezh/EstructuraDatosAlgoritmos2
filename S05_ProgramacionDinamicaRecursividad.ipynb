{
 "cells": [
  {
   "cell_type": "markdown",
   "id": "05ad55eb",
   "metadata": {},
   "source": [
    "<h1 align=\"center\">Estructura de Datos y Algoritmos II</h1>\n",
    "<h1 align=\"center\">Programación Dinámica 2</h1>\n",
    "<h1 align=\"center\">Recursividad</h1>\n",
    "<h1 align=\"center\">2024</h1>\n",
    "<h1 align=\"center\">MEDELLÍN - COLOMBIA </h1>"
   ]
  },
  {
   "cell_type": "markdown",
   "id": "7aad24cf",
   "metadata": {},
   "source": [
    "*** \n",
    "|[![Outlook](https://img.shields.io/badge/Microsoft_Outlook-0078D4?style=plastic&logo=microsoft-outlook&logoColor=white)](mailto:calvar52@eafit.edu.co)||[![Open In Colab](https://colab.research.google.com/assets/colab-badge.svg)](https://colab.research.google.com/github/carlosalvarezh/EstructuraDatosAlgoritmos2/blob/main/S05_ProgramacionDinamicaRecursividad.ipynb)\n",
    "|-:|:-|--:|\n",
    "|[![LinkedIn](https://img.shields.io/badge/linkedin-%230077B5.svg?style=plastic&logo=linkedin&logoColor=white)](https://www.linkedin.com/in/carlosalvarez5/)|[![@alvarezhenao](https://img.shields.io/twitter/url/https/twitter.com/alvarezhenao.svg?style=social&label=Follow%20%40alvarezhenao)](https://twitter.com/alvarezhenao)|[![@carlosalvarezh](https://img.shields.io/badge/github-%23121011.svg?style=plastic&logo=github&logoColor=white)](https://github.com/carlosalvarezh)|\n",
    "\n",
    "<table>\n",
    " <tr align=left><td><img align=left src=\"https://github.com/carlosalvarezh/Curso_CEC_EAFIT/blob/main/images/CCLogoColorPop1.gif?raw=true\" width=\"25\">\n",
    " <td>Text provided under a Creative Commons Attribution license, CC-BY. All code is made available under the FSF-approved MIT license.(c) Carlos Alberto Alvarez Henao</td>\n",
    "</table>\n",
    "\n",
    "***"
   ]
  },
  {
   "cell_type": "markdown",
   "id": "814ef91a",
   "metadata": {},
   "source": [
    "<p float=\"center\">\n",
    "  <img src=\"https://github.com/carlosalvarezh/EstructuraDatosAlgoritmos2/blob/main/images/Recursion.gif?raw=true\" width=\"350\" />\n",
    "</p>\n",
    "\n",
    "<p style=\"text-align: center;\">\n",
    "    <strong>Tomado de:</strong> <a href=\"https://gifer.com/en/AI3r\">Gifer</a>\n",
    "</p>"
   ]
  },
  {
   "cell_type": "markdown",
   "id": "e12650e3",
   "metadata": {},
   "source": [
    "## Introducción"
   ]
  },
  {
   "cell_type": "markdown",
   "id": "71eeb063",
   "metadata": {},
   "source": [
    "La [recursividad](https://en.wikipedia.org/wiki/Recursive_definition) en programación es un concepto donde una función se llama a sí misma dentro de su definición para resolver un problema. Esta técnica se utiliza para problemas que pueden dividirse en subproblemas más pequeños y similares. La recursividad es útil para simplificar el código y puede ser más intuitiva que las técnicas iterativas para ciertos problemas. Ejemplos de su aplicación incluyen los algoritmos de las [Torres de Hanoi](https://en.wikipedia.org/wiki/Tower_of_Hanoi), [recorridos de árboles](https://en.wikipedia.org/wiki/Tree_traversal) y la [búsqueda en profundidad en grafos](https://en.wikipedia.org/wiki/Depth-first_search), entre muchos otros. Es esencial en la recursividad definir un caso base claro para evitar llamadas infinitas y asegurar que cada llamada recursiva se acerque a este caso base. La recursividad se destaca por su capacidad de hacer el código más legible y manejar tareas que tienen una naturaleza auto-similar, como el cálculo del factorial de un número."
   ]
  },
  {
   "cell_type": "markdown",
   "id": "759149c7",
   "metadata": {},
   "source": [
    "### Definición de Recursión"
   ]
  },
  {
   "cell_type": "markdown",
   "id": "dfa35330",
   "metadata": {},
   "source": [
    "La recursión es un concepto fundamental en la programación y la ciencia de la computación. Es un enfoque para resolver problemas en el que una función se llama a sí misma como parte de su solución. La recursión permite dividir un problema complejo en subproblemas más pequeños y manejables, utilizando la misma lógica para resolver cada uno de ellos.\n",
    "\n",
    "\n",
    "En términos simples, la recursión ocurre cuando una función, conocida como función recursiva, se llama a sí misma directamente o indirectamente para resolver una tarea. Cada llamada a la función trabaja en una versión más pequeña o más simple del problema original, avanzando gradualmente hacia un caso que se puede resolver sin más recursión, conocido como el caso base."
   ]
  },
  {
   "cell_type": "markdown",
   "id": "5ab93493",
   "metadata": {},
   "source": [
    "### Cómo Funciona la Recursión"
   ]
  },
  {
   "cell_type": "markdown",
   "id": "7721a848",
   "metadata": {},
   "source": [
    "1. **Caso Base:** Es el escenario más simple del problema que no necesita más descomposición. La función recursiva debe definir uno o más casos base para evitar llamadas infinitas y eventualmente terminar la ejecución.\n",
    "<p>&nbsp;</p>\n",
    "\n",
    "2. **Caso Recursivo:** Es donde la función se llama a sí misma con argumentos que representan una versión más pequeña del problema original.\n",
    "\n",
    "La idea es que cada llamada recursiva se acerque al caso base. Cuando se alcanza el caso base, la función deja de llamarse a sí misma y comienza a retornar sus resultados."
   ]
  },
  {
   "cell_type": "markdown",
   "id": "ba8475bd",
   "metadata": {},
   "source": [
    "### Aplicaciones de la Recursión"
   ]
  },
  {
   "cell_type": "markdown",
   "id": "f574e2ba",
   "metadata": {},
   "source": [
    "- **Estructuras de Datos:** En estructuras como árboles y listas enlazadas, la recursión es una herramienta natural para navegar y manipular estos datos.\n",
    "<p>&nbsp;</p>\n",
    "\n",
    "- **Algoritmos:** Muchos algoritmos clásicos, como la búsqueda binaria y algoritmos de ordenación, se implementan de manera elegante y eficiente mediante recursión.\n",
    "<p>&nbsp;</p>\n",
    "\n",
    "- **Problemas Matemáticos:** La recursión es ideal para problemas que tienen una naturaleza auto-referencial, como el cálculo de la serie de Fibonacci o el factorial de un número.\n"
   ]
  },
  {
   "cell_type": "markdown",
   "id": "49bce530",
   "metadata": {},
   "source": [
    "### Recursión Directa e Indirecta"
   ]
  },
  {
   "cell_type": "markdown",
   "id": "b782fde0",
   "metadata": {},
   "source": [
    "- **Recursión Directa:** Ocurre cuando una función se llama a sí misma explícitamente. Es la forma más común y directa de implementar una solución recursiva.\n",
    "<p>&nbsp;</p>\n",
    "  \n",
    "- **Recursión Indirecta:** Se da cuando una función A llama a otra función B, y la función B, a su vez, llama a la función A. Este tipo de recursión puede ser más difícil de detectar pero es igualmente poderosa.\n",
    "\n",
    "La recursión es un concepto poderoso que, cuando se usa correctamente, puede simplificar el código y hacerlo más fácil de entender. Sin embargo, también requiere un manejo cuidadoso para evitar problemas como el desbordamiento de pila y la ineficiencia en términos de tiempo y espacio. La comprensión profunda de la recursión es fundamental para cualquier estudiante de programación y ciencia de la computación."
   ]
  },
  {
   "cell_type": "markdown",
   "id": "32364c5a",
   "metadata": {},
   "source": [
    "## Estructura de una Función Recursiva"
   ]
  },
  {
   "cell_type": "markdown",
   "id": "cdaa254a",
   "metadata": {},
   "source": [
    "Una función recursiva es una función que se llama a sí misma para resolver una parte de un problema más grande. Su estructura se basa en dos componentes principales: el caso base y el caso recursivo."
   ]
  },
  {
   "cell_type": "markdown",
   "id": "b29b6d6d",
   "metadata": {},
   "source": [
    "### Caso Base"
   ]
  },
  {
   "cell_type": "markdown",
   "id": "6025a917",
   "metadata": {},
   "source": [
    "El caso base es el aspecto más crucial de una función recursiva. Actúa como la condición de terminación que evita que la función se llame a sí misma infinitamente. En otras palabras, el caso base define cuándo debe detenerse la recursión.\n",
    "\n",
    "- **Importancia:** Sin un caso base adecuado, una función recursiva continuaría ejecutándose indefinidamente, llevando a un desbordamiento de pila y a un fallo del programa.\n",
    "<p>&nbsp;</p>\n",
    "\n",
    "- **Ejemplo:** En una función recursiva para calcular el factorial de un número, el caso base podría ser cuando el número es 0 o 1, ya que el factorial de estos números es conocido e igual a 1. Recuerde que ese valor es dado por definición."
   ]
  },
  {
   "cell_type": "markdown",
   "id": "af77d7f4",
   "metadata": {},
   "source": [
    "### Caso Recursivo"
   ]
  },
  {
   "cell_type": "markdown",
   "id": "cfee84d4",
   "metadata": {},
   "source": [
    "El caso recursivo es donde la función realiza su llamada recursiva. Aquí, la función se llama a sí misma con un conjunto de argumentos que representan una versión más pequeña del problema original. Este proceso divide el problema en subproblemas más manejables.\n",
    "\n",
    "- **Importancia:** El caso recursivo es lo que permite a la función trabajar hacia el caso base. Cada llamada recursiva debería acercarse al caso base.\n",
    "<p>&nbsp;</p>\n",
    "\n",
    "- **Ejemplo:** En la función factorial, el caso recursivo implicaría llamar a la función con el número reducido en uno, acercándose al caso base.\n"
   ]
  },
  {
   "cell_type": "markdown",
   "id": "2ca74534",
   "metadata": {},
   "source": [
    "### Ejemplos de Funciones Recursivas Simples"
   ]
  },
  {
   "cell_type": "markdown",
   "id": "2d47b2e7",
   "metadata": {},
   "source": [
    "1. **Cálculo del Factorial:**\n",
    "   - **Pseudocódigo:**\n",
    "     ```pseudocódigo\n",
    "     función factorial(n)\n",
    "         si n es igual a 0 o n es igual a 1\n",
    "             retornar 1\n",
    "         sino\n",
    "             retornar n * factorial(n - 1)\n",
    "     ```\n",
    "\n",
    "2. **Serie de Fibonacci:**\n",
    "   - **Pseudocódigo:**\n",
    "     ```pseudocódigo\n",
    "     función fibonacci(n)\n",
    "         si n es igual a 0\n",
    "             retornar 0\n",
    "         si n es igual a 1\n",
    "             retornar 1\n",
    "         sino\n",
    "             retornar fibonacci(n - 1) + fibonacci(n - 2)\n",
    "     ```\n",
    "\n",
    "3. **Suma de Números Naturales:**\n",
    "   - **Pseudocódigo:**\n",
    "     ```pseudocódigo\n",
    "     función sumaNatural(n)\n",
    "         si n es igual a 1\n",
    "             retornar 1\n",
    "         sino\n",
    "             retornar n + sumaNatural(n - 1)\n",
    "     ```\n",
    "\n",
    "Cada uno de estos ejemplos demuestra cómo la recursión puede simplificar el código y la lógica para problemas que tienen una estructura auto-referencial. Sin embargo, es crucial tener en cuenta la eficiencia y la profundidad de la recursión para evitar problemas de rendimiento."
   ]
  },
  {
   "cell_type": "markdown",
   "id": "fe60377c",
   "metadata": {},
   "source": [
    "## Casos Base en Recursión"
   ]
  },
  {
   "cell_type": "markdown",
   "id": "2b7c274e",
   "metadata": {},
   "source": [
    "Los casos base en la recursión son fundamentales para garantizar que una función recursiva concluya adecuadamente. Un caso base es una condición específica que se verifica antes de realizar una llamada recursiva. Cuando esta condición se cumple, la función retorna un valor directamente en lugar de llamarse a sí misma, deteniendo así la secuencia de llamadas recursivas."
   ]
  },
  {
   "cell_type": "markdown",
   "id": "4f660fa4",
   "metadata": {},
   "source": [
    "### Importancia de Definir Casos Base Adecuados"
   ]
  },
  {
   "cell_type": "markdown",
   "id": "caad09c3",
   "metadata": {},
   "source": [
    "1. **Evitar Bucles Infinitos:** Sin un caso base, o con un caso base incorrectamente definido, una función recursiva podría llamarse a sí misma indefinidamente, resultando en un bucle infinito y, eventualmente, en un desbordamiento de pila.\n",
    "<p>&nbsp;</p>\n",
    "\n",
    "2. **Garantizar la Terminación:** Un caso base adecuado asegura que la función recursiva alcanzará eventualmente un punto donde no se requiere más recursión, garantizando así que cada llamada recursiva tenga una salida.\n",
    "<p>&nbsp;</p>\n",
    "\n",
    "3. **Simplificar el Problema:** Los casos base a menudo representan la versión más simple o fundamental del problema, lo que facilita su manejo dentro de la función."
   ]
  },
  {
   "cell_type": "markdown",
   "id": "d8e2e069",
   "metadata": {},
   "source": [
    "### Ejemplos de Buenos y Malos Casos Base"
   ]
  },
  {
   "cell_type": "markdown",
   "id": "646e6031",
   "metadata": {},
   "source": [
    "1. **Factorial de un Número:**\n",
    "   - **Buen Caso Base:** `n == 0` o `n == 1`, retorna 1. Esto es correcto porque el factorial de 0 y 1 es 1.\n",
    "   - **Mal Caso Base:** `n == 2`, retorna 2. Esto es incorrecto porque no cubre los casos más simples (0 y 1), llevando a un comportamiento inesperado para `n < 2`.\n",
    "<p>&nbsp;</p>\n",
    "\n",
    "2. **Serie de Fibonacci:**\n",
    "   - **Buen Caso Base:** `n == 0` retorna 0, `n == 1` retorna 1. Estos casos reflejan correctamente los dos primeros números de la serie de Fibonacci.\n",
    "   - **Mal Caso Base:** `n < 3`, retorna `n`. Esto es incorrecto porque no distingue entre `n == 0` y `n == 1`, y no proporciona los valores correctos de Fibonacci para estos casos.\n",
    "<p>&nbsp;</p>\n",
    "\n",
    "3. **Suma de Números Naturales:**\n",
    "   - **Buen Caso Base:** `n == 1`, retorna 1. Asegura que la función se detenga en el número natural más bajo.\n",
    "   - **Mal Caso Base:** `n < 5`, retorna `n`. Esto es incorrecto porque la función debería seguir sumando números menores a 5.\n"
   ]
  },
  {
   "cell_type": "markdown",
   "id": "5b4cb927",
   "metadata": {},
   "source": [
    "Los casos base correctos son esenciales para la eficacia y la seguridad de las funciones recursivas. Deben ser cuidadosamente elegidos para representar los escenarios más simples del problema y asegurar una terminación adecuada de la función recursiva."
   ]
  },
  {
   "cell_type": "markdown",
   "id": "55ef3cf9",
   "metadata": {},
   "source": [
    "## Recursión vs Iteración"
   ]
  },
  {
   "cell_type": "markdown",
   "id": "abbd097f",
   "metadata": {},
   "source": [
    "La recursión y la iteración son dos enfoques fundamentales en la programación para implementar soluciones repetitivas. Ambos tienen sus propias ventajas y desventajas, dependiendo del problema específico y del entorno de programación. "
   ]
  },
  {
   "cell_type": "markdown",
   "id": "8f7712d7",
   "metadata": {},
   "source": [
    "### Comparación entre Recursión e Iteración"
   ]
  },
  {
   "cell_type": "markdown",
   "id": "99ba714e",
   "metadata": {},
   "source": [
    "1. **Definición:**\n",
    "   - **Recursión:** Una función se llama a sí misma para resolver subproblemas más pequeños.\n",
    "   - **Iteración:** Utiliza estructuras de control de bucles (como `for` o `while`) para repetir una serie de instrucciones.\n",
    "<p>&nbsp;</p>\n",
    "\n",
    "2. **Implementación:**\n",
    "   - **Recursión:** A menudo se ve más limpia y elegante, especialmente en problemas que tienen una naturaleza auto-referencial o división en subproblemas (como árboles binarios).\n",
    "   - **Iteración:** Puede ser más directa y fácil de entender, especialmente para quienes son nuevos en la programación.\n"
   ]
  },
  {
   "cell_type": "markdown",
   "id": "0dc6d0fc",
   "metadata": {},
   "source": [
    "### Ventajas de la Recursión"
   ]
  },
  {
   "cell_type": "markdown",
   "id": "d0296a13",
   "metadata": {},
   "source": [
    "- **Legibilidad:** La recursión puede ser más fácil de leer y mantener, especialmente en problemas complejos con estructuras naturales recursivas.\n",
    "<p>&nbsp;</p>\n",
    "\n",
    "- **Simplicidad en Problemas Complejos:** Algunos problemas son intrínsecamente recursivos (como la búsqueda en árboles binarios), y la recursión proporciona una solución más natural y limpia.\n"
   ]
  },
  {
   "cell_type": "markdown",
   "id": "42018497",
   "metadata": {},
   "source": [
    "### Desventajas de la Recursión"
   ]
  },
  {
   "cell_type": "markdown",
   "id": "5558b4cc",
   "metadata": {},
   "source": [
    "- **Rendimiento y Eficiencia:** La recursión puede ser menos eficiente en términos de memoria y tiempo debido al uso de la pila de llamadas y a la posibilidad de cálculos repetidos.\n",
    "<p>&nbsp;</p>\n",
    "\n",
    "- **Riesgo de Desbordamiento de Pila:** Si la profundidad de la recursión es muy alta, puede causar un desbordamiento de pila."
   ]
  },
  {
   "cell_type": "markdown",
   "id": "dfc80fd5",
   "metadata": {},
   "source": [
    "### Ejemplos con Pseudocódigo"
   ]
  },
  {
   "cell_type": "markdown",
   "id": "723dfcf0",
   "metadata": {},
   "source": [
    "1. **Suma de Números (Iterativo vs Recursivo):**\n",
    "   - **Iterativo:**\n",
    "     ```pseudocódigo\n",
    "     función sumaIterativa(n)\n",
    "         suma = 0\n",
    "         para i de 1 a n\n",
    "             suma += i\n",
    "         retornar suma\n",
    "     ```\n",
    "   - **Recursivo:**\n",
    "     ```pseudocódigo\n",
    "     función sumaRecursiva(n)\n",
    "         si n es igual a 1\n",
    "             retornar 1\n",
    "         sino\n",
    "             retornar n + sumaRecursiva(n - 1)\n",
    "     ```\n",
    "\n",
    "2. **Factorial de un Número (Iterativo vs Recursivo):**\n",
    "   - **Iterativo:**\n",
    "     ```pseudocódigo\n",
    "     función factorialIterativo(n)\n",
    "         resultado = 1\n",
    "         para i de 2 a n\n",
    "             resultado *= i\n",
    "         retornar resultado\n",
    "     ```\n",
    "   - **Recursivo:**\n",
    "     ```pseudocódigo\n",
    "     función factorialRecursivo(n)\n",
    "         si n es igual a 0 o n es igual a 1\n",
    "             retornar 1\n",
    "         sino\n",
    "             retornar n * factorialRecursivo(n - 1)\n",
    "     ```\n",
    "\n",
    "La elección entre recursión e iteración depende de varios factores, incluyendo la naturaleza del problema, la claridad del código, y las limitaciones de rendimiento y memoria. Ambos enfoques tienen su lugar en la programación y a menudo se utilizan en conjunto para lograr soluciones eficientes y comprensibles."
   ]
  },
  {
   "cell_type": "markdown",
   "id": "fa6f3eb5",
   "metadata": {},
   "source": [
    "## Recursión en Estructuras de Datos y Algoritmos"
   ]
  },
  {
   "cell_type": "markdown",
   "id": "07045216",
   "metadata": {},
   "source": [
    "La recursión es una técnica poderosa en programación y se utiliza extensamente en el manejo de estructuras de datos y en la implementación de algoritmos. A continuación, exploraremos su aplicación en estructuras de datos como árboles y listas enlazadas, así como en algoritmos de búsqueda y ordenamiento."
   ]
  },
  {
   "cell_type": "markdown",
   "id": "ba695d6a",
   "metadata": {},
   "source": [
    "### Recursión en Estructuras de Datos"
   ]
  },
  {
   "cell_type": "markdown",
   "id": "21ed9105",
   "metadata": {},
   "source": [
    "1. **Árboles (incluidos Árboles Binarios):**\n",
    "   - **Recorridos:** La recursión es natural para recorrer árboles, como en los recorridos en preorden, inorden y postorden.\n",
    "   - **Búsqueda y Manipulación:** Buscar o modificar elementos en un árbol binario de búsqueda a menudo se realiza de manera recursiva, ya que cada subárbol es, a su vez, un árbol binario de búsqueda.\n",
    "   - **Pseudocódigo (Recorrido Inorden):**\n",
    "     ```pseudocódigo\n",
    "     función inorden(nodo)\n",
    "         si nodo no es nulo\n",
    "             inorden(nodo.izquierda)\n",
    "             visitar(nodo)\n",
    "             inorden(nodo.derecha)\n",
    "     ```\n",
    "\n",
    "2. **Listas Enlazadas:**\n",
    "   - **Inversión de una Lista Enlazada:** La recursión puede invertir una lista enlazada manipulando los punteros de manera eficiente.\n",
    "   - **Pseudocódigo (Inversión de Lista):**\n",
    "     ```pseudocódigo\n",
    "     función invertirLista(nodo)\n",
    "         si nodo es nulo o nodo.siguiente es nulo\n",
    "             retornar nodo\n",
    "         nuevoCabeza = invertirLista(nodo.siguiente)\n",
    "         nodo.siguiente.siguiente = nodo\n",
    "         nodo.siguiente = nulo\n",
    "         retornar nuevoCabeza\n",
    "     ```"
   ]
  },
  {
   "cell_type": "markdown",
   "id": "e5923e46",
   "metadata": {},
   "source": [
    "### Recursión en Algoritmos"
   ]
  },
  {
   "cell_type": "markdown",
   "id": "f99e4d16",
   "metadata": {},
   "source": [
    "1. **Búsqueda:**\n",
    "   - **Búsqueda Binaria:** La búsqueda binaria es un algoritmo clásico que se presta a una implementación recursiva. Divide el conjunto de datos a la mitad en cada paso.\n",
    "   - **Pseudocódigo (Búsqueda Binaria):**\n",
    "     ```pseudocódigo\n",
    "     función búsquedaBinaria(arreglo, izquierda, derecha, objetivo)\n",
    "         si derecha >= izquierda\n",
    "             medio = izquierda + (derecha - izquierda) / 2\n",
    "             si arreglo[medio] es igual a objetivo\n",
    "                 retornar medio\n",
    "             si arreglo[medio] > objetivo\n",
    "                 retornar búsquedaBinaria(arreglo, izquierda, medio - 1, objetivo)\n",
    "             sino\n",
    "                 retornar búsquedaBinaria(arreglo, medio + 1, derecha, objetivo)\n",
    "         retornar -1\n",
    "     ```\n",
    "\n",
    "2. **Ordenamiento:**\n",
    "   - **QuickSort y MergeSort:** Ambos son algoritmos de ordenamiento que utilizan la recursión para dividir el conjunto de datos y ordenarlos eficientemente.\n",
    "   - **Pseudocódigo (QuickSort):**\n",
    "     ```pseudocódigo\n",
    "     función quickSort(arreglo, bajo, alto)\n",
    "         si bajo < alto\n",
    "             pivote = partición(arreglo, bajo, alto)\n",
    "             quickSort(arreglo, bajo, pivote - 1)\n",
    "             quickSort(arreglo, pivote + 1, alto)\n",
    "     ```"
   ]
  },
  {
   "cell_type": "markdown",
   "id": "227af818",
   "metadata": {},
   "source": [
    "La recursión es especialmente útil en situaciones donde una estructura de datos o un problema se puede dividir naturalmente en subestructuras o subproblemas más pequeños y similares. Esta división facilita el diseño de soluciones claras y elegantes. Sin embargo, es esencial tener en cuenta la eficiencia y el riesgo de desbordamiento de pila, especialmente con conjuntos de datos grandes o estructuras de datos profundas."
   ]
  },
  {
   "cell_type": "markdown",
   "id": "14aefa57",
   "metadata": {},
   "source": [
    "## Problemas Comunes y Errores en Recursión"
   ]
  },
  {
   "cell_type": "markdown",
   "id": "4abf69e2",
   "metadata": {},
   "source": [
    "La recursión, aunque poderosa, puede ser fuente de varios problemas y errores comunes, especialmente en manos de programadores menos experimentados. Aquí exploramos algunos de estos problemas y ofrecemos técnicas para abordarlos."
   ]
  },
  {
   "cell_type": "markdown",
   "id": "1a7345d3",
   "metadata": {},
   "source": [
    "### Problemas y posibles prevenciones"
   ]
  },
  {
   "cell_type": "markdown",
   "id": "5b6c3442",
   "metadata": {},
   "source": [
    "***Desbordamiento de Pila***\n",
    "\n",
    "- **Causa:** El desbordamiento de pila ocurre cuando hay demasiadas llamadas a funciones en la pila de llamadas, generalmente debido a una recursión profunda sin un caso base adecuado o eficiente.\n",
    "<p>&nbsp;</p>\n",
    "\n",
    "- **Prevención:** Asegurar que todos los casos base estén correctamente definidos y que cada llamada recursiva se acerque al caso base. Considerar el uso de la recursión de cola o convertir la solución recursiva en una iterativa.\n",
    "\n",
    "***Recursión Infinita***\n",
    "\n",
    "- **Causa:** Sucede cuando la función recursiva no tiene un caso base o el caso base está mal definido, lo que resulta en llamadas infinitas a la función.\n",
    "<p>&nbsp;</p>\n",
    "\n",
    "- **Solución:** Revisar y asegurar que los casos base estén correctamente implementados y que la función esté progresando hacia esos casos base en cada llamada recursiva.\n",
    "\n",
    "***Complejidad Innecesaria***\n",
    "\n",
    "- **Causa:** A veces, la recursión puede complicar innecesariamente un problema que podría resolverse más fácilmente de manera iterativa.\n",
    "<p>&nbsp;</p>\n",
    "\n",
    "- **Solución:** Evaluar si un enfoque iterativo sería más adecuado y claro. La iteración suele ser más eficiente en términos de memoria y rendimiento.\n",
    "\n",
    "***Recálculo Innecesario***\n",
    "\n",
    "- **Causa:** En algunas funciones recursivas, especialmente aquellas con subproblemas superpuestos, el mismo cálculo se realiza múltiples veces.\n",
    "<p>&nbsp;</p>\n",
    "\n",
    "- **Solución:** Implementar técnicas como la memoización para almacenar y reutilizar los resultados de las llamadas recursivas, evitando así cálculos repetitivos."
   ]
  },
  {
   "cell_type": "markdown",
   "id": "65825522",
   "metadata": {},
   "source": [
    "### Técnicas para Depurar Funciones Recursivas"
   ]
  },
  {
   "cell_type": "markdown",
   "id": "c5191898",
   "metadata": {},
   "source": [
    "- **Uso de Declaraciones de Impresión:** Insertar declaraciones de impresión en la función para rastrear el flujo de ejecución y el estado de las variables clave.\n",
    "<p>&nbsp;</p>\n",
    "  \n",
    "- **Herramientas de Depuración Paso a Paso:** Utilizar depuradores para seguir el flujo de ejecución paso a paso y observar cómo cambian los valores y cómo se desarrolla la pila de llamadas.\n",
    "<p>&nbsp;</p>\n",
    "\n",
    "- **Simplificar los Casos de Prueba:** Empezar con casos de prueba muy simples que se pueden calcular manualmente y aumentar gradualmente la complejidad.\n",
    "<p>&nbsp;</p>\n",
    "\n",
    "- **Revisión del Caso Base y del Paso Recursivo:** Asegurarse de que el caso base está correctamente definido y que cada paso recursivo se acerca al caso base.\n",
    "<p>&nbsp;</p>\n",
    "\n",
    "- **Revisar la Lógica de Terminación:** Verificar que la función no solo alcanza el caso base sino que también retorna correctamente y combina resultados de manera adecuada.\n",
    "\n",
    "La recursión requiere un enfoque cuidadoso y metódico tanto en su implementación como en su depuración. Entender profundamente cómo funciona la recursión y qué efectos tiene en la pila de llamadas es clave para evitar errores comunes y desarrollar soluciones recursivas efectivas y eficientes."
   ]
  },
  {
   "cell_type": "markdown",
   "id": "c71d3d31",
   "metadata": {},
   "source": [
    "## Optimización de Recursión"
   ]
  },
  {
   "cell_type": "markdown",
   "id": "35736b75",
   "metadata": {},
   "source": [
    "La recursión puede ser una herramienta poderosa en programación, pero a menudo viene con costos de rendimiento que pueden ser optimizados. La memoización es una técnica clave en este aspecto, y el análisis de complejidad tanto temporal como espacial es crucial para entender y mejorar el rendimiento de las funciones recursivas."
   ]
  },
  {
   "cell_type": "markdown",
   "id": "079c8f5b",
   "metadata": {},
   "source": [
    "### Uso de Memoización"
   ]
  },
  {
   "cell_type": "markdown",
   "id": "a702fedb",
   "metadata": {},
   "source": [
    "Como vimos en el capítulo anterior, la memoización es una técnica de optimización que consiste en almacenar los resultados de llamadas de función costosas y reutilizar esos resultados cuando la misma entrada ocurre nuevamente. Se suele implementar utilizando estructuras de datos como tablas hash (diccionarios en Python, por ejemplo) para almacenar los resultados de las llamadas a funciones. Como beneficios podemos enunciar que reduce significativamente el número de llamadas a funciones, especialmente en problemas con subproblemas superpuestos, como en muchos algoritmos de programación dinámica, entre otros particulares a cada algoritmo."
   ]
  },
  {
   "cell_type": "markdown",
   "id": "08ca38e5",
   "metadata": {},
   "source": [
    "### Análisis de Complejidad Temporal y Espacial"
   ]
  },
  {
   "cell_type": "markdown",
   "id": "6f66deeb",
   "metadata": {},
   "source": [
    "- **Complejidad Temporal:**\n",
    "   - Sin Optimización: En problemas donde los subproblemas se recalculan, la complejidad temporal puede ser exponencial debido a la gran cantidad de llamadas a funciones redundantes.\n",
    "<p>&nbsp;</p>\n",
    "\n",
    "   - Con Memoización: La complejidad temporal se reduce, a menudo a polinomial, ya que se evitan cálculos repetitivos.\n",
    "<p>&nbsp;</p>\n",
    "\n",
    "- **Complejidad Espacial:**\n",
    "   - La complejidad espacial de una función recursiva está generalmente ligada a la profundidad de la pila de llamadas, que puede crecer de manera significativa en funciones recursivas profundas.\n",
    "<p>&nbsp;</p>\n",
    "\n",
    "   - La memoización aumenta la complejidad espacial debido al almacenamiento adicional necesario para los resultados de las llamadas a funciones, pero esto generalmente se ve compensado por la mejora en la complejidad temporal.\n"
   ]
  },
  {
   "cell_type": "markdown",
   "id": "b7b6e477",
   "metadata": {},
   "source": [
    "### Ejemplo: Cálculo de Fibonacci con Memoización"
   ]
  },
  {
   "cell_type": "markdown",
   "id": "8afa8762",
   "metadata": {},
   "source": [
    "- **Pseudocódigo:**\n",
    "  ```pseudocódigo\n",
    "  función fibonacciConMemo(n, memo)\n",
    "      si n está en memo\n",
    "          retornar memo[n]\n",
    "      si n es menor o igual a 2\n",
    "          retornar 1\n",
    "      memo[n] = fibonacciConMemo(n - 1, memo) + fibonacciConMemo(n - 2, memo)\n",
    "      retornar memo[n]\n",
    "  ```\n",
    "\n",
    "- **Análisis:**\n",
    "  - Sin Memoización: La complejidad temporal es $O(2^n)$ debido a la gran cantidad de cálculos repetitivos.\n",
    "  - Con Memoización: La complejidad temporal se reduce a $O(n)$, ya que cada número de Fibonacci se calcula solo una vez."
   ]
  },
  {
   "cell_type": "markdown",
   "id": "d071890c",
   "metadata": {},
   "source": [
    "La optimización de funciones recursivas a través de la memoización y un análisis cuidadoso de la complejidad puede llevar a mejoras significativas en el rendimiento, especialmente en problemas donde los subproblemas se solapan o se recalculan frecuentemente."
   ]
  },
  {
   "cell_type": "markdown",
   "id": "701f97e8",
   "metadata": {},
   "source": [
    "### Recursión en Diferentes Lenguajes de Programación:"
   ]
  },
  {
   "cell_type": "markdown",
   "id": "9f3fc3b5",
   "metadata": {},
   "source": [
    "La recursión es un concepto fundamental en la programación y está presente en casi todos los lenguajes de programación modernos. Sin embargo, la forma en que se maneja la recursión puede variar entre diferentes lenguajes. A continuación, se detalla cómo algunos lenguajes populares manejan la recursión y las peculiaridades o limitaciones asociadas con cada uno.\n",
    "\n",
    "***Java***\n",
    "\n",
    "- **Manejo de la Recursión:** Java soporta la recursión y se utiliza comúnmente en aplicaciones de algoritmos. Al igual que Python, Java no implementa la optimización de recursión de cola.\n",
    "<p>&nbsp;</p>\n",
    "\n",
    "- **Limitación:** Java también tiene un límite en la profundidad de la pila de llamadas, y el desbordamiento de pila (`StackOverflowError`) es un error común en la recursión profunda.\n",
    "<p>&nbsp;</p>\n",
    "\n",
    "- **Peculiaridad:** Java, siendo un lenguaje fuertemente tipado, requiere una definición clara de tipos de retorno y parámetros en funciones recursivas, lo que puede añadir claridad al diseño de funciones recursivas.\n",
    "<p>&nbsp;</p>\n",
    "\n",
    "- **Ejemplo:**\n",
    "```pseudocode\n",
    "public class Main {\n",
    "    public static int factorial(int n) {\n",
    "        if (n == 0 || n == 1) {\n",
    "            return 1;\n",
    "        } else {\n",
    "            return n * factorial(n - 1);\n",
    "        }\n",
    "    }\n",
    "\n",
    "    public static void main(String[] args) {\n",
    "        System.out.println(factorial(5));  // Salida: 120\n",
    "    }\n",
    "}\n",
    "\n",
    "```\n",
    "***C++***\n",
    "\n",
    "- **Manejo de la Recursión:** C++ maneja la recursión de manera similar a Java y Python, pero con la ventaja de que algunos compiladores de C++ sí soportan optimización de recursión de cola.\n",
    "<p>&nbsp;</p>\n",
    "\n",
    "- **Limitación:** Aunque C++ puede manejar una profundidad de recursión relativamente alta, sigue siendo susceptible al desbordamiento de pila.\n",
    "<p>&nbsp;</p>\n",
    "\n",
    "- **Peculiaridad:** C++ ofrece mayor control sobre aspectos de bajo nivel, como la gestión de la memoria, lo que puede ser beneficioso en la optimización de funciones recursivas, pero también exige una mayor responsabilidad en el manejo de recursos.\n",
    "<p>&nbsp;</p>\n",
    "\n",
    "- **Ejemplo:**\n",
    "```pseudocode\n",
    "#include <iostream>\n",
    "using namespace std;\n",
    "\n",
    "int factorial(int n) {\n",
    "    if (n == 0 || n == 1) {\n",
    "        return 1;\n",
    "    } else {\n",
    "        return n * factorial(n - 1);\n",
    "    }\n",
    "}\n",
    "\n",
    "int main() {\n",
    "    cout << factorial(5) << endl;  // Salida: 120\n",
    "    return 0;\n",
    "}\n",
    "```\n",
    "\n",
    "***JavaScript***\n",
    "\n",
    "- **Manejo de la Recursión:** JavaScript admite la recursión y es ampliamente utilizado en aplicaciones web y de servidor.\n",
    "<p>&nbsp;</p>\n",
    "\n",
    "- **Limitación:** Al igual que otros lenguajes, JavaScript tiene un límite en la profundidad de la pila de llamadas, que varía según el motor JavaScript y el navegador o entorno de ejecución.\n",
    "<p>&nbsp;</p>\n",
    "\n",
    "- **Peculiaridad:** En el desarrollo de aplicaciones web, especialmente en el lado del cliente, es importante ser consciente del límite de la pila de llamadas para evitar errores en navegadores con menor capacidad.\n",
    "\n",
    "- **Ejemplo:**\n",
    "\n",
    "```Pseudocode\n",
    "function factorial(n) {\n",
    "    if (n == 0 || n == 1) {\n",
    "        return 1;\n",
    "    } else {\n",
    "        return n * factorial(n - 1);\n",
    "    }\n",
    "}\n",
    "\n",
    "console.log(factorial(5));  // Salida: 120\n",
    "```\n",
    "\n",
    "\n",
    "***Python***\n",
    "\n",
    "- **Manejo de la Recursión:** Python soporta la recursión, pero no está optimizado para la recursión profunda. Esto se debe a que Python no implementa la optimización de recursión de cola (tail recursion optimization), una técnica común para reducir el uso de la pila de llamadas en funciones recursivas.\n",
    "<p>&nbsp;</p>\n",
    "\n",
    "- **Limitación:** Python tiene un límite en la profundidad máxima de la pila de llamadas recursivas para prevenir desbordamientos de pila, que generalmente es de unas 1000 llamadas.\n",
    "<p>&nbsp;</p>\n",
    "\n",
    "- **Peculiaridad:** Para problemas que requieren una profundidad de recursión muy alta, se recomienda reescribir el código de manera iterativa o aumentar el límite de la pila usando `sys.setrecursionlimit`.\n",
    "\n",
    "- **Ejemplo:**\n",
    "\n",
    "```pseudocode\n",
    "def factorial(n):\n",
    "    if n == 0 or n == 1:\n",
    "        return 1\n",
    "    else:\n",
    "        return n * factorial(n - 1)\n",
    "\n",
    "# Uso de la función\n",
    "print(factorial(5))  # Salida: 120\n",
    "```"
   ]
  },
  {
   "cell_type": "markdown",
   "id": "e8f0d8f0",
   "metadata": {},
   "source": [
    "Mientras que la recursión es un concepto universal en la programación, su implementación y las limitaciones asociadas varían entre los lenguajes de programación. Es fundamental conocer estas diferencias y limitaciones al escribir funciones recursivas, especialmente en contextos donde se espera una recursión profunda."
   ]
  },
  {
   "cell_type": "markdown",
   "id": "960a2065",
   "metadata": {},
   "source": [
    "## Actividades para el estudiante"
   ]
  },
  {
   "cell_type": "markdown",
   "id": "ac4db91d",
   "metadata": {},
   "source": [
    "A continuación se plantea una serie de ejercicios para practicar y profundizar en el tema de la recursión. Para cada uno de ellos, realice también un algoritmos sin recursión y compara la complejidad algoritmica de ambos.\n",
    "\n",
    "1. **Calculadora de Potencia:**\n",
    "   - Escribe una función recursiva para calcular la potencia de un número. Por ejemplo, `potencia(base, exponente)`.\n",
    "<p>&nbsp;</p>\n",
    "\n",
    "2. **Número Palíndromo:**\n",
    "   - Crea una función recursiva que determine si un número es palíndromo.\n",
    "<p>&nbsp;</p>\n",
    "\n",
    "3. **Suma de Dígitos:**\n",
    "   - Implementa una función recursiva que sume todos los dígitos de un número entero.\n",
    "<p>&nbsp;</p>\n",
    "\n",
    "4. **Número de Pasos para Convertir a Cero:**\n",
    "   - Dado un número entero, usa la recursión para contar cuántos pasos se necesitan para reducirlo a cero. En cada paso, si el número es par, divídelo por 2; si es impar, réstale 1.\n",
    "<p>&nbsp;</p>\n",
    "\n",
    "5. **Triángulo de Pascal:**\n",
    "   - Escribe una función recursiva que genere el n-ésimo nivel del Triángulo de Pascal.\n",
    "<p>&nbsp;</p>\n",
    "\n",
    "6. **Longitud de una Cadena:**\n",
    "   - Determina la longitud de una cadena de caracteres usando una función recursiva.\n",
    "<p>&nbsp;</p>\n",
    "\n",
    "7. **Buscar Elemento en un Array:**\n",
    "   - Utiliza la recursión para buscar un elemento en un array y devolver su índice.\n",
    "<p>&nbsp;</p>\n",
    "\n",
    "8. **Invertir una Lista Enlazada:**\n",
    "   - Implementa una función recursiva para invertir una lista enlazada.\n",
    "<p>&nbsp;</p>\n",
    "\n",
    "9. **Recorrido de un Árbol Binario:**\n",
    "   - Realiza un recorrido en preorden, inorden o postorden de un árbol binario usando la recursión.\n",
    "<p>&nbsp;</p>\n",
    "\n",
    "10. **Resolver el Problema de las Torres de Hanoi:**\n",
    "    - Usa la recursión para resolver el clásico problema de las Torres de Hanoi para un número determinado de discos.\n"
   ]
  },
  {
   "cell_type": "code",
   "execution_count": null,
   "id": "1258a780",
   "metadata": {},
   "outputs": [],
   "source": []
  }
 ],
 "metadata": {
  "kernelspec": {
   "display_name": "Python 3 (ipykernel)",
   "language": "python",
   "name": "python3"
  },
  "language_info": {
   "codemirror_mode": {
    "name": "ipython",
    "version": 3
   },
   "file_extension": ".py",
   "mimetype": "text/x-python",
   "name": "python",
   "nbconvert_exporter": "python",
   "pygments_lexer": "ipython3",
   "version": "3.11.3"
  },
  "toc": {
   "base_numbering": 1,
   "nav_menu": {},
   "number_sections": true,
   "sideBar": true,
   "skip_h1_title": true,
   "title_cell": "Table of Contents",
   "title_sidebar": "Contents",
   "toc_cell": false,
   "toc_position": {
    "height": "calc(100% - 180px)",
    "left": "10px",
    "top": "150px",
    "width": "256px"
   },
   "toc_section_display": true,
   "toc_window_display": false
  }
 },
 "nbformat": 4,
 "nbformat_minor": 5
}
