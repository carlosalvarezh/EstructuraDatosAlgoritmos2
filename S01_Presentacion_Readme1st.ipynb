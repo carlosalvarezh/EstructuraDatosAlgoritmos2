{
 "cells": [
  {
   "cell_type": "markdown",
   "id": "339d7266",
   "metadata": {},
   "source": [
    "<h1 align=\"center\">Estructura de Datos y Algoritmos II</h1>\n",
    "<h1 align=\"center\">Presentación del curso</h1>\n",
    "<h1 align=\"center\">2024</h1>\n",
    "<h1 align=\"center\">MEDELLÍN - COLOMBIA </h1>"
   ]
  },
  {
   "cell_type": "markdown",
   "id": "663ca753",
   "metadata": {},
   "source": [
    "*** \n",
    "|[![Outlook](https://img.shields.io/badge/Microsoft_Outlook-0078D4?style=plastic&logo=microsoft-outlook&logoColor=white)](mailto:calvar52@eafit.edu.co)||[![Open In Colab](https://colab.research.google.com/assets/colab-badge.svg)](https://colab.research.google.com/github/carlosalvarezh/Curso_CEC_EAFIT/blob/main/C00_Presentacion.ipynb)\n",
    "|-:|:-|--:|\n",
    "|[![LinkedIn](https://img.shields.io/badge/linkedin-%230077B5.svg?style=plastic&logo=linkedin&logoColor=white)](https://www.linkedin.com/in/carlosalvarez5/)|[![@alvarezhenao](https://img.shields.io/twitter/url/https/twitter.com/alvarezhenao.svg?style=social&label=Follow%20%40alvarezhenao)](https://twitter.com/alvarezhenao)|[![@carlosalvarezh](https://img.shields.io/badge/github-%23121011.svg?style=plastic&logo=github&logoColor=white)](https://github.com/carlosalvarezh)|\n",
    "\n",
    "<table>\n",
    " <tr align=left><td><img align=left src=\"https://github.com/carlosalvarezh/Curso_CEC_EAFIT/blob/main/images/CCLogoColorPop1.gif?raw=true\" width=\"25\">\n",
    " <td>Text provided under a Creative Commons Attribution license, CC-BY. All code is made available under the FSF-approved MIT license.(c) Carlos Alberto Alvarez Henao</td>\n",
    "</table>\n",
    "\n",
    "***"
   ]
  },
  {
   "cell_type": "markdown",
   "id": "8a857dff",
   "metadata": {},
   "source": [
    "## Identificación"
   ]
  },
  {
   "cell_type": "markdown",
   "id": "ad39d6df",
   "metadata": {},
   "source": [
    "- ***NOMBRE ESCUELA:*** Escuela de Ciencias Aplicadas e Ingeniería  \n",
    "- ***NOMBRE DEPARTAMENTO:*** Departamento de Informática y Sistemas  \n",
    "- ***NOMBRE DEL PROGRAMA:*** Ingeniería de sistemas  \n",
    "- ***NOMBRE ASIGNATURA EN ESPAÑOL:*** Estructuras de Datos y Algoritmos 2  \n",
    "- ***NOMBRE ASIGNATURA EN INGLÉS:*** Design of Algorithms  \n",
    "- ***MATERIA PREREQUISITO:*** Estructuras de Datos y Algoritmos 1  \n",
    "- ***CÓDIGO:*** ST0247  \n",
    "- ***SEMESTRE DE UBICACIÓN:*** III  \n",
    "- ***INTENSIDAD HORARIA SEMANAL:*** 3 horas  \n",
    "- ***INTENSIDAD HORARIA SEMESTRAL:*** 48 horas"
   ]
  },
  {
   "cell_type": "markdown",
   "id": "4204594d",
   "metadata": {},
   "source": [
    "## Justificación del curso"
   ]
  },
  {
   "cell_type": "markdown",
   "id": "3078fb81",
   "metadata": {},
   "source": [
    "El [Ingeniero de Sistemas](https://www.eafit.edu.co/programas-academicos/pregrados/ingenieria-sistemas/Paginas/inicio.aspx) egresado de la [Universidad EAFIT](https://www.eafit.edu.co/) debe estar en capacidad de hacer el análisis, diseño e implementación de sistemas intensivos en Software, y, por esa razón, es imperativo que sea capaz de diseñar un algoritmo para resolver eficientemente un problema y hacer su implementación."
   ]
  },
  {
   "cell_type": "markdown",
   "id": "0d14bf31",
   "metadata": {},
   "source": [
    "## Propósito u Objetivo general del programa académico"
   ]
  },
  {
   "cell_type": "markdown",
   "id": "67451c8d",
   "metadata": {},
   "source": [
    "Resolver un problema donde se requiere diseñar estructuras de datos y algoritmos, y argumentar los criterios de diseño."
   ]
  },
  {
   "cell_type": "markdown",
   "id": "f321d361",
   "metadata": {},
   "source": [
    "### Competencias genéricas"
   ]
  },
  {
   "cell_type": "markdown",
   "id": "37c8f9ed",
   "metadata": {},
   "source": [
    "- Realizar búsqueda de literatura impresa y electrónica (CDIO 2.2.2 )\n",
    "- Capacidad de trabajar en distintos tipos de equipos (CDIO 3.1.5 )\n",
    "- Capacidad de comunicación escrita efectiva ( CDIO 3.2.3)\n",
    "- Capacidad de comunicación por medios Multimedia (CDIO 3.2.4)\n",
    "- Capacidad de comunicación por presentaciones orales (CDIO 3.2.6 )"
   ]
  },
  {
   "cell_type": "markdown",
   "id": "80d0061a",
   "metadata": {},
   "source": [
    "### Competencias específicas"
   ]
  },
  {
   "cell_type": "markdown",
   "id": "2b7b23df",
   "metadata": {},
   "source": [
    "Diseña algoritmos de fuerza bruta, backtracking, voraces, dividir para conquistar y programación dinámica para solucionar problemas"
   ]
  },
  {
   "cell_type": "markdown",
   "id": "a5024d67",
   "metadata": {},
   "source": [
    "### Resultados de aprendizaje"
   ]
  },
  {
   "cell_type": "markdown",
   "id": "0b9fb8da",
   "metadata": {},
   "source": [
    "***Competencia específica:*** Diseña algoritmos de fuerza bruta, backtracking, voraces, dividir para conquistar y programación dinámica para solucionar problemas.\n",
    "\n",
    "***Resultados de aprendizaje de la competencia:***\n",
    "\n",
    "- Explica el problema que va a resolver\n",
    "- Plantea alternativas de solución al problema\n",
    "- Explica los principios que se están aplicando en el algoritmo de solución del problema\n",
    "- Explica el algoritmo que soluciona el problema conceptualmente\n",
    "- Implementa correctamente el algoritmo que soluciona el problema"
   ]
  },
  {
   "cell_type": "markdown",
   "id": "fe20a92e",
   "metadata": {},
   "source": [
    "## Descripción de los contenidos temas y subtemas"
   ]
  },
  {
   "cell_type": "markdown",
   "id": "d2fe6f5c",
   "metadata": {},
   "source": [
    "- Algoritmos de fuerza bruta\n",
    "- Algoritmos de backtracking\n",
    "- Algoritmos codiciosos\n",
    "- Algoritmos de dividir para conquistar\n",
    "- Algoritmos de programación dinámica"
   ]
  },
  {
   "cell_type": "markdown",
   "id": "c3b75202",
   "metadata": {},
   "source": [
    "## Clase a clase"
   ]
  },
  {
   "cell_type": "markdown",
   "id": "5dbb10e1",
   "metadata": {},
   "source": [
    "|**Semana** | **Fecha**         |**Contenido** |**Observación**|\n",
    "|:-----:|:-------------:|:-----------|----------------------|\n",
    "|01|23-25/01|Descripción del curso. Nivelación en Python y su ecosistema| |\n",
    "|02|30/01-01/02|Introducción a la abstracción de datos en un problema. Refuerzo en algoritmos fundamentales||\n",
    "|03|06-08/02|Eficiencia algoritmica (Tiempo y Espacio) - demostración en ordenamiento de datos (divide y vencerás)||\n",
    "|04|13-15/02|Programación dinámica: Tecnicas para dividir el problema en subproblemas.||\n",
    "|05|20-22/02|Programación dinámica: Definir la recursividad en la solución de problemas.||\n",
    "|06|27-29/02|Programación dinámica: Estructuras de datos para almacenamiento de subresultados||\n",
    "|07|05-07/03|Algoritmos avanzados: Aprendizaje automático.|Evaluación 1 (25%)|\n",
    "|08|12-14/03|Algoritmos avanzados: Clasificación y de Regresión||\n",
    "|09|19-21/03|Algoritmos avanzados: Reducción de la Dimensionalidad||\n",
    "|  |25-29/03||Semana Santa|\n",
    "|10|02-04/04|Algoritmos paralelo (Map Reduce, Filtros Bloom y HyperLogLog)||\n",
    "|11|09-11/04|Algoritmos paralelo (Map Reduce, Filtros Bloom y HyperLogLog)|Evaluación 2 (25%)|\n",
    "|12|16-18/04|Aplicaciones con grafos, árboles y tablas hash||\n",
    "|13|23-25/04|Algoritmos de ciberseguridad (criptografia, compresión, firmas digitales, control de acceso y analisis de tráfico)||\n",
    "|14|30/04-02/05|Implementación de un servicio NoSQL||\n",
    "|15|07-09/05|Aplicación de búsqueda en árbol B+|Evaluación 3 (25%) y Reporte 70%|\n",
    "|16|14-16/05|Algoritmos de almacenamiento y Algoritmos de consulta basados en algoritmos de análisis síntactico y semantico.||\n",
    "|-||Semana de Receso académico para preparación de finales||\n",
    "|-||Semana de finales|Evaluación final (25%)|\n",
    "|-||Cierre académico|Reporte del 100%|"
   ]
  },
  {
   "cell_type": "markdown",
   "id": "d4f6cb42",
   "metadata": {},
   "source": [
    "## Bibliografía de consulta"
   ]
  },
  {
   "cell_type": "markdown",
   "id": "fa0ecc63",
   "metadata": {},
   "source": [
    "- [Thomas Cormen, Introduction to Algorithms (3th edition)](https://www.google.com.co/books/edition/Introduction_To_Algorithms/NLngYyWFl_YC?hl=en&gbpv=1&printsec=frontcover), 2009. Chapter 4.  \n",
    "- [Robert Lafore, Data Structures and Algorithms in Java (2nd edition)](https://everythingcomputerscience.com/books/schoolboek-data_structures_and_algorithms_in_java.pdf), 2002. Chapter 13.  \n",
    "- Thomas Cormen, Introduction to Algorithms (3th edition), 2009. Chapter 23.2, 23.3 y 23.5.  \n",
    "- [Anany Levitin, Introduction to the the Design & Analysis of Algorihtms](https://doc.lagout.org/science/0_Computer%20Science/2_Algorithms/Introduction%20to%20the%20Design%20and%20Analysis%20of%20Algorithms%20%283rd%20ed.%29%20%5BLevitin%202011-10-09%5D.pdf). Chapter 3  \n",
    "- [R.C.T Lee et al., Introducción al análisis y diseño de Algoritmos](https://www.amazon.com/Introduction-Design-Analysis-Algorithms-R-C-T/dp/0071243461/ref=sr_1_3?dib=eyJ2IjoiMSJ9.YDa2eDChuDtPyausf2eypmQKsJxYUOfPnquEFiXvwEDGjHj071QN20LucGBJIEps.kJ31-3Y1R_4nsT9VJIbL_mm8FoZMXGodBXiFDSdBAd0&dib_tag=se&qid=1705697282&refinements=p_27%3AS.S.+Tseng+R.C%3AT%3A+Lee&s=books&sr=1-3&text=S.S.+Tseng+R.C%3AT%3A+Lee). Capítulo 5. Páginas 157 – 181.  \n",
    "- R.C.T Lee et al., Introducción al análisis y diseño de Algoritmos. Capítulo 3. Páginas 71-115  \n",
    "- R.C.T Lee et al., Introducción al análisis y diseño de Algoritmos. Capítulo 4.  \n",
    "- R.C.T Lee et al., Introducción al análisis y diseño de Algoritmos. Capítulo 7.  \n",
    "- R.C.T Lee et al., Introducción al análisis y diseño de Algoritmos. Págs, 5, 8, 176, 395  \n",
    "- Anany Levitin, Introduction to the the Design & Analysis of Algorihtms. Págs, 116, 438, 443  \n"
   ]
  },
  {
   "cell_type": "markdown",
   "id": "b50d8ced",
   "metadata": {},
   "source": [
    "## Bibliografía adicional de referencia"
   ]
  },
  {
   "cell_type": "markdown",
   "id": "07a94927",
   "metadata": {},
   "source": [
    "- Robert Sedgewick, Algorithms (Deluxe edition), 2011.  \n",
    "- Skiena, The algorithm design manual (2nd edition), 2010  "
   ]
  },
  {
   "cell_type": "code",
   "execution_count": null,
   "id": "d936770a",
   "metadata": {},
   "outputs": [],
   "source": []
  }
 ],
 "metadata": {
  "kernelspec": {
   "display_name": "Python 3 (ipykernel)",
   "language": "python",
   "name": "python3"
  },
  "language_info": {
   "codemirror_mode": {
    "name": "ipython",
    "version": 3
   },
   "file_extension": ".py",
   "mimetype": "text/x-python",
   "name": "python",
   "nbconvert_exporter": "python",
   "pygments_lexer": "ipython3",
   "version": "3.11.3"
  },
  "toc": {
   "base_numbering": 1,
   "nav_menu": {},
   "number_sections": true,
   "sideBar": true,
   "skip_h1_title": true,
   "title_cell": "Table of Contents",
   "title_sidebar": "Contents",
   "toc_cell": false,
   "toc_position": {
    "height": "calc(100% - 180px)",
    "left": "10px",
    "top": "150px",
    "width": "165px"
   },
   "toc_section_display": true,
   "toc_window_display": false
  }
 },
 "nbformat": 4,
 "nbformat_minor": 5
}
