{
 "cells": [
  {
   "cell_type": "markdown",
   "id": "68b7d4d4",
   "metadata": {},
   "source": [
    "<h1 align=\"center\">Estructura de Datos y Algoritmos II</h1>\n",
    "<h1 align=\"center\">Algoritmos en Ciberseguridad</h1>\n",
    "<h1 align=\"center\">2024</h1>\n",
    "<h1 align=\"center\">MEDELLÍN - COLOMBIA </h1>"
   ]
  },
  {
   "cell_type": "markdown",
   "id": "911dca7c",
   "metadata": {},
   "source": [
    "*** \n",
    "|[![Outlook](https://img.shields.io/badge/Microsoft_Outlook-0078D4?style=plastic&logo=microsoft-outlook&logoColor=white)](mailto:calvar52@eafit.edu.co)||[![Open In Colab](https://colab.research.google.com/assets/colab-badge.svg)](https://colab.research.google.com/github/carlosalvarezh/EstructuraDatosAlgoritmos2/blob/main/S11_AlgoritmosCiberseguridad.ipynb)\n",
    "|-:|:-|--:|\n",
    "|[![LinkedIn](https://img.shields.io/badge/linkedin-%230077B5.svg?style=plastic&logo=linkedin&logoColor=white)](https://www.linkedin.com/in/carlosalvarez5/)|[![@alvarezhenao](https://img.shields.io/twitter/url/https/twitter.com/alvarezhenao.svg?style=social&label=Follow%20%40alvarezhenao)](https://twitter.com/alvarezhenao)|[![@carlosalvarezh](https://img.shields.io/badge/github-%23121011.svg?style=plastic&logo=github&logoColor=white)](https://github.com/carlosalvarezh)|\n",
    "\n",
    "<table>\n",
    " <tr align=left><td><img align=left src=\"https://github.com/carlosalvarezh/Curso_CEC_EAFIT/blob/main/images/CCLogoColorPop1.gif?raw=true\" width=\"25\">\n",
    " <td>Text provided under a Creative Commons Attribution license, CC-BY. All code is made available under the FSF-approved MIT license.(c) Carlos Alberto Alvarez Henao</td>\n",
    "</table>\n",
    "\n",
    "***"
   ]
  },
  {
   "cell_type": "markdown",
   "id": "853998fe",
   "metadata": {},
   "source": [
    "## Introducción a la Criptografía"
   ]
  },
  {
   "cell_type": "markdown",
   "id": "9bd91584",
   "metadata": {},
   "source": [
    "<p float=\"center\">\n",
    "  <img src=\"https://github.com/carlosalvarezh/EstructuraDatosAlgoritmos2/blob/main/images/Crypto00.PNG?raw=true\" width=\"350\" />\n",
    "</p>"
   ]
  },
  {
   "cell_type": "markdown",
   "id": "afe06d4e",
   "metadata": {},
   "source": [
    "### Definición y Origen"
   ]
  },
  {
   "cell_type": "markdown",
   "id": "68cc95f6",
   "metadata": {},
   "source": [
    "La [criptografía](https://en.wikipedia.org/wiki/Cryptography), derivada de las palabras griegas \"*kryptos*\" que significa oculto, y \"*graphia*\" que significa escritura, es el estudio de técnicas para asegurar la comunicación y la información a través de la transformación de mensajes para hacerlos incomprensibles a todos excepto a aquellos que poseen las claves especiales. En su esencia, la criptografía se utiliza para convertir información legible (texto plano) en información ilegible (texto cifrado) mediante algoritmos matemáticos."
   ]
  },
  {
   "cell_type": "markdown",
   "id": "80ad5042",
   "metadata": {},
   "source": [
    "### Objetivos de la Criptografía"
   ]
  },
  {
   "cell_type": "markdown",
   "id": "cb4aee6a",
   "metadata": {},
   "source": [
    "1. **Confidencialidad:** Asegurar que la información solo sea accesible para aquellos autorizados a verla.  \n",
    "<p>&nbsp;</p>\n",
    "\n",
    "2. **Integridad:** Garantizar que la información no sea alterada durante la transmisión o el almacenamiento sin que se detecte.  \n",
    "<p>&nbsp;</p>\n",
    "\n",
    "3. **Autenticación:** Verificar la identidad de las partes involucradas en la comunicación.  \n",
    "<p>&nbsp;</p>\n",
    "\n",
    "4. **No repudio:** Impedir que una parte niegue la autenticidad de su firma en un mensaje o la transmisión del mismo."
   ]
  },
  {
   "cell_type": "markdown",
   "id": "e8c3bb5e",
   "metadata": {},
   "source": [
    "### Papel en la Ciberseguridad"
   ]
  },
  {
   "cell_type": "markdown",
   "id": "ab14bb6d",
   "metadata": {},
   "source": [
    "En el ámbito de la ciberseguridad, la criptografía es esencial para proteger datos contra el acceso no autorizado y asegurar que las transacciones electrónicas sean privadas y seguras. Esto incluye la protección de datos en tránsito sobre redes inseguras, como Internet, y datos en reposo almacenados en dispositivos computacionales."
   ]
  },
  {
   "cell_type": "markdown",
   "id": "0b64af1f",
   "metadata": {},
   "source": [
    "### Breve Historia de la Criptografía: Desde los Cifrados Clásicos hasta la Criptografía Moderna"
   ]
  },
  {
   "cell_type": "markdown",
   "id": "7f88f033",
   "metadata": {},
   "source": [
    "#### Cifrados Clásicos"
   ]
  },
  {
   "cell_type": "markdown",
   "id": "0b8dc720",
   "metadata": {},
   "source": [
    "La historia de la criptografía es tan antigua como el arte de la comunicación misma. Desde el cifrado de César, utilizado por Julio César para comunicarse con sus generales, hasta los cifrados más complejos utilizados en tiempos de guerra, la criptografía ha evolucionado significativamente.\n",
    "- **Cifrado de César:** Un método de sustitución donde cada letra del texto plano es cambiada por otra que se encuentra un número fijo de posiciones más adelante en el alfabeto.\n",
    "<p>&nbsp;</p>\n",
    "\n",
    "- **Cifrado de Vigenère:** Un sistema de cifrado polialfabético que utiliza una palabra o frase clave para cifrar un mensaje."
   ]
  },
  {
   "cell_type": "markdown",
   "id": "5b8c26d4",
   "metadata": {},
   "source": [
    "#### Transición a la Criptografía Moderna"
   ]
  },
  {
   "cell_type": "markdown",
   "id": "b1e0927e",
   "metadata": {},
   "source": [
    "La criptografía moderna comenzó en el siglo XX con el desarrollo de la teoría de la información y las matemáticas computacionales, lo que llevó a la creación de cifrados más sofisticados que los métodos clásicos.\n",
    "- **Máquina Enigma:** Usada durante la Segunda Guerra Mundial, era un dispositivo electromecánico que utilizaba un sistema complejo de rotores y cables para cifrar mensajes.\n",
    "<p>&nbsp;</p>\n",
    "\n",
    "- **Desarrollo de la Criptografía de Clave Pública:** Innovaciones como el algoritmo RSA, desarrollado en 1977, permitieron la comunicación segura entre partes sin la necesidad de compartir una clave secreta previamente."
   ]
  },
  {
   "cell_type": "markdown",
   "id": "a5a6982e",
   "metadata": {},
   "source": [
    "### Importancia de la Criptografía: Confidencialidad, Integridad de Datos, Autenticación y No Repudio"
   ]
  },
  {
   "cell_type": "markdown",
   "id": "184ac9b8",
   "metadata": {},
   "source": [
    "- **Confidencialidad:** La criptografía protege la privacidad de los datos al cifrarlos, asegurando que solo los individuos con la clave adecuada puedan descifrar y acceder a la información. Esto es vital para la protección de la información personal y comercial en la era digital.\n",
    "<p>&nbsp;</p>\n",
    "\n",
    "- **Integridad de Datos:** Los algoritmos de hash y las firmas digitales aseguran que cualquier alteración de los datos pueda ser detectada. Por ejemplo, el algoritmo SHA-256 genera un resumen único de los datos, que cambia si los datos originales son modificados.\n",
    "<p>&nbsp;</p>\n",
    "\n",
    "- **Autenticación:** La criptografía facilita la autenticación de usuarios y dispositivos. Los protocolos criptográficos como SSL/TLS utilizan certificados digitales para autenticar la identidad de los sitios web, asegurando que los usuarios se comuniquen con el servidor correcto.\n",
    "<p>&nbsp;</p>\n",
    "\n",
    "- **No Repudio:** Las firmas digitales garantizan que una vez que un documento ha sido firmado, el firmante no pueda negar la autoría o el envío del documento. Esto es crucial en transacciones legales y financieras donde la atribución precisa es fundamental."
   ]
  },
  {
   "cell_type": "markdown",
   "id": "05986962",
   "metadata": {},
   "source": [
    "## Algoritmos de cifrado"
   ]
  },
  {
   "cell_type": "markdown",
   "id": "e5eb32c8",
   "metadata": {},
   "source": [
    "### Introducción"
   ]
  },
  {
   "cell_type": "markdown",
   "id": "4a16a6b5",
   "metadata": {},
   "source": [
    "La criptografía, que es el arte y la ciencia de proteger la información mediante su conversión a una forma segura, esencialmente ilegible sin la clave adecuada, se clasifica principalmente en dos categorías fundamentales que definen el método de cifrado y descifrado utilizado: la criptografía de clave simétrica y la criptografía de clave asimétrica. Cada tipo tiene sus propias aplicaciones, ventajas y desventajas, adaptándose a diferentes necesidades de seguridad en el campo de la protección de datos.\n",
    "\n",
    "<p float=\"center\">\n",
    "  <img src=\"https://github.com/carlosalvarezh/EstructuraDatosAlgoritmos2/blob/main/images/Crypto01.webp?raw=true\" width=\"500\" />\n",
    "</p>"
   ]
  },
  {
   "cell_type": "markdown",
   "id": "c29eefe6",
   "metadata": {},
   "source": [
    "### Criptografía de Clave Simétrica"
   ]
  },
  {
   "cell_type": "markdown",
   "id": "d09b8885",
   "metadata": {},
   "source": [
    "También conocida como criptografía de clave secreta, utiliza la misma clave tanto para el cifrado como para el descifrado de los datos. La \"simetría\" se refiere al uso de esta clave única que debe ser compartida y mantenida en secreto por ambas partes involucradas en la comunicación. Este requerimiento de intercambio de clave presenta tanto desafíos logísticos como de seguridad, especialmente en sistemas donde la cantidad de usuarios es grande.\n",
    "\n",
    "***Características Principales:***\n",
    "- **Eficiencia:** Los algoritmos de clave simétrica generalmente requieren menos recursos computacionales, lo que los hace más rápidos y adecuados para procesar grandes volúmenes de datos o para uso en dispositivos con capacidades limitadas.\n",
    "<p>&nbsp;</p>\n",
    "\n",
    "- **Gestión de Claves:** Requiere métodos seguros para la distribución y almacenamiento de claves, dado que una clave comprometida pone en riesgo toda la comunicación.\n",
    "<p>&nbsp;</p>\n",
    "\n",
    "- **Ejemplos de Algoritmos:** AES (Advanced Encryption Standard), DES (Data Encryption Standard) y 3DES son ejemplos típicos de cifrados simétricos."
   ]
  },
  {
   "cell_type": "markdown",
   "id": "b1d31d38",
   "metadata": {},
   "source": [
    "### Criptografía de Clave Asimétrica (Criptografía de Clave Pública)"
   ]
  },
  {
   "cell_type": "markdown",
   "id": "5ff97b31",
   "metadata": {},
   "source": [
    "En contraste con la criptografía simétrica, la criptografía de clave asimétrica utiliza un par de claves relacionadas matemáticamente, una pública y una privada. La clave pública puede ser compartida abiertamente para cifrar mensajes, mientras que la clave privada debe ser mantenida en secreto y se utiliza para descifrarlos. Este método resuelve el problema de la distribución de claves de la criptografía simétrica y es fundamental para la infraestructura de clave pública (PKI), que soporta la seguridad en numerosas aplicaciones en línea.\n",
    "\n",
    "***Características Principales:***\n",
    "- **Seguridad en la Distribución de Claves:** No requiere intercambio de claves secreta, lo que facilita la escalabilidad en ambientes con muchos usuarios.\n",
    "<p>&nbsp;</p>\n",
    "\n",
    "- **Desempeño:** Generalmente más lento que los algoritmos de clave simétrica debido a su complejidad matemática y al tamaño de los datos que procesa.\n",
    "<p>&nbsp;</p>\n",
    "\n",
    "- **Aplicaciones:** Firmas digitales, certificados SSL/TLS, y sistemas de correo electrónico seguro como PGP (Pretty Good Privacy) y GPG (GNU Privacy Guard).\n",
    "<p>&nbsp;</p>\n",
    "\n",
    "- **Ejemplos de Algoritmos:** RSA, ECC (Elliptic Curve Cryptography) y DSA (Digital Signature Algorithm)."
   ]
  },
  {
   "cell_type": "markdown",
   "id": "0acf7cef",
   "metadata": {},
   "source": [
    "### Aplicaciones Combinadas"
   ]
  },
  {
   "cell_type": "markdown",
   "id": "9f6026ca",
   "metadata": {},
   "source": [
    "En la práctica, ambos tipos de criptografía a menudo se utilizan conjuntamente para aprovechar las ventajas de cada uno. Por ejemplo, en una sesión segura de SSL/TLS, típicamente se utiliza criptografía de clave pública para el intercambio seguro de una clave simétrica, y luego esa clave simétrica se utiliza para cifrar el flujo de datos de la sesión, combinando la eficiencia de la criptografía simétrica con la seguridad en la distribución de claves de la criptografía asimétrica.\n",
    "\n",
    "La elección entre criptografía de clave simétrica y asimétrica, o una combinación de ambas, depende de los requisitos específicos de seguridad, rendimiento y escalabilidad del sistema en cuestión."
   ]
  },
  {
   "cell_type": "markdown",
   "id": "fd91a51e",
   "metadata": {},
   "source": [
    "### Cifrado de sustitución"
   ]
  },
  {
   "cell_type": "markdown",
   "id": "9e9289cf",
   "metadata": {},
   "source": [
    "Método de cifrado mediante el cual unidades de texto plano se reemplazan por texto cifrado, según un sistema fijo; las “unidades” pueden ser letras individuales (las más comunes), pares de letras, tríos de letras, mezclas de las anteriores, etc."
   ]
  },
  {
   "cell_type": "code",
   "execution_count": null,
   "id": "11a05c36",
   "metadata": {},
   "outputs": [],
   "source": [
    "import numpy as np\n",
    "\n",
    "# genera los elementos que serán las claves en el diccionario\n",
    "letras = \"ABCDEFGHIJKLMÑNOPQRSTUVWXYZabcdefghijklmnñopqrstuvwxyz_!¿?ÁÉÍÓÚáéíóú0123456789 \"\n",
    "\n",
    "# genera los elementos que serán los valores en el diccionario\n",
    "numeros = [x for x in range(len(letras))]\n",
    "\n",
    "# genera el diccionario con la clave \"letras\" y el valor \"numeros\"\n",
    "diccionario = dict(zip(letras,numeros))\n",
    "\n",
    "# Mensaje a \"encriptar\"\n",
    "mensaje = input(\"Ingrese el mensaje a encriptar: \") #\"Paz y Amor!\"\n",
    "\n",
    "# Se crea una lista con el mensaje encriptado\n",
    "encriptado = [diccionario.get(i) for i in mensaje]\n",
    "\n",
    "# se imprime (\"envia\") el mensaje encriptado\n",
    "print(\"mensaje encriptado: \",encriptado)\n",
    "\n",
    "# se \"recibe\" y se desencripta el mensaje encriptado enviado:\n",
    "\n",
    "mensaje = ''\n",
    "for valor in encriptado:\n",
    "    k = list(diccionario.keys())[list(diccionario.values()).index(valor)]\n",
    "    mensaje += k\n",
    "\n",
    "print(\"mensaje desencriptado: \",mensaje)"
   ]
  },
  {
   "cell_type": "markdown",
   "id": "8202cf88",
   "metadata": {},
   "source": [
    "### Criptografía de clave simétrica"
   ]
  },
  {
   "cell_type": "markdown",
   "id": "13b93378",
   "metadata": {},
   "source": [
    "Un sistema de cifrado en el que el remitente y el receptor de un mensaje comparten una clave única y común que se utiliza para cifrar y descifrar el mensaje. El sistema de claves simétricas más popular es el [Estándar de cifrado de datos (DES)](https://en.wikipedia.org/wiki/Data_Encryption_Standard).\n",
    "\n",
    "<p float=\"center\">\n",
    "  <img src=\"https://github.com/carlosalvarezh/EstructuraDatosAlgoritmos2/blob/main/images/Crypto02.webp?raw=true\" width=\"500\" />\n",
    "</p>"
   ]
  },
  {
   "cell_type": "markdown",
   "id": "e9a1f923",
   "metadata": {},
   "source": [
    "Ejemplo de Uso de DES para Cifrado y Descifrado de un Mensaje:\n",
    "\n",
    "- ***Paso 1: Establecimiento de la Clave Común:*** Antes de que el cifrado pueda comenzar, tanto el remitente como el receptor deben acordar y compartir una clave secreta. Esta clave debe mantenerse en secreto y sólo debe ser conocida por las partes autorizadas. Supongamos que la clave acordada es `12345678`.\n",
    "<p>&nbsp;</p>\n",
    "\n",
    "- ***Paso 2: Preparación del Mensaje:*** El remitente tiene un mensaje que desea enviar de forma segura al receptor. El mensaje es \"Hola Mundo\".\n",
    "<p>&nbsp;</p>\n",
    "\n",
    "- ***Paso 3: Cifrado del Mensaje:*** Usando DES, el remitente cifra el mensaje \"Hola Mundo\" con la clave `12345678`. DES primero convierte el texto en bloques de datos. Si el mensaje no es un múltiplo del tamaño de bloque (64 bits para DES), se utiliza un método de relleno para ajustar el mensaje al tamaño adecuado. Luego, DES aplica una serie de transformaciones y permutaciones definidas en el algoritmo usando la clave.\n",
    "\n",
    "Supongamos que tras aplicar DES, el mensaje \"Hola Mundo\" se convierte en un texto cifrado ilegible, algo así como `G5fj9Zk8`.\n",
    "\n",
    "- ***Paso 4: Transmisión del Mensaje Cifrado:*** El mensaje cifrado `G5fj9Zk8` se envía al receptor a través de un canal de comunicación, que podría ser internet, correo electrónico, etc.\n",
    "<p>&nbsp;</p>\n",
    "\n",
    "- ***Paso 5: Descifrado del Mensaje:*** Una vez que el receptor recibe el mensaje cifrado `G5fj9Zk8`, utiliza la misma clave secreta `12345678` para descifrar el mensaje. Aplicando DES en modo de descifrado, el receptor procesa el texto cifrado a través del algoritmo DES, pero en orden inverso, utilizando la misma clave.\n",
    "\n",
    "El resultado del proceso de descifrado es el texto original \"Hola Mundo\".\n",
    "\n",
    "- ***Paso 6: Confirmación:*** El receptor ahora tiene el mensaje original y puede confirmar al remitente que el mensaje fue recibido y descifrado correctamente.\n",
    "<p>&nbsp;</p>\n",
    "\n",
    "***Consideraciones de Seguridad***  \n",
    "Aunque DES fue un sistema robusto en su momento, su clave de 56 bits se considera vulnerable a ataques de fuerza bruta hoy en día, lo que llevó a su reemplazo por AES, que ofrece claves de mayor longitud y mayor seguridad. En entornos que requieren una alta seguridad, se recomienda utilizar algoritmos de cifrado más fuertes y actuales como AES.\n",
    "\n"
   ]
  },
  {
   "cell_type": "code",
   "execution_count": 1,
   "id": "f89794f6",
   "metadata": {},
   "outputs": [
    {
     "ename": "ModuleNotFoundError",
     "evalue": "No module named 'Crypto'",
     "output_type": "error",
     "traceback": [
      "\u001b[1;31m---------------------------------------------------------------------------\u001b[0m",
      "\u001b[1;31mModuleNotFoundError\u001b[0m                       Traceback (most recent call last)",
      "Cell \u001b[1;32mIn[1], line 1\u001b[0m\n\u001b[1;32m----> 1\u001b[0m \u001b[38;5;28;01mfrom\u001b[39;00m \u001b[38;5;21;01mCrypto\u001b[39;00m\u001b[38;5;21;01m.\u001b[39;00m\u001b[38;5;21;01mCipher\u001b[39;00m \u001b[38;5;28;01mimport\u001b[39;00m DES\n\u001b[0;32m      2\u001b[0m \u001b[38;5;28;01mimport\u001b[39;00m \u001b[38;5;21;01mbinascii\u001b[39;00m\n\u001b[0;32m      4\u001b[0m \u001b[38;5;66;03m# Creación de una clave DES válida (8 bytes)\u001b[39;00m\n",
      "\u001b[1;31mModuleNotFoundError\u001b[0m: No module named 'Crypto'"
     ]
    }
   ],
   "source": [
    "from Crypto.Cipher import DES\n",
    "import binascii\n",
    "\n",
    "# Creación de una clave DES válida (8 bytes)\n",
    "key = b'8bytekey'\n",
    "\n",
    "# Creación del objeto de cifrado DES utilizando la biblioteca PyCryptodome\n",
    "des = DES.new(key, DES.MODE_ECB)\n",
    "\n",
    "# Mensaje a cifrar\n",
    "text = b'HelloWorld'  # DES requiere que el tamaño del bloque sea un múltiplo de 8, se ajustará el mensaje\n",
    "\n",
    "# Ajuste del mensaje al tamaño de bloque necesario (8 bytes)\n",
    "# Como 'HelloWorld' son 10 bytes, agregamos padding manualmente (para este ejemplo simple)\n",
    "padding_length = 8 - (len(text) % 8)\n",
    "text += b' ' * padding_length\n",
    "\n",
    "# Cifrado del mensaje\n",
    "encrypted_text = des.encrypt(text)\n",
    "\n",
    "# Convertir el texto cifrado a su representación hexadecimal para visualización fácil\n",
    "encrypted_text_hex = binascii.hexlify(encrypted_text)\n",
    "\n",
    "encrypted_text_hex\n"
   ]
  },
  {
   "cell_type": "markdown",
   "id": "8b2cce29",
   "metadata": {},
   "source": [
    "### Cifrados de transposición"
   ]
  },
  {
   "cell_type": "markdown",
   "id": "e73ff757",
   "metadata": {},
   "source": [
    "En criptografía, un cifrado por transposición es un método de cifrado mediante el cual las posiciones mantenidas por unidades de texto sin formato (que comúnmente son caracteres o grupos de caracteres) se desplazan de acuerdo con un sistema regular, de modo que el texto cifrado constituye una permutación del texto sin formato.\n",
    "\n",
    "Es decir, se cambia el orden de las unidades (se reordena el texto plano). Matemáticamente, se utiliza una función biyectiva en las posiciones de los caracteres para cifrar y una función inversa para descifrar. Una función biyectiva es aquella donde cada elemento de un conjunto se empareja con un elemento único y exclusivo de otro conjunto, y viceversa, asegurando que no haya duplicados ni omisiones. Para descifrar el mensaje, se aplica la función inversa, restableciendo los caracteres a su orden original.\n",
    "\n",
    "***Ejemplo Explicativo de un Cifrado de Transposición***\n",
    "\n",
    "Una forma común de cifrado de transposición es el cifrado de columna, donde el texto se escribe en filas y se cifra leyendo las columnas según un patrón definido.\n",
    "\n",
    "**Pasos para Cifrar:**\n",
    "1. **Definición del Mensaje y la Clave:**\n",
    "   - Mensaje: \"HOLA MUNDO SECRETO\"\n",
    "   - Clave: 4 (número de columnas)\n",
    "<p>&nbsp;</p>\n",
    "\n",
    "2. **Escritura en Filas:**\n",
    "   - Se escribe el mensaje en una matriz de 4 columnas:\n",
    "     ```\n",
    "     HOLA\n",
    "     MUND\n",
    "     OSEC\n",
    "     RETO\n",
    "     ```\n",
    "\n",
    "3. **Lectura por Columnas:**\n",
    "   - Si leemos las columnas verticalmente, el mensaje cifrado será:\n",
    "     - Primera columna: H, M, O, R\n",
    "     - Segunda columna: O, U, S, E\n",
    "     - Tercera columna: L, N, E, T\n",
    "     - Cuarta columna: A, D, C, O\n",
    "   - Mensaje cifrado: \"HMOR OUSE LNET ADCO\"\n",
    "\n",
    "**Pasos para Descifrar:**\n",
    "1. **Organización en Columnas:**\n",
    "   - Con el mensaje cifrado \"HMOROUSELNETADCO\", organizamos los caracteres en columnas usando la clave:\n",
    "     ```\n",
    "     HMOR\n",
    "     OUSE\n",
    "     LNET\n",
    "     ADCO\n",
    "     ```\n",
    "\n",
    "2. **Lectura por Filas:**\n",
    "   - Leyendo las filas horizontalmente, se recupera el mensaje original:\n",
    "     - Primera fila: HOLA\n",
    "     - Segunda fila: MUND\n",
    "     - Tercera fila: OSEC\n",
    "     - Cuarta fila: RETO\n",
    "   - Mensaje descifrado: \"HOLA MUNDO SECRETO\"\n",
    "\n"
   ]
  },
  {
   "cell_type": "code",
   "execution_count": 6,
   "id": "bd60bbc0",
   "metadata": {},
   "outputs": [
    {
     "name": "stdout",
     "output_type": "stream",
     "text": [
      "Encrypted: HMOROUSELNETADCO\n",
      "Decrypted: HRSNMOEEOULT\n"
     ]
    }
   ],
   "source": [
    "def encrypt_message(message, key):\n",
    "    # Eliminar espacios y preparar el mensaje\n",
    "    message = message.replace(\" \", \"\").upper()\n",
    "    \n",
    "    # Calcular el número de filas necesarias\n",
    "    n_rows = len(message) // len(key) + (1 if len(message) % len(key) != 0 else 0)\n",
    "    \n",
    "    # Rellenar el mensaje para hacer que encaje en la matriz perfectamente\n",
    "    message += ' ' * ((n_rows * len(key)) - len(message))\n",
    "    \n",
    "    # Crear la matriz inicial según el número de columnas dado por la clave\n",
    "    matrix = [message[i:i + len(key)] for i in range(0, len(message), len(key))]\n",
    "    \n",
    "    # Ordenar las columnas según la clave\n",
    "    cipher_text = ''\n",
    "    for index in sorted(range(len(key)), key=lambda x: key[x]):\n",
    "        for row in matrix:\n",
    "            if row[index] != ' ':  # Omitir espacios añadidos al final para cifrado\n",
    "                cipher_text += row[index]\n",
    "    \n",
    "    return cipher_text\n",
    "\n",
    "def decrypt_message(cipher_text, key):\n",
    "    # Calcular el número de filas\n",
    "    n_rows = len(cipher_text) // len(key) + (1 if len(cipher_text) % len(key) != 0 else 0)\n",
    "    \n",
    "    # Crear lista de columnas ordenadas y sus tamaños\n",
    "    columns = [''] * len(key)\n",
    "    for i, column_index in enumerate(sorted(range(len(key)), key=lambda x: key[x])):\n",
    "        column_length = n_rows if len(cipher_text) % len(key) > column_index else n_rows - 1\n",
    "        columns[column_index] = cipher_text[:column_length]\n",
    "        cipher_text = cipher_text[column_length:]\n",
    "    \n",
    "    # Reconstruir el mensaje fila por fila\n",
    "    plain_text = ''\n",
    "    for row_index in range(n_rows):\n",
    "        for column in columns:\n",
    "            if row_index < len(column):\n",
    "                plain_text += column[row_index]\n",
    "    \n",
    "    return plain_text\n",
    "\n",
    "# Definir el mensaje y la clave\n",
    "#message = \"Meet me after party\"\n",
    "message = \"Hola Mundo secreto\"\n",
    "\n",
    "#key = [4, 2, 1, 6, 3, 5]  # Clave para el orden de las columnas\n",
    "key = [1,2,3,4]\n",
    "# Cifrar el mensaje\n",
    "cipher_text = encrypt_message(message, key)\n",
    "print(\"Encrypted:\", cipher_text)\n",
    "\n",
    "# Descifrar el mensaje\n",
    "decrypted_message = decrypt_message(cipher_text, key)\n",
    "print(\"Decrypted:\", decrypted_message)\n"
   ]
  },
  {
   "cell_type": "markdown",
   "id": "4f7ee1e5",
   "metadata": {},
   "source": [
    "### Cifrado de flujo"
   ]
  },
  {
   "cell_type": "markdown",
   "id": "e47911b2",
   "metadata": {},
   "source": [
    "Un [cifrado de flujo](https://en.wikipedia.org/wiki/Stream_cipher) es un algoritmo de cifrado simétrico que opera a nivel de bits o bytes, cifrando la información de uno en uno en tiempo real a medida que fluye entre el emisor y el receptor. A diferencia de los cifrados de bloque, que operan en bloques de datos grandes y estáticos (como 128 o 256 bits a la vez), los cifrados de flujo cifran y descifran los datos bit a bit o byte a byte.\n",
    "\n",
    "***Características Principales del Cifrado de Flujo***\n",
    "\n",
    "1. **Operación en Tiempo Real:**\n",
    "   - Los cifrados de flujo son ideales para entornos donde los datos se generan o reciben de forma continua y donde la latencia y el rendimiento son consideraciones críticas. Por ejemplo, en la transmisión de video en vivo o en la comunicación de datos en tiempo real, donde los datos deben cifrarse y descifrarse de manera instantánea y eficiente.\n",
    "<p>&nbsp;</p>\n",
    "\n",
    "2. **Generación de Keystream:**\n",
    "   - El componente central de un cifrado de flujo es la generación de un *keystream*, una secuencia pseudoaleatoria de bits o bytes que se genera a partir de una clave secreta compartida. Este keystream se combina luego con el texto plano (los datos originales) generalmente utilizando la operación XOR (exclusivo OR) para producir el texto cifrado.\n",
    "<p>&nbsp;</p>\n",
    "\n",
    "3. **Propiedades de Seguridad:**\n",
    "   - Un aspecto clave de los cifrados de flujo es que el mismo bit o byte de texto plano no se cifra de la misma manera en diferentes instancias, incluso dentro de la misma sesión de cifrado. Esto se debe a la naturaleza cambiante del keystream. Si un atacante intenta interceptar el mensaje y ve dos bits cifrados iguales, no puede asumir automáticamente que los bits de texto plano correspondientes también eran iguales.\n",
    "\n",
    "***Ejemplo de Operación del Cifrado de Flujo***\n",
    "\n",
    "Supongamos que tenemos el siguiente texto plano en bits: `1101`, y un keystream generado es `1011`. La operación de cifrado se realizaría bit a bit:\n",
    "\n",
    "- Texto plano:  `1 1 0 1`\n",
    "- Keystream:  `1 0 1 1`\n",
    "- Texto cifrado (XOR): `0 1 1 0`\n",
    "\n",
    "Cada bit del texto plano se combina con el bit correspondiente del keystream usando XOR. El resultado es un texto cifrado que varía dependiendo del keystream utilizado, aunque el texto plano original sea el mismo.\n",
    "\n",
    "***Ventajas:***\n",
    "- **Velocidad y eficiencia:** Al operar en pequeñas unidades de datos, los cifrados de flujo pueden ser extremadamente rápidos y eficientes en términos de procesamiento y uso de recursos.\n",
    "<p>&nbsp;</p>\n",
    "\n",
    "- **Seguridad mejorada para ciertas aplicaciones:** Al no reutilizar los elementos del keystream, los cifrados de flujo pueden ofrecer una buena seguridad contra ciertos tipos de análisis criptográfico.\n",
    "\n",
    "***Desventajas:***\n",
    "- **Vulnerabilidad a ciertos ataques:** Si la implementación no es adecuada y el keystream se reutiliza o puede predecirse, el cifrado de flujo puede ser vulnerable a varios tipos de ataques criptográficos, incluidos los ataques de repetición o de texto plano conocido.\n",
    "<p>&nbsp;</p>\n",
    "\n",
    "- **Gestión de claves:** Como cualquier sistema de cifrado simétrico, la gestión de la clave secreta es crucial y puede ser un desafío, especialmente en sistemas distribuidos.\n"
   ]
  },
  {
   "cell_type": "code",
   "execution_count": 7,
   "id": "299eeb83",
   "metadata": {},
   "outputs": [
    {
     "name": "stdout",
     "output_type": "stream",
     "text": [
      "Encrypted Text: #\n",
      "\u0015\n",
      "E\u0014\u001e",
      "\u000b",
      "\u001d",
      "\u0004D\n",
      "Decrypted Text: Hola mundo!\n"
     ]
    }
   ],
   "source": [
    "def text_to_binary(text):\n",
    "    \"\"\"Convertir texto a una cadena binaria.\"\"\"\n",
    "    return ''.join(f'{ord(c):08b}' for c in text)\n",
    "\n",
    "def binary_to_text(binary):\n",
    "    \"\"\"Convertir una cadena binaria de vuelta a texto.\"\"\"\n",
    "    return ''.join(chr(int(binary[i:i+8], 2)) for i in range(0, len(binary), 8))\n",
    "\n",
    "def generate_keystream(key, length):\n",
    "    \"\"\"Generar un keystream repetido de la clave hasta alcanzar la longitud deseada.\"\"\"\n",
    "    return (key * (length // len(key) + 1))[:length]\n",
    "\n",
    "def xor_encrypt_decrypt(text, key):\n",
    "    \"\"\"Cifrar o descifrar texto usando XOR con la clave proporcionada.\"\"\"\n",
    "    binary_text = text_to_binary(text)\n",
    "    binary_key = text_to_binary(generate_keystream(key, len(text)))\n",
    "    \n",
    "    # Realizar XOR entre el texto y la clave\n",
    "    encrypted_decrypted_bin = ''.join('1' if b1 != b2 else '0' for b1, b2 in zip(binary_text, binary_key))\n",
    "    \n",
    "    # Convertir de vuelta a texto\n",
    "    return binary_to_text(encrypted_decrypted_bin)\n",
    "\n",
    "# Texto y clave\n",
    "text = \"Hola mundo!\"\n",
    "key = \"key\"\n",
    "\n",
    "# Cifrado\n",
    "encrypted_text = xor_encrypt_decrypt(text, key)\n",
    "print(\"Encrypted Text:\", encrypted_text)\n",
    "\n",
    "# Descifrado\n",
    "decrypted_text = xor_encrypt_decrypt(encrypted_text, key)\n",
    "print(\"Decrypted Text:\", decrypted_text)\n"
   ]
  },
  {
   "cell_type": "markdown",
   "id": "bc61dbef",
   "metadata": {},
   "source": [
    "### Cifrado de Bloque"
   ]
  },
  {
   "cell_type": "markdown",
   "id": "7bb3da8a",
   "metadata": {},
   "source": [
    "El cifrado de bloque es un método de cifrado que trata bloques de datos de tamaño fijo utilizando una clave simétrica y un algoritmo determinista. Este tipo de cifrado toma bloques de texto plano, generalmente de 64 bits, 128 bits, 192 bits o 256 bits, y los transforma en bloques de texto cifrado del mismo tamaño utilizando una clave de cifrado específica que se mantiene secreta entre el emisor y el receptor.\n",
    "\n",
    "\n",
    "***Características Principales del Cifrado de Bloque***\n",
    "\n",
    "1. **Tamaño de Bloque Fijo:**\n",
    "   - El cifrado de bloque funciona en unidades de tamaño fijo. Si el último bloque de datos no llena el tamaño del bloque requerido, debe ser rellenado (padding) hasta que alcance el tamaño necesario. Este proceso asegura que cada bloque pueda ser procesado de manera uniforme.\n",
    "<p>&nbsp;</p>\n",
    "\n",
    "2. **Clave Simétrica:**\n",
    "   - Utiliza una clave simétrica, lo que significa que la misma clave se emplea tanto para cifrar como para descifrar los datos. Esto implica que tanto el emisor como el receptor deben tener acceso a la misma clave secreta.\n",
    "<p>&nbsp;</p>\n",
    "\n",
    "3. **Algoritmo Determinista:**\n",
    "   - Se basa en algoritmos deterministas, que siempre producen el mismo texto cifrado a partir de un texto plano dado bajo la misma clave de cifrado. Esto es crucial para garantizar que el proceso de descifrado sea posible y efectivo.\n",
    "<p>&nbsp;</p>\n",
    "\n",
    "4. **Modos de Operación:**\n",
    "   - Debido a que el cifrado de bloque por sí solo puede ser vulnerable a ciertos tipos de análisis si se cifran bloques idénticos de texto plano (resultando en bloques cifrados idénticos), se utilizan varios modos de operación para mejorar la seguridad. Algunos modos comunes incluyen CBC (Cipher Block Chaining), ECB (Electronic Codebook), CTR (Counter), entre otros.\n",
    "\n",
    "***Ejemplo de Algoritmos de Cifrado de Bloque***\n",
    "\n",
    "Un cifrado de bloque común, AES, cifra bloques de 128 bits con una clave de longitud predeterminada: 128, 192 o 256 bits. Los cifrados de bloque son familias de permutación pseudoaleatoria (PRP) que operan en bloques de bits de tamaño fijo. Los PRP son funciones que no se pueden diferenciar de permutaciones completamente aleatorias y, por lo tanto, se consideran confiables hasta que se demuestre que no lo son.\n",
    "\n",
    "Algunos de los algoritmos de cifrado de bloque más conocidos incluyen:\n",
    "- **AES (Advanced Encryption Standard):** Es actualmente el estándar de cifrado más utilizado y recomendado. Trabaja con bloques de 128 bits y ofrece tamaños de clave de 128, 192 o 256 bits.\n",
    "<p>&nbsp;</p>\n",
    "\n",
    "- **DES (Data Encryption Standard):** Fue uno de los primeros cifrados de bloque ampliamente adoptados, utilizando un tamaño de bloque de 64 bits y una clave de 56 bits, aunque ahora se considera inseguro debido a la longitud de su clave.\n",
    "<p>&nbsp;</p>\n",
    "\n",
    "- **3DES (Triple DES):** Una mejora sobre DES que lo hace más seguro mediante la aplicación del cifrado DES tres veces con diferentes claves para cada paso.\n",
    "\n",
    "***Ventajas:***\n",
    "- **Seguridad robusta:** Cuando se combina con modos de operación adecuados, el cifrado de bloque ofrece una seguridad muy fuerte contra muchos tipos de ataques criptográficos.\n",
    "<p>&nbsp;</p>\n",
    "\n",
    "- **Estándar de la industria:** Algoritmos como AES son reconocidos y utilizados globalmente, asegurando compatibilidad y confianza.\n",
    "\n",
    "***Desventajas:***\n",
    "- **Complejidad en la gestión de claves:** Al igual que con cualquier sistema de cifrado simétrico, la gestión segura de las claves es fundamental y puede ser un desafío.\n",
    "<p>&nbsp;</p>\n",
    "\n",
    "- **Ineficiencia con datos pequeños:** Si los datos a cifrar son considerablemente menores que el tamaño de bloque, se requiere padding, lo que puede aumentar el tamaño del mensaje cifrado.\n",
    "\n",
    "El cifrado de bloque es fundamental en la protección de datos digitales y es ampliamente utilizado en tecnologías de seguridad para proteger información confidencial tanto en almacenamiento como en transmisión."
   ]
  },
  {
   "cell_type": "markdown",
   "id": "ab477f62",
   "metadata": {},
   "source": [
    "### Cifrado de clave asimétrica (o criptografía de clave pública)"
   ]
  },
  {
   "cell_type": "markdown",
   "id": "26997ed1",
   "metadata": {},
   "source": [
    "La criptografía de clave asimétrica, también conocida como criptografía de clave pública, es un pilar fundamental de la seguridad moderna en comunicaciones y almacenamiento de datos. Este método de cifrado usa un par de claves relacionadas matemáticamente, una pública y una privada, que cumplen funciones opuestas pero complementarias. Esta dualidad clave permite una serie de aplicaciones que van más allá del simple cifrado y descifrado de información, incluyendo la autenticación y la firma digital.\n",
    "\n",
    "<p float=\"center\">\n",
    "  <img src=\"https://github.com/carlosalvarezh/EstructuraDatosAlgoritmos2/blob/main/images/Crypto07.webp?raw=true\" width=\"500\" />\n",
    "</p>\n",
    "\n",
    "El cifrado de clave asimétrica funciona bajo el principio de que lo que una clave cifra, solo la otra puede descifrar. Aquí se presentan los componentes y la mecánica básica:\n",
    "\n",
    "1. **Generación de Clave:**\n",
    "   - Se genera un par de claves mediante algoritmos basados en problemas matemáticos que son computacionalmente factibles de crear pero extremadamente difíciles de invertir sin la clave correspondiente. Ejemplos de estos problemas incluyen la factorización de grandes números enteros (como en RSA) y los logaritmos discretos en curvas elípticas (como en ECC).\n",
    "<p>&nbsp;</p>\n",
    "\n",
    "2. **Clave Pública:**\n",
    "   - La clave pública puede ser distribuida libremente y es utilizada por cualquier persona para cifrar mensajes dirigidos al poseedor de la clave privada correspondiente. También se utiliza para verificar firmas digitales hechas con la clave privada asociada.\n",
    "<p>&nbsp;</p>\n",
    "\n",
    "3. **Clave Privada:**\n",
    "   - La clave privada se mantiene en secreto y es utilizada para descifrar mensajes que han sido cifrados con la clave pública correspondiente. También se usa para crear firmas digitales que otros pueden verificar usando la clave pública.\n",
    "<p>&nbsp;</p>\n",
    "\n",
    "4. **Proceso de Cifrado:**\n",
    "   - Un emisor cifra un mensaje utilizando la clave pública del receptor. Una vez cifrado, el mensaje solo puede ser descifrado por la clave privada correspondiente del receptor, asegurando que solo el receptor pueda acceder al contenido del mensaje.\n",
    "<p>&nbsp;</p>\n",
    "\n",
    "5. **Proceso de Descifrado:**\n",
    "   - El receptor usa su clave privada para descifrar el mensaje cifrado. Dado que sólo el receptor posee la clave privada, este proceso garantiza la confidencialidad del mensaje.\n",
    "\n",
    "***Ventajas***\n",
    "\n",
    "- **Seguridad en la Distribución de Claves:** Elimina la necesidad de compartir claves secretas a través de canales inseguros, ya que la clave pública puede ser compartida abiertamente sin comprometer la seguridad.\n",
    "<p>&nbsp;</p>\n",
    "\n",
    "- **Autenticación y No Repudio:** Facilita la autenticación de la identidad del emisor y asegura que el emisor no pueda negar la autenticidad de su mensaje o transacción, gracias a las firmas digitales.\n",
    "<p>&nbsp;</p>\n",
    "\n",
    "- **Flexibilidad:** Permite el establecimiento de sesiones seguras (por ejemplo, en protocolos SSL/TLS) donde la clave pública cifra una clave de sesión, que luego se usa para cifrado simétrico durante la sesión, combinando la eficiencia del cifrado simétrico con la seguridad de la distribución de claves asimétrica.\n",
    "\n",
    "***Desventajas***\n",
    "\n",
    "- **Rendimiento:** Los algoritmos de clave asimétrica son computacionalmente más intensos que los algoritmos de clave simétrica, lo que los hace menos adecuados para cifrar grandes volúmenes de datos directamente.\n",
    "<p>&nbsp;</p>\n",
    "\n",
    "- **Tamaño de Clave y de Cifrado:** Generalmente requieren claves más largas y producen salidas más grandes comparado con el cifrado simétrico para un nivel equivalente de seguridad.\n"
   ]
  },
  {
   "cell_type": "markdown",
   "id": "fc12c0b8",
   "metadata": {},
   "source": [
    "### Algoritmo RSA"
   ]
  },
  {
   "cell_type": "markdown",
   "id": "4fd1d0a0",
   "metadata": {},
   "source": [
    "El algoritmo [RSA](https://en.wikipedia.org/wiki/RSA_(cryptosystem)), nombrado por sus inventores *Ron Rivest*, *Adi Shamir* y *Leonard Adleman*, es uno de los primeros sistemas de cifrado de clave pública y sigue siendo ampliamente utilizado para la seguridad en comunicaciones digitales y transacciones electrónicas. Es conocido por su uso en la protección de datos sensibles y en la implementación de firmas digitales.\n",
    "\n",
    "<p float=\"center\">\n",
    "  <img src=\"https://github.com/carlosalvarezh/EstructuraDatosAlgoritmos2/blob/main/images/Crypto08.webp?raw=true\" width=\"500\" />\n",
    "</p>\n",
    "\n",
    "***Generación de Claves en RSA***\n",
    "\n",
    "El proceso para generar las claves en RSA, como se ilustra en la imagen, es matemático y complejo, asegurando la seguridad del sistema. Aquí se detalla cada paso del diagrama:\n",
    "\n",
    "1. **Selección de Números Primos:**\n",
    "   - El primer paso en el algoritmo RSA es seleccionar dos números primos grandes y distintos, denotados como $ p $ y $ q $. Estos números deben ser seleccionados al azar y ser de un tamaño suficiente para garantizar la seguridad del algoritmo; típicamente, estos números son de cientos de bits de longitud.\n",
    "<p>&nbsp;</p>\n",
    "\n",
    "2. **Cálculo de $ n $ y $ z $:**\n",
    "   - Una vez seleccionados $ p $ y $ q $, se calcula $ n = p \\times q $. El valor de $ n $ servirá como el módulo para ambos, la clave pública y la clave privada. Es crucial que $ n $ sea el producto de dos primos secretos para garantizar la seguridad del cifrado.\n",
    "   - También se calcula $ z = (p-1)(q-1) $, que es utilizado en la determinación del exponente de cifrado $ e $ y el exponente de descifrado $ d $. $ z $ es el [indicador de Euler](https://en.wikipedia.org/wiki/Euler%27s_totient_function) (o totiente) de $ n $, que es el número de enteros menores que $ n $ que son [coprimos](https://en.wikipedia.org/wiki/Coprime_integers) con $ n $.\n",
    "<p>&nbsp;</p>\n",
    "\n",
    "3. **Elección del Exponente de Cifrado $ e $:**\n",
    "   - Se elige un número $ e $ tal que $ 1 < e < z $ y $ e $ y $ z $ sean coprimos (esto es, $ e $ y $ z $ no deben tener ningún factor común salvo 1). Comúnmente, se utilizan números pequeños y conocidos como $ 3 $ o $ 65537 $ por razones de eficiencia y porque son primos grandes respecto a valores típicos usados en operaciones criptográficas.\n",
    "<p>&nbsp;</p>\n",
    "\n",
    "4. **Cálculo del Exponente de Descifrado $ d $:**\n",
    "   - El exponente de descifrado $ d $ se calcula como el inverso multiplicativo de $ e $ módulo $ z $. Esto significa que $ d $ es el número que satisface la ecuación $ ed \\equiv 1 \\mod z $. En otras palabras, $ d $ debe ser elegido de manera que el producto de $ d $ y $ e $ deje un residuo de 1 cuando se divide por $ z $.\n",
    "<p>&nbsp;</p>\n",
    "\n",
    "5. **Generación de Claves:**\n",
    "   - La **clave pública** es el par $ (n, e) $. Esta clave puede ser distribuida abiertamente.\n",
    "   - La **clave privada** es el par $ (n, d) $. Esta clave debe mantenerse en secreto y es utilizada para descifrar mensajes cifrados con la clave pública.\n",
    "\n",
    "***Uso de las Claves en RSA***\n",
    "\n",
    "- **Cifrado:** Un mensaje $ m $, que es menor que $ n $, se cifra elevándolo a la potencia $ e $ y tomando el residuo de dividir por $ n $, resultando en el mensaje cifrado $ c $, donde $ c = m^e \\mod n $.\n",
    "<p>&nbsp;</p>\n",
    "\n",
    "- **Descifrado:** El mensaje cifrado $ c $ se descifra elevándolo a la potencia $ d $ y tomando el residuo de dividir por $ n $, recuperando el mensaje original $ m $, donde $ m = c^d \\mod n $.\n",
    "\n",
    "***Seguridad y Tamaño de Clave***\n",
    "\n",
    "La seguridad del algoritmo RSA depende directamente del tamaño de la clave, siendo 2048 bits el mínimo recomendado en la actualidad para garantizar una seguridad adecuada. Los tamaños de clave más pequeños, como 512 y 1024 bits, se han vuelto vulnerables a ataques por la mejora en la capacidad de cómputo y técnicas de factorización avanzadas.\n",
    "\n",
    "RSA es un ejemplo fundamental de cómo la teoría matemática se aplica para proteger la información en el mundo digital, permitiendo tanto la confidencialidad como la autenticación de los datos en un amplio rango de aplicaciones."
   ]
  },
  {
   "cell_type": "code",
   "execution_count": 9,
   "id": "fe3cedeb",
   "metadata": {},
   "outputs": [
    {
     "ename": "ModuleNotFoundError",
     "evalue": "No module named 'Crypto'",
     "output_type": "error",
     "traceback": [
      "\u001b[1;31m---------------------------------------------------------------------------\u001b[0m",
      "\u001b[1;31mModuleNotFoundError\u001b[0m                       Traceback (most recent call last)",
      "Cell \u001b[1;32mIn[9], line 1\u001b[0m\n\u001b[1;32m----> 1\u001b[0m \u001b[38;5;28;01mfrom\u001b[39;00m \u001b[38;5;21;01mCrypto\u001b[39;00m\u001b[38;5;21;01m.\u001b[39;00m\u001b[38;5;21;01mPublicKey\u001b[39;00m \u001b[38;5;28;01mimport\u001b[39;00m RSA\n\u001b[0;32m      2\u001b[0m \u001b[38;5;28;01mfrom\u001b[39;00m \u001b[38;5;21;01mCrypto\u001b[39;00m\u001b[38;5;21;01m.\u001b[39;00m\u001b[38;5;21;01mCipher\u001b[39;00m \u001b[38;5;28;01mimport\u001b[39;00m PKCS1_OAEP\n\u001b[0;32m      3\u001b[0m \u001b[38;5;28;01mimport\u001b[39;00m \u001b[38;5;21;01mbinascii\u001b[39;00m\n",
      "\u001b[1;31mModuleNotFoundError\u001b[0m: No module named 'Crypto'"
     ]
    }
   ],
   "source": [
    "from Crypto.PublicKey import RSA\n",
    "from Crypto.Cipher import PKCS1_OAEP\n",
    "import binascii\n",
    "\n",
    "def main():\n",
    "    # Generar un par de claves RSA de 2048 bits\n",
    "    key = RSA.generate(2048)\n",
    "    public_key = key.publickey()\n",
    "\n",
    "    # Mensaje para cifrar\n",
    "    message = \"Hola Mundo!\".encode()\n",
    "\n",
    "    # Cifrar el mensaje con la clave pública\n",
    "    cipher = PKCS1_OAEP.new(public_key)\n",
    "    encrypted_message = cipher.encrypt(message)\n",
    "    encrypted_message_hex = binascii.hexlify(encrypted_message).decode('utf-8')\n",
    "    \n",
    "    print(f\"Encrypted Message: {encrypted_message_hex}\")\n",
    "\n",
    "    # Descifrar el mensaje con la clave privada\n",
    "    decryptor = PKCS1_OAEP.new(key)\n",
    "    decrypted_message = decryptor.decrypt(encrypted_message)\n",
    "    \n",
    "    print(f\"Decrypted Message: {decrypted_message.decode()}\")\n",
    "\n",
    "if __name__ == \"__main__\":\n",
    "    main()\n"
   ]
  },
  {
   "cell_type": "markdown",
   "id": "708bf817",
   "metadata": {},
   "source": []
  },
  {
   "cell_type": "markdown",
   "id": "520c779f",
   "metadata": {},
   "source": []
  }
 ],
 "metadata": {
  "kernelspec": {
   "display_name": "Python 3 (ipykernel)",
   "language": "python",
   "name": "python3"
  },
  "language_info": {
   "codemirror_mode": {
    "name": "ipython",
    "version": 3
   },
   "file_extension": ".py",
   "mimetype": "text/x-python",
   "name": "python",
   "nbconvert_exporter": "python",
   "pygments_lexer": "ipython3",
   "version": "3.11.8"
  },
  "toc": {
   "base_numbering": 1,
   "nav_menu": {},
   "number_sections": true,
   "sideBar": true,
   "skip_h1_title": true,
   "title_cell": "Table of Contents",
   "title_sidebar": "Contents",
   "toc_cell": false,
   "toc_position": {
    "height": "calc(100% - 180px)",
    "left": "10px",
    "top": "150px",
    "width": "219.429px"
   },
   "toc_section_display": true,
   "toc_window_display": false
  }
 },
 "nbformat": 4,
 "nbformat_minor": 5
}
